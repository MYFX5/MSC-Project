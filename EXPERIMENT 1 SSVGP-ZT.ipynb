{
 "cells": [
  {
   "cell_type": "markdown",
   "metadata": {},
   "source": [
    "# Experiment 1: SSVGP-ZT"
   ]
  },
  {
   "cell_type": "markdown",
   "metadata": {},
   "source": [
    "### (1) Importing and defining all required functions"
   ]
  },
  {
   "cell_type": "code",
   "execution_count": null,
   "metadata": {},
   "outputs": [],
   "source": [
    "\"\"\"\n",
    "Importing in libraries\n",
    "\"\"\"\n",
    "import numpy as np\n",
    "from functools import partial\n",
    "import time\n",
    "from IPython.display import clear_output\n",
    "import inspect\n",
    "from sklearn.metrics import roc_auc_score\n",
    "import matplotlib.pyplot as plt\n",
    "\n",
    "# Make plots inline\n",
    "%matplotlib inline\n",
    "\n",
    "\"\"\"\n",
    "Importing algorithm functions\n",
    "\"\"\"\n",
    "import os\n",
    "os.chdir('C:/Users/hughw/Documents/MSC project/GP algorithms/Master function files')\n",
    "from GP_funcs_ZTMFSS import kernel_funcs\n",
    "from GP_funcs_ZTMFSS import model_funcs\n",
    "from GP_funcs_ZTMFSS import draw_GP\n",
    "from GP_funcs_ZTMFSS import fit\n",
    "from GP_funcs_ZTMFSS import diagnostics\n",
    "from GP_funcs_ZTMFSS import simulations\n",
    "from functools import partial\n",
    "os.chdir('C:/Users/hughw/Documents/MSC project/Simulation results')"
   ]
  },
  {
   "cell_type": "markdown",
   "metadata": {},
   "source": [
    "### (2) Setting simulation parameters and models"
   ]
  },
  {
   "cell_type": "code",
   "execution_count": null,
   "metadata": {},
   "outputs": [],
   "source": [
    "\"\"\"\n",
    "Simulation controls\n",
    "\"\"\"\n",
    "# Simulation settings\n",
    "n=300\n",
    "ntest=100\n",
    "p=100\n",
    "q=5\n",
    "corr=0.5 \n",
    "r2=0.9\n",
    "lsmean=1 # TOGGLE BETWEN 0.25 AND 1\n",
    "sigma2=1\n",
    "ltrue=np.ones(p)*lsmean/q**0.5\n",
    "strue=1\n",
    "nruns = 100\n",
    "nmodels = 1\n",
    "VS_threshs = [[0.9,0.95,0.99]]\n",
    "minibatch_size = [150]\n",
    "base = [0.025]\n",
    "opt = [\"amsgrad\"]\n",
    "kern=kernel_funcs.gaussian\n",
    "grad_kern=kernel_funcs.grad_gaussian\n",
    "\n",
    "\n",
    "# Storage objects\n",
    "t = len(VS_threshs[0])\n",
    "m=nmodels\n",
    "Runtime=np.zeros((nruns, m))\n",
    "Lambda = np.zeros((nruns, m, p))\n",
    "L = np.zeros((nruns, m, p))\n",
    "L1norm=np.zeros((nruns, m))\n",
    "L2norm=np.zeros((nruns, m))\n",
    "MSE_F=np.zeros((nruns, m))\n",
    "MSE_Y=np.zeros((nruns,m))\n",
    "Acc=np.zeros((nruns,m,t))\n",
    "Weighted_Acc=np.zeros((nruns,m,t))\n",
    "TPR=np.zeros((nruns,m,t))\n",
    "TNR=np.zeros((nruns,m,t))\n",
    "PPV=np.zeros((nruns,m,t))\n",
    "NPV=np.zeros((nruns,m,t))\n",
    "AUC=np.zeros((nruns,m))\n",
    "MCC=np.zeros((nruns,m,t))"
   ]
  },
  {
   "cell_type": "markdown",
   "metadata": {},
   "source": [
    "### (3) Running results"
   ]
  },
  {
   "cell_type": "code",
   "execution_count": null,
   "metadata": {},
   "outputs": [],
   "source": [
    "\"\"\"\n",
    "Setting seed for 100 random trials\n",
    "\"\"\"\n",
    "np.random.seed(8750)\n",
    "runlist = np.random.choice(1000,nruns,False)\n",
    "for run in range(len(runlist)):\n",
    "    \n",
    "    \"\"\"\n",
    "    Generating, scaling, and partitioning data\n",
    "    \"\"\"\n",
    "    lselect=[]\n",
    "    np.random.seed(runlist[run]) # Fixing trial seed\n",
    "    t=time.time()\n",
    "    \n",
    "    # Drawing data\n",
    "    Y,F,X,e,lselect,strue,sigma,select=draw_GP.draw_GP_ARD_lm(n,ntest,p,q,sigma2,corr,strue,ltrue,plot_YX=True,kern=kern,cop=False,r2=r2)\n",
    "    \n",
    "    # Scaling data (optional for Y,F)\n",
    "    Y = Y.reshape(n+ntest,1)\n",
    "    F = F.reshape(n+ntest,1)\n",
    "    Y = (Y-Y[:n].mean())/Y[:n].var()**0.5\n",
    "    X = (X-X[:n].mean(0))/X[:n].var(0)**0.5\n",
    "    F = (F-F[:n].mean())/F[:n].var()**0.5\n",
    "\n",
    "    # Getting training and test set\n",
    "    ytest=Y[n:]\n",
    "    Xtest=X[n:]\n",
    "    ftest=F[n:]\n",
    "    y=Y[:n]\n",
    "    X=X[:n]\n",
    "    f=F[:n]\n",
    "    \n",
    "    \"\"\"\n",
    "    Running simulation\n",
    "    \"\"\"\n",
    "    args = []\n",
    "    arg_vals = []\n",
    "    for i in range(nmodels):\n",
    "        args.append([\"seed\",\"subsample\", \"sampling_strat\", \"min_VBEM_iter\", \"max_VBEM_iter\", \"GP_fit_tol\", \"VBEM_tol\", \"max_GP_fit_iter\", \"init_GP_iter\", \"iter_remove\", \"print_VBEM\", \"learn_rate\", \"optimisation\", \"final_prune\"])\n",
    "        arg_vals.append([0,minibatch_size[i], \"unif\",5, 10, 1e-5, 0.1/p, 100,100, False, False, base[i], opt[i], True])\n",
    "\n",
    "    test_algorithm = partial(diagnostics.get_pred_posterior_GP,reg = 0.01,kern = kernel_funcs.gaussian)\n",
    "\n",
    "    Runtime[run], Lambda[run], L[run], L1norm[run], L2norm[run], MSE_F[run], MSE_Y[run], Acc[run], Weighted_Acc[run], TPR[run], TNR[run], PPV[run], NPV[run], AUC[run], MCC[run]= simulations.do_simulation_VBEMSSGP(\n",
    "                               y, X, ftest, ytest, Xtest, q, algorithm_training = fit.VB_EM_GP_SS, algorithm_testing = test_algorithm, \n",
    "                               nmodels = m, args = args, arg_vals = arg_vals, post_fit = [False], SS_GP = [True], \n",
    "                               post_var =[True],order_relevant_vars = False, order_irrelevant_vars = False, \n",
    "                               VS_threshs = VS_threshs, select = select, predict_selected = False, hyper_opt =  [True], \n",
    "                               hyper_arg = [\"v0\",\"v1\"],hyper_vals = [1e+4*2**np.linspace(np.log2(100),-np.log2(100),11),1e-4*2**np.linspace(np.log2(100),-np.log2(100),11)], \n",
    "                               ltrue=lselect, MC_pred = False, model_select = [False], post_fit_subsample=n, train = np.repeat(True,nmodels),\n",
    "                               model_weighting = np.repeat(\"elpd\",1))\n",
    "    \n",
    "    print(\"RUN {0}\".format(run))\n",
    "    print(\"Runtime mean is:\", Runtime[:run+1].mean(0))\n",
    "    print(\"Weighted accuracy mean is:\", Weighted_Acc[:run].mean(0))\n",
    "    print(\"TPR mean is:\", TPR[:run+1].mean(0))\n",
    "    print(\"PPV mean is:\", PPV[:run+1].mean(0))\n",
    "    print(\"MCC mean is:\", MCC[:run+1].mean(0))\n",
    "    print(\"L1norm mean is:\", L1norm[:run+1].mean(0))\n",
    "    print(\"L2norm mean is:\", L2norm[:run+1].mean(0))\n",
    "    print(\"MSE_F mean is:\", MSE_F[:run+1].mean(0))\n",
    "    print(\"MSE_Y mean is:\", MSE_Y[:run+1].mean(0), \"\\n\")\n",
    "    "
   ]
  },
  {
   "cell_type": "code",
   "execution_count": null,
   "metadata": {},
   "outputs": [],
   "source": [
    "from datetime import date\n",
    "Output = {\"Runtime\" : Runtime, \"Lambda\" : Lambda, \"L\" : L, \"L1norm\" : L1norm, \"L2norm\" : L2norm, \"MSE_F\" : MSE_F\n",
    "        , \"MSE_Y\" : MSE_Y, \"Acc\" : Acc, \"Weighted_Acc\" : Weighted_Acc, \"TPR\" :TPR, \"TNR\" : TNR, \"PPV\" : PPV, \"NPV\" : NPV, \"AUC\" : AUC, \"MCC\" : MCC}\n",
    "String = \"E1_results_{0}\".format(date.today())\n",
    "np.save(String, Output) # saving"
   ]
  }
 ],
 "metadata": {
  "kernelspec": {
   "display_name": "Python 3",
   "language": "python",
   "name": "python3"
  },
  "language_info": {
   "codemirror_mode": {
    "name": "ipython",
    "version": 3
   },
   "file_extension": ".py",
   "mimetype": "text/x-python",
   "name": "python",
   "nbconvert_exporter": "python",
   "pygments_lexer": "ipython3",
   "version": "3.8.3"
  }
 },
 "nbformat": 4,
 "nbformat_minor": 4
}
