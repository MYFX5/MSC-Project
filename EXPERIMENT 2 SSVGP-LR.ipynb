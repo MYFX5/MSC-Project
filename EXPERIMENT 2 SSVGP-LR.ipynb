{
 "cells": [
  {
   "cell_type": "markdown",
   "metadata": {},
   "source": [
    "# Experiment 2: SSVGP-LR"
   ]
  },
  {
   "cell_type": "markdown",
   "metadata": {},
   "source": [
    "### (1) Importing and defining all required functions"
   ]
  },
  {
   "cell_type": "code",
   "execution_count": 1,
   "metadata": {},
   "outputs": [],
   "source": [
    "\"\"\"\n",
    "Importing in libraries\n",
    "\"\"\"\n",
    "import numpy as np\n",
    "from functools import partial\n",
    "import time\n",
    "from IPython.display import clear_output\n",
    "import inspect\n",
    "from sklearn.metrics import roc_auc_score\n",
    "import matplotlib.pyplot as plt\n",
    "\n",
    "# Make plots inline\n",
    "%matplotlib inline\n",
    "\n",
    "\"\"\"\n",
    "Importing algorithm functions\n",
    "\"\"\"\n",
    "import os\n",
    "os.chdir('C:/Users/hughw/Documents/MSC project/GP algorithms/Master function files')\n",
    "from GP_funcs_FRSS import kernel_funcs\n",
    "from GP_funcs_FRSS import model_funcs\n",
    "from GP_funcs_FRSS import draw_GP\n",
    "from GP_funcs_FRSS import fit\n",
    "from GP_funcs_FRSS import diagnostics\n",
    "from GP_funcs_FRSS import simulations\n",
    "from functools import partial\n",
    "os.chdir('C:/Users/hughw/Documents/MSC project/Simulation results')"
   ]
  },
  {
   "cell_type": "markdown",
   "metadata": {},
   "source": [
    "### (2) Setting simulation parameters and models"
   ]
  },
  {
   "cell_type": "code",
   "execution_count": 2,
   "metadata": {},
   "outputs": [],
   "source": [
    "\"\"\"\n",
    "Simulation controls\n",
    "\"\"\"\n",
    "# Simulation settings\n",
    "n=100\n",
    "ntest=20\n",
    "p=1000\n",
    "q=6\n",
    "correlation = False\n",
    "nruns = 100\n",
    "l_init = 0.01\n",
    "beta2=0.99\n",
    "nmodels = 1\n",
    "VS_threshs = [[0.9,0.95,0.99]]\n",
    "iter_remove = [False]\n",
    "sampling_strat = [\"unif\"]\n",
    "minibatch_size = [50]\n",
    "VBtol=0.1/p\n",
    "GPtol=[1e-6]\n",
    "base = [0.05]\n",
    "post_var = [False]\n",
    "opt = [\"amsgrad\"]\n",
    "kern=kernel_funcs.gaussian\n",
    "grad_kern=kernel_funcs.grad_gaussian\n",
    "\n",
    "# Storage objects\n",
    "t = len(VS_threshs[0])\n",
    "m = 1\n",
    "Runtime=np.zeros((nruns, m))\n",
    "Lambda = np.zeros((nruns, m, p))\n",
    "L = np.zeros((nruns, m, p))\n",
    "L1norm=np.zeros((nruns, m))\n",
    "L2norm=np.zeros((nruns, m))\n",
    "MSE_F=np.zeros((nruns, m))\n",
    "MSE_Y=np.zeros((nruns,m))\n",
    "Acc=np.zeros((nruns,m,t))\n",
    "Weighted_Acc=np.zeros((nruns,m,t))\n",
    "TPR=np.zeros((nruns,m,t))\n",
    "TNR=np.zeros((nruns,m,t))\n",
    "PPV=np.zeros((nruns,m,t))\n",
    "NPV=np.zeros((nruns,m,t))\n",
    "MCC=np.zeros((nruns,m,t))\n",
    "AUC=np.zeros((nruns,m))"
   ]
  },
  {
   "cell_type": "markdown",
   "metadata": {},
   "source": [
    "### (3) Running algorithm iterations, saving and displaying results"
   ]
  },
  {
   "cell_type": "code",
   "execution_count": null,
   "metadata": {},
   "outputs": [
    {
     "name": "stdout",
     "output_type": "stream",
     "text": [
      "data generated\n",
      "Noise variance is:  0.0025000000000000005\n",
      "Average data variance is:  0.9969892827714567\n",
      "0.002999544143676758\n"
     ]
    }
   ],
   "source": [
    "np.random.seed(8750)\n",
    "runlist = np.random.choice(1000,100,False) # Choose 100 random trials\n",
    "for run in range(len(runlist)):\n",
    "    \n",
    "    \"\"\"\n",
    "    Generating data and scaling data\n",
    "    \"\"\"\n",
    "    lselect=[]\n",
    "    np.random.seed(runlist[run]) # Fixing trial seed\n",
    "    t=time.time()\n",
    "    Y,F,X,e,sigma,select=draw_GP.draw_parametric_savitsky(n,ntest,p,q, correlation)\n",
    "    \n",
    "    Y = Y.reshape(n+ntest,1)\n",
    "    F = F.reshape(n+ntest,1)\n",
    "    X = (X-X.mean(0))/X.var(0)**0.5\n",
    "\n",
    "    # Getting training and test set\n",
    "    ytest=Y[n:]\n",
    "    Xtest=X[n:]\n",
    "    ftest=F[n:]\n",
    "    y=Y[:n]\n",
    "    X=X[:n]\n",
    "    f=F[:n]\n",
    "    print(\"data generated\")\n",
    "    if lselect:\n",
    "        print(\"Length-scales are: \",lselect[select])\n",
    "    print(\"Noise variance is: \",sigma**2)\n",
    "    print(\"Average data variance is: \", np.mean(np.var(X,0)))\n",
    "    print(time.time()-t)\n",
    "    \n",
    "    \"\"\"\n",
    "    Running algorithm\n",
    "    \"\"\"\n",
    "    args=[]\n",
    "    arg_vals =[]\n",
    "    for i in range(nmodels):\n",
    "        args.append([\"k\",\"L0\",\"seed\", \"subsample\",\"svi_subsample\", \"ELBO_sample\", \"learn_rate\", \"ltrue\", \"learn_spike\", \"min_VBEM_iter\", \"ZT_init_iter\", \"max_VBEM_iter\", \"GP_fit_tol\", \"VBEM_tol\", \"print_VBEM\",\n",
    "             \"s0\", \"sig0\",\"v0\",\"v1\", \"max_GP_fit_iter\", \"iter_remove\", \"sampling_strat\", \"final_prune\"])\n",
    "        arg_vals.append([10,1e-2, 1, minibatch_size[i], 5,  min(1000,n), 0.025, [], False, 5,100 , 5, 1e-5, VBtol, False, \n",
    "                 np.var(y), np.var(y)**0.5,1e+4,1e-4, 100, False, \"unif\",True])\n",
    "\n",
    "    testing_algorithm = partial(diagnostics.get_pred_posterior_GP,reg=0.01,kern = kernel_funcs.gaussian)\n",
    "\n",
    "    Runtime[run], Lambda[run], L[run], V, L1norm[run], L2norm[run], MSE_F[run], MSE_Y[run], Acc[run], Weighted_Acc[run], TPR[run], TNR[run], PPV[run], NPV[run], AUC[run], MCC[run] = simulations.do_simulation_VBEMSSGP(\n",
    "                               y, X, ftest, ytest, Xtest, q, algorithm_training = fit.VB_EM_GP_SS, algorithm_testing = testing_algorithm, post_var = post_var,\n",
    "                               nmodels = m, args = args, arg_vals = arg_vals, SS_GP = [True], hyper_opt = [True], train = [True],\n",
    "                                hyper_arg = [\"v0\",\"v1\"], hyper_vals = [1e+4*2**np.linspace(np.log2(100),-np.log2(100),11),2**np.linspace(np.log2(100),-np.log2(100),11)], order_relevant_vars = False, order_irrelevant_vars = False, \n",
    "                                VS_threshs = VS_threshs, select = select, predict_selected = [False], ltrue=lselect, MC_pred = [True], model_select = [False],\n",
    "                                model_weighting = [\"elpd\"])\n",
    "    \n",
    "    print(\"RUN {0}\".format(run))\n",
    "    print(\"Runtime mean is:\", Runtime[:run+1].mean(0))\n",
    "    print(\"Weighted accuracy mean is:\", Weighted_Acc[:run].mean(0))\n",
    "    print(\"TPR mean is:\", TPR[:run+1].mean(0))\n",
    "    print(\"PPV mean is:\", PPV[:run+1].mean(0))\n",
    "    print(\"MCC mean is:\", MCC[:run+1].mean(0))\n",
    "    print(\"L1norm mean is:\", L1norm[:run+1].mean(0))\n",
    "    print(\"L2norm mean is:\", L2norm[:run+1].mean(0))\n",
    "    print(\"MSE_F mean is:\", MSE_F[:run+1].mean(0))\n",
    "    print(\"MSE_Y mean is:\", MSE_Y[:run+1].mean(0), \"\\n\")\n",
    "    \n",
    "    print(\"Runtime is:\", Runtime[run])\n",
    "    print(\"Weighted accuracy is:\", Weighted_Acc[run])\n",
    "    print(\"TPR is:\", TPR[run])\n",
    "    print(\"PPV is:\", PPV[run])\n",
    "    print(\"MCC is:\", MCC[run])\n",
    "    print(\"L1norm is:\", L1norm[run])\n",
    "    print(\"L2norm is:\", L2norm[run])\n",
    "    print(\"MSE_F is:\", MSE_F[run])\n",
    "    print(\"MSE_Y is:\", MSE_Y[run], \"\\n\")\n",
    "    "
   ]
  },
  {
   "cell_type": "code",
   "execution_count": null,
   "metadata": {},
   "outputs": [],
   "source": [
    "namelist = [\"Runtime\", \"MSE_F\", \"MSE_Y\", \"Acc\", \"Weighted_Acc\", \"TPR\", \"TNR\", \"PPV\", \"NPV\", \"AUC\", \"MCC\"]\n",
    "objlist = [Runtime, MSE_F, MSE_Y, Acc, Weighted_Acc, TPR, TNR, PPV, NPV, AUC, MCC]\n",
    "#iters = np.random.choice(1000,100,False)\n",
    "iters = np.linspace(0,99,100).astype(int)\n",
    "\n",
    "for i in range(len(objlist)):\n",
    "    print(\"Mean {0} is:\".format(namelist[i]), np.mean(objlist[i][iters],0))\n",
    "\n",
    "print(\"\\n\")\n",
    "for i in range(len(objlist)):\n",
    "    print(\"Median {0} is:\".format(namelist[i]), np.median(objlist[i][iters],0))\n",
    "\n",
    "print(\"\\n\")\n",
    "quant = 0.25\n",
    "for i in range(len(objlist)):\n",
    "    if namelist[i] in [\"Runtime\", \"MSE_F\", \"MSE_Y\"]:\n",
    "        print(\"{1} quantile {0} is:\".format(namelist[i], quant), np.quantile(objlist[i][iters],1-quant,0))\n",
    "    else:\n",
    "        print(\"{1} quantile {0} is:\".format(namelist[i], quant), np.quantile(objlist[i][iters],quant,0))"
   ]
  },
  {
   "cell_type": "code",
   "execution_count": null,
   "metadata": {},
   "outputs": [],
   "source": [
    "Output = {\"Runtime\" : Runtime, \"Lambda\" : Lambda, \"L\" : L, \"L1norm\" : L1norm, \"L2norm\" : L2norm, \"MSE_F\" : MSE_F\n",
    "        , \"MSE_Y\" : MSE_Y, \"Acc\" : Acc, \"Weighted_Acc\" : Weighted_Acc, \"TPR\" :TPR, \"TNR\" : TNR, \"PPV\" : PPV, \"NPV\" : NPV, \"AUC\" : AUC, \"MCC\" : MCC}\n",
    "String = \"Stage1_Savitsky_LR_{0}_l0={1}_b2={2}_newgrads={3}_predselect={4}_MCpred={5}_hyperopt={11}_minibatch={12}_n={6}_p={7}_q={8}_kern={9}_runs={10}\".format(\n",
    "        date.today(), l_init, beta2, newsumgrads, predict_selected[0],MC_pred[0],n,p,q,str(kern)[23:28], nruns, hyper_opt[0],minibatch_size[0])\n",
    "np.save(String, Output) # saving"
   ]
  }
 ],
 "metadata": {
  "kernelspec": {
   "display_name": "Python 3",
   "language": "python",
   "name": "python3"
  },
  "language_info": {
   "codemirror_mode": {
    "name": "ipython",
    "version": 3
   },
   "file_extension": ".py",
   "mimetype": "text/x-python",
   "name": "python",
   "nbconvert_exporter": "python",
   "pygments_lexer": "ipython3",
   "version": "3.8.3"
  }
 },
 "nbformat": 4,
 "nbformat_minor": 4
}
