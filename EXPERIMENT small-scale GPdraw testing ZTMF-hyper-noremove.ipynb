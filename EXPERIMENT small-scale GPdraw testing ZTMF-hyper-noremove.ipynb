{
 "cells": [
  {
   "cell_type": "markdown",
   "metadata": {},
   "source": [
    "# Gaussian process with Spike and Slab ARD prior - Stage 1 GP experiment\n",
    "## Zero-temperature-MF VI algorithm (continuous spike) - non additive kernels"
   ]
  },
  {
   "cell_type": "markdown",
   "metadata": {},
   "source": [
    "### (1) Importing and defining all required functions"
   ]
  },
  {
   "cell_type": "code",
   "execution_count": 1,
   "metadata": {},
   "outputs": [],
   "source": [
    "\"\"\"\n",
    "Importing in libraries for SGD-SS-GP\n",
    "\"\"\"\n",
    "# Requirements for algorithms\n",
    "import numpy as np\n",
    "import scipy.special as sp\n",
    "from functools import partial\n",
    "from scipy.spatial.distance import cdist\n",
    "\n",
    "# Requirements for simulations/monitoring algorithms\n",
    "import time\n",
    "from IPython.display import clear_output\n",
    "import inspect\n",
    "from sklearn.metrics import roc_auc_score\n",
    "\n",
    "# Requirements For plots and diagnostics\n",
    "import matplotlib.pyplot as plt\n",
    "import scipy.stats as sps\n",
    "from mpl_toolkits import mplot3d\n",
    "\n",
    "# Make plots inline\n",
    "%matplotlib inline\n",
    "\n",
    "\"\"\"\n",
    "Importing algorithm functions\n",
    "\"\"\"\n",
    "import os\n",
    "os.chdir('C:/Users/hughw/Documents/MSC project/GP algorithms/Master function files')\n",
    "from GP_funcs_ZTMFSS import kernel_funcs\n",
    "from GP_funcs_ZTMFSS import model_funcs\n",
    "from GP_funcs_ZTMFSS import draw_GP\n",
    "from GP_funcs_ZTMFSS import fit\n",
    "from GP_funcs_ZTMFSS import diagnostics\n",
    "from GP_funcs_ZTMFSS import simulations\n",
    "from functools import partial\n",
    "os.chdir('C:/Users/hughw/Documents/MSC project/Simulation results')"
   ]
  },
  {
   "cell_type": "markdown",
   "metadata": {},
   "source": [
    "### (2) Setting simulation parameters and models"
   ]
  },
  {
   "cell_type": "code",
   "execution_count": 2,
   "metadata": {},
   "outputs": [],
   "source": [
    "\"\"\"\n",
    "Simulation controls\n",
    "\"\"\"\n",
    "# Simulation settings\n",
    "n=300\n",
    "ntest=100\n",
    "p=100\n",
    "q=5\n",
    "corr=0.5 # used for GP draw\n",
    "r2=2/3 # used for GP draw\n",
    "lsmean=0.25\n",
    "sigma2=1\n",
    "ltrue=np.ones(p)*lsmean/q**0.5\n",
    "strue=1\n",
    "\n",
    "nruns = 100\n",
    "\n",
    "\n",
    "# Model run settings\n",
    "nmodels = 3\n",
    "VS_threshs = [[0.1**2,0.1**1.5,0.1**1,0.1**0.5,0.1**0],\n",
    "              [0.5,0.9,0.95,0.99],\n",
    "             [0.5,0.9,0.95,0.99],\n",
    "             [0.5,0.9,0.95,0.99],\n",
    "             [0.5,0.9,0.95,0.99],\n",
    "             [0.5,0.9,0.95,0.99],\n",
    "             [0.5,0.9,0.95,0.99]]\n",
    "iter_remove = [False,False,False,False,False,False,False]\n",
    "sampling_strat = [\"unif\",\"unif\", \"unif\", \"unif\", \"unif\", \"unif\", \"unif\"]\n",
    "minibatch_size = [n,150,150,75,75,n,n]\n",
    "GPtol=[1e-10, 1e-5,1e-5,1e-5,1e-5,1e-5,1e-5]\n",
    "SS_GP=[False, True,True,True,True,True,True]\n",
    "MC_pred = [False,False,False,False,False,False,False]\n",
    "predict_selected = [False,False,False,False,False,False,False]\n",
    "post_fit = [False,False,False,False,False,False,False]\n",
    "train = [True,True,False,True, False, True,False] \n",
    "step = [0.01,0.025,0.025,0.025,0.025,0.0025,0.0025]\n",
    "hyper_opt = [False,True,True,True,True,True,True]\n",
    "model_select = [True,False,True,False,True,False,True]\n",
    "post_var = [False,True,True,True,True,True,True]\n",
    "model_weights = [\"\",\"elpd\", \"elpd\",\"elpd\", \"elpd\",\"elpd\", \"elpd\"]\n",
    "min_VBEM_iter = [1,5,5,5,5,5,5]\n",
    "max_VBEM_iter = [1,10,10,10,10,10,10]\n",
    "gp_iter = [500,100,100,100,100,100,100]\n",
    "X_mult = [1,1,1,1,1,1,1]\n",
    "opt = [\"adam\", \"amsgrad\", \"amsgrad\", \"amsgrad\", \"amsgrad\", \"amsgrad\", \"amsgrad\"]\n",
    "l_init = 0.01\n",
    "beta2=0.99\n",
    "t = len(VS_threshs[0])\n",
    "kern=kernel_funcs.gaussian\n",
    "grad_kern=kernel_funcs.grad_gaussian\n",
    "reg = 0.01\n",
    "NN_pred = False\n",
    "newsumgrads = False\n",
    "VBtol=0.1/p\n",
    "temp=1\n",
    "v0=1e+4\n",
    "v1=1e-4\n",
    "postfit = \"mixed\"\n",
    "# SEE BELOW FOR ARGVALS\n",
    "\n",
    "# Storage objects\n",
    "m=nmodels\n",
    "Runtime=np.zeros((nruns, m))\n",
    "Lambda = np.zeros((nruns, m, p))\n",
    "L = np.zeros((nruns, m, p))\n",
    "L1norm=np.zeros((nruns, m))\n",
    "L2norm=np.zeros((nruns, m))\n",
    "MSE_F=np.zeros((nruns, m))\n",
    "MSE_Y=np.zeros((nruns,m))\n",
    "Acc=np.zeros((nruns,m,t))\n",
    "Weighted_Acc=np.zeros((nruns,m,t))\n",
    "TPR=np.zeros((nruns,m,t))\n",
    "TNR=np.zeros((nruns,m,t))\n",
    "PPV=np.zeros((nruns,m,t))\n",
    "NPV=np.zeros((nruns,m,t))\n",
    "AUC=np.zeros((nruns,m))\n",
    "MCC=np.zeros((nruns,m,t))"
   ]
  },
  {
   "cell_type": "markdown",
   "metadata": {},
   "source": [
    "### (3) Drawing synthetic data, running algorithm, and displaying results"
   ]
  },
  {
   "cell_type": "code",
   "execution_count": 3,
   "metadata": {},
   "outputs": [
    {
     "name": "stdout",
     "output_type": "stream",
     "text": [
      "R2= 0.6650981093248958\n",
      "data generated\n",
      "Length-scales are:  [0.1118034 0.1118034 0.1118034 0.1118034 0.1118034]\n",
      "Noise variance is:  0.027304068902007185\n",
      "Average data variance is:  1.0\n",
      "Time taken to draw data :  0.0727999210357666\n",
      "run time is : 36.41157627105713\n"
     ]
    },
    {
     "name": "stderr",
     "output_type": "stream",
     "text": [
      "C:\\Users\\hughw\\Documents\\MSC project\\GP algorithms\\Master function files\\GP_funcs_ZTMFSS.py:55: RuntimeWarning: divide by zero encountered in true_divide\n",
      "  return kern(cdist(X,X, metric = \"seuclidean\", V = 1/l**2),s)\n",
      "C:\\Users\\hughw\\Documents\\MSC project\\GP algorithms\\Master function files\\GP_funcs_ZTMFSS.py:62: RuntimeWarning: divide by zero encountered in true_divide\n",
      "  return kern(cdist(X,Xtest, metric = \"seuclidean\", V = 1/l**2),s).T\n",
      "C:\\Users\\hughw\\anaconda3\\lib\\site-packages\\numpy\\core\\fromnumeric.py:3334: RuntimeWarning: Mean of empty slice.\n",
      "  return _methods._mean(a, axis=axis, dtype=dtype,\n",
      "C:\\Users\\hughw\\anaconda3\\lib\\site-packages\\numpy\\core\\_methods.py:161: RuntimeWarning: invalid value encountered in double_scalars\n",
      "  ret = ret.dtype.type(ret / rcount)\n",
      "C:\\Users\\hughw\\Documents\\MSC project\\GP algorithms\\Master function files\\GP_funcs_ZTMFSS.py:2035: RuntimeWarning: invalid value encountered in true_divide\n",
      "  MCC[j,i]=(TP*TN-FP*FN)/np.sqrt((TP+FP)*(TP+FN)*(TN+FP)*(TN+FN))\n"
     ]
    },
    {
     "name": "stdout",
     "output_type": "stream",
     "text": [
      "run time is : 19.008038997650146\n",
      "run time is : 19.279218196868896\n",
      "run time is : 19.154767751693726\n",
      "run time is : 17.16808247566223\n",
      "run time is : 15.293095588684082\n",
      "run time is : 11.521149635314941\n",
      "run time is : 9.606305122375488\n",
      "run time is : 20.912068843841553\n",
      "run time is : 19.929807662963867\n"
     ]
    },
    {
     "name": "stderr",
     "output_type": "stream",
     "text": [
      "C:\\Users\\hughw\\Documents\\MSC project\\GP algorithms\\Master function files\\GP_funcs_ZTMFSS.py:55: RuntimeWarning: divide by zero encountered in true_divide\n",
      "  return kern(cdist(X,X, metric = \"seuclidean\", V = 1/l**2),s)\n",
      "C:\\Users\\hughw\\Documents\\MSC project\\GP algorithms\\Master function files\\GP_funcs_ZTMFSS.py:62: RuntimeWarning: divide by zero encountered in true_divide\n",
      "  return kern(cdist(X,Xtest, metric = \"seuclidean\", V = 1/l**2),s).T\n",
      "<ipython-input-3-4ce5220f69db>:55: RuntimeWarning: Mean of empty slice.\n",
      "  print(\"Weighted accuracy mean is:\", Weighted_Acc[:run].mean(0))\n",
      "C:\\Users\\hughw\\anaconda3\\lib\\site-packages\\numpy\\core\\_methods.py:153: RuntimeWarning: invalid value encountered in true_divide\n",
      "  ret = um.true_divide(\n"
     ]
    },
    {
     "name": "stdout",
     "output_type": "stream",
     "text": [
      "RUN 0\n",
      "Runtime mean is: [ 36.43351769 164.57260728 164.57620716]\n",
      "Weighted accuracy mean is: [[nan nan nan nan nan]\n",
      " [nan nan nan nan nan]\n",
      " [nan nan nan nan nan]]\n",
      "TPR mean is: [[1.  1.  0.8 0.  0. ]\n",
      " [1.  1.  1.  1.  0. ]\n",
      " [1.  1.  1.  1.  0. ]]\n",
      "PPV mean is: [[0.29411765 0.29411765 0.57142857 0.                nan]\n",
      " [0.45454545 0.71428571 1.         1.         0.        ]\n",
      " [0.38461538 0.38461538 0.38461538 0.38461538 0.        ]]\n",
      "MCC mean is: [[ 0.50691808  0.50691808  0.65638034 -0.02305715  0.        ]\n",
      " [ 0.65256212  0.83621057  1.          1.          0.        ]\n",
      " [ 0.59348692  0.59348692  0.59348692  0.59348692  0.        ]]\n",
      "L1norm mean is: [1.24256787 0.66025893 0.88119474]\n",
      "L2norm mean is: [0.43193128 0.21202597 0.27527634]\n",
      "MSE_F mean is: [0.30318766 0.12911659 0.1893365 ]\n",
      "MSE_Y mean is: [0.49840901 0.45543769 0.47436435] \n",
      "\n",
      "R2= 0.6721101071837331\n",
      "data generated\n",
      "Length-scales are:  [0.1118034 0.1118034 0.1118034 0.1118034 0.1118034]\n",
      "Noise variance is:  0.025248529499040346\n",
      "Average data variance is:  1.0000000000000002\n",
      "Time taken to draw data :  0.050866127014160156\n",
      "run time is : 66.33259081840515\n"
     ]
    },
    {
     "name": "stderr",
     "output_type": "stream",
     "text": [
      "C:\\Users\\hughw\\Documents\\MSC project\\GP algorithms\\Master function files\\GP_funcs_ZTMFSS.py:55: RuntimeWarning: divide by zero encountered in true_divide\n",
      "  return kern(cdist(X,X, metric = \"seuclidean\", V = 1/l**2),s)\n",
      "C:\\Users\\hughw\\Documents\\MSC project\\GP algorithms\\Master function files\\GP_funcs_ZTMFSS.py:62: RuntimeWarning: divide by zero encountered in true_divide\n",
      "  return kern(cdist(X,Xtest, metric = \"seuclidean\", V = 1/l**2),s).T\n",
      "C:\\Users\\hughw\\anaconda3\\lib\\site-packages\\numpy\\core\\fromnumeric.py:3334: RuntimeWarning: Mean of empty slice.\n",
      "  return _methods._mean(a, axis=axis, dtype=dtype,\n",
      "C:\\Users\\hughw\\anaconda3\\lib\\site-packages\\numpy\\core\\_methods.py:161: RuntimeWarning: invalid value encountered in double_scalars\n",
      "  ret = ret.dtype.type(ret / rcount)\n",
      "C:\\Users\\hughw\\Documents\\MSC project\\GP algorithms\\Master function files\\GP_funcs_ZTMFSS.py:2035: RuntimeWarning: invalid value encountered in true_divide\n",
      "  MCC[j,i]=(TP*TN-FP*FN)/np.sqrt((TP+FP)*(TP+FN)*(TN+FP)*(TN+FN))\n"
     ]
    },
    {
     "name": "stdout",
     "output_type": "stream",
     "text": [
      "run time is : 19.908527612686157\n",
      "run time is : 16.633225917816162\n",
      "run time is : 18.983330726623535\n",
      "run time is : 18.30005383491516\n",
      "run time is : 17.10425329208374\n",
      "run time is : 15.227551221847534\n",
      "run time is : 13.336330890655518\n",
      "run time is : 15.093142986297607\n",
      "run time is : 18.883103132247925\n",
      "run time is : 19.63080382347107\n"
     ]
    },
    {
     "name": "stderr",
     "output_type": "stream",
     "text": [
      "C:\\Users\\hughw\\Documents\\MSC project\\GP algorithms\\Master function files\\GP_funcs_ZTMFSS.py:55: RuntimeWarning: divide by zero encountered in true_divide\n",
      "  return kern(cdist(X,X, metric = \"seuclidean\", V = 1/l**2),s)\n",
      "C:\\Users\\hughw\\Documents\\MSC project\\GP algorithms\\Master function files\\GP_funcs_ZTMFSS.py:62: RuntimeWarning: divide by zero encountered in true_divide\n",
      "  return kern(cdist(X,Xtest, metric = \"seuclidean\", V = 1/l**2),s).T\n"
     ]
    },
    {
     "name": "stdout",
     "output_type": "stream",
     "text": [
      "RUN 1\n",
      "Runtime mean is: [ 51.39502299 174.64783573 174.73448205]\n",
      "Weighted accuracy mean is: [[0.93684211 0.93684211 0.88421053 0.49473684 0.5       ]\n",
      " [0.96842105 0.98947368 1.         1.         0.        ]\n",
      " [0.95789474 0.95789474 0.95789474 0.95789474 0.        ]]\n",
      "TPR mean is: [[1.  1.  0.7 0.1 0. ]\n",
      " [1.  1.  1.  1.  0. ]\n",
      " [1.  1.  1.  1.  0. ]]\n",
      "PPV mean is: [[0.29411765 0.31372549 0.78571429 0.5               nan]\n",
      " [0.45454545 0.85714286 1.         1.         0.        ]\n",
      " [0.40064103 0.40064103 0.40064103 0.40064103 0.        ]]\n",
      "MCC mean is: [[0.50691808 0.52651838 0.71147494 0.20751434 0.        ]\n",
      " [0.65256212 0.91810529 1.         1.         0.        ]\n",
      " [0.60737383 0.60737383 0.60737383 0.60737383 0.        ]]\n",
      "L1norm mean is: [1.09141993 0.70046334 0.85697458]\n",
      "L2norm mean is: [0.36745574 0.26694266 0.30315069]\n",
      "MSE_F mean is: [0.20306468 0.10248734 0.14607427]\n",
      "MSE_Y mean is: [0.40308605 0.37632406 0.38707964] \n",
      "\n",
      "R2= 0.6870532017129913\n",
      "data generated\n",
      "Length-scales are:  [0.1118034 0.1118034 0.1118034 0.1118034 0.1118034]\n",
      "Noise variance is:  0.0243844951917865\n",
      "Average data variance is:  1.0\n",
      "Time taken to draw data :  0.057845354080200195\n",
      "run time is : 65.59622168540955\n"
     ]
    },
    {
     "name": "stderr",
     "output_type": "stream",
     "text": [
      "C:\\Users\\hughw\\Documents\\MSC project\\GP algorithms\\Master function files\\GP_funcs_ZTMFSS.py:55: RuntimeWarning: divide by zero encountered in true_divide\n",
      "  return kern(cdist(X,X, metric = \"seuclidean\", V = 1/l**2),s)\n",
      "C:\\Users\\hughw\\Documents\\MSC project\\GP algorithms\\Master function files\\GP_funcs_ZTMFSS.py:62: RuntimeWarning: divide by zero encountered in true_divide\n",
      "  return kern(cdist(X,Xtest, metric = \"seuclidean\", V = 1/l**2),s).T\n",
      "C:\\Users\\hughw\\anaconda3\\lib\\site-packages\\numpy\\core\\fromnumeric.py:3334: RuntimeWarning: Mean of empty slice.\n",
      "  return _methods._mean(a, axis=axis, dtype=dtype,\n",
      "C:\\Users\\hughw\\anaconda3\\lib\\site-packages\\numpy\\core\\_methods.py:161: RuntimeWarning: invalid value encountered in double_scalars\n",
      "  ret = ret.dtype.type(ret / rcount)\n",
      "C:\\Users\\hughw\\Documents\\MSC project\\GP algorithms\\Master function files\\GP_funcs_ZTMFSS.py:2035: RuntimeWarning: invalid value encountered in true_divide\n",
      "  MCC[j,i]=(TP*TN-FP*FN)/np.sqrt((TP+FP)*(TP+FN)*(TN+FP)*(TN+FN))\n"
     ]
    },
    {
     "name": "stdout",
     "output_type": "stream",
     "text": [
      "run time is : 19.138623237609863\n",
      "run time is : 19.228457927703857\n",
      "run time is : 19.00663733482361\n",
      "run time is : 19.07364296913147\n",
      "run time is : 17.091248273849487\n",
      "run time is : 9.55536937713623\n",
      "run time is : 15.194360256195068\n",
      "run time is : 19.341270923614502\n",
      "run time is : 18.905770778656006\n"
     ]
    },
    {
     "name": "stderr",
     "output_type": "stream",
     "text": [
      "C:\\Users\\hughw\\Documents\\MSC project\\GP algorithms\\Master function files\\GP_funcs_ZTMFSS.py:55: RuntimeWarning: divide by zero encountered in true_divide\n",
      "  return kern(cdist(X,X, metric = \"seuclidean\", V = 1/l**2),s)\n",
      "C:\\Users\\hughw\\Documents\\MSC project\\GP algorithms\\Master function files\\GP_funcs_ZTMFSS.py:62: RuntimeWarning: divide by zero encountered in true_divide\n",
      "  return kern(cdist(X,Xtest, metric = \"seuclidean\", V = 1/l**2),s).T\n"
     ]
    },
    {
     "name": "stdout",
     "output_type": "stream",
     "text": [
      "RUN 2\n",
      "Runtime mean is: [ 56.1367356  172.73965208 172.79143246]\n",
      "Weighted accuracy mean is: [[0.93684211 0.94210526 0.84210526 0.54736842 0.5       ]\n",
      " [0.96842105 0.99473684 1.         1.         0.        ]\n",
      " [0.96052632 0.96052632 0.96052632 0.96052632 0.        ]]\n",
      "TPR mean is: [[1.         1.         0.73333333 0.06666667 0.        ]\n",
      " [0.93333333 0.93333333 0.93333333 0.93333333 0.        ]\n",
      " [0.93333333 0.93333333 0.93333333 0.93333333 0.        ]]\n",
      "PPV mean is: [[0.24112348 0.25544662 0.64502165 0.33333333        nan]\n",
      " [0.41414141 0.76190476 0.85714286 0.93333333 0.        ]\n",
      " [0.34552539 0.35042735 0.35042735 0.35042735 0.        ]]\n",
      "MCC mean is: [[0.43773179 0.4529748  0.64295628 0.13065718 0.        ]\n",
      " [0.59506312 0.83086364 0.88546011 0.92982456 0.        ]\n",
      " [0.53317227 0.5384162  0.5384162  0.5384162  0.        ]]\n",
      "L1norm mean is: [1.65086859 0.78252915 0.94618658]\n",
      "L2norm mean is: [0.4448759  0.27737334 0.30955306]\n",
      "MSE_F mean is: [0.29212318 0.12425744 0.17275258]\n",
      "MSE_Y mean is: [0.49000284 0.40479998 0.41552608] \n",
      "\n",
      "R2= 0.6604472106556588\n",
      "data generated\n",
      "Length-scales are:  [0.1118034 0.1118034 0.1118034 0.1118034 0.1118034]\n",
      "Noise variance is:  0.039159925188507826\n",
      "Average data variance is:  1.0\n",
      "Time taken to draw data :  0.05086517333984375\n",
      "run time is : 49.77987313270569\n"
     ]
    },
    {
     "name": "stderr",
     "output_type": "stream",
     "text": [
      "C:\\Users\\hughw\\Documents\\MSC project\\GP algorithms\\Master function files\\GP_funcs_ZTMFSS.py:55: RuntimeWarning: divide by zero encountered in true_divide\n",
      "  return kern(cdist(X,X, metric = \"seuclidean\", V = 1/l**2),s)\n",
      "C:\\Users\\hughw\\Documents\\MSC project\\GP algorithms\\Master function files\\GP_funcs_ZTMFSS.py:62: RuntimeWarning: divide by zero encountered in true_divide\n",
      "  return kern(cdist(X,Xtest, metric = \"seuclidean\", V = 1/l**2),s).T\n",
      "C:\\Users\\hughw\\anaconda3\\lib\\site-packages\\numpy\\core\\fromnumeric.py:3334: RuntimeWarning: Mean of empty slice.\n",
      "  return _methods._mean(a, axis=axis, dtype=dtype,\n",
      "C:\\Users\\hughw\\anaconda3\\lib\\site-packages\\numpy\\core\\_methods.py:161: RuntimeWarning: invalid value encountered in double_scalars\n",
      "  ret = ret.dtype.type(ret / rcount)\n",
      "C:\\Users\\hughw\\Documents\\MSC project\\GP algorithms\\Master function files\\GP_funcs_ZTMFSS.py:2035: RuntimeWarning: invalid value encountered in true_divide\n",
      "  MCC[j,i]=(TP*TN-FP*FN)/np.sqrt((TP+FP)*(TP+FN)*(TN+FP)*(TN+FN))\n"
     ]
    },
    {
     "name": "stdout",
     "output_type": "stream",
     "text": [
      "run time is : 19.469146728515625\n",
      "run time is : 19.13282871246338\n",
      "run time is : 19.341296911239624\n",
      "run time is : 19.01639199256897\n",
      "run time is : 19.15573501586914\n",
      "run time is : 19.048256635665894\n",
      "run time is : 9.41781234741211\n",
      "run time is : 19.17275881767273\n",
      "run time is : 18.942336559295654\n"
     ]
    },
    {
     "name": "stderr",
     "output_type": "stream",
     "text": [
      "C:\\Users\\hughw\\Documents\\MSC project\\GP algorithms\\Master function files\\GP_funcs_ZTMFSS.py:55: RuntimeWarning: divide by zero encountered in true_divide\n",
      "  return kern(cdist(X,X, metric = \"seuclidean\", V = 1/l**2),s)\n",
      "C:\\Users\\hughw\\Documents\\MSC project\\GP algorithms\\Master function files\\GP_funcs_ZTMFSS.py:62: RuntimeWarning: divide by zero encountered in true_divide\n",
      "  return kern(cdist(X,Xtest, metric = \"seuclidean\", V = 1/l**2),s).T\n"
     ]
    },
    {
     "name": "stdout",
     "output_type": "stream",
     "text": [
      "RUN 3\n",
      "Runtime mean is: [ 54.55275577 172.7137351  172.77825212]\n",
      "Weighted accuracy mean is: [[0.90175439 0.90701754 0.84912281 0.52982456 0.5       ]\n",
      " [0.93157895 0.95789474 0.96140351 0.96491228 0.        ]\n",
      " [0.91754386 0.91929825 0.91929825 0.91929825 0.        ]]\n",
      "TPR mean is: [[0.95 0.95 0.65 0.05 0.  ]\n",
      " [0.85 0.8  0.8  0.8  0.  ]\n",
      " [0.85 0.85 0.85 0.85 0.  ]]\n",
      "PPV mean is: [[0.22250927 0.23506323 0.54626623 0.25              nan]\n",
      " [0.38560606 0.73809524 0.89285714 0.95       0.        ]\n",
      " [0.30914404 0.31282051 0.31282051 0.31282051 0.        ]]\n",
      "MCC mean is: [[0.40350248 0.4174146  0.54986822 0.08790644 0.        ]\n",
      " [0.54188723 0.74754717 0.81977005 0.85304338 0.        ]\n",
      " [0.47215962 0.47609256 0.47609256 0.47609256 0.        ]]\n",
      "L1norm mean is: [1.97703861 0.83343346 1.01847901]\n",
      "L2norm mean is: [0.5613804  0.27886502 0.3135133 ]\n",
      "MSE_F mean is: [0.29595122 0.1156495  0.15995801]\n",
      "MSE_Y mean is: [0.48021406 0.40033262 0.41254682] \n",
      "\n",
      "R2= 0.641220740221536\n",
      "data generated\n",
      "Length-scales are:  [0.1118034 0.1118034 0.1118034 0.1118034 0.1118034]\n",
      "Noise variance is:  0.005716827307339758\n",
      "Average data variance is:  1.0\n",
      "Time taken to draw data :  0.04488205909729004\n",
      "run time is : 34.235432386398315\n"
     ]
    },
    {
     "name": "stderr",
     "output_type": "stream",
     "text": [
      "C:\\Users\\hughw\\Documents\\MSC project\\GP algorithms\\Master function files\\GP_funcs_ZTMFSS.py:55: RuntimeWarning: divide by zero encountered in true_divide\n",
      "  return kern(cdist(X,X, metric = \"seuclidean\", V = 1/l**2),s)\n",
      "C:\\Users\\hughw\\Documents\\MSC project\\GP algorithms\\Master function files\\GP_funcs_ZTMFSS.py:62: RuntimeWarning: divide by zero encountered in true_divide\n",
      "  return kern(cdist(X,Xtest, metric = \"seuclidean\", V = 1/l**2),s).T\n",
      "C:\\Users\\hughw\\anaconda3\\lib\\site-packages\\numpy\\core\\fromnumeric.py:3334: RuntimeWarning: Mean of empty slice.\n",
      "  return _methods._mean(a, axis=axis, dtype=dtype,\n",
      "C:\\Users\\hughw\\anaconda3\\lib\\site-packages\\numpy\\core\\_methods.py:161: RuntimeWarning: invalid value encountered in double_scalars\n",
      "  ret = ret.dtype.type(ret / rcount)\n",
      "C:\\Users\\hughw\\Documents\\MSC project\\GP algorithms\\Master function files\\GP_funcs_ZTMFSS.py:2035: RuntimeWarning: invalid value encountered in true_divide\n",
      "  MCC[j,i]=(TP*TN-FP*FN)/np.sqrt((TP+FP)*(TP+FN)*(TN+FP)*(TN+FN))\n"
     ]
    },
    {
     "name": "stdout",
     "output_type": "stream",
     "text": [
      "run time is : 18.798716068267822\n",
      "run time is : 19.244527578353882\n",
      "run time is : 19.026897430419922\n",
      "run time is : 18.95282506942749\n",
      "run time is : 15.291108131408691\n",
      "run time is : 11.499245166778564\n",
      "run time is : 18.95594334602356\n",
      "run time is : 18.880502939224243\n",
      "run time is : 18.975617170333862\n",
      "run time is : 19.10486888885498\n"
     ]
    },
    {
     "name": "stderr",
     "output_type": "stream",
     "text": [
      "C:\\Users\\hughw\\Documents\\MSC project\\GP algorithms\\Master function files\\GP_funcs_ZTMFSS.py:55: RuntimeWarning: divide by zero encountered in true_divide\n",
      "  return kern(cdist(X,X, metric = \"seuclidean\", V = 1/l**2),s)\n",
      "C:\\Users\\hughw\\Documents\\MSC project\\GP algorithms\\Master function files\\GP_funcs_ZTMFSS.py:62: RuntimeWarning: divide by zero encountered in true_divide\n",
      "  return kern(cdist(X,Xtest, metric = \"seuclidean\", V = 1/l**2),s).T\n"
     ]
    },
    {
     "name": "stdout",
     "output_type": "stream",
     "text": [
      "RUN 4\n",
      "Runtime mean is: [ 50.49347987 176.05930886 176.12648091]\n",
      "Weighted accuracy mean is: [[0.875      0.88026316 0.80394737 0.51842105 0.5       ]\n",
      " [0.88947368 0.89210526 0.89605263 0.89868421 0.        ]\n",
      " [0.87236842 0.87368421 0.87368421 0.87368421 0.        ]]\n",
      "TPR mean is: [[0.96 0.96 0.64 0.04 0.  ]\n",
      " [0.88 0.84 0.84 0.84 0.  ]\n",
      " [0.88 0.88 0.88 0.88 0.  ]]\n",
      "PPV mean is: [[0.24467409 0.25471725 0.58701299        nan        nan]\n",
      " [0.37991342 0.69047619 0.83928571 0.885      0.        ]\n",
      " [0.31874381 0.32168498 0.32168498 0.32168498 0.        ]]\n",
      "MCC mean is: [[0.43202572 0.44315542 0.57101659 0.07032515 0.        ]\n",
      " [0.54723019 0.73568718 0.81141336 0.83803203 0.        ]\n",
      " [0.4914481  0.49459446 0.49459446 0.49459446 0.        ]]\n",
      "L1norm mean is: [1.77255136 0.86979572 1.02279187]\n",
      "L2norm mean is: [0.50739643 0.29103469 0.31973231]\n",
      "MSE_F mean is: [0.2863449  0.12521406 0.16446066]\n",
      "MSE_Y mean is: [0.49041965 0.41990339 0.42978791] \n",
      "\n",
      "R2= 0.6702337075166944\n",
      "data generated\n",
      "Length-scales are:  [0.1118034 0.1118034 0.1118034 0.1118034 0.1118034]\n",
      "Noise variance is:  0.036498742007834026\n",
      "Average data variance is:  1.0\n",
      "Time taken to draw data :  0.05186200141906738\n",
      "run time is : 64.3548755645752\n"
     ]
    },
    {
     "name": "stderr",
     "output_type": "stream",
     "text": [
      "C:\\Users\\hughw\\Documents\\MSC project\\GP algorithms\\Master function files\\GP_funcs_ZTMFSS.py:55: RuntimeWarning: divide by zero encountered in true_divide\n",
      "  return kern(cdist(X,X, metric = \"seuclidean\", V = 1/l**2),s)\n",
      "C:\\Users\\hughw\\Documents\\MSC project\\GP algorithms\\Master function files\\GP_funcs_ZTMFSS.py:62: RuntimeWarning: divide by zero encountered in true_divide\n",
      "  return kern(cdist(X,Xtest, metric = \"seuclidean\", V = 1/l**2),s).T\n",
      "C:\\Users\\hughw\\anaconda3\\lib\\site-packages\\numpy\\core\\fromnumeric.py:3334: RuntimeWarning: Mean of empty slice.\n",
      "  return _methods._mean(a, axis=axis, dtype=dtype,\n",
      "C:\\Users\\hughw\\anaconda3\\lib\\site-packages\\numpy\\core\\_methods.py:161: RuntimeWarning: invalid value encountered in double_scalars\n",
      "  ret = ret.dtype.type(ret / rcount)\n",
      "C:\\Users\\hughw\\Documents\\MSC project\\GP algorithms\\Master function files\\GP_funcs_ZTMFSS.py:2035: RuntimeWarning: invalid value encountered in true_divide\n",
      "  MCC[j,i]=(TP*TN-FP*FN)/np.sqrt((TP+FP)*(TP+FN)*(TN+FP)*(TN+FN))\n"
     ]
    },
    {
     "name": "stdout",
     "output_type": "stream",
     "text": [
      "run time is : 19.015284299850464\n",
      "run time is : 19.210652112960815\n",
      "run time is : 18.90774440765381\n",
      "run time is : 19.122694492340088\n",
      "run time is : 19.501840114593506\n",
      "run time is : 12.322043180465698\n",
      "run time is : 12.329025030136108\n",
      "run time is : 20.905086278915405\n",
      "run time is : 20.946975469589233\n"
     ]
    },
    {
     "name": "stderr",
     "output_type": "stream",
     "text": [
      "C:\\Users\\hughw\\Documents\\MSC project\\GP algorithms\\Master function files\\GP_funcs_ZTMFSS.py:55: RuntimeWarning: divide by zero encountered in true_divide\n",
      "  return kern(cdist(X,X, metric = \"seuclidean\", V = 1/l**2),s)\n",
      "C:\\Users\\hughw\\Documents\\MSC project\\GP algorithms\\Master function files\\GP_funcs_ZTMFSS.py:62: RuntimeWarning: divide by zero encountered in true_divide\n",
      "  return kern(cdist(X,Xtest, metric = \"seuclidean\", V = 1/l**2),s).T\n"
     ]
    },
    {
     "name": "stdout",
     "output_type": "stream",
     "text": [
      "RUN 5\n",
      "Runtime mean is: [ 52.8077021  175.67020448 175.68429315]\n",
      "Weighted accuracy mean is: [[0.88947368 0.89368421 0.80210526 0.51473684 0.5       ]\n",
      " [0.90210526 0.90842105 0.91368421 0.91578947 0.        ]\n",
      " [0.88842105 0.88947368 0.88947368 0.88947368 0.        ]]\n",
      "TPR mean is: [[0.93333333 0.93333333 0.63333333 0.03333333 0.        ]\n",
      " [0.86666667 0.8        0.8        0.8        0.        ]\n",
      " [0.86666667 0.86666667 0.86666667 0.86666667 0.        ]]\n",
      "PPV mean is: [[0.24093211 0.25148006 0.61417749        nan        nan]\n",
      " [0.36787657 0.63789683 0.82440476 0.8625     0.        ]\n",
      " [0.31690189 0.31935287 0.31935287 0.31935287 0.        ]]\n",
      "MCC mean is: [[0.42172644 0.43342437 0.5851155  0.05860429 0.        ]\n",
      " [0.53220068 0.68636124 0.78544614 0.80762837 0.        ]\n",
      " [0.48571561 0.48833757 0.48833757 0.48833757 0.        ]]\n",
      "L1norm mean is: [1.68965238 0.83855203 0.96425466]\n",
      "L2norm mean is: [0.48495972 0.27740258 0.30148755]\n",
      "MSE_F mean is: [0.28138564 0.11896823 0.15339138]\n",
      "MSE_Y mean is: [0.46960595 0.40820041 0.41646415] \n",
      "\n",
      "R2= 0.6339332185730303\n",
      "data generated\n",
      "Length-scales are:  [0.1118034 0.1118034 0.1118034 0.1118034 0.1118034]\n",
      "Noise variance is:  0.02755191969077674\n",
      "Average data variance is:  1.0\n",
      "Time taken to draw data :  0.054852962493896484\n",
      "run time is : 59.436031341552734\n"
     ]
    },
    {
     "name": "stderr",
     "output_type": "stream",
     "text": [
      "C:\\Users\\hughw\\Documents\\MSC project\\GP algorithms\\Master function files\\GP_funcs_ZTMFSS.py:55: RuntimeWarning: divide by zero encountered in true_divide\n",
      "  return kern(cdist(X,X, metric = \"seuclidean\", V = 1/l**2),s)\n",
      "C:\\Users\\hughw\\Documents\\MSC project\\GP algorithms\\Master function files\\GP_funcs_ZTMFSS.py:62: RuntimeWarning: divide by zero encountered in true_divide\n",
      "  return kern(cdist(X,Xtest, metric = \"seuclidean\", V = 1/l**2),s).T\n",
      "C:\\Users\\hughw\\anaconda3\\lib\\site-packages\\numpy\\core\\fromnumeric.py:3334: RuntimeWarning: Mean of empty slice.\n",
      "  return _methods._mean(a, axis=axis, dtype=dtype,\n",
      "C:\\Users\\hughw\\anaconda3\\lib\\site-packages\\numpy\\core\\_methods.py:161: RuntimeWarning: invalid value encountered in double_scalars\n",
      "  ret = ret.dtype.type(ret / rcount)\n",
      "C:\\Users\\hughw\\Documents\\MSC project\\GP algorithms\\Master function files\\GP_funcs_ZTMFSS.py:2035: RuntimeWarning: invalid value encountered in true_divide\n",
      "  MCC[j,i]=(TP*TN-FP*FN)/np.sqrt((TP+FP)*(TP+FN)*(TN+FP)*(TN+FN))\n"
     ]
    },
    {
     "name": "stdout",
     "output_type": "stream",
     "text": [
      "run time is : 20.97190761566162\n",
      "run time is : 20.71160364151001\n",
      "run time is : 18.98837423324585\n",
      "run time is : 18.802529335021973\n",
      "run time is : 18.70226550102234\n",
      "run time is : 18.773186445236206\n",
      "run time is : 13.18573260307312\n",
      "run time is : 9.481640100479126\n",
      "run time is : 19.083057165145874\n"
     ]
    },
    {
     "name": "stderr",
     "output_type": "stream",
     "text": [
      "C:\\Users\\hughw\\Documents\\MSC project\\GP algorithms\\Master function files\\GP_funcs_ZTMFSS.py:55: RuntimeWarning: divide by zero encountered in true_divide\n",
      "  return kern(cdist(X,X, metric = \"seuclidean\", V = 1/l**2),s)\n",
      "C:\\Users\\hughw\\Documents\\MSC project\\GP algorithms\\Master function files\\GP_funcs_ZTMFSS.py:62: RuntimeWarning: divide by zero encountered in true_divide\n",
      "  return kern(cdist(X,Xtest, metric = \"seuclidean\", V = 1/l**2),s).T\n"
     ]
    },
    {
     "name": "stdout",
     "output_type": "stream",
     "text": [
      "RUN 6\n",
      "Runtime mean is: [ 53.75788334 174.83097403 174.88864265]\n",
      "Weighted accuracy mean is: [[0.87894737 0.88333333 0.80087719 0.5122807  0.5       ]\n",
      " [0.89385965 0.88596491 0.89385965 0.89561404 0.        ]\n",
      " [0.88245614 0.88333333 0.88333333 0.88333333 0.        ]]\n",
      "TPR mean is: [[0.94285714 0.94285714 0.6        0.05714286 0.        ]\n",
      " [0.85714286 0.8        0.8        0.8        0.        ]\n",
      " [0.85714286 0.85714286 0.85714286 0.85714286 0.        ]]\n",
      "PPV mean is: [[0.23508466 0.24531624 0.56215213        nan        nan]\n",
      " [0.3438942  0.58758503 0.77012472 0.80277778 0.        ]\n",
      " [0.30020162 0.30230246 0.30230246 0.30230246 0.        ]]\n",
      "MCC mean is: [[0.41824548 0.42982779 0.54018529 0.11281594 0.        ]\n",
      " [0.50533253 0.65064806 0.7545491  0.77356244 0.        ]\n",
      " [0.46548818 0.46773558 0.46773558 0.46773558 0.        ]]\n",
      "L1norm mean is: [1.7580859  0.96806956 1.0925809 ]\n",
      "L2norm mean is: [0.49376303 0.30473712 0.32937947]\n",
      "MSE_F mean is: [0.28307214 0.1408761  0.17643624]\n",
      "MSE_Y mean is: [0.4660622  0.41369122 0.42297611] \n",
      "\n",
      "R2= 0.6866358915617431\n",
      "data generated\n",
      "Length-scales are:  [0.1118034 0.1118034 0.1118034 0.1118034 0.1118034]\n",
      "Noise variance is:  0.009759434735306083\n",
      "Average data variance is:  0.9999999999999999\n",
      "Time taken to draw data :  0.04488062858581543\n",
      "run time is : 52.35892677307129\n"
     ]
    },
    {
     "name": "stderr",
     "output_type": "stream",
     "text": [
      "C:\\Users\\hughw\\Documents\\MSC project\\GP algorithms\\Master function files\\GP_funcs_ZTMFSS.py:55: RuntimeWarning: divide by zero encountered in true_divide\n",
      "  return kern(cdist(X,X, metric = \"seuclidean\", V = 1/l**2),s)\n",
      "C:\\Users\\hughw\\Documents\\MSC project\\GP algorithms\\Master function files\\GP_funcs_ZTMFSS.py:62: RuntimeWarning: divide by zero encountered in true_divide\n",
      "  return kern(cdist(X,Xtest, metric = \"seuclidean\", V = 1/l**2),s).T\n",
      "C:\\Users\\hughw\\anaconda3\\lib\\site-packages\\numpy\\core\\fromnumeric.py:3334: RuntimeWarning: Mean of empty slice.\n",
      "  return _methods._mean(a, axis=axis, dtype=dtype,\n",
      "C:\\Users\\hughw\\anaconda3\\lib\\site-packages\\numpy\\core\\_methods.py:161: RuntimeWarning: invalid value encountered in double_scalars\n",
      "  ret = ret.dtype.type(ret / rcount)\n",
      "C:\\Users\\hughw\\Documents\\MSC project\\GP algorithms\\Master function files\\GP_funcs_ZTMFSS.py:2035: RuntimeWarning: invalid value encountered in true_divide\n",
      "  MCC[j,i]=(TP*TN-FP*FN)/np.sqrt((TP+FP)*(TP+FN)*(TN+FP)*(TN+FN))\n"
     ]
    },
    {
     "name": "stdout",
     "output_type": "stream",
     "text": [
      "run time is : 18.684024810791016\n",
      "run time is : 18.879828691482544\n",
      "run time is : 18.67035412788391\n",
      "run time is : 18.7755024433136\n",
      "run time is : 16.906624794006348\n",
      "run time is : 18.589000701904297\n",
      "run time is : 14.74258542060852\n",
      "run time is : 18.716716289520264\n",
      "run time is : 18.719478845596313\n",
      "run time is : 18.59937047958374\n"
     ]
    },
    {
     "name": "stderr",
     "output_type": "stream",
     "text": [
      "C:\\Users\\hughw\\Documents\\MSC project\\GP algorithms\\Master function files\\GP_funcs_ZTMFSS.py:55: RuntimeWarning: divide by zero encountered in true_divide\n",
      "  return kern(cdist(X,X, metric = \"seuclidean\", V = 1/l**2),s)\n",
      "C:\\Users\\hughw\\Documents\\MSC project\\GP algorithms\\Master function files\\GP_funcs_ZTMFSS.py:62: RuntimeWarning: divide by zero encountered in true_divide\n",
      "  return kern(cdist(X,Xtest, metric = \"seuclidean\", V = 1/l**2),s).T\n"
     ]
    },
    {
     "name": "stdout",
     "output_type": "stream",
     "text": [
      "RUN 7\n",
      "Runtime mean is: [ 53.58563167 177.04440469 177.05734029]\n",
      "Weighted accuracy mean is: [[0.88120301 0.88571429 0.78195489 0.52481203 0.5       ]\n",
      " [0.88270677 0.88045113 0.89097744 0.8924812  0.        ]\n",
      " [0.87293233 0.87368421 0.87368421 0.87368421 0.        ]]\n",
      "TPR mean is: [[0.925 0.925 0.625 0.05  0.   ]\n",
      " [0.85  0.8   0.8   0.8   0.   ]\n",
      " [0.875 0.875 0.875 0.875 0.   ]]\n",
      "PPV mean is: [[0.22653241 0.23639084 0.55438312        nan        nan]\n",
      " [0.33215743 0.55959145 0.72941468 0.75798611 0.        ]\n",
      " [0.29243832 0.29427656 0.29427656 0.29427656 0.        ]]\n",
      "MCC mean is: [[0.40356661 0.41494107 0.54876952 0.09871395 0.        ]\n",
      " [0.49222858 0.63255692 0.73137632 0.74801299 0.        ]\n",
      " [0.46292294 0.46488941 0.46488941 0.46488941 0.        ]]\n",
      "L1norm mean is: [1.77883226 1.05980899 1.19505626]\n",
      "L2norm mean is: [0.48599565 0.32415141 0.34873204]\n",
      "MSE_F mean is: [0.28676391 0.14680597 0.181327  ]\n",
      "MSE_Y mean is: [0.46430606 0.41146318 0.4216623 ] \n",
      "\n",
      "R2= 0.6833412983059594\n",
      "data generated\n",
      "Length-scales are:  [0.1118034 0.1118034 0.1118034 0.1118034 0.1118034]\n",
      "Noise variance is:  0.038329951924624295\n",
      "Average data variance is:  1.0\n",
      "Time taken to draw data :  0.0468747615814209\n",
      "run time is : 63.463046073913574\n"
     ]
    },
    {
     "name": "stderr",
     "output_type": "stream",
     "text": [
      "C:\\Users\\hughw\\Documents\\MSC project\\GP algorithms\\Master function files\\GP_funcs_ZTMFSS.py:55: RuntimeWarning: divide by zero encountered in true_divide\n",
      "  return kern(cdist(X,X, metric = \"seuclidean\", V = 1/l**2),s)\n",
      "C:\\Users\\hughw\\Documents\\MSC project\\GP algorithms\\Master function files\\GP_funcs_ZTMFSS.py:62: RuntimeWarning: divide by zero encountered in true_divide\n",
      "  return kern(cdist(X,Xtest, metric = \"seuclidean\", V = 1/l**2),s).T\n",
      "C:\\Users\\hughw\\anaconda3\\lib\\site-packages\\numpy\\core\\fromnumeric.py:3334: RuntimeWarning: Mean of empty slice.\n",
      "  return _methods._mean(a, axis=axis, dtype=dtype,\n",
      "C:\\Users\\hughw\\anaconda3\\lib\\site-packages\\numpy\\core\\_methods.py:161: RuntimeWarning: invalid value encountered in double_scalars\n",
      "  ret = ret.dtype.type(ret / rcount)\n",
      "C:\\Users\\hughw\\Documents\\MSC project\\GP algorithms\\Master function files\\GP_funcs_ZTMFSS.py:2035: RuntimeWarning: invalid value encountered in true_divide\n",
      "  MCC[j,i]=(TP*TN-FP*FN)/np.sqrt((TP+FP)*(TP+FN)*(TN+FP)*(TN+FN))\n"
     ]
    },
    {
     "name": "stdout",
     "output_type": "stream",
     "text": [
      "run time is : 17.084064245224\n",
      "run time is : 17.000242233276367\n",
      "run time is : 18.880011081695557\n",
      "run time is : 16.885859966278076\n",
      "run time is : 16.821667432785034\n",
      "run time is : 14.99252438545227\n",
      "run time is : 11.262296915054321\n",
      "run time is : 18.825616359710693\n",
      "run time is : 18.75806760787964\n"
     ]
    },
    {
     "name": "stderr",
     "output_type": "stream",
     "text": [
      "C:\\Users\\hughw\\Documents\\MSC project\\GP algorithms\\Master function files\\GP_funcs_ZTMFSS.py:55: RuntimeWarning: divide by zero encountered in true_divide\n",
      "  return kern(cdist(X,X, metric = \"seuclidean\", V = 1/l**2),s)\n",
      "C:\\Users\\hughw\\Documents\\MSC project\\GP algorithms\\Master function files\\GP_funcs_ZTMFSS.py:62: RuntimeWarning: divide by zero encountered in true_divide\n",
      "  return kern(cdist(X,Xtest, metric = \"seuclidean\", V = 1/l**2),s).T\n"
     ]
    },
    {
     "name": "stdout",
     "output_type": "stream",
     "text": [
      "RUN 8\n",
      "Runtime mean is: [ 54.68544926 175.25817617 175.30757303]\n",
      "Weighted accuracy mean is: [[0.87039474 0.875      0.79407895 0.52171053 0.5       ]\n",
      " [0.87697368 0.87828947 0.88881579 0.89013158 0.        ]\n",
      " [0.87828947 0.87894737 0.87894737 0.87894737 0.        ]]\n",
      "TPR mean is: [[0.93333333 0.93333333 0.66666667 0.06666667 0.        ]\n",
      " [0.86666667 0.82222222 0.8        0.8        0.        ]\n",
      " [0.88888889 0.88888889 0.88888889 0.88888889 0.        ]]\n",
      "PPV mean is: [[0.22661467 0.23537772 0.56222944        nan        nan]\n",
      " [0.33493358 0.54014967 0.70392416 0.74783951 0.        ]\n",
      " [0.29698221 0.2986162  0.2986162  0.2986162  0.        ]]\n",
      "MCC mean is: [[0.40672316 0.41683379 0.57423808 0.13642194 0.        ]\n",
      " [0.50071452 0.62821581 0.71776329 0.74432829 0.        ]\n",
      " [0.47216691 0.47391489 0.47391489 0.47391489 0.        ]]\n",
      "L1norm mean is: [1.75292697 1.06207005 1.1869036 ]\n",
      "L2norm mean is: [0.47721709 0.32321244 0.34538052]\n",
      "MSE_F mean is: [0.28495254 0.14926691 0.1804287 ]\n",
      "MSE_Y mean is: [0.45940318 0.40866648 0.41768073] \n",
      "\n",
      "R2= 0.6617437907552408\n",
      "data generated\n",
      "Length-scales are:  [0.1118034 0.1118034 0.1118034 0.1118034 0.1118034]\n",
      "Noise variance is:  0.035036544249469115\n",
      "Average data variance is:  1.0\n",
      "Time taken to draw data :  0.05086493492126465\n",
      "run time is : 63.185975551605225\n"
     ]
    },
    {
     "name": "stderr",
     "output_type": "stream",
     "text": [
      "C:\\Users\\hughw\\Documents\\MSC project\\GP algorithms\\Master function files\\GP_funcs_ZTMFSS.py:55: RuntimeWarning: divide by zero encountered in true_divide\n",
      "  return kern(cdist(X,X, metric = \"seuclidean\", V = 1/l**2),s)\n",
      "C:\\Users\\hughw\\Documents\\MSC project\\GP algorithms\\Master function files\\GP_funcs_ZTMFSS.py:62: RuntimeWarning: divide by zero encountered in true_divide\n",
      "  return kern(cdist(X,Xtest, metric = \"seuclidean\", V = 1/l**2),s).T\n",
      "C:\\Users\\hughw\\anaconda3\\lib\\site-packages\\numpy\\core\\fromnumeric.py:3334: RuntimeWarning: Mean of empty slice.\n",
      "  return _methods._mean(a, axis=axis, dtype=dtype,\n",
      "C:\\Users\\hughw\\anaconda3\\lib\\site-packages\\numpy\\core\\_methods.py:161: RuntimeWarning: invalid value encountered in double_scalars\n",
      "  ret = ret.dtype.type(ret / rcount)\n",
      "C:\\Users\\hughw\\Documents\\MSC project\\GP algorithms\\Master function files\\GP_funcs_ZTMFSS.py:2035: RuntimeWarning: invalid value encountered in true_divide\n",
      "  MCC[j,i]=(TP*TN-FP*FN)/np.sqrt((TP+FP)*(TP+FN)*(TN+FP)*(TN+FN))\n"
     ]
    },
    {
     "name": "stdout",
     "output_type": "stream",
     "text": [
      "run time is : 18.800013303756714\n",
      "run time is : 18.66377282142639\n",
      "run time is : 18.982471704483032\n",
      "run time is : 18.6809983253479\n",
      "run time is : 11.398764610290527\n",
      "run time is : 11.229745864868164\n",
      "run time is : 14.023492574691772\n",
      "run time is : 20.062463760375977\n",
      "run time is : 18.8316330909729\n",
      "run time is : 18.94733452796936\n"
     ]
    },
    {
     "name": "stderr",
     "output_type": "stream",
     "text": [
      "C:\\Users\\hughw\\Documents\\MSC project\\GP algorithms\\Master function files\\GP_funcs_ZTMFSS.py:55: RuntimeWarning: divide by zero encountered in true_divide\n",
      "  return kern(cdist(X,X, metric = \"seuclidean\", V = 1/l**2),s)\n",
      "C:\\Users\\hughw\\Documents\\MSC project\\GP algorithms\\Master function files\\GP_funcs_ZTMFSS.py:62: RuntimeWarning: divide by zero encountered in true_divide\n",
      "  return kern(cdist(X,Xtest, metric = \"seuclidean\", V = 1/l**2),s).T\n"
     ]
    },
    {
     "name": "stdout",
     "output_type": "stream",
     "text": [
      "RUN 9\n",
      "Runtime mean is: [ 55.53749657 175.71360137 175.76394303]\n",
      "Weighted accuracy mean is: [[0.8748538  0.87894737 0.81520468 0.53040936 0.5       ]\n",
      " [0.88538012 0.8871345  0.8877193  0.89005848 0.        ]\n",
      " [0.88596491 0.88654971 0.88654971 0.88654971 0.        ]]\n",
      "TPR mean is: [[0.92 0.92 0.66 0.08 0.  ]\n",
      " [0.84 0.8  0.78 0.78 0.  ]\n",
      " [0.86 0.86 0.86 0.86 0.  ]]\n",
      "PPV mean is: [[0.21933782 0.22783995 0.53100649        nan        nan]\n",
      " [0.3228688  0.5236347  0.68353175 0.74805556 0.        ]\n",
      " [0.28871256 0.29018315 0.2918315  0.2918315  0.        ]]\n",
      "MCC mean is: [[0.39429408 0.40429012 0.55070122 0.16658832 0.        ]\n",
      " [0.48105666 0.60936739 0.69815175 0.73545647 0.        ]\n",
      " [0.45536382 0.456937   0.45858534 0.45858534 0.        ]]\n",
      "L1norm mean is: [1.83982299 1.06187274 1.18142502]\n",
      "L2norm mean is: [0.49267994 0.32368843 0.34538986]\n",
      "MSE_F mean is: [0.29362295 0.14856893 0.17708879]\n",
      "MSE_Y mean is: [0.46735183 0.41533298 0.42396205] \n",
      "\n",
      "R2= 0.6815709344560443\n",
      "data generated\n",
      "Length-scales are:  [0.1118034 0.1118034 0.1118034 0.1118034 0.1118034]\n",
      "Noise variance is:  0.02046757683376572\n",
      "Average data variance is:  1.0000000000000002\n",
      "Time taken to draw data :  0.04587674140930176\n",
      "run time is : 48.82751107215881\n"
     ]
    },
    {
     "name": "stderr",
     "output_type": "stream",
     "text": [
      "C:\\Users\\hughw\\Documents\\MSC project\\GP algorithms\\Master function files\\GP_funcs_ZTMFSS.py:55: RuntimeWarning: divide by zero encountered in true_divide\n",
      "  return kern(cdist(X,X, metric = \"seuclidean\", V = 1/l**2),s)\n",
      "C:\\Users\\hughw\\Documents\\MSC project\\GP algorithms\\Master function files\\GP_funcs_ZTMFSS.py:62: RuntimeWarning: divide by zero encountered in true_divide\n",
      "  return kern(cdist(X,Xtest, metric = \"seuclidean\", V = 1/l**2),s).T\n",
      "C:\\Users\\hughw\\anaconda3\\lib\\site-packages\\numpy\\core\\fromnumeric.py:3334: RuntimeWarning: Mean of empty slice.\n",
      "  return _methods._mean(a, axis=axis, dtype=dtype,\n",
      "C:\\Users\\hughw\\anaconda3\\lib\\site-packages\\numpy\\core\\_methods.py:161: RuntimeWarning: invalid value encountered in double_scalars\n",
      "  ret = ret.dtype.type(ret / rcount)\n",
      "C:\\Users\\hughw\\Documents\\MSC project\\GP algorithms\\Master function files\\GP_funcs_ZTMFSS.py:2035: RuntimeWarning: invalid value encountered in true_divide\n",
      "  MCC[j,i]=(TP*TN-FP*FN)/np.sqrt((TP+FP)*(TP+FN)*(TN+FP)*(TN+FN))\n"
     ]
    },
    {
     "name": "stdout",
     "output_type": "stream",
     "text": [
      "run time is : 18.912414073944092\n",
      "run time is : 18.789917707443237\n",
      "run time is : 18.826646327972412\n",
      "run time is : 18.88372778892517\n",
      "run time is : 18.663474082946777\n",
      "run time is : 15.10559892654419\n",
      "run time is : 11.212242603302002\n",
      "run time is : 19.126233100891113\n",
      "run time is : 18.834383249282837\n",
      "run time is : 18.731805562973022\n"
     ]
    },
    {
     "name": "stderr",
     "output_type": "stream",
     "text": [
      "C:\\Users\\hughw\\Documents\\MSC project\\GP algorithms\\Master function files\\GP_funcs_ZTMFSS.py:55: RuntimeWarning: divide by zero encountered in true_divide\n",
      "  return kern(cdist(X,X, metric = \"seuclidean\", V = 1/l**2),s)\n",
      "C:\\Users\\hughw\\Documents\\MSC project\\GP algorithms\\Master function files\\GP_funcs_ZTMFSS.py:62: RuntimeWarning: divide by zero encountered in true_divide\n",
      "  return kern(cdist(X,Xtest, metric = \"seuclidean\", V = 1/l**2),s).T\n"
     ]
    },
    {
     "name": "stdout",
     "output_type": "stream",
     "text": [
      "RUN 10\n",
      "Runtime mean is: [ 54.92931418 176.87193738 176.90297276]\n",
      "Weighted accuracy mean is: [[0.86578947 0.87       0.80894737 0.53736842 0.5       ]\n",
      " [0.87105263 0.87578947 0.87736842 0.88052632 0.        ]\n",
      " [0.87157895 0.87210526 0.87263158 0.87263158 0.        ]]\n",
      "TPR mean is: [[0.90909091 0.90909091 0.65454545 0.10909091 0.        ]\n",
      " [0.81818182 0.78181818 0.76363636 0.76363636 0.        ]\n",
      " [0.83636364 0.83636364 0.83636364 0.83636364 0.        ]]\n",
      "PPV mean is: [[0.20922603 0.21695523 0.50091499        nan        nan]\n",
      " [0.31299761 0.50330427 0.64866522 0.71901154 0.        ]\n",
      " [0.28194648 0.28328338 0.28478188 0.28478188 0.        ]]\n",
      "MCC mean is: [[0.37702412 0.38611143 0.52692126 0.19668009 0.        ]\n",
      " [0.46497296 0.58873031 0.66944337 0.71191953 0.        ]\n",
      " [0.44161583 0.44304599 0.44454448 0.44454448 0.        ]]\n",
      "L1norm mean is: [2.06525851 1.15369245 1.27325897]\n",
      "L2norm mean is: [0.53004687 0.35294631 0.37444757]\n",
      "MSE_F mean is: [0.30754626 0.1604503  0.18774434]\n",
      "MSE_Y mean is: [0.47279206 0.41674004 0.42519597] \n",
      "\n",
      "R2= 0.6738376559404949\n",
      "data generated\n",
      "Length-scales are:  [0.1118034 0.1118034 0.1118034 0.1118034 0.1118034]\n",
      "Noise variance is:  0.019741235095657714\n",
      "Average data variance is:  1.0\n",
      "Time taken to draw data :  0.04886960983276367\n",
      "run time is : 62.89176034927368\n"
     ]
    },
    {
     "name": "stderr",
     "output_type": "stream",
     "text": [
      "C:\\Users\\hughw\\Documents\\MSC project\\GP algorithms\\Master function files\\GP_funcs_ZTMFSS.py:55: RuntimeWarning: divide by zero encountered in true_divide\n",
      "  return kern(cdist(X,X, metric = \"seuclidean\", V = 1/l**2),s)\n",
      "C:\\Users\\hughw\\Documents\\MSC project\\GP algorithms\\Master function files\\GP_funcs_ZTMFSS.py:62: RuntimeWarning: divide by zero encountered in true_divide\n",
      "  return kern(cdist(X,Xtest, metric = \"seuclidean\", V = 1/l**2),s).T\n",
      "C:\\Users\\hughw\\anaconda3\\lib\\site-packages\\numpy\\core\\fromnumeric.py:3334: RuntimeWarning: Mean of empty slice.\n",
      "  return _methods._mean(a, axis=axis, dtype=dtype,\n",
      "C:\\Users\\hughw\\anaconda3\\lib\\site-packages\\numpy\\core\\_methods.py:161: RuntimeWarning: invalid value encountered in double_scalars\n",
      "  ret = ret.dtype.type(ret / rcount)\n",
      "C:\\Users\\hughw\\Documents\\MSC project\\GP algorithms\\Master function files\\GP_funcs_ZTMFSS.py:2035: RuntimeWarning: invalid value encountered in true_divide\n",
      "  MCC[j,i]=(TP*TN-FP*FN)/np.sqrt((TP+FP)*(TP+FN)*(TN+FP)*(TN+FN))\n"
     ]
    },
    {
     "name": "stdout",
     "output_type": "stream",
     "text": [
      "run time is : 18.818151712417603\n",
      "run time is : 18.864829778671265\n",
      "run time is : 18.96128749847412\n",
      "run time is : 18.822534561157227\n",
      "run time is : 18.842283725738525\n",
      "run time is : 13.184529066085815\n",
      "run time is : 9.55799674987793\n",
      "run time is : 15.093233108520508\n",
      "run time is : 18.81951880455017\n",
      "run time is : 18.777808666229248\n"
     ]
    },
    {
     "name": "stderr",
     "output_type": "stream",
     "text": [
      "C:\\Users\\hughw\\Documents\\MSC project\\GP algorithms\\Master function files\\GP_funcs_ZTMFSS.py:55: RuntimeWarning: divide by zero encountered in true_divide\n",
      "  return kern(cdist(X,X, metric = \"seuclidean\", V = 1/l**2),s)\n",
      "C:\\Users\\hughw\\Documents\\MSC project\\GP algorithms\\Master function files\\GP_funcs_ZTMFSS.py:62: RuntimeWarning: divide by zero encountered in true_divide\n",
      "  return kern(cdist(X,Xtest, metric = \"seuclidean\", V = 1/l**2),s).T\n"
     ]
    },
    {
     "name": "stdout",
     "output_type": "stream",
     "text": [
      "RUN 11\n",
      "Runtime mean is: [ 55.59492924 177.1786316  177.20591716]\n",
      "Weighted accuracy mean is: [[0.85311005 0.8569378  0.80239234 0.55167464 0.5       ]\n",
      " [0.85933014 0.86555024 0.86698565 0.87129187 0.        ]\n",
      " [0.85980861 0.86028708 0.86076555 0.86076555 0.        ]]\n",
      "TPR mean is: [[0.91666667 0.91666667 0.68333333 0.1        0.        ]\n",
      " [0.83333333 0.8        0.78333333 0.78333333 0.        ]\n",
      " [0.85       0.85       0.85       0.85       0.        ]]\n",
      "PPV mean is: [[0.22155243 0.22863754 0.51869589        nan        nan]\n",
      " [0.32858114 0.53080669 0.66405423 0.72853836 0.        ]\n",
      " [0.28622872 0.28745421 0.28882784 0.28882784 0.        ]]\n",
      "MCC mean is: [[0.39298895 0.40131898 0.55269537 0.18029008 0.        ]\n",
      " [0.48357915 0.61534059 0.68932756 0.72826404 0.        ]\n",
      " [0.4503244  0.45163538 0.453009   0.453009   0.        ]]\n",
      "L1norm mean is: [1.97039793 1.13729454 1.26729303]\n",
      "L2norm mean is: [0.51147082 0.34963056 0.37222243]\n",
      "MSE_F mean is: [0.29518094 0.15454091 0.18325711]\n",
      "MSE_Y mean is: [0.4641909  0.41243302 0.42128947] \n",
      "\n",
      "R2= 0.6840008003571818\n",
      "data generated\n",
      "Length-scales are:  [0.1118034 0.1118034 0.1118034 0.1118034 0.1118034]\n",
      "Noise variance is:  0.024494122233946133\n",
      "Average data variance is:  1.0\n",
      "Time taken to draw data :  0.04288530349731445\n",
      "run time is : 48.39473605155945\n"
     ]
    },
    {
     "name": "stderr",
     "output_type": "stream",
     "text": [
      "C:\\Users\\hughw\\Documents\\MSC project\\GP algorithms\\Master function files\\GP_funcs_ZTMFSS.py:55: RuntimeWarning: divide by zero encountered in true_divide\n",
      "  return kern(cdist(X,X, metric = \"seuclidean\", V = 1/l**2),s)\n",
      "C:\\Users\\hughw\\Documents\\MSC project\\GP algorithms\\Master function files\\GP_funcs_ZTMFSS.py:62: RuntimeWarning: divide by zero encountered in true_divide\n",
      "  return kern(cdist(X,Xtest, metric = \"seuclidean\", V = 1/l**2),s).T\n",
      "C:\\Users\\hughw\\anaconda3\\lib\\site-packages\\numpy\\core\\fromnumeric.py:3334: RuntimeWarning: Mean of empty slice.\n",
      "  return _methods._mean(a, axis=axis, dtype=dtype,\n",
      "C:\\Users\\hughw\\anaconda3\\lib\\site-packages\\numpy\\core\\_methods.py:161: RuntimeWarning: invalid value encountered in double_scalars\n",
      "  ret = ret.dtype.type(ret / rcount)\n",
      "C:\\Users\\hughw\\Documents\\MSC project\\GP algorithms\\Master function files\\GP_funcs_ZTMFSS.py:2035: RuntimeWarning: invalid value encountered in true_divide\n",
      "  MCC[j,i]=(TP*TN-FP*FN)/np.sqrt((TP+FP)*(TP+FN)*(TN+FP)*(TN+FN))\n"
     ]
    },
    {
     "name": "stdout",
     "output_type": "stream",
     "text": [
      "run time is : 18.80119562149048\n",
      "run time is : 18.949339389801025\n",
      "run time is : 14.986916065216064\n",
      "run time is : 18.863126039505005\n",
      "run time is : 9.348992347717285\n",
      "run time is : 9.463685989379883\n",
      "run time is : 9.359965562820435\n",
      "run time is : 18.96604299545288\n",
      "run time is : 18.920000076293945\n"
     ]
    },
    {
     "name": "stderr",
     "output_type": "stream",
     "text": [
      "C:\\Users\\hughw\\Documents\\MSC project\\GP algorithms\\Master function files\\GP_funcs_ZTMFSS.py:55: RuntimeWarning: divide by zero encountered in true_divide\n",
      "  return kern(cdist(X,X, metric = \"seuclidean\", V = 1/l**2),s)\n",
      "C:\\Users\\hughw\\Documents\\MSC project\\GP algorithms\\Master function files\\GP_funcs_ZTMFSS.py:62: RuntimeWarning: divide by zero encountered in true_divide\n",
      "  return kern(cdist(X,Xtest, metric = \"seuclidean\", V = 1/l**2),s).T\n"
     ]
    },
    {
     "name": "stdout",
     "output_type": "stream",
     "text": [
      "RUN 12\n",
      "Runtime mean is: [ 55.04298628 174.91253123 174.92628938]\n",
      "Weighted accuracy mean is: [[0.86140351 0.86491228 0.81798246 0.54736842 0.5       ]\n",
      " [0.86885965 0.87631579 0.87763158 0.88157895 0.        ]\n",
      " [0.86710526 0.86754386 0.86798246 0.86798246 0.        ]]\n",
      "TPR mean is: [[0.92307692 0.92307692 0.70769231 0.09230769 0.        ]\n",
      " [0.83076923 0.8        0.78461538 0.78461538 0.        ]\n",
      " [0.84615385 0.84615385 0.84615385 0.84615385 0.        ]]\n",
      "PPV mean is: [[0.23015096 0.23669106 0.54289877        nan        nan]\n",
      " [0.3374937  0.54125746 0.6745116  0.74942002 0.        ]\n",
      " [0.28985215 0.29098338 0.29225134 0.29225134 0.        ]]\n",
      "MCC mean is: [[0.40476816 0.41245742 0.58003062 0.16642162 0.        ]\n",
      " [0.49016282 0.62299522 0.6970311  0.74068654 0.        ]\n",
      " [0.45261215 0.45382229 0.45509024 0.45509024 0.        ]]\n",
      "L1norm mean is: [1.88095736 1.09464167 1.22066878]\n",
      "L2norm mean is: [0.48973982 0.33725329 0.35927753]\n",
      "MSE_F mean is: [0.28694362 0.15072352 0.18067796]\n",
      "MSE_Y mean is: [0.46357115 0.41367358 0.42355014] \n",
      "\n",
      "R2= 0.6729103731797128\n",
      "data generated\n",
      "Length-scales are:  [0.1118034 0.1118034 0.1118034 0.1118034 0.1118034]\n",
      "Noise variance is:  0.008714576961873494\n",
      "Average data variance is:  1.0\n",
      "Time taken to draw data :  0.04587721824645996\n",
      "run time is : 43.35105347633362\n"
     ]
    },
    {
     "name": "stderr",
     "output_type": "stream",
     "text": [
      "C:\\Users\\hughw\\Documents\\MSC project\\GP algorithms\\Master function files\\GP_funcs_ZTMFSS.py:55: RuntimeWarning: divide by zero encountered in true_divide\n",
      "  return kern(cdist(X,X, metric = \"seuclidean\", V = 1/l**2),s)\n",
      "C:\\Users\\hughw\\Documents\\MSC project\\GP algorithms\\Master function files\\GP_funcs_ZTMFSS.py:62: RuntimeWarning: divide by zero encountered in true_divide\n",
      "  return kern(cdist(X,Xtest, metric = \"seuclidean\", V = 1/l**2),s).T\n",
      "C:\\Users\\hughw\\anaconda3\\lib\\site-packages\\numpy\\core\\fromnumeric.py:3334: RuntimeWarning: Mean of empty slice.\n",
      "  return _methods._mean(a, axis=axis, dtype=dtype,\n",
      "C:\\Users\\hughw\\anaconda3\\lib\\site-packages\\numpy\\core\\_methods.py:161: RuntimeWarning: invalid value encountered in double_scalars\n",
      "  ret = ret.dtype.type(ret / rcount)\n",
      "C:\\Users\\hughw\\Documents\\MSC project\\GP algorithms\\Master function files\\GP_funcs_ZTMFSS.py:2035: RuntimeWarning: invalid value encountered in true_divide\n",
      "  MCC[j,i]=(TP*TN-FP*FN)/np.sqrt((TP+FP)*(TP+FN)*(TN+FP)*(TN+FN))\n"
     ]
    },
    {
     "name": "stdout",
     "output_type": "stream",
     "text": [
      "run time is : 18.74087357521057\n",
      "run time is : 18.93735146522522\n",
      "run time is : 18.681647300720215\n",
      "run time is : 18.80619716644287\n",
      "run time is : 18.57631540298462\n",
      "run time is : 16.752164125442505\n",
      "run time is : 11.220958471298218\n",
      "run time is : 18.71170401573181\n",
      "run time is : 18.727357864379883\n"
     ]
    },
    {
     "name": "stderr",
     "output_type": "stream",
     "text": [
      "C:\\Users\\hughw\\Documents\\MSC project\\GP algorithms\\Master function files\\GP_funcs_ZTMFSS.py:55: RuntimeWarning: divide by zero encountered in true_divide\n",
      "  return kern(cdist(X,X, metric = \"seuclidean\", V = 1/l**2),s)\n",
      "C:\\Users\\hughw\\Documents\\MSC project\\GP algorithms\\Master function files\\GP_funcs_ZTMFSS.py:62: RuntimeWarning: divide by zero encountered in true_divide\n",
      "  return kern(cdist(X,Xtest, metric = \"seuclidean\", V = 1/l**2),s).T\n"
     ]
    },
    {
     "name": "stdout",
     "output_type": "stream",
     "text": [
      "RUN 13\n",
      "Runtime mean is: [ 54.20941559 174.60064573 174.60572733]\n",
      "Weighted accuracy mean is: [[0.86801619 0.87125506 0.83157895 0.5437247  0.5       ]\n",
      " [0.86923077 0.87732794 0.87894737 0.88299595 0.        ]\n",
      " [0.86639676 0.86680162 0.86720648 0.86720648 0.        ]]\n",
      "TPR mean is: [[0.92857143 0.92857143 0.72857143 0.08571429 0.        ]\n",
      " [0.84285714 0.81428571 0.8        0.8        0.        ]\n",
      " [0.85714286 0.85714286 0.85714286 0.85714286 0.        ]]\n",
      "PPV mean is: [[0.22693912 0.23301207 0.53658782        nan        nan]\n",
      " [0.33439541 0.53506375 0.65879973 0.74053288 0.        ]\n",
      " [0.28794542 0.28899584 0.29017324 0.29017324 0.        ]]\n",
      "MCC mean is: [[0.40280093 0.40994096 0.58521144 0.15453436 0.        ]\n",
      " [0.49135962 0.62510714 0.69385475 0.74335083 0.        ]\n",
      " [0.4541173  0.455241   0.45641838 0.45641838 0.        ]]\n",
      "L1norm mean is: [1.9178588  1.08909596 1.21453719]\n",
      "L2norm mean is: [0.49487937 0.33482569 0.35641272]\n",
      "MSE_F mean is: [0.29219141 0.15206597 0.18190886]\n",
      "MSE_Y mean is: [0.46626651 0.41013737 0.42026811] \n",
      "\n",
      "R2= 0.6439843244531762\n",
      "data generated\n",
      "Length-scales are:  [0.1118034 0.1118034 0.1118034 0.1118034 0.1118034]\n",
      "Noise variance is:  0.026998243091711536\n",
      "Average data variance is:  0.9999999999999999\n",
      "Time taken to draw data :  0.04986929893493652\n",
      "run time is : 49.88457632064819\n"
     ]
    },
    {
     "name": "stderr",
     "output_type": "stream",
     "text": [
      "C:\\Users\\hughw\\Documents\\MSC project\\GP algorithms\\Master function files\\GP_funcs_ZTMFSS.py:55: RuntimeWarning: divide by zero encountered in true_divide\n",
      "  return kern(cdist(X,X, metric = \"seuclidean\", V = 1/l**2),s)\n",
      "C:\\Users\\hughw\\Documents\\MSC project\\GP algorithms\\Master function files\\GP_funcs_ZTMFSS.py:62: RuntimeWarning: divide by zero encountered in true_divide\n",
      "  return kern(cdist(X,Xtest, metric = \"seuclidean\", V = 1/l**2),s).T\n",
      "C:\\Users\\hughw\\anaconda3\\lib\\site-packages\\numpy\\core\\fromnumeric.py:3334: RuntimeWarning: Mean of empty slice.\n",
      "  return _methods._mean(a, axis=axis, dtype=dtype,\n",
      "C:\\Users\\hughw\\anaconda3\\lib\\site-packages\\numpy\\core\\_methods.py:161: RuntimeWarning: invalid value encountered in double_scalars\n",
      "  ret = ret.dtype.type(ret / rcount)\n",
      "C:\\Users\\hughw\\Documents\\MSC project\\GP algorithms\\Master function files\\GP_funcs_ZTMFSS.py:2035: RuntimeWarning: invalid value encountered in true_divide\n",
      "  MCC[j,i]=(TP*TN-FP*FN)/np.sqrt((TP+FP)*(TP+FN)*(TN+FP)*(TN+FN))\n"
     ]
    },
    {
     "name": "stdout",
     "output_type": "stream",
     "text": [
      "run time is : 20.38145613670349\n",
      "run time is : 18.891933917999268\n",
      "run time is : 18.69726014137268\n",
      "run time is : 14.991902112960815\n",
      "run time is : 18.720693826675415\n",
      "run time is : 14.887181997299194\n",
      "run time is : 9.637094974517822\n",
      "run time is : 18.622902393341064\n",
      "run time is : 18.612351417541504\n"
     ]
    },
    {
     "name": "stderr",
     "output_type": "stream",
     "text": [
      "C:\\Users\\hughw\\Documents\\MSC project\\GP algorithms\\Master function files\\GP_funcs_ZTMFSS.py:55: RuntimeWarning: divide by zero encountered in true_divide\n",
      "  return kern(cdist(X,X, metric = \"seuclidean\", V = 1/l**2),s)\n",
      "C:\\Users\\hughw\\Documents\\MSC project\\GP algorithms\\Master function files\\GP_funcs_ZTMFSS.py:62: RuntimeWarning: divide by zero encountered in true_divide\n",
      "  return kern(cdist(X,Xtest, metric = \"seuclidean\", V = 1/l**2),s).T\n"
     ]
    },
    {
     "name": "stdout",
     "output_type": "stream",
     "text": [
      "RUN 14\n",
      "Runtime mean is: [ 53.92262232 173.93812283 173.92320469]\n",
      "Weighted accuracy mean is: [[0.86917293 0.87218045 0.84135338 0.5406015  0.5       ]\n",
      " [0.87406015 0.88383459 0.88533835 0.89022556 0.        ]\n",
      " [0.87067669 0.87105263 0.87142857 0.87142857 0.        ]]\n",
      "TPR mean is: [[0.93333333 0.93333333 0.72       0.08       0.        ]\n",
      " [0.85333333 0.82666667 0.81333333 0.8        0.        ]\n",
      " [0.86666667 0.86666667 0.86666667 0.86666667 0.        ]]\n",
      "PPV mean is: [[0.2263026  0.23197068 0.5208153         nan        nan]\n",
      " [0.3306209  0.52969586 0.64518278 0.74449735 0.        ]\n",
      " [0.28726758 0.28824797 0.28934687 0.28934687 0.        ]]\n",
      "MCC mean is: [[0.40393177 0.41059579 0.57168798 0.14269492 0.        ]\n",
      " [0.49124626 0.62693747 0.69110191 0.74642568 0.        ]\n",
      " [0.45648675 0.45753554 0.45863443 0.45863443 0.        ]]\n",
      "L1norm mean is: [1.92538195 1.08358326 1.20344217]\n",
      "L2norm mean is: [0.49889499 0.3303203  0.35167102]\n",
      "MSE_F mean is: [0.29862363 0.14892591 0.17871073]\n",
      "MSE_Y mean is: [0.47060287 0.40910539 0.41877009] \n",
      "\n",
      "R2= 0.6763146206856755\n",
      "data generated\n",
      "Length-scales are:  [0.1118034 0.1118034 0.1118034 0.1118034 0.1118034]\n",
      "Noise variance is:  0.016104994249217856\n",
      "Average data variance is:  1.0\n",
      "Time taken to draw data :  0.04288506507873535\n",
      "run time is : 62.61552715301514\n"
     ]
    },
    {
     "name": "stderr",
     "output_type": "stream",
     "text": [
      "C:\\Users\\hughw\\Documents\\MSC project\\GP algorithms\\Master function files\\GP_funcs_ZTMFSS.py:55: RuntimeWarning: divide by zero encountered in true_divide\n",
      "  return kern(cdist(X,X, metric = \"seuclidean\", V = 1/l**2),s)\n",
      "C:\\Users\\hughw\\Documents\\MSC project\\GP algorithms\\Master function files\\GP_funcs_ZTMFSS.py:62: RuntimeWarning: divide by zero encountered in true_divide\n",
      "  return kern(cdist(X,Xtest, metric = \"seuclidean\", V = 1/l**2),s).T\n",
      "C:\\Users\\hughw\\anaconda3\\lib\\site-packages\\numpy\\core\\fromnumeric.py:3334: RuntimeWarning: Mean of empty slice.\n",
      "  return _methods._mean(a, axis=axis, dtype=dtype,\n",
      "C:\\Users\\hughw\\anaconda3\\lib\\site-packages\\numpy\\core\\_methods.py:161: RuntimeWarning: invalid value encountered in double_scalars\n",
      "  ret = ret.dtype.type(ret / rcount)\n",
      "C:\\Users\\hughw\\Documents\\MSC project\\GP algorithms\\Master function files\\GP_funcs_ZTMFSS.py:2035: RuntimeWarning: invalid value encountered in true_divide\n",
      "  MCC[j,i]=(TP*TN-FP*FN)/np.sqrt((TP+FP)*(TP+FN)*(TN+FP)*(TN+FN))\n"
     ]
    },
    {
     "name": "stdout",
     "output_type": "stream",
     "text": [
      "run time is : 18.771608352661133\n",
      "run time is : 19.80535316467285\n",
      "run time is : 19.86241888999939\n",
      "run time is : 15.022818088531494\n",
      "run time is : 13.524792194366455\n",
      "run time is : 13.987926006317139\n",
      "run time is : 13.47994613647461\n",
      "run time is : 19.543808698654175\n",
      "run time is : 18.754541873931885\n",
      "run time is : 19.087031602859497\n"
     ]
    },
    {
     "name": "stderr",
     "output_type": "stream",
     "text": [
      "C:\\Users\\hughw\\Documents\\MSC project\\GP algorithms\\Master function files\\GP_funcs_ZTMFSS.py:55: RuntimeWarning: divide by zero encountered in true_divide\n",
      "  return kern(cdist(X,X, metric = \"seuclidean\", V = 1/l**2),s)\n",
      "C:\\Users\\hughw\\Documents\\MSC project\\GP algorithms\\Master function files\\GP_funcs_ZTMFSS.py:62: RuntimeWarning: divide by zero encountered in true_divide\n",
      "  return kern(cdist(X,Xtest, metric = \"seuclidean\", V = 1/l**2),s).T\n"
     ]
    },
    {
     "name": "stdout",
     "output_type": "stream",
     "text": [
      "RUN 15\n",
      "Runtime mean is: [ 54.46730016 174.45901492 174.41347049]\n",
      "Weighted accuracy mean is: [[0.87157895 0.87438596 0.83614035 0.53754386 0.5       ]\n",
      " [0.87789474 0.88947368 0.89087719 0.89052632 0.        ]\n",
      " [0.87473684 0.87508772 0.8754386  0.8754386  0.        ]]\n",
      "TPR mean is: [[0.925  0.925  0.7125 0.0875 0.    ]\n",
      " [0.85   0.825  0.8125 0.8    0.    ]\n",
      " [0.8625 0.8625 0.8625 0.8625 0.    ]]\n",
      "PPV mean is: [[0.22141795 0.22673178 0.51505005        nan        nan]\n",
      " [0.33079043 0.55908987 0.66735886 0.76046627 0.        ]\n",
      " [0.28598002 0.28689914 0.28792936 0.28792936 0.        ]]\n",
      "MCC mean is: [[0.39580335 0.40205088 0.56574187 0.16115686 0.        ]\n",
      " [0.49054744 0.64336366 0.70351782 0.75538386 0.        ]\n",
      " [0.45405759 0.45504083 0.45607104 0.45607104 0.        ]]\n",
      "L1norm mean is: [1.95213797 1.07548681 1.20262983]\n",
      "L2norm mean is: [0.50038432 0.33059635 0.3524918 ]\n",
      "MSE_F mean is: [0.30015754 0.14925348 0.18147065]\n",
      "MSE_Y mean is: [0.46483998 0.40196015 0.41222105] \n",
      "\n",
      "R2= 0.670180713217795\n",
      "data generated\n",
      "Length-scales are:  [0.1118034 0.1118034 0.1118034 0.1118034 0.1118034]\n",
      "Noise variance is:  0.025119782121285714\n",
      "Average data variance is:  1.0\n",
      "Time taken to draw data :  0.05319571495056152\n",
      "run time is : 47.91684126853943\n"
     ]
    },
    {
     "name": "stderr",
     "output_type": "stream",
     "text": [
      "C:\\Users\\hughw\\Documents\\MSC project\\GP algorithms\\Master function files\\GP_funcs_ZTMFSS.py:55: RuntimeWarning: divide by zero encountered in true_divide\n",
      "  return kern(cdist(X,X, metric = \"seuclidean\", V = 1/l**2),s)\n",
      "C:\\Users\\hughw\\Documents\\MSC project\\GP algorithms\\Master function files\\GP_funcs_ZTMFSS.py:62: RuntimeWarning: divide by zero encountered in true_divide\n",
      "  return kern(cdist(X,Xtest, metric = \"seuclidean\", V = 1/l**2),s).T\n",
      "C:\\Users\\hughw\\anaconda3\\lib\\site-packages\\numpy\\core\\fromnumeric.py:3334: RuntimeWarning: Mean of empty slice.\n",
      "  return _methods._mean(a, axis=axis, dtype=dtype,\n",
      "C:\\Users\\hughw\\anaconda3\\lib\\site-packages\\numpy\\core\\_methods.py:161: RuntimeWarning: invalid value encountered in double_scalars\n",
      "  ret = ret.dtype.type(ret / rcount)\n",
      "C:\\Users\\hughw\\Documents\\MSC project\\GP algorithms\\Master function files\\GP_funcs_ZTMFSS.py:2035: RuntimeWarning: invalid value encountered in true_divide\n",
      "  MCC[j,i]=(TP*TN-FP*FN)/np.sqrt((TP+FP)*(TP+FN)*(TN+FP)*(TN+FN))\n"
     ]
    },
    {
     "name": "stdout",
     "output_type": "stream",
     "text": [
      "run time is : 18.832486867904663\n",
      "run time is : 18.730902910232544\n",
      "run time is : 18.696994304656982\n",
      "run time is : 18.717909812927246\n",
      "run time is : 11.264870643615723\n",
      "run time is : 9.335032224655151\n",
      "run time is : 9.359968185424805\n",
      "run time is : 18.579307556152344\n",
      "run time is : 18.622193336486816\n",
      "run time is : 18.668763160705566\n"
     ]
    },
    {
     "name": "stderr",
     "output_type": "stream",
     "text": [
      "C:\\Users\\hughw\\Documents\\MSC project\\GP algorithms\\Master function files\\GP_funcs_ZTMFSS.py:55: RuntimeWarning: divide by zero encountered in true_divide\n",
      "  return kern(cdist(X,X, metric = \"seuclidean\", V = 1/l**2),s)\n",
      "C:\\Users\\hughw\\Documents\\MSC project\\GP algorithms\\Master function files\\GP_funcs_ZTMFSS.py:62: RuntimeWarning: divide by zero encountered in true_divide\n",
      "  return kern(cdist(X,Xtest, metric = \"seuclidean\", V = 1/l**2),s).T\n"
     ]
    },
    {
     "name": "stdout",
     "output_type": "stream",
     "text": [
      "RUN 16\n",
      "Runtime mean is: [ 54.08332836 174.22205469 174.16991995]\n",
      "Weighted accuracy mean is: [[0.86578947 0.86842105 0.83256579 0.54144737 0.5       ]\n",
      " [0.87664474 0.89013158 0.89144737 0.89111842 0.        ]\n",
      " [0.87269737 0.87302632 0.87335526 0.87335526 0.        ]]\n",
      "TPR mean is: [[0.92941176 0.92941176 0.71764706 0.08235294 0.        ]\n",
      " [0.85882353 0.83529412 0.82352941 0.8        0.        ]\n",
      " [0.87058824 0.87058824 0.87058824 0.87058824 0.        ]]\n",
      "PPV mean is: [[0.21970558 0.22470683 0.50614337        nan        nan]\n",
      " [0.3701557  0.58502576 0.68692598 0.77455649 0.        ]\n",
      " [0.29856943 0.29943448 0.3004041  0.3004041  0.        ]]\n",
      "MCC mean is: [[0.39528768 0.4011677  0.56222287 0.14974918 0.        ]\n",
      " [0.52051524 0.66434227 0.72095795 0.76328814 0.        ]\n",
      " [0.46783345 0.46875885 0.46972846 0.46972846 0.        ]]\n",
      "L1norm mean is: [1.99144936 1.04022826 1.16639199]\n",
      "L2norm mean is: [0.51555967 0.32620821 0.34790681]\n",
      "MSE_F mean is: [0.30366098 0.1434282  0.17525522]\n",
      "MSE_Y mean is: [0.4694177  0.39777869 0.40799279] \n",
      "\n",
      "R2= 0.6737629696200876\n",
      "data generated\n",
      "Length-scales are:  [0.1118034 0.1118034 0.1118034 0.1118034 0.1118034]\n",
      "Noise variance is:  0.013021926251460857\n",
      "Average data variance is:  1.0\n",
      "Time taken to draw data :  0.04687666893005371\n",
      "run time is : 34.390018463134766\n"
     ]
    },
    {
     "name": "stderr",
     "output_type": "stream",
     "text": [
      "C:\\Users\\hughw\\Documents\\MSC project\\GP algorithms\\Master function files\\GP_funcs_ZTMFSS.py:55: RuntimeWarning: divide by zero encountered in true_divide\n",
      "  return kern(cdist(X,X, metric = \"seuclidean\", V = 1/l**2),s)\n",
      "C:\\Users\\hughw\\Documents\\MSC project\\GP algorithms\\Master function files\\GP_funcs_ZTMFSS.py:62: RuntimeWarning: divide by zero encountered in true_divide\n",
      "  return kern(cdist(X,Xtest, metric = \"seuclidean\", V = 1/l**2),s).T\n",
      "C:\\Users\\hughw\\anaconda3\\lib\\site-packages\\numpy\\core\\fromnumeric.py:3334: RuntimeWarning: Mean of empty slice.\n",
      "  return _methods._mean(a, axis=axis, dtype=dtype,\n",
      "C:\\Users\\hughw\\anaconda3\\lib\\site-packages\\numpy\\core\\_methods.py:161: RuntimeWarning: invalid value encountered in double_scalars\n",
      "  ret = ret.dtype.type(ret / rcount)\n",
      "C:\\Users\\hughw\\Documents\\MSC project\\GP algorithms\\Master function files\\GP_funcs_ZTMFSS.py:2035: RuntimeWarning: invalid value encountered in true_divide\n",
      "  MCC[j,i]=(TP*TN-FP*FN)/np.sqrt((TP+FP)*(TP+FN)*(TN+FP)*(TN+FN))\n"
     ]
    },
    {
     "name": "stdout",
     "output_type": "stream",
     "text": [
      "run time is : 18.752148628234863\n",
      "run time is : 19.27051019668579\n",
      "run time is : 18.748907327651978\n",
      "run time is : 18.70325994491577\n",
      "run time is : 18.784351587295532\n",
      "run time is : 14.919375658035278\n",
      "run time is : 11.266863584518433\n",
      "run time is : 18.601691961288452\n",
      "run time is : 18.70109224319458\n",
      "run time is : 18.90433621406555\n"
     ]
    },
    {
     "name": "stderr",
     "output_type": "stream",
     "text": [
      "C:\\Users\\hughw\\Documents\\MSC project\\GP algorithms\\Master function files\\GP_funcs_ZTMFSS.py:55: RuntimeWarning: divide by zero encountered in true_divide\n",
      "  return kern(cdist(X,X, metric = \"seuclidean\", V = 1/l**2),s)\n",
      "C:\\Users\\hughw\\Documents\\MSC project\\GP algorithms\\Master function files\\GP_funcs_ZTMFSS.py:62: RuntimeWarning: divide by zero encountered in true_divide\n",
      "  return kern(cdist(X,Xtest, metric = \"seuclidean\", V = 1/l**2),s).T\n"
     ]
    },
    {
     "name": "stdout",
     "output_type": "stream",
     "text": [
      "RUN 17\n",
      "Runtime mean is: [ 52.99036373 174.92955048 174.89940096]\n",
      "Weighted accuracy mean is: [[0.86718266 0.86965944 0.83436533 0.53839009 0.5       ]\n",
      " [0.88390093 0.89659443 0.89783282 0.89164087 0.        ]\n",
      " [0.87863777 0.87894737 0.87925697 0.87925697 0.        ]]\n",
      "TPR mean is: [[0.93333333 0.93333333 0.73333333 0.07777778 0.        ]\n",
      " [0.86666667 0.84444444 0.83333333 0.81111111 0.        ]\n",
      " [0.87777778 0.87777778 0.87777778 0.87777778 0.        ]]\n",
      "PPV mean is: [[0.21675897 0.22148238 0.50117244        nan        nan]\n",
      " [0.37484402 0.59220687 0.68844597 0.78708113 0.        ]\n",
      " [0.30182351 0.3026405  0.30355626 0.30355626 0.        ]]\n",
      "MCC mean is: [[0.39279605 0.3983494  0.56550275 0.14142978 0.        ]\n",
      " [0.52785117 0.67389051 0.72736087 0.77643879 0.        ]\n",
      " [0.47343171 0.47430569 0.47522144 0.47522144 0.        ]]\n",
      "L1norm mean is: [2.03476276 1.04977808 1.1772277 ]\n",
      "L2norm mean is: [0.52100453 0.33094837 0.35263413]\n",
      "MSE_F mean is: [0.31423036 0.14781396 0.18104899]\n",
      "MSE_Y mean is: [0.46463197 0.39364447 0.40350242] \n",
      "\n",
      "R2= 0.6677520369209993\n",
      "data generated\n",
      "Length-scales are:  [0.1118034 0.1118034 0.1118034 0.1118034 0.1118034]\n",
      "Noise variance is:  0.03972120775167375\n",
      "Average data variance is:  1.0\n",
      "Time taken to draw data :  0.04288506507873535\n",
      "run time is : 62.97431564331055\n"
     ]
    },
    {
     "name": "stderr",
     "output_type": "stream",
     "text": [
      "C:\\Users\\hughw\\Documents\\MSC project\\GP algorithms\\Master function files\\GP_funcs_ZTMFSS.py:55: RuntimeWarning: divide by zero encountered in true_divide\n",
      "  return kern(cdist(X,X, metric = \"seuclidean\", V = 1/l**2),s)\n",
      "C:\\Users\\hughw\\Documents\\MSC project\\GP algorithms\\Master function files\\GP_funcs_ZTMFSS.py:62: RuntimeWarning: divide by zero encountered in true_divide\n",
      "  return kern(cdist(X,Xtest, metric = \"seuclidean\", V = 1/l**2),s).T\n",
      "C:\\Users\\hughw\\anaconda3\\lib\\site-packages\\numpy\\core\\fromnumeric.py:3334: RuntimeWarning: Mean of empty slice.\n",
      "  return _methods._mean(a, axis=axis, dtype=dtype,\n",
      "C:\\Users\\hughw\\anaconda3\\lib\\site-packages\\numpy\\core\\_methods.py:161: RuntimeWarning: invalid value encountered in double_scalars\n",
      "  ret = ret.dtype.type(ret / rcount)\n",
      "C:\\Users\\hughw\\Documents\\MSC project\\GP algorithms\\Master function files\\GP_funcs_ZTMFSS.py:2035: RuntimeWarning: invalid value encountered in true_divide\n",
      "  MCC[j,i]=(TP*TN-FP*FN)/np.sqrt((TP+FP)*(TP+FN)*(TN+FP)*(TN+FN))\n"
     ]
    },
    {
     "name": "stdout",
     "output_type": "stream",
     "text": [
      "run time is : 18.588281393051147\n",
      "run time is : 18.506502151489258\n",
      "run time is : 14.863082885742188\n",
      "run time is : 19.29938292503357\n",
      "run time is : 13.049706935882568\n",
      "run time is : 14.752655982971191\n",
      "run time is : 9.292145490646362\n",
      "run time is : 18.334960222244263\n",
      "run time is : 18.439680576324463\n"
     ]
    },
    {
     "name": "stderr",
     "output_type": "stream",
     "text": [
      "C:\\Users\\hughw\\Documents\\MSC project\\GP algorithms\\Master function files\\GP_funcs_ZTMFSS.py:55: RuntimeWarning: divide by zero encountered in true_divide\n",
      "  return kern(cdist(X,X, metric = \"seuclidean\", V = 1/l**2),s)\n",
      "C:\\Users\\hughw\\Documents\\MSC project\\GP algorithms\\Master function files\\GP_funcs_ZTMFSS.py:62: RuntimeWarning: divide by zero encountered in true_divide\n",
      "  return kern(cdist(X,Xtest, metric = \"seuclidean\", V = 1/l**2),s).T\n"
     ]
    },
    {
     "name": "stdout",
     "output_type": "stream",
     "text": [
      "RUN 18\n",
      "Runtime mean is: [ 53.5168864  173.90713458 173.86802129]\n",
      "Weighted accuracy mean is: [[0.86725146 0.86959064 0.84152047 0.53625731 0.5       ]\n",
      " [0.88859649 0.90175439 0.90292398 0.89766082 0.        ]\n",
      " [0.88274854 0.88304094 0.88333333 0.88333333 0.        ]]\n",
      "TPR mean is: [[0.92631579 0.92631579 0.73684211 0.07368421 0.        ]\n",
      " [0.86315789 0.84210526 0.83157895 0.81052632 0.        ]\n",
      " [0.87368421 0.87368421 0.87368421 0.87368421 0.        ]]\n",
      "PPV mean is: [[0.2128694  0.21734421 0.49584757        nan        nan]\n",
      " [0.37425414 0.59111327 0.68228716 0.79828739 0.        ]\n",
      " [0.30213239 0.30290639 0.30377394 0.30377394 0.        ]]\n",
      "MCC mean is: [[0.38610645 0.39136752 0.56391331 0.13277257 0.        ]\n",
      " [0.52669685 0.67296892 0.72362505 0.78240289 0.        ]\n",
      " [0.47256968 0.47339767 0.47426521 0.47426521 0.        ]]\n",
      "L1norm mean is: [2.05791604 1.03531312 1.16047047]\n",
      "L2norm mean is: [0.52573942 0.32543978 0.34786613]\n",
      "MSE_F mean is: [0.3115079  0.14665423 0.17957576]\n",
      "MSE_Y mean is: [0.46722055 0.39362111 0.40354299] \n",
      "\n",
      "R2= 0.6574843035362838\n",
      "data generated\n",
      "Length-scales are:  [0.1118034 0.1118034 0.1118034 0.1118034 0.1118034]\n",
      "Noise variance is:  0.00931039846477869\n",
      "Average data variance is:  1.0\n",
      "Time taken to draw data :  0.04686927795410156\n",
      "run time is : 33.22632718086243\n"
     ]
    },
    {
     "name": "stderr",
     "output_type": "stream",
     "text": [
      "C:\\Users\\hughw\\Documents\\MSC project\\GP algorithms\\Master function files\\GP_funcs_ZTMFSS.py:55: RuntimeWarning: divide by zero encountered in true_divide\n",
      "  return kern(cdist(X,X, metric = \"seuclidean\", V = 1/l**2),s)\n",
      "C:\\Users\\hughw\\Documents\\MSC project\\GP algorithms\\Master function files\\GP_funcs_ZTMFSS.py:62: RuntimeWarning: divide by zero encountered in true_divide\n",
      "  return kern(cdist(X,Xtest, metric = \"seuclidean\", V = 1/l**2),s).T\n",
      "C:\\Users\\hughw\\anaconda3\\lib\\site-packages\\numpy\\core\\fromnumeric.py:3334: RuntimeWarning: Mean of empty slice.\n",
      "  return _methods._mean(a, axis=axis, dtype=dtype,\n",
      "C:\\Users\\hughw\\anaconda3\\lib\\site-packages\\numpy\\core\\_methods.py:161: RuntimeWarning: invalid value encountered in double_scalars\n",
      "  ret = ret.dtype.type(ret / rcount)\n",
      "C:\\Users\\hughw\\Documents\\MSC project\\GP algorithms\\Master function files\\GP_funcs_ZTMFSS.py:2035: RuntimeWarning: invalid value encountered in true_divide\n",
      "  MCC[j,i]=(TP*TN-FP*FN)/np.sqrt((TP+FP)*(TP+FN)*(TN+FP)*(TN+FN))\n"
     ]
    },
    {
     "name": "stdout",
     "output_type": "stream",
     "text": [
      "run time is : 18.668708562850952\n",
      "run time is : 18.621193408966064\n",
      "run time is : 18.43811821937561\n",
      "run time is : 18.772449254989624\n",
      "run time is : 18.758411645889282\n",
      "run time is : 14.874258041381836\n",
      "run time is : 16.82475733757019\n",
      "run time is : 14.801313877105713\n",
      "run time is : 18.56487274169922\n"
     ]
    },
    {
     "name": "stderr",
     "output_type": "stream",
     "text": [
      "C:\\Users\\hughw\\Documents\\MSC project\\GP algorithms\\Master function files\\GP_funcs_ZTMFSS.py:55: RuntimeWarning: divide by zero encountered in true_divide\n",
      "  return kern(cdist(X,X, metric = \"seuclidean\", V = 1/l**2),s)\n",
      "C:\\Users\\hughw\\Documents\\MSC project\\GP algorithms\\Master function files\\GP_funcs_ZTMFSS.py:62: RuntimeWarning: divide by zero encountered in true_divide\n",
      "  return kern(cdist(X,Xtest, metric = \"seuclidean\", V = 1/l**2),s).T\n"
     ]
    },
    {
     "name": "stdout",
     "output_type": "stream",
     "text": [
      "RUN 19\n",
      "Runtime mean is: [ 52.50355523 173.6520312  173.60425198]\n",
      "Weighted accuracy mean is: [[0.86232687 0.86454294 0.84293629 0.53407202 0.5       ]\n",
      " [0.88725762 0.90083102 0.90193906 0.89778393 0.        ]\n",
      " [0.88116343 0.88144044 0.88171745 0.88171745 0.        ]]\n",
      "TPR mean is: [[0.93 0.93 0.74 0.08 0.  ]\n",
      " [0.87 0.85 0.84 0.82 0.  ]\n",
      " [0.88 0.88 0.88 0.88 0.  ]]\n",
      "PPV mean is: [[0.21693181 0.22118288 0.49605519        nan        nan]\n",
      " [0.37339858 0.58655761 0.67595058 0.78615079 0.        ]\n",
      " [0.30265078 0.30338607 0.30421025 0.30421025 0.        ]]\n",
      "MCC mean is: [[0.39214703 0.39714505 0.5661606  0.14803824 0.        ]\n",
      " [0.52879211 0.67373283 0.72391858 0.77975752 0.        ]\n",
      " [0.47522407 0.47601066 0.47683483 0.47683483 0.        ]]\n",
      "L1norm mean is: [2.02751631 1.03909291 1.17482466]\n",
      "L2norm mean is: [0.52107295 0.32579769 0.35174199]\n",
      "MSE_F mean is: [0.31363804 0.148842   0.18780665]\n",
      "MSE_Y mean is: [0.46940383 0.39655659 0.40687368] \n",
      "\n",
      "R2= 0.6566768531325978\n",
      "data generated\n",
      "Length-scales are:  [0.1118034 0.1118034 0.1118034 0.1118034 0.1118034]\n",
      "Noise variance is:  0.048120794104604334\n",
      "Average data variance is:  1.0\n",
      "Time taken to draw data :  0.05186033248901367\n",
      "run time is : 54.84032392501831\n"
     ]
    },
    {
     "name": "stderr",
     "output_type": "stream",
     "text": [
      "C:\\Users\\hughw\\Documents\\MSC project\\GP algorithms\\Master function files\\GP_funcs_ZTMFSS.py:55: RuntimeWarning: divide by zero encountered in true_divide\n",
      "  return kern(cdist(X,X, metric = \"seuclidean\", V = 1/l**2),s)\n",
      "C:\\Users\\hughw\\Documents\\MSC project\\GP algorithms\\Master function files\\GP_funcs_ZTMFSS.py:62: RuntimeWarning: divide by zero encountered in true_divide\n",
      "  return kern(cdist(X,Xtest, metric = \"seuclidean\", V = 1/l**2),s).T\n",
      "C:\\Users\\hughw\\anaconda3\\lib\\site-packages\\numpy\\core\\fromnumeric.py:3334: RuntimeWarning: Mean of empty slice.\n",
      "  return _methods._mean(a, axis=axis, dtype=dtype,\n",
      "C:\\Users\\hughw\\anaconda3\\lib\\site-packages\\numpy\\core\\_methods.py:161: RuntimeWarning: invalid value encountered in double_scalars\n",
      "  ret = ret.dtype.type(ret / rcount)\n",
      "C:\\Users\\hughw\\Documents\\MSC project\\GP algorithms\\Master function files\\GP_funcs_ZTMFSS.py:2035: RuntimeWarning: invalid value encountered in true_divide\n",
      "  MCC[j,i]=(TP*TN-FP*FN)/np.sqrt((TP+FP)*(TP+FN)*(TN+FP)*(TN+FN))\n"
     ]
    },
    {
     "name": "stdout",
     "output_type": "stream",
     "text": [
      "run time is : 18.471202850341797\n",
      "run time is : 18.547231912612915\n",
      "run time is : 16.726853370666504\n",
      "run time is : 16.755828142166138\n",
      "run time is : 9.348316669464111\n",
      "run time is : 11.144227504730225\n",
      "run time is : 9.35298204421997\n",
      "run time is : 18.449079990386963\n",
      "run time is : 18.673754692077637\n"
     ]
    },
    {
     "name": "stderr",
     "output_type": "stream",
     "text": [
      "C:\\Users\\hughw\\Documents\\MSC project\\GP algorithms\\Master function files\\GP_funcs_ZTMFSS.py:55: RuntimeWarning: divide by zero encountered in true_divide\n",
      "  return kern(cdist(X,X, metric = \"seuclidean\", V = 1/l**2),s)\n",
      "C:\\Users\\hughw\\Documents\\MSC project\\GP algorithms\\Master function files\\GP_funcs_ZTMFSS.py:62: RuntimeWarning: divide by zero encountered in true_divide\n",
      "  return kern(cdist(X,Xtest, metric = \"seuclidean\", V = 1/l**2),s).T\n"
     ]
    },
    {
     "name": "stdout",
     "output_type": "stream",
     "text": [
      "RUN 20\n",
      "Runtime mean is: [ 52.61582728 172.37775868 172.34892442]\n",
      "Weighted accuracy mean is: [[0.86605263 0.86815789 0.84473684 0.53736842 0.5       ]\n",
      " [0.89052632 0.90447368 0.90578947 0.90184211 0.        ]\n",
      " [0.88421053 0.88447368 0.88473684 0.88473684 0.        ]]\n",
      "TPR mean is: [[0.93333333 0.93333333 0.75238095 0.08571429 0.        ]\n",
      " [0.87619048 0.85714286 0.84761905 0.82857143 0.        ]\n",
      " [0.88571429 0.88571429 0.88571429 0.88571429 0.        ]]\n",
      "PPV mean is: [[0.22360853 0.22765716 0.49888855        nan        nan]\n",
      " [0.3896313  0.60624534 0.6913815  0.79633409 0.        ]\n",
      " [0.31469386 0.31539414 0.31617907 0.31617907 0.        ]]\n",
      "MCC mean is: [[0.40054965 0.40530967 0.57393846 0.16185003 0.        ]\n",
      " [0.54343108 0.68926937 0.73706531 0.79024526 0.        ]\n",
      " [0.48733223 0.48808136 0.48886629 0.48886629 0.        ]]\n",
      "L1norm mean is: [1.9934696  1.0156466  1.14931671]\n",
      "L2norm mean is: [0.51566189 0.32034885 0.34574001]\n",
      "MSE_F mean is: [0.30568997 0.14557123 0.18386011]\n",
      "MSE_Y mean is: [0.46300528 0.3921815  0.40265792] \n",
      "\n",
      "R2= 0.662466728266252\n",
      "data generated\n",
      "Length-scales are:  [0.1118034 0.1118034 0.1118034 0.1118034 0.1118034]\n",
      "Noise variance is:  0.020888829177460905\n",
      "Average data variance is:  1.0\n",
      "Time taken to draw data :  0.04587864875793457\n",
      "run time is : 33.48502707481384\n"
     ]
    },
    {
     "name": "stderr",
     "output_type": "stream",
     "text": [
      "C:\\Users\\hughw\\Documents\\MSC project\\GP algorithms\\Master function files\\GP_funcs_ZTMFSS.py:55: RuntimeWarning: divide by zero encountered in true_divide\n",
      "  return kern(cdist(X,X, metric = \"seuclidean\", V = 1/l**2),s)\n",
      "C:\\Users\\hughw\\Documents\\MSC project\\GP algorithms\\Master function files\\GP_funcs_ZTMFSS.py:62: RuntimeWarning: divide by zero encountered in true_divide\n",
      "  return kern(cdist(X,Xtest, metric = \"seuclidean\", V = 1/l**2),s).T\n",
      "C:\\Users\\hughw\\anaconda3\\lib\\site-packages\\numpy\\core\\fromnumeric.py:3334: RuntimeWarning: Mean of empty slice.\n",
      "  return _methods._mean(a, axis=axis, dtype=dtype,\n",
      "C:\\Users\\hughw\\anaconda3\\lib\\site-packages\\numpy\\core\\_methods.py:161: RuntimeWarning: invalid value encountered in double_scalars\n",
      "  ret = ret.dtype.type(ret / rcount)\n",
      "C:\\Users\\hughw\\Documents\\MSC project\\GP algorithms\\Master function files\\GP_funcs_ZTMFSS.py:2035: RuntimeWarning: invalid value encountered in true_divide\n",
      "  MCC[j,i]=(TP*TN-FP*FN)/np.sqrt((TP+FP)*(TP+FN)*(TN+FP)*(TN+FN))\n"
     ]
    },
    {
     "name": "stdout",
     "output_type": "stream",
     "text": [
      "run time is : 18.585291862487793\n",
      "run time is : 18.491011381149292\n",
      "run time is : 18.570902347564697\n",
      "run time is : 18.69677448272705\n",
      "run time is : 12.922456979751587\n",
      "run time is : 16.65545153617859\n",
      "run time is : 13.041414022445679\n",
      "run time is : 18.588706254959106\n",
      "run time is : 18.646170139312744\n",
      "run time is : 18.622191190719604\n"
     ]
    },
    {
     "name": "stderr",
     "output_type": "stream",
     "text": [
      "C:\\Users\\hughw\\Documents\\MSC project\\GP algorithms\\Master function files\\GP_funcs_ZTMFSS.py:55: RuntimeWarning: divide by zero encountered in true_divide\n",
      "  return kern(cdist(X,X, metric = \"seuclidean\", V = 1/l**2),s)\n",
      "C:\\Users\\hughw\\Documents\\MSC project\\GP algorithms\\Master function files\\GP_funcs_ZTMFSS.py:62: RuntimeWarning: divide by zero encountered in true_divide\n",
      "  return kern(cdist(X,Xtest, metric = \"seuclidean\", V = 1/l**2),s).T\n"
     ]
    },
    {
     "name": "stdout",
     "output_type": "stream",
     "text": [
      "RUN 21\n",
      "Runtime mean is: [ 51.74724272 172.88548406 172.85932035]\n",
      "Weighted accuracy mean is: [[0.87017544 0.87218045 0.85112782 0.54035088 0.5       ]\n",
      " [0.8952381  0.90902256 0.91027569 0.90651629 0.        ]\n",
      " [0.8887218  0.88897243 0.88922306 0.88922306 0.        ]]\n",
      "TPR mean is: [[0.92727273 0.92727273 0.75454545 0.09090909 0.        ]\n",
      " [0.88181818 0.86363636 0.85454545 0.83636364 0.        ]\n",
      " [0.89090909 0.89090909 0.89090909 0.89090909 0.        ]]\n",
      "PPV mean is: [[0.21863931 0.22250391 0.48578117        nan        nan]\n",
      " [0.38815455 0.60709783 0.68836416 0.79801587 0.        ]\n",
      " [0.3112121  0.31188055 0.3126298  0.3126298  0.        ]]\n",
      "MCC mean is: [[0.3921812  0.39672486 0.56406512 0.16790062 0.        ]\n",
      " [0.54457521 0.69330197 0.73892537 0.79560018 0.        ]\n",
      " [0.48540651 0.48612159 0.48687083 0.48687083 0.        ]]\n",
      "L1norm mean is: [2.11258232 1.02103023 1.16363837]\n",
      "L2norm mean is: [0.53851037 0.32244668 0.34874021]\n",
      "MSE_F mean is: [0.32204969 0.14831831 0.19113894]\n",
      "MSE_Y mean is: [0.47942166 0.39458922 0.4056218 ] \n",
      "\n",
      "R2= 0.6561282883682557\n",
      "data generated\n",
      "Length-scales are:  [0.1118034 0.1118034 0.1118034 0.1118034 0.1118034]\n",
      "Noise variance is:  0.028287582813837964\n",
      "Average data variance is:  1.0\n",
      "Time taken to draw data :  0.04687643051147461\n",
      "run time is : 47.88461375236511\n"
     ]
    },
    {
     "name": "stderr",
     "output_type": "stream",
     "text": [
      "C:\\Users\\hughw\\Documents\\MSC project\\GP algorithms\\Master function files\\GP_funcs_ZTMFSS.py:55: RuntimeWarning: divide by zero encountered in true_divide\n",
      "  return kern(cdist(X,X, metric = \"seuclidean\", V = 1/l**2),s)\n",
      "C:\\Users\\hughw\\Documents\\MSC project\\GP algorithms\\Master function files\\GP_funcs_ZTMFSS.py:62: RuntimeWarning: divide by zero encountered in true_divide\n",
      "  return kern(cdist(X,Xtest, metric = \"seuclidean\", V = 1/l**2),s).T\n",
      "C:\\Users\\hughw\\anaconda3\\lib\\site-packages\\numpy\\core\\fromnumeric.py:3334: RuntimeWarning: Mean of empty slice.\n",
      "  return _methods._mean(a, axis=axis, dtype=dtype,\n",
      "C:\\Users\\hughw\\anaconda3\\lib\\site-packages\\numpy\\core\\_methods.py:161: RuntimeWarning: invalid value encountered in double_scalars\n",
      "  ret = ret.dtype.type(ret / rcount)\n",
      "C:\\Users\\hughw\\Documents\\MSC project\\GP algorithms\\Master function files\\GP_funcs_ZTMFSS.py:2035: RuntimeWarning: invalid value encountered in true_divide\n",
      "  MCC[j,i]=(TP*TN-FP*FN)/np.sqrt((TP+FP)*(TP+FN)*(TN+FP)*(TN+FN))\n"
     ]
    },
    {
     "name": "stdout",
     "output_type": "stream",
     "text": [
      "run time is : 18.769208431243896\n",
      "run time is : 18.64741015434265\n",
      "run time is : 18.678043127059937\n",
      "run time is : 12.997237205505371\n",
      "run time is : 18.591322660446167\n",
      "run time is : 14.753540277481079\n",
      "run time is : 9.30614972114563\n",
      "run time is : 18.562784910202026\n",
      "run time is : 18.662134408950806\n"
     ]
    },
    {
     "name": "stderr",
     "output_type": "stream",
     "text": [
      "C:\\Users\\hughw\\Documents\\MSC project\\GP algorithms\\Master function files\\GP_funcs_ZTMFSS.py:55: RuntimeWarning: divide by zero encountered in true_divide\n",
      "  return kern(cdist(X,X, metric = \"seuclidean\", V = 1/l**2),s)\n",
      "C:\\Users\\hughw\\Documents\\MSC project\\GP algorithms\\Master function files\\GP_funcs_ZTMFSS.py:62: RuntimeWarning: divide by zero encountered in true_divide\n",
      "  return kern(cdist(X,Xtest, metric = \"seuclidean\", V = 1/l**2),s).T\n"
     ]
    },
    {
     "name": "stdout",
     "output_type": "stream",
     "text": [
      "RUN 22\n",
      "Runtime mean is: [ 51.58008283 172.27561123 172.25130704]\n",
      "Weighted accuracy mean is: [[0.86411483 0.86602871 0.84976077 0.54282297 0.5       ]\n",
      " [0.89784689 0.91244019 0.91363636 0.91052632 0.        ]\n",
      " [0.88995215 0.89019139 0.89043062 0.89043062 0.        ]]\n",
      "TPR mean is: [[0.93043478 0.93043478 0.75652174 0.08695652 0.        ]\n",
      " [0.87826087 0.86086957 0.85217391 0.83478261 0.        ]\n",
      " [0.88695652 0.88695652 0.88695652 0.88695652 0.        ]]\n",
      "PPV mean is: [[0.21552712 0.21922369 0.4733559         nan        nan]\n",
      " [0.38866957 0.60554699 0.68328001 0.80679779 0.        ]\n",
      " [0.31507245 0.31571183 0.31642851 0.31642851 0.        ]]\n",
      "MCC mean is: [[0.38902706 0.39337317 0.55450245 0.15917565 0.        ]\n",
      " [0.54417209 0.69169668 0.73533646 0.79969394 0.        ]\n",
      " [0.48757594 0.48825993 0.4889766  0.4889766  0.        ]]\n",
      "L1norm mean is: [2.21702294 1.00243419 1.13967814]\n",
      "L2norm mean is: [0.55976836 0.3169978  0.34263522]\n",
      "MSE_F mean is: [0.32731326 0.14915049 0.18915973]\n",
      "MSE_Y mean is: [0.48990247 0.39840424 0.40873759] \n",
      "\n",
      "R2= 0.6857305873693424\n",
      "data generated\n",
      "Length-scales are:  [0.1118034 0.1118034 0.1118034 0.1118034 0.1118034]\n",
      "Noise variance is:  0.0022032914982208058\n",
      "Average data variance is:  1.0\n",
      "Time taken to draw data :  0.05285906791687012\n",
      "run time is : 47.68600630760193\n"
     ]
    },
    {
     "name": "stderr",
     "output_type": "stream",
     "text": [
      "C:\\Users\\hughw\\Documents\\MSC project\\GP algorithms\\Master function files\\GP_funcs_ZTMFSS.py:55: RuntimeWarning: divide by zero encountered in true_divide\n",
      "  return kern(cdist(X,X, metric = \"seuclidean\", V = 1/l**2),s)\n",
      "C:\\Users\\hughw\\Documents\\MSC project\\GP algorithms\\Master function files\\GP_funcs_ZTMFSS.py:62: RuntimeWarning: divide by zero encountered in true_divide\n",
      "  return kern(cdist(X,Xtest, metric = \"seuclidean\", V = 1/l**2),s).T\n",
      "C:\\Users\\hughw\\anaconda3\\lib\\site-packages\\numpy\\core\\fromnumeric.py:3334: RuntimeWarning: Mean of empty slice.\n",
      "  return _methods._mean(a, axis=axis, dtype=dtype,\n",
      "C:\\Users\\hughw\\anaconda3\\lib\\site-packages\\numpy\\core\\_methods.py:161: RuntimeWarning: invalid value encountered in double_scalars\n",
      "  ret = ret.dtype.type(ret / rcount)\n",
      "C:\\Users\\hughw\\Documents\\MSC project\\GP algorithms\\Master function files\\GP_funcs_ZTMFSS.py:2035: RuntimeWarning: invalid value encountered in true_divide\n",
      "  MCC[j,i]=(TP*TN-FP*FN)/np.sqrt((TP+FP)*(TP+FN)*(TN+FP)*(TN+FN))\n"
     ]
    },
    {
     "name": "stdout",
     "output_type": "stream",
     "text": [
      "run time is : 18.476593732833862\n",
      "run time is : 18.569918394088745\n",
      "run time is : 18.5648775100708\n",
      "run time is : 18.59227204322815\n",
      "run time is : 14.81796383857727\n",
      "run time is : 13.043112516403198\n",
      "run time is : 11.157486200332642\n",
      "run time is : 9.17011284828186\n",
      "run time is : 18.579899072647095\n",
      "run time is : 18.632121324539185\n"
     ]
    },
    {
     "name": "stderr",
     "output_type": "stream",
     "text": [
      "C:\\Users\\hughw\\Documents\\MSC project\\GP algorithms\\Master function files\\GP_funcs_ZTMFSS.py:55: RuntimeWarning: divide by zero encountered in true_divide\n",
      "  return kern(cdist(X,X, metric = \"seuclidean\", V = 1/l**2),s)\n",
      "C:\\Users\\hughw\\Documents\\MSC project\\GP algorithms\\Master function files\\GP_funcs_ZTMFSS.py:62: RuntimeWarning: divide by zero encountered in true_divide\n",
      "  return kern(cdist(X,Xtest, metric = \"seuclidean\", V = 1/l**2),s).T\n"
     ]
    },
    {
     "name": "stdout",
     "output_type": "stream",
     "text": [
      "RUN 23\n",
      "Runtime mean is: [ 51.41878542 172.17425138 172.16043213]\n",
      "Weighted accuracy mean is: [[0.86338673 0.86521739 0.84828375 0.54050343 0.5       ]\n",
      " [0.89656751 0.91121281 0.91235698 0.91006865 0.        ]\n",
      " [0.88901602 0.88924485 0.88947368 0.88947368 0.        ]]\n",
      "TPR mean is: [[0.93333333 0.93333333 0.76666667 0.1        0.        ]\n",
      " [0.88333333 0.86666667 0.85833333 0.84166667 0.        ]\n",
      " [0.89166667 0.89166667 0.89166667 0.89166667 0.        ]]\n",
      "PPV mean is: [[0.21426287 0.21780542 0.47967441        nan        nan]\n",
      " [0.3914144  0.61503809 0.69647667 0.81484788 0.        ]\n",
      " [0.32088382 0.32149657 0.32218338 0.32218338 0.        ]]\n",
      "MCC mean is: [[0.38853539 0.39270041 0.56381429 0.17848916 0.        ]\n",
      " [0.54868834 0.70071155 0.7463641  0.80804002 0.        ]\n",
      " [0.49445036 0.49510585 0.49579266 0.49579266 0.        ]]\n",
      "L1norm mean is: [2.22438975 1.01108486 1.14390062]\n",
      "L2norm mean is: [0.55943082 0.32144399 0.34623636]\n",
      "MSE_F mean is: [0.32901938 0.15024528 0.18994966]\n",
      "MSE_Y mean is: [0.49017389 0.39686688 0.40706181] \n",
      "\n",
      "R2= 0.6742361310048669\n",
      "data generated\n",
      "Length-scales are:  [0.1118034 0.1118034 0.1118034 0.1118034 0.1118034]\n",
      "Noise variance is:  0.02038945159263472\n",
      "Average data variance is:  1.0\n",
      "Time taken to draw data :  0.04886889457702637\n",
      "run time is : 54.57056665420532\n"
     ]
    },
    {
     "name": "stderr",
     "output_type": "stream",
     "text": [
      "C:\\Users\\hughw\\Documents\\MSC project\\GP algorithms\\Master function files\\GP_funcs_ZTMFSS.py:55: RuntimeWarning: divide by zero encountered in true_divide\n",
      "  return kern(cdist(X,X, metric = \"seuclidean\", V = 1/l**2),s)\n",
      "C:\\Users\\hughw\\Documents\\MSC project\\GP algorithms\\Master function files\\GP_funcs_ZTMFSS.py:62: RuntimeWarning: divide by zero encountered in true_divide\n",
      "  return kern(cdist(X,Xtest, metric = \"seuclidean\", V = 1/l**2),s).T\n",
      "C:\\Users\\hughw\\anaconda3\\lib\\site-packages\\numpy\\core\\fromnumeric.py:3334: RuntimeWarning: Mean of empty slice.\n",
      "  return _methods._mean(a, axis=axis, dtype=dtype,\n",
      "C:\\Users\\hughw\\anaconda3\\lib\\site-packages\\numpy\\core\\_methods.py:161: RuntimeWarning: invalid value encountered in double_scalars\n",
      "  ret = ret.dtype.type(ret / rcount)\n",
      "C:\\Users\\hughw\\Documents\\MSC project\\GP algorithms\\Master function files\\GP_funcs_ZTMFSS.py:2035: RuntimeWarning: invalid value encountered in true_divide\n",
      "  MCC[j,i]=(TP*TN-FP*FN)/np.sqrt((TP+FP)*(TP+FN)*(TN+FP)*(TN+FN))\n"
     ]
    },
    {
     "name": "stdout",
     "output_type": "stream",
     "text": [
      "run time is : 18.513309478759766\n",
      "run time is : 12.9563467502594\n",
      "run time is : 13.013256072998047\n",
      "run time is : 18.446839809417725\n",
      "run time is : 12.853427171707153\n",
      "run time is : 9.230311393737793\n",
      "run time is : 12.852018594741821\n",
      "run time is : 18.511791706085205\n",
      "run time is : 18.41167449951172\n",
      "run time is : 18.503509759902954\n"
     ]
    },
    {
     "name": "stderr",
     "output_type": "stream",
     "text": [
      "C:\\Users\\hughw\\Documents\\MSC project\\GP algorithms\\Master function files\\GP_funcs_ZTMFSS.py:55: RuntimeWarning: divide by zero encountered in true_divide\n",
      "  return kern(cdist(X,X, metric = \"seuclidean\", V = 1/l**2),s)\n",
      "C:\\Users\\hughw\\Documents\\MSC project\\GP algorithms\\Master function files\\GP_funcs_ZTMFSS.py:62: RuntimeWarning: divide by zero encountered in true_divide\n",
      "  return kern(cdist(X,Xtest, metric = \"seuclidean\", V = 1/l**2),s).T\n"
     ]
    },
    {
     "name": "stdout",
     "output_type": "stream",
     "text": [
      "RUN 24\n",
      "Runtime mean is: [ 51.54573394 171.81025428 171.79670859]\n",
      "Weighted accuracy mean is: [[0.86425439 0.86600877 0.85394737 0.54714912 0.5       ]\n",
      " [0.8995614  0.91469298 0.91600877 0.91381579 0.        ]\n",
      " [0.89232456 0.89254386 0.89276316 0.89276316 0.        ]]\n",
      "TPR mean is: [[0.928 0.928 0.76  0.112 0.   ]\n",
      " [0.88  0.864 0.856 0.84  0.   ]\n",
      " [0.888 0.888 0.888 0.888 0.   ]]\n",
      "PPV mean is: [[0.21140664 0.21501913 0.46905886        nan        nan]\n",
      " [0.39575782 0.61710323 0.69528427 0.82225397 0.        ]\n",
      " [0.32804847 0.32863671 0.32929605 0.32929605 0.        ]]\n",
      "MCC mean is: [[0.38362172 0.38794748 0.55342716 0.18820814 0.        ]\n",
      " [0.55109517 0.70127712 0.74510357 0.81130868 0.        ]\n",
      " [0.49902671 0.49965598 0.50031532 0.50031532 0.        ]]\n",
      "L1norm mean is: [2.28486734 1.0071818  1.13500235]\n",
      "L2norm mean is: [0.57543057 0.32283171 0.3466126 ]\n",
      "MSE_F mean is: [0.32942622 0.1506652  0.18920702]\n",
      "MSE_Y mean is: [0.49143776 0.39526652 0.40520504] \n",
      "\n",
      "R2= 0.665275936465014\n",
      "data generated\n",
      "Length-scales are:  [0.1118034 0.1118034 0.1118034 0.1118034 0.1118034]\n",
      "Noise variance is:  0.027943608170301865\n",
      "Average data variance is:  1.0\n",
      "Time taken to draw data :  0.04986691474914551\n",
      "run time is : 62.61045241355896\n"
     ]
    },
    {
     "name": "stderr",
     "output_type": "stream",
     "text": [
      "C:\\Users\\hughw\\Documents\\MSC project\\GP algorithms\\Master function files\\GP_funcs_ZTMFSS.py:55: RuntimeWarning: divide by zero encountered in true_divide\n",
      "  return kern(cdist(X,X, metric = \"seuclidean\", V = 1/l**2),s)\n",
      "C:\\Users\\hughw\\Documents\\MSC project\\GP algorithms\\Master function files\\GP_funcs_ZTMFSS.py:62: RuntimeWarning: divide by zero encountered in true_divide\n",
      "  return kern(cdist(X,Xtest, metric = \"seuclidean\", V = 1/l**2),s).T\n",
      "C:\\Users\\hughw\\anaconda3\\lib\\site-packages\\numpy\\core\\fromnumeric.py:3334: RuntimeWarning: Mean of empty slice.\n",
      "  return _methods._mean(a, axis=axis, dtype=dtype,\n",
      "C:\\Users\\hughw\\anaconda3\\lib\\site-packages\\numpy\\core\\_methods.py:161: RuntimeWarning: invalid value encountered in double_scalars\n",
      "  ret = ret.dtype.type(ret / rcount)\n",
      "C:\\Users\\hughw\\Documents\\MSC project\\GP algorithms\\Master function files\\GP_funcs_ZTMFSS.py:2035: RuntimeWarning: invalid value encountered in true_divide\n",
      "  MCC[j,i]=(TP*TN-FP*FN)/np.sqrt((TP+FP)*(TP+FN)*(TN+FP)*(TN+FN))\n"
     ]
    },
    {
     "name": "stdout",
     "output_type": "stream",
     "text": [
      "run time is : 18.80271315574646\n",
      "run time is : 18.609732627868652\n",
      "run time is : 18.612299919128418\n",
      "run time is : 18.534393548965454\n",
      "run time is : 18.506810188293457\n",
      "run time is : 18.40193223953247\n",
      "run time is : 18.52662706375122\n",
      "run time is : 18.534785985946655\n",
      "run time is : 18.46016263961792\n",
      "run time is : 18.70616340637207\n"
     ]
    },
    {
     "name": "stderr",
     "output_type": "stream",
     "text": [
      "C:\\Users\\hughw\\Documents\\MSC project\\GP algorithms\\Master function files\\GP_funcs_ZTMFSS.py:55: RuntimeWarning: divide by zero encountered in true_divide\n",
      "  return kern(cdist(X,X, metric = \"seuclidean\", V = 1/l**2),s)\n",
      "C:\\Users\\hughw\\Documents\\MSC project\\GP algorithms\\Master function files\\GP_funcs_ZTMFSS.py:62: RuntimeWarning: divide by zero encountered in true_divide\n",
      "  return kern(cdist(X,Xtest, metric = \"seuclidean\", V = 1/l**2),s).T\n"
     ]
    },
    {
     "name": "stdout",
     "output_type": "stream",
     "text": [
      "RUN 25\n",
      "Runtime mean is: [ 51.97214392 172.79064096 172.78583623]\n",
      "Weighted accuracy mean is: [[0.86063158 0.86252632 0.84947368 0.55284211 0.5       ]\n",
      " [0.89873684 0.91368421 0.91494737 0.91326316 0.        ]\n",
      " [0.89178947 0.892      0.89221053 0.89221053 0.        ]]\n",
      "TPR mean is: [[0.93076923 0.93076923 0.76153846 0.10769231 0.        ]\n",
      " [0.87692308 0.86153846 0.85384615 0.83846154 0.        ]\n",
      " [0.88461538 0.88461538 0.88461538 0.88461538 0.        ]]\n",
      "PPV mean is: [[0.21014375 0.2136173  0.46200714        nan        nan]\n",
      " [0.38958614 0.6043575  0.67953158 0.82139805 0.        ]\n",
      " [0.32568763 0.32625324 0.32688722 0.32688722 0.        ]]\n",
      "MCC mean is: [[0.38301641 0.38717579 0.54892492 0.18008255 0.        ]\n",
      " [0.54469802 0.69108835 0.73322916 0.81046887 0.        ]\n",
      " [0.49589569 0.49650076 0.49713473 0.49713473 0.        ]]\n",
      "L1norm mean is: [2.33739137 1.06644395 1.18618259]\n",
      "L2norm mean is: [0.58567517 0.33694777 0.3597097 ]\n",
      "MSE_F mean is: [0.33204342 0.15848918 0.19607452]\n",
      "MSE_Y mean is: [0.49693106 0.39941555 0.40922417] \n",
      "\n",
      "R2= 0.6561443477631892\n",
      "data generated\n",
      "Length-scales are:  [0.1118034 0.1118034 0.1118034 0.1118034 0.1118034]\n",
      "Noise variance is:  0.017068834469966567\n",
      "Average data variance is:  0.9999999999999999\n",
      "Time taken to draw data :  0.04687666893005371\n",
      "run time is : 62.43102145195007\n"
     ]
    },
    {
     "name": "stderr",
     "output_type": "stream",
     "text": [
      "C:\\Users\\hughw\\Documents\\MSC project\\GP algorithms\\Master function files\\GP_funcs_ZTMFSS.py:55: RuntimeWarning: divide by zero encountered in true_divide\n",
      "  return kern(cdist(X,X, metric = \"seuclidean\", V = 1/l**2),s)\n",
      "C:\\Users\\hughw\\Documents\\MSC project\\GP algorithms\\Master function files\\GP_funcs_ZTMFSS.py:62: RuntimeWarning: divide by zero encountered in true_divide\n",
      "  return kern(cdist(X,Xtest, metric = \"seuclidean\", V = 1/l**2),s).T\n",
      "C:\\Users\\hughw\\anaconda3\\lib\\site-packages\\numpy\\core\\fromnumeric.py:3334: RuntimeWarning: Mean of empty slice.\n",
      "  return _methods._mean(a, axis=axis, dtype=dtype,\n",
      "C:\\Users\\hughw\\anaconda3\\lib\\site-packages\\numpy\\core\\_methods.py:161: RuntimeWarning: invalid value encountered in double_scalars\n",
      "  ret = ret.dtype.type(ret / rcount)\n",
      "C:\\Users\\hughw\\Documents\\MSC project\\GP algorithms\\Master function files\\GP_funcs_ZTMFSS.py:2035: RuntimeWarning: invalid value encountered in true_divide\n",
      "  MCC[j,i]=(TP*TN-FP*FN)/np.sqrt((TP+FP)*(TP+FN)*(TN+FP)*(TN+FN))\n"
     ]
    },
    {
     "name": "stdout",
     "output_type": "stream",
     "text": [
      "run time is : 18.628724813461304\n",
      "run time is : 18.553056478500366\n",
      "run time is : 18.407803535461426\n",
      "run time is : 18.568214416503906\n",
      "run time is : 14.677743196487427\n",
      "run time is : 11.02246618270874\n",
      "run time is : 9.382169246673584\n",
      "run time is : 9.289773941040039\n",
      "run time is : 18.57232642173767\n",
      "run time is : 18.68801784515381\n"
     ]
    },
    {
     "name": "stderr",
     "output_type": "stream",
     "text": [
      "C:\\Users\\hughw\\Documents\\MSC project\\GP algorithms\\Master function files\\GP_funcs_ZTMFSS.py:55: RuntimeWarning: divide by zero encountered in true_divide\n",
      "  return kern(cdist(X,X, metric = \"seuclidean\", V = 1/l**2),s)\n",
      "C:\\Users\\hughw\\Documents\\MSC project\\GP algorithms\\Master function files\\GP_funcs_ZTMFSS.py:62: RuntimeWarning: divide by zero encountered in true_divide\n",
      "  return kern(cdist(X,Xtest, metric = \"seuclidean\", V = 1/l**2),s).T\n"
     ]
    },
    {
     "name": "stdout",
     "output_type": "stream",
     "text": [
      "RUN 26\n",
      "Runtime mean is: [ 52.36028544 172.52000788 172.5204994 ]\n",
      "Weighted accuracy mean is: [[0.86133603 0.86315789 0.84939271 0.55060729 0.5       ]\n",
      " [0.89615385 0.9111336  0.91234818 0.91255061 0.        ]\n",
      " [0.88987854 0.89008097 0.8902834  0.8902834  0.        ]]\n",
      "TPR mean is: [[0.93333333 0.93333333 0.77037037 0.1037037  0.        ]\n",
      " [0.88148148 0.86666667 0.85925926 0.84444444 0.        ]\n",
      " [0.88888889 0.88888889 0.88888889 0.88888889 0.        ]]\n",
      "PPV mean is: [[0.21117899 0.21545213 0.4713508         nan        nan]\n",
      " [0.41219406 0.61901093 0.69140078 0.82801293 0.        ]\n",
      " [0.32787014 0.3284148  0.3290253  0.3290253  0.        ]]\n",
      "MCC mean is: [[0.38531085 0.39037981 0.55956513 0.17341282 0.        ]\n",
      " [0.56156105 0.70252952 0.74310956 0.81748855 0.        ]\n",
      " [0.49951018 0.50009284 0.50070333 0.50070333 0.        ]]\n",
      "L1norm mean is: [2.29813808 1.05097826 1.17353085]\n",
      "L2norm mean is: [0.57628041 0.33404863 0.35708297]\n",
      "MSE_F mean is: [0.34019184 0.1588204  0.19887961]\n",
      "MSE_Y mean is: [0.49761901 0.40029683 0.41059539] \n",
      "\n",
      "R2= 0.6615509542024669\n",
      "data generated\n",
      "Length-scales are:  [0.1118034 0.1118034 0.1118034 0.1118034 0.1118034]\n",
      "Noise variance is:  0.009939929479793922\n",
      "Average data variance is:  1.0\n",
      "Time taken to draw data :  0.058843135833740234\n",
      "run time is : 62.04535746574402\n"
     ]
    },
    {
     "name": "stderr",
     "output_type": "stream",
     "text": [
      "C:\\Users\\hughw\\Documents\\MSC project\\GP algorithms\\Master function files\\GP_funcs_ZTMFSS.py:55: RuntimeWarning: divide by zero encountered in true_divide\n",
      "  return kern(cdist(X,X, metric = \"seuclidean\", V = 1/l**2),s)\n",
      "C:\\Users\\hughw\\Documents\\MSC project\\GP algorithms\\Master function files\\GP_funcs_ZTMFSS.py:62: RuntimeWarning: divide by zero encountered in true_divide\n",
      "  return kern(cdist(X,Xtest, metric = \"seuclidean\", V = 1/l**2),s).T\n",
      "C:\\Users\\hughw\\anaconda3\\lib\\site-packages\\numpy\\core\\fromnumeric.py:3334: RuntimeWarning: Mean of empty slice.\n",
      "  return _methods._mean(a, axis=axis, dtype=dtype,\n",
      "C:\\Users\\hughw\\anaconda3\\lib\\site-packages\\numpy\\core\\_methods.py:161: RuntimeWarning: invalid value encountered in double_scalars\n",
      "  ret = ret.dtype.type(ret / rcount)\n",
      "C:\\Users\\hughw\\Documents\\MSC project\\GP algorithms\\Master function files\\GP_funcs_ZTMFSS.py:2035: RuntimeWarning: invalid value encountered in true_divide\n",
      "  MCC[j,i]=(TP*TN-FP*FN)/np.sqrt((TP+FP)*(TP+FN)*(TN+FP)*(TN+FN))\n"
     ]
    },
    {
     "name": "stdout",
     "output_type": "stream",
     "text": [
      "run time is : 18.599874258041382\n",
      "run time is : 18.614213943481445\n",
      "run time is : 18.46062707901001\n",
      "run time is : 16.724268913269043\n",
      "run time is : 14.755534887313843\n",
      "run time is : 12.921618938446045\n",
      "run time is : 9.332762718200684\n",
      "run time is : 18.56491255760193\n",
      "run time is : 18.375049591064453\n",
      "run time is : 18.467557668685913\n",
      "run time is : 18.488550662994385\n"
     ]
    },
    {
     "name": "stderr",
     "output_type": "stream",
     "text": [
      "C:\\Users\\hughw\\Documents\\MSC project\\GP algorithms\\Master function files\\GP_funcs_ZTMFSS.py:55: RuntimeWarning: divide by zero encountered in true_divide\n",
      "  return kern(cdist(X,X, metric = \"seuclidean\", V = 1/l**2),s)\n",
      "C:\\Users\\hughw\\Documents\\MSC project\\GP algorithms\\Master function files\\GP_funcs_ZTMFSS.py:62: RuntimeWarning: divide by zero encountered in true_divide\n",
      "  return kern(cdist(X,Xtest, metric = \"seuclidean\", V = 1/l**2),s).T\n"
     ]
    },
    {
     "name": "stdout",
     "output_type": "stream",
     "text": [
      "RUN 27\n",
      "Runtime mean is: [ 52.70703572 173.25873944 173.25255266]\n",
      "Weighted accuracy mean is: [[0.86335283 0.86549708 0.8545809  0.54873294 0.5       ]\n",
      " [0.9        0.91442495 0.91559454 0.91578947 0.        ]\n",
      " [0.89239766 0.89259259 0.89278752 0.89278752 0.        ]]\n",
      "TPR mean is: [[0.93571429 0.93571429 0.77857143 0.10714286 0.        ]\n",
      " [0.87857143 0.86428571 0.85714286 0.84285714 0.        ]\n",
      " [0.88571429 0.88571429 0.88571429 0.88571429 0.        ]]\n",
      "PPV mean is: [[0.21175376 0.2158743  0.48002704        nan        nan]\n",
      " [0.41788101 0.62547482 0.69527932 0.83415533 0.        ]\n",
      " [0.33656866 0.33709387 0.33768256 0.33768256 0.        ]]\n",
      "MCC mean is: [[0.38697745 0.39186537 0.56944532 0.18286543 0.        ]\n",
      " [0.56494746 0.70563467 0.74476543 0.82006954 0.        ]\n",
      " [0.50511268 0.50567453 0.50626323 0.50626323 0.        ]]\n",
      "L1norm mean is: [2.28905319 1.04817448 1.16290737]\n",
      "L2norm mean is: [0.57782677 0.33763226 0.36012753]\n",
      "MSE_F mean is: [0.34469567 0.1594321  0.19716182]\n",
      "MSE_Y mean is: [0.50214011 0.40339539 0.41372166] \n",
      "\n",
      "R2= 0.6665805151160775\n",
      "data generated\n",
      "Length-scales are:  [0.1118034 0.1118034 0.1118034 0.1118034 0.1118034]\n",
      "Noise variance is:  0.018276289178472873\n",
      "Average data variance is:  1.0\n",
      "Time taken to draw data :  0.049866437911987305\n",
      "run time is : 62.29418063163757\n"
     ]
    },
    {
     "name": "stderr",
     "output_type": "stream",
     "text": [
      "C:\\Users\\hughw\\Documents\\MSC project\\GP algorithms\\Master function files\\GP_funcs_ZTMFSS.py:55: RuntimeWarning: divide by zero encountered in true_divide\n",
      "  return kern(cdist(X,X, metric = \"seuclidean\", V = 1/l**2),s)\n",
      "C:\\Users\\hughw\\Documents\\MSC project\\GP algorithms\\Master function files\\GP_funcs_ZTMFSS.py:62: RuntimeWarning: divide by zero encountered in true_divide\n",
      "  return kern(cdist(X,Xtest, metric = \"seuclidean\", V = 1/l**2),s).T\n",
      "C:\\Users\\hughw\\anaconda3\\lib\\site-packages\\numpy\\core\\fromnumeric.py:3334: RuntimeWarning: Mean of empty slice.\n",
      "  return _methods._mean(a, axis=axis, dtype=dtype,\n",
      "C:\\Users\\hughw\\anaconda3\\lib\\site-packages\\numpy\\core\\_methods.py:161: RuntimeWarning: invalid value encountered in double_scalars\n",
      "  ret = ret.dtype.type(ret / rcount)\n",
      "C:\\Users\\hughw\\Documents\\MSC project\\GP algorithms\\Master function files\\GP_funcs_ZTMFSS.py:2035: RuntimeWarning: invalid value encountered in true_divide\n",
      "  MCC[j,i]=(TP*TN-FP*FN)/np.sqrt((TP+FP)*(TP+FN)*(TN+FP)*(TN+FN))\n"
     ]
    },
    {
     "name": "stdout",
     "output_type": "stream",
     "text": [
      "run time is : 18.528600454330444\n",
      "run time is : 18.434722185134888\n",
      "run time is : 18.435064792633057\n",
      "run time is : 18.36879062652588\n",
      "run time is : 12.990254163742065\n",
      "run time is : 16.609699010849\n",
      "run time is : 9.928444623947144\n",
      "run time is : 15.448387861251831\n",
      "run time is : 15.037134885787964\n"
     ]
    },
    {
     "name": "stderr",
     "output_type": "stream",
     "text": [
      "C:\\Users\\hughw\\Documents\\MSC project\\GP algorithms\\Master function files\\GP_funcs_ZTMFSS.py:55: RuntimeWarning: divide by zero encountered in true_divide\n",
      "  return kern(cdist(X,X, metric = \"seuclidean\", V = 1/l**2),s)\n",
      "C:\\Users\\hughw\\Documents\\MSC project\\GP algorithms\\Master function files\\GP_funcs_ZTMFSS.py:62: RuntimeWarning: divide by zero encountered in true_divide\n",
      "  return kern(cdist(X,Xtest, metric = \"seuclidean\", V = 1/l**2),s).T\n"
     ]
    },
    {
     "name": "stdout",
     "output_type": "stream",
     "text": [
      "RUN 28\n",
      "Runtime mean is: [ 53.03838351 172.50841126 172.49970576]\n",
      "Weighted accuracy mean is: [[0.86503759 0.86710526 0.8593985  0.55056391 0.5       ]\n",
      " [0.89943609 0.9137218  0.91484962 0.91522556 0.        ]\n",
      " [0.89210526 0.89229323 0.8924812  0.8924812  0.        ]]\n",
      "TPR mean is: [[0.93103448 0.93103448 0.77931034 0.10344828 0.        ]\n",
      " [0.87586207 0.86206897 0.85517241 0.84137931 0.        ]\n",
      " [0.88275862 0.88275862 0.88275862 0.88275862 0.        ]]\n",
      "PPV mean is: [[0.21102005 0.2149985  0.48317882        nan        nan]\n",
      " [0.4140814  0.6192324  0.68854555 0.83297756 0.        ]\n",
      " [0.33557292 0.33608002 0.33664842 0.33664842 0.        ]]\n",
      "MCC mean is: [[0.38509259 0.38981196 0.57244308 0.17655973 0.        ]\n",
      " [0.56122696 0.70092888 0.740079   0.81901451 0.        ]\n",
      " [0.50345546 0.50399793 0.50456633 0.50456633 0.        ]]\n",
      "L1norm mean is: [2.26594295 1.04052985 1.15134762]\n",
      "L2norm mean is: [0.5727537  0.33456093 0.35644742]\n",
      "MSE_F mean is: [0.34329269 0.15976796 0.19674052]\n",
      "MSE_Y mean is: [0.49890781 0.40151461 0.41151193] \n",
      "\n",
      "R2= 0.6484274969153005\n",
      "data generated\n",
      "Length-scales are:  [0.1118034 0.1118034 0.1118034 0.1118034 0.1118034]\n",
      "Noise variance is:  0.03240700392694609\n",
      "Average data variance is:  1.0\n",
      "Time taken to draw data :  0.031789541244506836\n",
      "run time is : 42.14877390861511\n"
     ]
    },
    {
     "name": "stderr",
     "output_type": "stream",
     "text": [
      "C:\\Users\\hughw\\Documents\\MSC project\\GP algorithms\\Master function files\\GP_funcs_ZTMFSS.py:55: RuntimeWarning: divide by zero encountered in true_divide\n",
      "  return kern(cdist(X,X, metric = \"seuclidean\", V = 1/l**2),s)\n",
      "C:\\Users\\hughw\\Documents\\MSC project\\GP algorithms\\Master function files\\GP_funcs_ZTMFSS.py:62: RuntimeWarning: divide by zero encountered in true_divide\n",
      "  return kern(cdist(X,Xtest, metric = \"seuclidean\", V = 1/l**2),s).T\n",
      "C:\\Users\\hughw\\anaconda3\\lib\\site-packages\\numpy\\core\\fromnumeric.py:3334: RuntimeWarning: Mean of empty slice.\n",
      "  return _methods._mean(a, axis=axis, dtype=dtype,\n",
      "C:\\Users\\hughw\\anaconda3\\lib\\site-packages\\numpy\\core\\_methods.py:161: RuntimeWarning: invalid value encountered in double_scalars\n",
      "  ret = ret.dtype.type(ret / rcount)\n",
      "C:\\Users\\hughw\\Documents\\MSC project\\GP algorithms\\Master function files\\GP_funcs_ZTMFSS.py:2035: RuntimeWarning: invalid value encountered in true_divide\n",
      "  MCC[j,i]=(TP*TN-FP*FN)/np.sqrt((TP+FP)*(TP+FN)*(TN+FP)*(TN+FN))\n"
     ]
    },
    {
     "name": "stdout",
     "output_type": "stream",
     "text": [
      "run time is : 14.778534889221191\n",
      "run time is : 14.776963233947754\n",
      "run time is : 13.299117803573608\n",
      "run time is : 10.312774896621704\n",
      "run time is : 8.830875396728516\n",
      "run time is : 7.380292892456055\n",
      "run time is : 10.299554109573364\n",
      "run time is : 14.720290899276733\n",
      "run time is : 14.71995496749878\n"
     ]
    },
    {
     "name": "stderr",
     "output_type": "stream",
     "text": [
      "C:\\Users\\hughw\\Documents\\MSC project\\GP algorithms\\Master function files\\GP_funcs_ZTMFSS.py:55: RuntimeWarning: divide by zero encountered in true_divide\n",
      "  return kern(cdist(X,X, metric = \"seuclidean\", V = 1/l**2),s)\n",
      "C:\\Users\\hughw\\Documents\\MSC project\\GP algorithms\\Master function files\\GP_funcs_ZTMFSS.py:62: RuntimeWarning: divide by zero encountered in true_divide\n",
      "  return kern(cdist(X,Xtest, metric = \"seuclidean\", V = 1/l**2),s).T\n"
     ]
    },
    {
     "name": "stdout",
     "output_type": "stream",
     "text": [
      "RUN 29\n",
      "Runtime mean is: [ 52.67589519 170.6501152  170.64081573]\n",
      "Weighted accuracy mean is: [[0.86315789 0.86515426 0.86025408 0.54882033 0.5       ]\n",
      " [0.89782214 0.9123412  0.91361162 0.91451906 0.        ]\n",
      " [0.8907441  0.89092559 0.89110708 0.89110708 0.        ]]\n",
      "TPR mean is: [[0.93333333 0.93333333 0.78666667 0.10666667 0.        ]\n",
      " [0.88       0.86666667 0.86       0.84666667 0.        ]\n",
      " [0.88666667 0.88666667 0.88666667 0.88666667 0.        ]]\n",
      "PPV mean is: [[0.21156181 0.21540764 0.48373953        nan        nan]\n",
      " [0.4130992  0.61374283 0.68642737 0.82604497 0.        ]\n",
      " [0.33720767 0.33769787 0.33824732 0.33824732 0.        ]]\n",
      "MCC mean is: [[0.38665536 0.39121741 0.57630322 0.18050651 0.        ]\n",
      " [0.56230229 0.69931665 0.74134259 0.81764692 0.        ]\n",
      " [0.50645651 0.5069809  0.50753035 0.50753035 0.        ]]\n",
      "L1norm mean is: [2.26728044 1.04682174 1.15139549]\n",
      "L2norm mean is: [0.57477627 0.33637522 0.35667786]\n",
      "MSE_F mean is: [0.34523838 0.16344435 0.19950167]\n",
      "MSE_Y mean is: [0.50379141 0.40614964 0.41609602] \n",
      "\n",
      "R2= 0.6541034863080866\n",
      "data generated\n",
      "Length-scales are:  [0.1118034 0.1118034 0.1118034 0.1118034 0.1118034]\n",
      "Noise variance is:  0.05638683542602628\n",
      "Average data variance is:  1.0\n",
      "Time taken to draw data :  0.03308296203613281\n",
      "run time is : 21.505064010620117\n"
     ]
    },
    {
     "name": "stderr",
     "output_type": "stream",
     "text": [
      "C:\\Users\\hughw\\Documents\\MSC project\\GP algorithms\\Master function files\\GP_funcs_ZTMFSS.py:55: RuntimeWarning: divide by zero encountered in true_divide\n",
      "  return kern(cdist(X,X, metric = \"seuclidean\", V = 1/l**2),s)\n",
      "C:\\Users\\hughw\\Documents\\MSC project\\GP algorithms\\Master function files\\GP_funcs_ZTMFSS.py:62: RuntimeWarning: divide by zero encountered in true_divide\n",
      "  return kern(cdist(X,Xtest, metric = \"seuclidean\", V = 1/l**2),s).T\n",
      "C:\\Users\\hughw\\anaconda3\\lib\\site-packages\\numpy\\core\\fromnumeric.py:3334: RuntimeWarning: Mean of empty slice.\n",
      "  return _methods._mean(a, axis=axis, dtype=dtype,\n",
      "C:\\Users\\hughw\\anaconda3\\lib\\site-packages\\numpy\\core\\_methods.py:161: RuntimeWarning: invalid value encountered in double_scalars\n",
      "  ret = ret.dtype.type(ret / rcount)\n",
      "C:\\Users\\hughw\\Documents\\MSC project\\GP algorithms\\Master function files\\GP_funcs_ZTMFSS.py:2035: RuntimeWarning: invalid value encountered in true_divide\n",
      "  MCC[j,i]=(TP*TN-FP*FN)/np.sqrt((TP+FP)*(TP+FN)*(TN+FP)*(TN+FN))\n"
     ]
    },
    {
     "name": "stdout",
     "output_type": "stream",
     "text": [
      "run time is : 15.241856336593628\n",
      "run time is : 14.700292587280273\n",
      "run time is : 18.446533679962158\n",
      "run time is : 16.727773189544678\n",
      "run time is : 16.81155252456665\n",
      "run time is : 11.27487301826477\n",
      "run time is : 14.844199657440186\n",
      "run time is : 14.760785818099976\n",
      "run time is : 14.709550142288208\n"
     ]
    },
    {
     "name": "stderr",
     "output_type": "stream",
     "text": [
      "C:\\Users\\hughw\\Documents\\MSC project\\GP algorithms\\Master function files\\GP_funcs_ZTMFSS.py:55: RuntimeWarning: divide by zero encountered in true_divide\n",
      "  return kern(cdist(X,X, metric = \"seuclidean\", V = 1/l**2),s)\n",
      "C:\\Users\\hughw\\Documents\\MSC project\\GP algorithms\\Master function files\\GP_funcs_ZTMFSS.py:62: RuntimeWarning: divide by zero encountered in true_divide\n",
      "  return kern(cdist(X,Xtest, metric = \"seuclidean\", V = 1/l**2),s).T\n"
     ]
    },
    {
     "name": "stdout",
     "output_type": "stream",
     "text": [
      "RUN 30\n",
      "Runtime mean is: [ 51.67086705 169.8161117  169.80886168]\n",
      "Weighted accuracy mean is: [[0.86473684 0.86666667 0.86403509 0.55035088 0.5       ]\n",
      " [0.89982456 0.91421053 0.91596491 0.91684211 0.        ]\n",
      " [0.89298246 0.89315789 0.89333333 0.89333333 0.        ]]\n",
      "TPR mean is: [[0.92903226 0.92903226 0.78064516 0.10967742 0.        ]\n",
      " [0.87096774 0.85806452 0.8516129  0.83870968 0.        ]\n",
      " [0.87741935 0.87741935 0.87741935 0.87741935 0.        ]]\n",
      "PPV mean is: [[0.20951621 0.21342179 0.47693268        nan        nan]\n",
      " [0.40721759 0.60138884 0.67172872 0.81552739 0.        ]\n",
      " [0.33324244 0.33371683 0.33424855 0.33424855 0.        ]]\n",
      "MCC mean is: [[0.38301735 0.38770822 0.56930233 0.18205875 0.        ]\n",
      " [0.55450607 0.68710061 0.72777087 0.80809856 0.        ]\n",
      " [0.49993004 0.50043752 0.50096924 0.50096924 0.        ]]\n",
      "L1norm mean is: [2.29978878 1.07374743 1.17744419]\n",
      "L2norm mean is: [0.58287467 0.34360452 0.36397865]\n",
      "MSE_F mean is: [0.34846431 0.16759038 0.20227897]\n",
      "MSE_Y mean is: [0.50076834 0.40473999 0.41462993] \n",
      "\n",
      "R2= 0.6714054495516456\n",
      "data generated\n",
      "Length-scales are:  [0.1118034 0.1118034 0.1118034 0.1118034 0.1118034]\n",
      "Noise variance is:  0.057826033024621935\n",
      "Average data variance is:  0.9999999999999999\n",
      "Time taken to draw data :  0.031847238540649414\n",
      "run time is : 32.12379455566406\n"
     ]
    },
    {
     "name": "stderr",
     "output_type": "stream",
     "text": [
      "C:\\Users\\hughw\\Documents\\MSC project\\GP algorithms\\Master function files\\GP_funcs_ZTMFSS.py:55: RuntimeWarning: divide by zero encountered in true_divide\n",
      "  return kern(cdist(X,X, metric = \"seuclidean\", V = 1/l**2),s)\n",
      "C:\\Users\\hughw\\Documents\\MSC project\\GP algorithms\\Master function files\\GP_funcs_ZTMFSS.py:62: RuntimeWarning: divide by zero encountered in true_divide\n",
      "  return kern(cdist(X,Xtest, metric = \"seuclidean\", V = 1/l**2),s).T\n",
      "C:\\Users\\hughw\\anaconda3\\lib\\site-packages\\numpy\\core\\fromnumeric.py:3334: RuntimeWarning: Mean of empty slice.\n",
      "  return _methods._mean(a, axis=axis, dtype=dtype,\n",
      "C:\\Users\\hughw\\anaconda3\\lib\\site-packages\\numpy\\core\\_methods.py:161: RuntimeWarning: invalid value encountered in double_scalars\n",
      "  ret = ret.dtype.type(ret / rcount)\n",
      "C:\\Users\\hughw\\Documents\\MSC project\\GP algorithms\\Master function files\\GP_funcs_ZTMFSS.py:2035: RuntimeWarning: invalid value encountered in true_divide\n",
      "  MCC[j,i]=(TP*TN-FP*FN)/np.sqrt((TP+FP)*(TP+FN)*(TN+FP)*(TN+FN))\n"
     ]
    },
    {
     "name": "stdout",
     "output_type": "stream",
     "text": [
      "run time is : 14.48629641532898\n",
      "run time is : 10.152035236358643\n",
      "run time is : 8.764811992645264\n",
      "run time is : 10.177002191543579\n",
      "run time is : 8.770865678787231\n",
      "run time is : 7.257739543914795\n",
      "run time is : 7.264738082885742\n",
      "run time is : 14.518815994262695\n",
      "run time is : 14.5451180934906\n"
     ]
    },
    {
     "name": "stderr",
     "output_type": "stream",
     "text": [
      "C:\\Users\\hughw\\Documents\\MSC project\\GP algorithms\\Master function files\\GP_funcs_ZTMFSS.py:55: RuntimeWarning: divide by zero encountered in true_divide\n",
      "  return kern(cdist(X,X, metric = \"seuclidean\", V = 1/l**2),s)\n",
      "C:\\Users\\hughw\\Documents\\MSC project\\GP algorithms\\Master function files\\GP_funcs_ZTMFSS.py:62: RuntimeWarning: divide by zero encountered in true_divide\n",
      "  return kern(cdist(X,Xtest, metric = \"seuclidean\", V = 1/l**2),s).T\n"
     ]
    },
    {
     "name": "stdout",
     "output_type": "stream",
     "text": [
      "RUN 31\n",
      "Runtime mean is: [ 51.06049921 167.71835691 167.71055003]\n",
      "Weighted accuracy mean is: [[0.86196944 0.86400679 0.86061121 0.5516129  0.5       ]\n",
      " [0.89490662 0.90882852 0.91052632 0.91256367 0.        ]\n",
      " [0.88811545 0.88828523 0.88845501 0.88845501 0.        ]]\n",
      "TPR mean is: [[0.925   0.925   0.78125 0.10625 0.     ]\n",
      " [0.86875 0.85625 0.85    0.8375  0.     ]\n",
      " [0.875   0.875   0.875   0.875   0.     ]]\n",
      "PPV mean is: [[0.20921883 0.21300236 0.47452853        nan        nan]\n",
      " [0.41949204 0.60759544 0.6819872  0.82129216 0.        ]\n",
      " [0.33532862 0.33578818 0.33630329 0.33630329 0.        ]]\n",
      "MCC mean is: [[0.38180192 0.3863462  0.56823987 0.17636941 0.        ]\n",
      " [0.56184881 0.69029977 0.73283292 0.81065037 0.        ]\n",
      " [0.50103546 0.50152707 0.50204218 0.50204218 0.        ]]\n",
      "L1norm mean is: [2.28756499 1.05381505 1.15667763]\n",
      "L2norm mean is: [0.580546   0.3381478  0.35854315]\n",
      "MSE_F mean is: [0.34423902 0.16386813 0.1976572 ]\n",
      "MSE_Y mean is: [0.49753089 0.40455582 0.41428754] \n",
      "\n",
      "R2= 0.6921948062727995\n",
      "data generated\n",
      "Length-scales are:  [0.1118034 0.1118034 0.1118034 0.1118034 0.1118034]\n",
      "Noise variance is:  0.1043615124426314\n",
      "Average data variance is:  1.0\n",
      "Time taken to draw data :  0.030881404876708984\n",
      "run time is : 41.390302658081055\n"
     ]
    },
    {
     "name": "stderr",
     "output_type": "stream",
     "text": [
      "C:\\Users\\hughw\\Documents\\MSC project\\GP algorithms\\Master function files\\GP_funcs_ZTMFSS.py:55: RuntimeWarning: divide by zero encountered in true_divide\n",
      "  return kern(cdist(X,X, metric = \"seuclidean\", V = 1/l**2),s)\n",
      "C:\\Users\\hughw\\Documents\\MSC project\\GP algorithms\\Master function files\\GP_funcs_ZTMFSS.py:62: RuntimeWarning: divide by zero encountered in true_divide\n",
      "  return kern(cdist(X,Xtest, metric = \"seuclidean\", V = 1/l**2),s).T\n",
      "C:\\Users\\hughw\\anaconda3\\lib\\site-packages\\numpy\\core\\fromnumeric.py:3334: RuntimeWarning: Mean of empty slice.\n",
      "  return _methods._mean(a, axis=axis, dtype=dtype,\n",
      "C:\\Users\\hughw\\anaconda3\\lib\\site-packages\\numpy\\core\\_methods.py:161: RuntimeWarning: invalid value encountered in double_scalars\n",
      "  ret = ret.dtype.type(ret / rcount)\n",
      "C:\\Users\\hughw\\Documents\\MSC project\\GP algorithms\\Master function files\\GP_funcs_ZTMFSS.py:2035: RuntimeWarning: invalid value encountered in true_divide\n",
      "  MCC[j,i]=(TP*TN-FP*FN)/np.sqrt((TP+FP)*(TP+FN)*(TN+FP)*(TN+FN))\n"
     ]
    },
    {
     "name": "stdout",
     "output_type": "stream",
     "text": [
      "run time is : 14.980900049209595\n",
      "run time is : 14.884188413619995\n",
      "run time is : 15.087646007537842\n",
      "run time is : 14.906430006027222\n",
      "run time is : 11.800740003585815\n",
      "run time is : 8.784961938858032\n",
      "run time is : 7.333482027053833\n",
      "run time is : 14.608045101165771\n",
      "run time is : 14.618689775466919\n"
     ]
    },
    {
     "name": "stderr",
     "output_type": "stream",
     "text": [
      "C:\\Users\\hughw\\Documents\\MSC project\\GP algorithms\\Master function files\\GP_funcs_ZTMFSS.py:55: RuntimeWarning: divide by zero encountered in true_divide\n",
      "  return kern(cdist(X,X, metric = \"seuclidean\", V = 1/l**2),s)\n",
      "C:\\Users\\hughw\\Documents\\MSC project\\GP algorithms\\Master function files\\GP_funcs_ZTMFSS.py:62: RuntimeWarning: divide by zero encountered in true_divide\n",
      "  return kern(cdist(X,Xtest, metric = \"seuclidean\", V = 1/l**2),s).T\n"
     ]
    },
    {
     "name": "stdout",
     "output_type": "stream",
     "text": [
      "RUN 32\n",
      "Runtime mean is: [ 50.76791629 166.42995223 166.42311177]\n",
      "Weighted accuracy mean is: [[0.86052632 0.8625     0.86085526 0.55       0.5       ]\n",
      " [0.89490132 0.90838816 0.91019737 0.91217105 0.        ]\n",
      " [0.8875     0.88766447 0.88782895 0.88782895 0.        ]]\n",
      "TPR mean is: [[0.91515152 0.91515152 0.76969697 0.1030303  0.        ]\n",
      " [0.86666667 0.85454545 0.84848485 0.83030303 0.        ]\n",
      " [0.87272727 0.87272727 0.87272727 0.87272727 0.        ]]\n",
      "PPV mean is: [[0.20683143 0.21050031 0.47024989        nan        nan]\n",
      " [0.41435592 0.60130467 0.67344213 0.81913179 0.        ]\n",
      " [0.33154673 0.33199236 0.33249186 0.33249186 0.        ]]\n",
      "MCC mean is: [[0.37634442 0.380751   0.56097335 0.17102488 0.        ]\n",
      " [0.55695948 0.68560291 0.72684718 0.80595218 0.        ]\n",
      " [0.49666242 0.49713914 0.49763863 0.49763863 0.        ]]\n",
      "L1norm mean is: [2.27879578 1.04909411 1.1524543 ]\n",
      "L2norm mean is: [0.57801219 0.33511681 0.35553805]\n",
      "MSE_F mean is: [0.34179523 0.16200042 0.19530488]\n",
      "MSE_Y mean is: [0.49649043 0.40253206 0.41216529] \n",
      "\n",
      "R2= 0.6590453962617344\n",
      "data generated\n",
      "Length-scales are:  [0.1118034 0.1118034 0.1118034 0.1118034 0.1118034]\n",
      "Noise variance is:  0.03062406760087102\n",
      "Average data variance is:  1.0\n",
      "Time taken to draw data :  0.03343033790588379\n",
      "run time is : 23.534546375274658\n"
     ]
    },
    {
     "name": "stderr",
     "output_type": "stream",
     "text": [
      "C:\\Users\\hughw\\Documents\\MSC project\\GP algorithms\\Master function files\\GP_funcs_ZTMFSS.py:55: RuntimeWarning: divide by zero encountered in true_divide\n",
      "  return kern(cdist(X,X, metric = \"seuclidean\", V = 1/l**2),s)\n",
      "C:\\Users\\hughw\\Documents\\MSC project\\GP algorithms\\Master function files\\GP_funcs_ZTMFSS.py:62: RuntimeWarning: divide by zero encountered in true_divide\n",
      "  return kern(cdist(X,Xtest, metric = \"seuclidean\", V = 1/l**2),s).T\n",
      "C:\\Users\\hughw\\anaconda3\\lib\\site-packages\\numpy\\core\\fromnumeric.py:3334: RuntimeWarning: Mean of empty slice.\n",
      "  return _methods._mean(a, axis=axis, dtype=dtype,\n",
      "C:\\Users\\hughw\\anaconda3\\lib\\site-packages\\numpy\\core\\_methods.py:161: RuntimeWarning: invalid value encountered in double_scalars\n",
      "  ret = ret.dtype.type(ret / rcount)\n",
      "C:\\Users\\hughw\\Documents\\MSC project\\GP algorithms\\Master function files\\GP_funcs_ZTMFSS.py:2035: RuntimeWarning: invalid value encountered in true_divide\n",
      "  MCC[j,i]=(TP*TN-FP*FN)/np.sqrt((TP+FP)*(TP+FN)*(TN+FP)*(TN+FN))\n"
     ]
    },
    {
     "name": "stdout",
     "output_type": "stream",
     "text": [
      "run time is : 14.468846082687378\n",
      "run time is : 14.617310762405396\n",
      "run time is : 14.587764978408813\n",
      "run time is : 14.512157201766968\n",
      "run time is : 14.506489753723145\n",
      "run time is : 8.707622766494751\n",
      "run time is : 7.289934158325195\n",
      "run time is : 14.493829488754272\n",
      "run time is : 14.617987871170044\n",
      "run time is : 14.516273021697998\n"
     ]
    },
    {
     "name": "stderr",
     "output_type": "stream",
     "text": [
      "C:\\Users\\hughw\\Documents\\MSC project\\GP algorithms\\Master function files\\GP_funcs_ZTMFSS.py:55: RuntimeWarning: divide by zero encountered in true_divide\n",
      "  return kern(cdist(X,X, metric = \"seuclidean\", V = 1/l**2),s)\n",
      "C:\\Users\\hughw\\Documents\\MSC project\\GP algorithms\\Master function files\\GP_funcs_ZTMFSS.py:62: RuntimeWarning: divide by zero encountered in true_divide\n",
      "  return kern(cdist(X,Xtest, metric = \"seuclidean\", V = 1/l**2),s).T\n"
     ]
    },
    {
     "name": "stdout",
     "output_type": "stream",
     "text": [
      "RUN 33\n",
      "Runtime mean is: [ 49.96737492 165.65368735 165.64457308]\n",
      "Weighted accuracy mean is: [[0.85550239 0.85741627 0.8553429  0.54848485 0.5       ]\n",
      " [0.89314195 0.90717703 0.90893142 0.90861244 0.        ]\n",
      " [0.88548644 0.88564593 0.88580542 0.88580542 0.        ]]\n",
      "TPR mean is: [[0.91764706 0.91764706 0.77647059 0.11176471 0.        ]\n",
      " [0.87058824 0.85882353 0.85294118 0.83529412 0.        ]\n",
      " [0.87647059 0.87647059 0.87647059 0.87647059 0.        ]]\n",
      "PPV mean is: [[0.20619478 0.20975575 0.46978799        nan        nan]\n",
      " [0.41442388 0.60200159 0.67201736 0.81342204 0.        ]\n",
      " [0.33229956 0.33273208 0.33321689 0.33321689 0.        ]]\n",
      "MCC mean is: [[0.37637038 0.38064735 0.56366714 0.18430944 0.        ]\n",
      " [0.55885069 0.68832008 0.72835128 0.80512966 0.        ]\n",
      " [0.49877829 0.49924099 0.49972579 0.49972579 0.        ]]\n",
      "L1norm mean is: [2.29676601 1.0564928  1.15935916]\n",
      "L2norm mean is: [0.5818399  0.33857744 0.35848975]\n",
      "MSE_F mean is: [0.34308985 0.16317927 0.19597949]\n",
      "MSE_Y mean is: [0.49479105 0.4013013  0.4107377 ] \n",
      "\n",
      "R2= 0.6744525353845705\n",
      "data generated\n",
      "Length-scales are:  [0.1118034 0.1118034 0.1118034 0.1118034 0.1118034]\n",
      "Noise variance is:  0.019693890473272073\n",
      "Average data variance is:  1.0\n",
      "Time taken to draw data :  0.03687238693237305\n",
      "run time is : 33.65058779716492\n"
     ]
    },
    {
     "name": "stderr",
     "output_type": "stream",
     "text": [
      "C:\\Users\\hughw\\Documents\\MSC project\\GP algorithms\\Master function files\\GP_funcs_ZTMFSS.py:55: RuntimeWarning: divide by zero encountered in true_divide\n",
      "  return kern(cdist(X,X, metric = \"seuclidean\", V = 1/l**2),s)\n",
      "C:\\Users\\hughw\\Documents\\MSC project\\GP algorithms\\Master function files\\GP_funcs_ZTMFSS.py:62: RuntimeWarning: divide by zero encountered in true_divide\n",
      "  return kern(cdist(X,Xtest, metric = \"seuclidean\", V = 1/l**2),s).T\n",
      "C:\\Users\\hughw\\anaconda3\\lib\\site-packages\\numpy\\core\\fromnumeric.py:3334: RuntimeWarning: Mean of empty slice.\n",
      "  return _methods._mean(a, axis=axis, dtype=dtype,\n",
      "C:\\Users\\hughw\\anaconda3\\lib\\site-packages\\numpy\\core\\_methods.py:161: RuntimeWarning: invalid value encountered in double_scalars\n",
      "  ret = ret.dtype.type(ret / rcount)\n",
      "C:\\Users\\hughw\\Documents\\MSC project\\GP algorithms\\Master function files\\GP_funcs_ZTMFSS.py:2035: RuntimeWarning: invalid value encountered in true_divide\n",
      "  MCC[j,i]=(TP*TN-FP*FN)/np.sqrt((TP+FP)*(TP+FN)*(TN+FP)*(TN+FN))\n"
     ]
    },
    {
     "name": "stdout",
     "output_type": "stream",
     "text": [
      "run time is : 14.901123046875\n",
      "run time is : 14.756503343582153\n",
      "run time is : 14.667261600494385\n",
      "run time is : 14.647100448608398\n",
      "run time is : 14.583226680755615\n",
      "run time is : 13.221731901168823\n",
      "run time is : 11.67311954498291\n",
      "run time is : 10.269114255905151\n",
      "run time is : 14.573421955108643\n",
      "run time is : 14.56712532043457\n"
     ]
    },
    {
     "name": "stderr",
     "output_type": "stream",
     "text": [
      "C:\\Users\\hughw\\Documents\\MSC project\\GP algorithms\\Master function files\\GP_funcs_ZTMFSS.py:55: RuntimeWarning: divide by zero encountered in true_divide\n",
      "  return kern(cdist(X,X, metric = \"seuclidean\", V = 1/l**2),s)\n",
      "C:\\Users\\hughw\\Documents\\MSC project\\GP algorithms\\Master function files\\GP_funcs_ZTMFSS.py:62: RuntimeWarning: divide by zero encountered in true_divide\n",
      "  return kern(cdist(X,Xtest, metric = \"seuclidean\", V = 1/l**2),s).T\n"
     ]
    },
    {
     "name": "stdout",
     "output_type": "stream",
     "text": [
      "RUN 34\n",
      "Runtime mean is: [ 49.50160842 165.08848604 165.08046382]\n",
      "Weighted accuracy mean is: [[0.85634675 0.85820433 0.85866873 0.55294118 0.5       ]\n",
      " [0.89520124 0.90944272 0.91114551 0.91083591 0.        ]\n",
      " [0.8874613  0.8876161  0.8877709  0.8877709  0.        ]]\n",
      "TPR mean is: [[0.92       0.92       0.78285714 0.12       0.        ]\n",
      " [0.87428571 0.86285714 0.85714286 0.83428571 0.        ]\n",
      " [0.88       0.88       0.88       0.88       0.        ]]\n",
      "PPV mean is: [[0.20427175 0.20784436 0.46476884        nan        nan]\n",
      " [0.41151177 0.59670631 0.67322503 0.80922902 0.        ]\n",
      " [0.33120865 0.33162881 0.33209977 0.33209977 0.        ]]\n",
      "MCC mean is: [[0.37435659 0.37870431 0.56204574 0.19108528 0.        ]\n",
      " [0.55790232 0.6864041  0.73143297 0.80255027 0.        ]\n",
      " [0.49901085 0.49946033 0.49993129 0.49993129 0.        ]]\n",
      "L1norm mean is: [2.36495199 1.07298727 1.17705197]\n",
      "L2norm mean is: [0.59209282 0.34364519 0.36346967]\n",
      "MSE_F mean is: [0.34477804 0.16665087 0.2003192 ]\n",
      "MSE_Y mean is: [0.49907086 0.40426526 0.41338047] \n",
      "\n",
      "R2= 0.6768421201538708\n",
      "data generated\n",
      "Length-scales are:  [0.1118034 0.1118034 0.1118034 0.1118034 0.1118034]\n",
      "Noise variance is:  0.004074635201146229\n",
      "Average data variance is:  1.0\n",
      "Time taken to draw data :  0.03211498260498047\n",
      "run time is : 32.081390619277954\n"
     ]
    },
    {
     "name": "stderr",
     "output_type": "stream",
     "text": [
      "C:\\Users\\hughw\\Documents\\MSC project\\GP algorithms\\Master function files\\GP_funcs_ZTMFSS.py:55: RuntimeWarning: divide by zero encountered in true_divide\n",
      "  return kern(cdist(X,X, metric = \"seuclidean\", V = 1/l**2),s)\n",
      "C:\\Users\\hughw\\Documents\\MSC project\\GP algorithms\\Master function files\\GP_funcs_ZTMFSS.py:62: RuntimeWarning: divide by zero encountered in true_divide\n",
      "  return kern(cdist(X,Xtest, metric = \"seuclidean\", V = 1/l**2),s).T\n",
      "C:\\Users\\hughw\\anaconda3\\lib\\site-packages\\numpy\\core\\fromnumeric.py:3334: RuntimeWarning: Mean of empty slice.\n",
      "  return _methods._mean(a, axis=axis, dtype=dtype,\n",
      "C:\\Users\\hughw\\anaconda3\\lib\\site-packages\\numpy\\core\\_methods.py:161: RuntimeWarning: invalid value encountered in double_scalars\n",
      "  ret = ret.dtype.type(ret / rcount)\n",
      "C:\\Users\\hughw\\Documents\\MSC project\\GP algorithms\\Master function files\\GP_funcs_ZTMFSS.py:2035: RuntimeWarning: invalid value encountered in true_divide\n",
      "  MCC[j,i]=(TP*TN-FP*FN)/np.sqrt((TP+FP)*(TP+FN)*(TN+FP)*(TN+FN))\n"
     ]
    },
    {
     "name": "stdout",
     "output_type": "stream",
     "text": [
      "run time is : 14.773622512817383\n",
      "run time is : 14.779565572738647\n",
      "run time is : 14.586311340332031\n",
      "run time is : 14.571485757827759\n",
      "run time is : 14.649161338806152\n",
      "run time is : 7.407202959060669\n",
      "run time is : 8.91115140914917\n",
      "run time is : 14.928073406219482\n",
      "run time is : 14.973952293395996\n",
      "run time is : 14.881515741348267\n"
     ]
    },
    {
     "name": "stderr",
     "output_type": "stream",
     "text": [
      "C:\\Users\\hughw\\Documents\\MSC project\\GP algorithms\\Master function files\\GP_funcs_ZTMFSS.py:55: RuntimeWarning: divide by zero encountered in true_divide\n",
      "  return kern(cdist(X,X, metric = \"seuclidean\", V = 1/l**2),s)\n",
      "C:\\Users\\hughw\\Documents\\MSC project\\GP algorithms\\Master function files\\GP_funcs_ZTMFSS.py:62: RuntimeWarning: divide by zero encountered in true_divide\n",
      "  return kern(cdist(X,Xtest, metric = \"seuclidean\", V = 1/l**2),s).T\n"
     ]
    },
    {
     "name": "stdout",
     "output_type": "stream",
     "text": [
      "RUN 35\n",
      "Runtime mean is: [ 49.01812915 164.45017972 164.44092593]\n",
      "Weighted accuracy mean is: [[0.85578947 0.85774436 0.86090226 0.55684211 0.5       ]\n",
      " [0.89654135 0.91097744 0.91338346 0.91022556 0.        ]\n",
      " [0.88887218 0.88902256 0.88917293 0.88917293 0.        ]]\n",
      "TPR mean is: [[0.92222222 0.92222222 0.78888889 0.11666667 0.        ]\n",
      " [0.87777778 0.86666667 0.86111111 0.83888889 0.        ]\n",
      " [0.88333333 0.88333333 0.88333333 0.88333333 0.        ]]\n",
      "PPV mean is: [[0.20727809 0.21133016 0.47963637        nan        nan]\n",
      " [0.41270715 0.59749225 0.67188544 0.81452822 0.        ]\n",
      " [0.33463467 0.33504316 0.33550104 0.33550104 0.        ]]\n",
      "MCC mean is: [[0.37855939 0.38335471 0.57421114 0.18577735 0.        ]\n",
      " [0.56053176 0.68894806 0.73272613 0.80803498 0.        ]\n",
      " [0.50327617 0.50371316 0.50417103 0.50417103 0.        ]]\n",
      "L1norm mean is: [2.32450811 1.06948926 1.170589  ]\n",
      "L2norm mean is: [0.5829236  0.34277822 0.36216504]\n",
      "MSE_F mean is: [0.33842451 0.16565469 0.19888512]\n",
      "MSE_Y mean is: [0.49667923 0.4045703  0.41370229] \n",
      "\n",
      "R2= 0.6749126930834013\n",
      "data generated\n",
      "Length-scales are:  [0.1118034 0.1118034 0.1118034 0.1118034 0.1118034]\n",
      "Noise variance is:  0.034067133706892516\n",
      "Average data variance is:  1.0\n",
      "Time taken to draw data :  0.030837297439575195\n",
      "run time is : 32.42647981643677\n"
     ]
    },
    {
     "name": "stderr",
     "output_type": "stream",
     "text": [
      "C:\\Users\\hughw\\Documents\\MSC project\\GP algorithms\\Master function files\\GP_funcs_ZTMFSS.py:55: RuntimeWarning: divide by zero encountered in true_divide\n",
      "  return kern(cdist(X,X, metric = \"seuclidean\", V = 1/l**2),s)\n",
      "C:\\Users\\hughw\\Documents\\MSC project\\GP algorithms\\Master function files\\GP_funcs_ZTMFSS.py:62: RuntimeWarning: divide by zero encountered in true_divide\n",
      "  return kern(cdist(X,Xtest, metric = \"seuclidean\", V = 1/l**2),s).T\n",
      "C:\\Users\\hughw\\anaconda3\\lib\\site-packages\\numpy\\core\\fromnumeric.py:3334: RuntimeWarning: Mean of empty slice.\n",
      "  return _methods._mean(a, axis=axis, dtype=dtype,\n",
      "C:\\Users\\hughw\\anaconda3\\lib\\site-packages\\numpy\\core\\_methods.py:161: RuntimeWarning: invalid value encountered in double_scalars\n",
      "  ret = ret.dtype.type(ret / rcount)\n",
      "C:\\Users\\hughw\\Documents\\MSC project\\GP algorithms\\Master function files\\GP_funcs_ZTMFSS.py:2035: RuntimeWarning: invalid value encountered in true_divide\n",
      "  MCC[j,i]=(TP*TN-FP*FN)/np.sqrt((TP+FP)*(TP+FN)*(TN+FP)*(TN+FN))\n"
     ]
    },
    {
     "name": "stdout",
     "output_type": "stream",
     "text": [
      "run time is : 14.565975427627563\n",
      "run time is : 14.496923446655273\n",
      "run time is : 14.620366096496582\n",
      "run time is : 14.624751567840576\n",
      "run time is : 14.614337921142578\n",
      "run time is : 10.261733531951904\n",
      "run time is : 8.804986953735352\n",
      "run time is : 14.641523361206055\n",
      "run time is : 14.596786975860596\n"
     ]
    },
    {
     "name": "stderr",
     "output_type": "stream",
     "text": [
      "C:\\Users\\hughw\\Documents\\MSC project\\GP algorithms\\Master function files\\GP_funcs_ZTMFSS.py:55: RuntimeWarning: divide by zero encountered in true_divide\n",
      "  return kern(cdist(X,X, metric = \"seuclidean\", V = 1/l**2),s)\n",
      "C:\\Users\\hughw\\Documents\\MSC project\\GP algorithms\\Master function files\\GP_funcs_ZTMFSS.py:62: RuntimeWarning: divide by zero encountered in true_divide\n",
      "  return kern(cdist(X,Xtest, metric = \"seuclidean\", V = 1/l**2),s).T\n"
     ]
    },
    {
     "name": "stdout",
     "output_type": "stream",
     "text": [
      "RUN 36\n",
      "Runtime mean is: [ 48.57012037 163.47137605 163.46236172]\n",
      "Weighted accuracy mean is: [[0.85818713 0.86023392 0.86476608 0.55526316 0.5       ]\n",
      " [0.89853801 0.9130117  0.91535088 0.9127193  0.        ]\n",
      " [0.89108187 0.89122807 0.89137427 0.89137427 0.        ]]\n",
      "TPR mean is: [[0.92432432 0.92432432 0.78918919 0.11351351 0.        ]\n",
      " [0.88108108 0.87027027 0.86486486 0.84324324 0.        ]\n",
      " [0.88648649 0.88648649 0.88648649 0.88648649 0.        ]]\n",
      "PPV mean is: [[0.21132849 0.21601355 0.48211724        nan        nan]\n",
      " [0.41281416 0.60386633 0.6762489  0.81954097 0.        ]\n",
      " [0.33685175 0.33724921 0.33769471 0.33769471 0.        ]]\n",
      "MCC mean is: [[0.38369568 0.38903396 0.57643192 0.18075634 0.        ]\n",
      " [0.56217308 0.69486983 0.73746471 0.81322322 0.        ]\n",
      " [0.50646494 0.50689012 0.50733562 0.50733562 0.        ]]\n",
      "L1norm mean is: [2.29065797 1.05841554 1.1589253 ]\n",
      "L2norm mean is: [0.57647047 0.34002819 0.35944995]\n",
      "MSE_F mean is: [0.33416162 0.16378532 0.19661435]\n",
      "MSE_Y mean is: [0.49566455 0.40522673 0.41429955] \n",
      "\n",
      "R2= 0.6665978054717606\n",
      "data generated\n",
      "Length-scales are:  [0.1118034 0.1118034 0.1118034 0.1118034 0.1118034]\n",
      "Noise variance is:  0.026368275291408037\n",
      "Average data variance is:  1.0\n",
      "Time taken to draw data :  0.03105449676513672\n",
      "run time is : 31.96873426437378\n"
     ]
    },
    {
     "name": "stderr",
     "output_type": "stream",
     "text": [
      "C:\\Users\\hughw\\Documents\\MSC project\\GP algorithms\\Master function files\\GP_funcs_ZTMFSS.py:55: RuntimeWarning: divide by zero encountered in true_divide\n",
      "  return kern(cdist(X,X, metric = \"seuclidean\", V = 1/l**2),s)\n",
      "C:\\Users\\hughw\\Documents\\MSC project\\GP algorithms\\Master function files\\GP_funcs_ZTMFSS.py:62: RuntimeWarning: divide by zero encountered in true_divide\n",
      "  return kern(cdist(X,Xtest, metric = \"seuclidean\", V = 1/l**2),s).T\n",
      "C:\\Users\\hughw\\anaconda3\\lib\\site-packages\\numpy\\core\\fromnumeric.py:3334: RuntimeWarning: Mean of empty slice.\n",
      "  return _methods._mean(a, axis=axis, dtype=dtype,\n",
      "C:\\Users\\hughw\\anaconda3\\lib\\site-packages\\numpy\\core\\_methods.py:161: RuntimeWarning: invalid value encountered in double_scalars\n",
      "  ret = ret.dtype.type(ret / rcount)\n",
      "C:\\Users\\hughw\\Documents\\MSC project\\GP algorithms\\Master function files\\GP_funcs_ZTMFSS.py:2035: RuntimeWarning: invalid value encountered in true_divide\n",
      "  MCC[j,i]=(TP*TN-FP*FN)/np.sqrt((TP+FP)*(TP+FN)*(TN+FP)*(TN+FN))\n"
     ]
    },
    {
     "name": "stdout",
     "output_type": "stream",
     "text": [
      "run time is : 14.431720972061157\n",
      "run time is : 14.611449241638184\n",
      "run time is : 14.787447214126587\n",
      "run time is : 14.810386419296265\n",
      "run time is : 14.897141933441162\n",
      "run time is : 8.975754261016846\n",
      "run time is : 7.536811113357544\n",
      "run time is : 14.936057567596436\n",
      "run time is : 14.973336935043335\n"
     ]
    },
    {
     "name": "stderr",
     "output_type": "stream",
     "text": [
      "C:\\Users\\hughw\\Documents\\MSC project\\GP algorithms\\Master function files\\GP_funcs_ZTMFSS.py:55: RuntimeWarning: divide by zero encountered in true_divide\n",
      "  return kern(cdist(X,X, metric = \"seuclidean\", V = 1/l**2),s)\n",
      "C:\\Users\\hughw\\Documents\\MSC project\\GP algorithms\\Master function files\\GP_funcs_ZTMFSS.py:62: RuntimeWarning: divide by zero encountered in true_divide\n",
      "  return kern(cdist(X,Xtest, metric = \"seuclidean\", V = 1/l**2),s).T\n"
     ]
    },
    {
     "name": "stdout",
     "output_type": "stream",
     "text": [
      "RUN 37\n",
      "Runtime mean is: [ 48.13362785 162.51880023 162.50737322]\n",
      "Weighted accuracy mean is: [[0.86073969 0.8628734  0.86529161 0.55376956 0.5       ]\n",
      " [0.9002845  0.91522048 0.91749644 0.91507824 0.        ]\n",
      " [0.89302987 0.89317212 0.89331437 0.89331437 0.        ]]\n",
      "TPR mean is: [[0.92105263 0.92105263 0.78947368 0.11052632 0.        ]\n",
      " [0.87894737 0.86842105 0.86315789 0.83684211 0.        ]\n",
      " [0.88421053 0.88421053 0.88421053 0.88421053 0.        ]]\n",
      "PPV mean is: [[0.21130738 0.21586915 0.49048258        nan        nan]\n",
      " [0.41072256 0.60902774 0.68476867 0.82428989 0.        ]\n",
      " [0.33550603 0.33589302 0.3363268  0.3363268  0.        ]]\n",
      "MCC mean is: [[0.38298593 0.38818373 0.58203829 0.1759996  0.        ]\n",
      " [0.56001234 0.6973594  0.74147239 0.8119955  0.        ]\n",
      " [0.50462031 0.5050343  0.50546808 0.50546808 0.        ]]\n",
      "L1norm mean is: [2.26296239 1.04792639 1.14715919]\n",
      "L2norm mean is: [0.56981321 0.33651306 0.3556579 ]\n",
      "MSE_F mean is: [0.33274219 0.16244833 0.1952873 ]\n",
      "MSE_Y mean is: [0.49438123 0.4041481  0.4133885 ] \n",
      "\n",
      "R2= 0.6508304739427303\n",
      "data generated\n",
      "Length-scales are:  [0.1118034 0.1118034 0.1118034 0.1118034 0.1118034]\n",
      "Noise variance is:  0.03209970886557939\n",
      "Average data variance is:  1.0\n",
      "Time taken to draw data :  0.0348660945892334\n",
      "run time is : 33.536303997039795\n"
     ]
    },
    {
     "name": "stderr",
     "output_type": "stream",
     "text": [
      "C:\\Users\\hughw\\Documents\\MSC project\\GP algorithms\\Master function files\\GP_funcs_ZTMFSS.py:55: RuntimeWarning: divide by zero encountered in true_divide\n",
      "  return kern(cdist(X,X, metric = \"seuclidean\", V = 1/l**2),s)\n",
      "C:\\Users\\hughw\\Documents\\MSC project\\GP algorithms\\Master function files\\GP_funcs_ZTMFSS.py:62: RuntimeWarning: divide by zero encountered in true_divide\n",
      "  return kern(cdist(X,Xtest, metric = \"seuclidean\", V = 1/l**2),s).T\n",
      "C:\\Users\\hughw\\anaconda3\\lib\\site-packages\\numpy\\core\\fromnumeric.py:3334: RuntimeWarning: Mean of empty slice.\n",
      "  return _methods._mean(a, axis=axis, dtype=dtype,\n",
      "C:\\Users\\hughw\\anaconda3\\lib\\site-packages\\numpy\\core\\_methods.py:161: RuntimeWarning: invalid value encountered in double_scalars\n",
      "  ret = ret.dtype.type(ret / rcount)\n",
      "C:\\Users\\hughw\\Documents\\MSC project\\GP algorithms\\Master function files\\GP_funcs_ZTMFSS.py:2035: RuntimeWarning: invalid value encountered in true_divide\n",
      "  MCC[j,i]=(TP*TN-FP*FN)/np.sqrt((TP+FP)*(TP+FN)*(TN+FP)*(TN+FN))\n"
     ]
    },
    {
     "name": "stdout",
     "output_type": "stream",
     "text": [
      "run time is : 15.005900859832764\n",
      "run time is : 14.892643690109253\n",
      "run time is : 15.152468919754028\n",
      "run time is : 15.391833305358887\n",
      "run time is : 16.29392719268799\n",
      "run time is : 9.962355613708496\n",
      "run time is : 11.365600347518921\n",
      "run time is : 15.42374873161316\n",
      "run time is : 15.173416137695312\n",
      "run time is : 15.196356773376465\n"
     ]
    },
    {
     "name": "stderr",
     "output_type": "stream",
     "text": [
      "C:\\Users\\hughw\\Documents\\MSC project\\GP algorithms\\Master function files\\GP_funcs_ZTMFSS.py:55: RuntimeWarning: divide by zero encountered in true_divide\n",
      "  return kern(cdist(X,X, metric = \"seuclidean\", V = 1/l**2),s)\n",
      "C:\\Users\\hughw\\Documents\\MSC project\\GP algorithms\\Master function files\\GP_funcs_ZTMFSS.py:62: RuntimeWarning: divide by zero encountered in true_divide\n",
      "  return kern(cdist(X,Xtest, metric = \"seuclidean\", V = 1/l**2),s).T\n"
     ]
    },
    {
     "name": "stdout",
     "output_type": "stream",
     "text": [
      "RUN 38\n",
      "Runtime mean is: [ 47.75974664 162.23316778 162.22262199]\n",
      "Weighted accuracy mean is: [[0.85969529 0.86177285 0.86606648 0.55235457 0.5       ]\n",
      " [0.89916898 0.91468144 0.91703601 0.91204986 0.        ]\n",
      " [0.89182825 0.89196676 0.89210526 0.89210526 0.        ]]\n",
      "TPR mean is: [[0.90769231 0.90769231 0.77948718 0.10769231 0.        ]\n",
      " [0.86666667 0.85641026 0.85128205 0.82564103 0.        ]\n",
      " [0.87179487 0.87179487 0.87179487 0.87179487 0.        ]]\n",
      "PPV mean is: [[0.20822025 0.21277604 0.48523211        nan        nan]\n",
      " [0.40361002 0.59807365 0.6718725  0.82024827 0.        ]\n",
      " [0.33010844 0.33048551 0.33090816 0.33090816 0.        ]]\n",
      "MCC mean is: [[0.37572184 0.38097433 0.57472243 0.17089558 0.        ]\n",
      " [0.54977159 0.68493051 0.7279124  0.80393402 0.        ]\n",
      " [0.4955323  0.49593568 0.49635833 0.49635833 0.        ]]\n",
      "L1norm mean is: [2.26233295 1.05549039 1.1560023 ]\n",
      "L2norm mean is: [0.57037137 0.3374335  0.3566747 ]\n",
      "MSE_F mean is: [0.33236426 0.16221841 0.19451291]\n",
      "MSE_Y mean is: [0.49242656 0.4028918  0.41211298] \n",
      "\n",
      "R2= 0.6289816176150459\n",
      "data generated\n",
      "Length-scales are:  [0.1118034 0.1118034 0.1118034 0.1118034 0.1118034]\n",
      "Noise variance is:  0.019299195491685614\n",
      "Average data variance is:  1.0\n",
      "Time taken to draw data :  0.03490567207336426\n",
      "run time is : 33.74474811553955\n"
     ]
    },
    {
     "name": "stderr",
     "output_type": "stream",
     "text": [
      "C:\\Users\\hughw\\Documents\\MSC project\\GP algorithms\\Master function files\\GP_funcs_ZTMFSS.py:55: RuntimeWarning: divide by zero encountered in true_divide\n",
      "  return kern(cdist(X,X, metric = \"seuclidean\", V = 1/l**2),s)\n",
      "C:\\Users\\hughw\\Documents\\MSC project\\GP algorithms\\Master function files\\GP_funcs_ZTMFSS.py:62: RuntimeWarning: divide by zero encountered in true_divide\n",
      "  return kern(cdist(X,Xtest, metric = \"seuclidean\", V = 1/l**2),s).T\n",
      "C:\\Users\\hughw\\anaconda3\\lib\\site-packages\\numpy\\core\\fromnumeric.py:3334: RuntimeWarning: Mean of empty slice.\n",
      "  return _methods._mean(a, axis=axis, dtype=dtype,\n",
      "C:\\Users\\hughw\\anaconda3\\lib\\site-packages\\numpy\\core\\_methods.py:161: RuntimeWarning: invalid value encountered in double_scalars\n",
      "  ret = ret.dtype.type(ret / rcount)\n",
      "C:\\Users\\hughw\\Documents\\MSC project\\GP algorithms\\Master function files\\GP_funcs_ZTMFSS.py:2035: RuntimeWarning: invalid value encountered in true_divide\n",
      "  MCC[j,i]=(TP*TN-FP*FN)/np.sqrt((TP+FP)*(TP+FN)*(TN+FP)*(TN+FN))\n"
     ]
    },
    {
     "name": "stdout",
     "output_type": "stream",
     "text": [
      "run time is : 15.035747528076172\n",
      "run time is : 14.844603061676025\n",
      "run time is : 14.842316627502441\n",
      "run time is : 14.6634840965271\n",
      "run time is : 13.168850898742676\n",
      "run time is : 8.766570091247559\n",
      "run time is : 14.588451623916626\n",
      "run time is : 14.56875991821289\n",
      "run time is : 14.599520683288574\n"
     ]
    },
    {
     "name": "stderr",
     "output_type": "stream",
     "text": [
      "C:\\Users\\hughw\\Documents\\MSC project\\GP algorithms\\Master function files\\GP_funcs_ZTMFSS.py:55: RuntimeWarning: divide by zero encountered in true_divide\n",
      "  return kern(cdist(X,X, metric = \"seuclidean\", V = 1/l**2),s)\n",
      "C:\\Users\\hughw\\Documents\\MSC project\\GP algorithms\\Master function files\\GP_funcs_ZTMFSS.py:62: RuntimeWarning: divide by zero encountered in true_divide\n",
      "  return kern(cdist(X,Xtest, metric = \"seuclidean\", V = 1/l**2),s).T\n"
     ]
    },
    {
     "name": "stdout",
     "output_type": "stream",
     "text": [
      "RUN 39\n",
      "Runtime mean is: [ 47.40974643 161.49737746 161.48611612]\n",
      "Weighted accuracy mean is: [[0.85290148 0.85506073 0.8611336  0.55087719 0.5       ]\n",
      " [0.89230769 0.90796221 0.91025641 0.90647773 0.        ]\n",
      " [0.88502024 0.8851552  0.88529015 0.88529015 0.        ]]\n",
      "TPR mean is: [[0.91  0.91  0.775 0.105 0.   ]\n",
      " [0.87  0.86  0.855 0.825 0.   ]\n",
      " [0.875 0.875 0.875 0.875 0.   ]]\n",
      "PPV mean is: [[0.20692099 0.21176699 0.48060131        nan        nan]\n",
      " [0.40244834 0.59353848 0.66549235 0.81224206 0.        ]\n",
      " [0.32810573 0.32847337 0.32888546 0.32888546 0.        ]]\n",
      "MCC mean is: [[0.3746895  0.38042412 0.56991336 0.16662319 0.        ]\n",
      " [0.55024236 0.68333877 0.7252461  0.79905714 0.        ]\n",
      " [0.49461478 0.49500807 0.49542015 0.49542015 0.        ]]\n",
      "L1norm mean is: [2.27587185 1.06374751 1.16762402]\n",
      "L2norm mean is: [0.57275459 0.34035804 0.35961334]\n",
      "MSE_F mean is: [0.33715142 0.16491864 0.19872594]\n",
      "MSE_Y mean is: [0.49700768 0.40625972 0.4153089 ] \n",
      "\n",
      "R2= 0.6461982046351451\n",
      "data generated\n",
      "Length-scales are:  [0.1118034 0.1118034 0.1118034 0.1118034 0.1118034]\n",
      "Noise variance is:  0.030258707464149544\n",
      "Average data variance is:  1.0\n",
      "Time taken to draw data :  0.03094935417175293\n",
      "run time is : 32.1161048412323\n"
     ]
    },
    {
     "name": "stderr",
     "output_type": "stream",
     "text": [
      "C:\\Users\\hughw\\Documents\\MSC project\\GP algorithms\\Master function files\\GP_funcs_ZTMFSS.py:55: RuntimeWarning: divide by zero encountered in true_divide\n",
      "  return kern(cdist(X,X, metric = \"seuclidean\", V = 1/l**2),s)\n",
      "C:\\Users\\hughw\\Documents\\MSC project\\GP algorithms\\Master function files\\GP_funcs_ZTMFSS.py:62: RuntimeWarning: divide by zero encountered in true_divide\n",
      "  return kern(cdist(X,Xtest, metric = \"seuclidean\", V = 1/l**2),s).T\n",
      "C:\\Users\\hughw\\anaconda3\\lib\\site-packages\\numpy\\core\\fromnumeric.py:3334: RuntimeWarning: Mean of empty slice.\n",
      "  return _methods._mean(a, axis=axis, dtype=dtype,\n",
      "C:\\Users\\hughw\\anaconda3\\lib\\site-packages\\numpy\\core\\_methods.py:161: RuntimeWarning: invalid value encountered in double_scalars\n",
      "  ret = ret.dtype.type(ret / rcount)\n",
      "C:\\Users\\hughw\\Documents\\MSC project\\GP algorithms\\Master function files\\GP_funcs_ZTMFSS.py:2035: RuntimeWarning: invalid value encountered in true_divide\n",
      "  MCC[j,i]=(TP*TN-FP*FN)/np.sqrt((TP+FP)*(TP+FN)*(TN+FP)*(TN+FN))\n"
     ]
    },
    {
     "name": "stdout",
     "output_type": "stream",
     "text": [
      "run time is : 14.333343982696533\n",
      "run time is : 14.368123769760132\n",
      "run time is : 14.389290809631348\n",
      "run time is : 14.423420906066895\n",
      "run time is : 13.022382259368896\n",
      "run time is : 11.552267789840698\n",
      "run time is : 8.825090885162354\n",
      "run time is : 14.938085317611694\n",
      "run time is : 14.956994771957397\n"
     ]
    },
    {
     "name": "stderr",
     "output_type": "stream",
     "text": [
      "C:\\Users\\hughw\\Documents\\MSC project\\GP algorithms\\Master function files\\GP_funcs_ZTMFSS.py:55: RuntimeWarning: divide by zero encountered in true_divide\n",
      "  return kern(cdist(X,X, metric = \"seuclidean\", V = 1/l**2),s)\n",
      "C:\\Users\\hughw\\Documents\\MSC project\\GP algorithms\\Master function files\\GP_funcs_ZTMFSS.py:62: RuntimeWarning: divide by zero encountered in true_divide\n",
      "  return kern(cdist(X,Xtest, metric = \"seuclidean\", V = 1/l**2),s).T\n"
     ]
    },
    {
     "name": "stdout",
     "output_type": "stream",
     "text": [
      "RUN 40\n",
      "Runtime mean is: [ 47.03710164 160.69391084 160.68141598]\n",
      "Weighted accuracy mean is: [[0.85302632 0.85552632 0.85868421 0.54960526 0.5       ]\n",
      " [0.89381579 0.90934211 0.91157895 0.90578947 0.        ]\n",
      " [0.88592105 0.88605263 0.88618421 0.88618421 0.        ]]\n",
      "TPR mean is: [[0.91219512 0.91219512 0.77560976 0.10243902 0.        ]\n",
      " [0.87317073 0.86341463 0.85853659 0.82926829 0.        ]\n",
      " [0.87804878 0.87804878 0.87804878 0.87804878 0.        ]]\n",
      "PPV mean is: [[0.20535846 0.21008626 0.47375737        nan        nan]\n",
      " [0.40201339 0.5901484  0.66034731 0.81275648 0.        ]\n",
      " [0.33118962 0.3315483  0.33195034 0.33195034 0.        ]]\n",
      "MCC mean is: [[0.37317612 0.37877087 0.56440629 0.16199684 0.        ]\n",
      " [0.5512971  0.68258812 0.72347332 0.80171559 0.        ]\n",
      " [0.49846715 0.49885085 0.49925289 0.49925289 0.        ]]\n",
      "L1norm mean is: [2.32408082 1.05598185 1.15509821]\n",
      "L2norm mean is: [0.57967808 0.33776457 0.35615452]\n",
      "MSE_F mean is: [0.34178672 0.16460613 0.19744052]\n",
      "MSE_Y mean is: [0.50033379 0.40529376 0.4141143 ] \n",
      "\n",
      "R2= 0.625144710510123\n",
      "data generated\n",
      "Length-scales are:  [0.1118034 0.1118034 0.1118034 0.1118034 0.1118034]\n",
      "Noise variance is:  0.012415829504954585\n",
      "Average data variance is:  1.0\n",
      "Time taken to draw data :  0.03384971618652344\n",
      "run time is : 32.82054591178894\n"
     ]
    },
    {
     "name": "stderr",
     "output_type": "stream",
     "text": [
      "C:\\Users\\hughw\\Documents\\MSC project\\GP algorithms\\Master function files\\GP_funcs_ZTMFSS.py:55: RuntimeWarning: divide by zero encountered in true_divide\n",
      "  return kern(cdist(X,X, metric = \"seuclidean\", V = 1/l**2),s)\n",
      "C:\\Users\\hughw\\Documents\\MSC project\\GP algorithms\\Master function files\\GP_funcs_ZTMFSS.py:62: RuntimeWarning: divide by zero encountered in true_divide\n",
      "  return kern(cdist(X,Xtest, metric = \"seuclidean\", V = 1/l**2),s).T\n",
      "C:\\Users\\hughw\\anaconda3\\lib\\site-packages\\numpy\\core\\fromnumeric.py:3334: RuntimeWarning: Mean of empty slice.\n",
      "  return _methods._mean(a, axis=axis, dtype=dtype,\n",
      "C:\\Users\\hughw\\anaconda3\\lib\\site-packages\\numpy\\core\\_methods.py:161: RuntimeWarning: invalid value encountered in double_scalars\n",
      "  ret = ret.dtype.type(ret / rcount)\n",
      "C:\\Users\\hughw\\Documents\\MSC project\\GP algorithms\\Master function files\\GP_funcs_ZTMFSS.py:2035: RuntimeWarning: invalid value encountered in true_divide\n",
      "  MCC[j,i]=(TP*TN-FP*FN)/np.sqrt((TP+FP)*(TP+FN)*(TN+FP)*(TN+FN))\n"
     ]
    },
    {
     "name": "stdout",
     "output_type": "stream",
     "text": [
      "run time is : 14.5634286403656\n",
      "run time is : 14.537457466125488\n",
      "run time is : 14.532241582870483\n",
      "run time is : 11.620002508163452\n",
      "run time is : 13.0695161819458\n",
      "run time is : 11.637798070907593\n",
      "run time is : 7.2842230796813965\n",
      "run time is : 7.247899055480957\n",
      "run time is : 14.541836261749268\n"
     ]
    },
    {
     "name": "stderr",
     "output_type": "stream",
     "text": [
      "C:\\Users\\hughw\\Documents\\MSC project\\GP algorithms\\Master function files\\GP_funcs_ZTMFSS.py:55: RuntimeWarning: divide by zero encountered in true_divide\n",
      "  return kern(cdist(X,X, metric = \"seuclidean\", V = 1/l**2),s)\n",
      "C:\\Users\\hughw\\Documents\\MSC project\\GP algorithms\\Master function files\\GP_funcs_ZTMFSS.py:62: RuntimeWarning: divide by zero encountered in true_divide\n",
      "  return kern(cdist(X,Xtest, metric = \"seuclidean\", V = 1/l**2),s).T\n"
     ]
    },
    {
     "name": "stdout",
     "output_type": "stream",
     "text": [
      "RUN 41\n",
      "Runtime mean is: [ 46.69898023 159.62883607 159.61595572]\n",
      "Weighted accuracy mean is: [[0.85275995 0.85519897 0.857638   0.54826701 0.5       ]\n",
      " [0.89537869 0.91078306 0.91296534 0.90795892 0.        ]\n",
      " [0.88793325 0.88806162 0.88818999 0.88818999 0.        ]]\n",
      "TPR mean is: [[0.90952381 0.90952381 0.77619048 0.1047619  0.        ]\n",
      " [0.87142857 0.86190476 0.85714286 0.82857143 0.        ]\n",
      " [0.87619048 0.87619048 0.87619048 0.87619048 0.        ]]\n",
      "PPV mean is: [[0.20364357 0.20825881 0.46928016        nan        nan]\n",
      " [0.40831466 0.59990677 0.66843428 0.81721466 0.        ]\n",
      " [0.3369096  0.33725974 0.3376522  0.3376522  0.        ]]\n",
      "MCC mean is: [[0.37025081 0.37571235 0.56135778 0.1651627  0.        ]\n",
      " [0.55519124 0.6875207  0.72743245 0.80381181 0.        ]\n",
      " [0.50222699 0.50260155 0.50299402 0.50299402 0.        ]]\n",
      "L1norm mean is: [2.35589202 1.04974129 1.14452564]\n",
      "L2norm mean is: [0.58509093 0.33661068 0.35448635]\n",
      "MSE_F mean is: [0.34792444 0.16299162 0.19530811]\n",
      "MSE_Y mean is: [0.5026186  0.40422961 0.4127833 ] \n",
      "\n",
      "R2= 0.6868803226541894\n",
      "data generated\n",
      "Length-scales are:  [0.1118034 0.1118034 0.1118034 0.1118034 0.1118034]\n",
      "Noise variance is:  0.03031438298925549\n",
      "Average data variance is:  1.0\n",
      "Time taken to draw data :  0.03120112419128418\n",
      "run time is : 32.287926197052\n"
     ]
    },
    {
     "name": "stderr",
     "output_type": "stream",
     "text": [
      "C:\\Users\\hughw\\Documents\\MSC project\\GP algorithms\\Master function files\\GP_funcs_ZTMFSS.py:55: RuntimeWarning: divide by zero encountered in true_divide\n",
      "  return kern(cdist(X,X, metric = \"seuclidean\", V = 1/l**2),s)\n",
      "C:\\Users\\hughw\\Documents\\MSC project\\GP algorithms\\Master function files\\GP_funcs_ZTMFSS.py:62: RuntimeWarning: divide by zero encountered in true_divide\n",
      "  return kern(cdist(X,Xtest, metric = \"seuclidean\", V = 1/l**2),s).T\n",
      "C:\\Users\\hughw\\anaconda3\\lib\\site-packages\\numpy\\core\\fromnumeric.py:3334: RuntimeWarning: Mean of empty slice.\n",
      "  return _methods._mean(a, axis=axis, dtype=dtype,\n",
      "C:\\Users\\hughw\\anaconda3\\lib\\site-packages\\numpy\\core\\_methods.py:161: RuntimeWarning: invalid value encountered in double_scalars\n",
      "  ret = ret.dtype.type(ret / rcount)\n",
      "C:\\Users\\hughw\\Documents\\MSC project\\GP algorithms\\Master function files\\GP_funcs_ZTMFSS.py:2035: RuntimeWarning: invalid value encountered in true_divide\n",
      "  MCC[j,i]=(TP*TN-FP*FN)/np.sqrt((TP+FP)*(TP+FN)*(TN+FP)*(TN+FN))\n"
     ]
    },
    {
     "name": "stdout",
     "output_type": "stream",
     "text": [
      "run time is : 14.43946647644043\n",
      "run time is : 14.441800355911255\n",
      "run time is : 14.472214460372925\n",
      "run time is : 14.474303483963013\n",
      "run time is : 13.216280221939087\n",
      "run time is : 8.936090469360352\n",
      "run time is : 8.858313083648682\n",
      "run time is : 14.878200054168701\n",
      "run time is : 14.937050104141235\n"
     ]
    },
    {
     "name": "stderr",
     "output_type": "stream",
     "text": [
      "C:\\Users\\hughw\\Documents\\MSC project\\GP algorithms\\Master function files\\GP_funcs_ZTMFSS.py:55: RuntimeWarning: divide by zero encountered in true_divide\n",
      "  return kern(cdist(X,X, metric = \"seuclidean\", V = 1/l**2),s)\n",
      "C:\\Users\\hughw\\Documents\\MSC project\\GP algorithms\\Master function files\\GP_funcs_ZTMFSS.py:62: RuntimeWarning: divide by zero encountered in true_divide\n",
      "  return kern(cdist(X,Xtest, metric = \"seuclidean\", V = 1/l**2),s).T\n"
     ]
    },
    {
     "name": "stdout",
     "output_type": "stream",
     "text": [
      "RUN 42\n",
      "Runtime mean is: [ 46.36418683 158.83819007 158.82515347]\n",
      "Weighted accuracy mean is: [[0.85062657 0.85300752 0.85739348 0.54937343 0.5       ]\n",
      " [0.8952381  0.91052632 0.91265664 0.90776942 0.        ]\n",
      " [0.88784461 0.88796992 0.88809524 0.88809524 0.        ]]\n",
      "TPR mean is: [[0.90232558 0.90232558 0.76744186 0.10232558 0.        ]\n",
      " [0.86511628 0.85581395 0.85116279 0.81860465 0.        ]\n",
      " [0.86976744 0.86976744 0.86976744 0.86976744 0.        ]]\n",
      "PPV mean is: [[0.20257965 0.20729155 0.4661186         nan        nan]\n",
      " [0.40516146 0.59990894 0.67614511 0.82146549 0.        ]\n",
      " [0.33444122 0.33478321 0.33516655 0.33516655 0.        ]]\n",
      "MCC mean is: [[0.36721628 0.37280744 0.55594121 0.16132171 0.        ]\n",
      " [0.55063506 0.68499574 0.72834261 0.7995999  0.        ]\n",
      " [0.49800355 0.49836941 0.49875274 0.49875274 0.        ]]\n",
      "L1norm mean is: [2.34494273 1.04488521 1.14059859]\n",
      "L2norm mean is: [0.58268477 0.33506778 0.35305146]\n",
      "MSE_F mean is: [0.34800979 0.16158199 0.1939527 ]\n",
      "MSE_Y mean is: [0.49904216 0.40208964 0.41064935] \n",
      "\n",
      "R2= 0.6668713934717317\n",
      "data generated\n",
      "Length-scales are:  [0.1118034 0.1118034 0.1118034 0.1118034 0.1118034]\n",
      "Noise variance is:  0.03708622034840748\n",
      "Average data variance is:  1.0\n",
      "Time taken to draw data :  0.032842397689819336\n",
      "run time is : 32.20376992225647\n"
     ]
    },
    {
     "name": "stderr",
     "output_type": "stream",
     "text": [
      "C:\\Users\\hughw\\Documents\\MSC project\\GP algorithms\\Master function files\\GP_funcs_ZTMFSS.py:55: RuntimeWarning: divide by zero encountered in true_divide\n",
      "  return kern(cdist(X,X, metric = \"seuclidean\", V = 1/l**2),s)\n",
      "C:\\Users\\hughw\\Documents\\MSC project\\GP algorithms\\Master function files\\GP_funcs_ZTMFSS.py:62: RuntimeWarning: divide by zero encountered in true_divide\n",
      "  return kern(cdist(X,Xtest, metric = \"seuclidean\", V = 1/l**2),s).T\n",
      "C:\\Users\\hughw\\anaconda3\\lib\\site-packages\\numpy\\core\\fromnumeric.py:3334: RuntimeWarning: Mean of empty slice.\n",
      "  return _methods._mean(a, axis=axis, dtype=dtype,\n",
      "C:\\Users\\hughw\\anaconda3\\lib\\site-packages\\numpy\\core\\_methods.py:161: RuntimeWarning: invalid value encountered in double_scalars\n",
      "  ret = ret.dtype.type(ret / rcount)\n",
      "C:\\Users\\hughw\\Documents\\MSC project\\GP algorithms\\Master function files\\GP_funcs_ZTMFSS.py:2035: RuntimeWarning: invalid value encountered in true_divide\n",
      "  MCC[j,i]=(TP*TN-FP*FN)/np.sqrt((TP+FP)*(TP+FN)*(TN+FP)*(TN+FN))\n"
     ]
    },
    {
     "name": "stdout",
     "output_type": "stream",
     "text": [
      "run time is : 14.472353458404541\n",
      "run time is : 14.512041807174683\n",
      "run time is : 13.091706991195679\n",
      "run time is : 13.076115131378174\n",
      "run time is : 13.072966575622559\n",
      "run time is : 8.709210395812988\n",
      "run time is : 7.27011251449585\n",
      "run time is : 14.516087532043457\n",
      "run time is : 14.508167266845703\n"
     ]
    },
    {
     "name": "stderr",
     "output_type": "stream",
     "text": [
      "C:\\Users\\hughw\\Documents\\MSC project\\GP algorithms\\Master function files\\GP_funcs_ZTMFSS.py:55: RuntimeWarning: divide by zero encountered in true_divide\n",
      "  return kern(cdist(X,X, metric = \"seuclidean\", V = 1/l**2),s)\n",
      "C:\\Users\\hughw\\Documents\\MSC project\\GP algorithms\\Master function files\\GP_funcs_ZTMFSS.py:62: RuntimeWarning: divide by zero encountered in true_divide\n",
      "  return kern(cdist(X,Xtest, metric = \"seuclidean\", V = 1/l**2),s).T\n"
     ]
    },
    {
     "name": "stdout",
     "output_type": "stream",
     "text": [
      "RUN 43\n",
      "Runtime mean is: [ 46.04269541 157.95599675 157.9429231 ]\n",
      "Weighted accuracy mean is: [[0.84749082 0.8499388  0.85324357 0.54822521 0.5       ]\n",
      " [0.89204406 0.90771114 0.91003672 0.90293758 0.        ]\n",
      " [0.88457772 0.88470012 0.88482252 0.88482252 0.        ]]\n",
      "TPR mean is: [[0.9        0.9        0.76363636 0.1        0.        ]\n",
      " [0.86363636 0.85454545 0.85       0.81818182 0.        ]\n",
      " [0.86818182 0.86818182 0.86818182 0.86818182 0.        ]]\n",
      "PPV mean is: [[0.20302607 0.20792797 0.46916136        nan        nan]\n",
      " [0.40504416 0.60900192 0.68350545 0.82552309 0.        ]\n",
      " [0.33383329 0.33416751 0.33454214 0.33454214 0.        ]]\n",
      "MCC mean is: [[0.36728478 0.3730793  0.55646407 0.15765531 0.        ]\n",
      " [0.55028661 0.68964939 0.73201111 0.80164891 0.        ]\n",
      " [0.49707286 0.4974304  0.49780503 0.49780503 0.        ]]\n",
      "L1norm mean is: [2.31615736 1.0356859  1.13274129]\n",
      "L2norm mean is: [0.57591685 0.33234439 0.35063917]\n",
      "MSE_F mean is: [0.34430094 0.15972823 0.1926512 ]\n",
      "MSE_Y mean is: [0.49479169 0.3999378  0.40881428] \n",
      "\n",
      "R2= 0.6585145392789092\n",
      "data generated\n",
      "Length-scales are:  [0.1118034 0.1118034 0.1118034 0.1118034 0.1118034]\n",
      "Noise variance is:  0.04161179504273189\n",
      "Average data variance is:  1.0\n",
      "Time taken to draw data :  0.03201556205749512\n",
      "run time is : 32.31992769241333\n"
     ]
    },
    {
     "name": "stderr",
     "output_type": "stream",
     "text": [
      "C:\\Users\\hughw\\Documents\\MSC project\\GP algorithms\\Master function files\\GP_funcs_ZTMFSS.py:55: RuntimeWarning: divide by zero encountered in true_divide\n",
      "  return kern(cdist(X,X, metric = \"seuclidean\", V = 1/l**2),s)\n",
      "C:\\Users\\hughw\\Documents\\MSC project\\GP algorithms\\Master function files\\GP_funcs_ZTMFSS.py:62: RuntimeWarning: divide by zero encountered in true_divide\n",
      "  return kern(cdist(X,Xtest, metric = \"seuclidean\", V = 1/l**2),s).T\n",
      "C:\\Users\\hughw\\anaconda3\\lib\\site-packages\\numpy\\core\\fromnumeric.py:3334: RuntimeWarning: Mean of empty slice.\n",
      "  return _methods._mean(a, axis=axis, dtype=dtype,\n",
      "C:\\Users\\hughw\\anaconda3\\lib\\site-packages\\numpy\\core\\_methods.py:161: RuntimeWarning: invalid value encountered in double_scalars\n",
      "  ret = ret.dtype.type(ret / rcount)\n",
      "C:\\Users\\hughw\\Documents\\MSC project\\GP algorithms\\Master function files\\GP_funcs_ZTMFSS.py:2035: RuntimeWarning: invalid value encountered in true_divide\n",
      "  MCC[j,i]=(TP*TN-FP*FN)/np.sqrt((TP+FP)*(TP+FN)*(TN+FP)*(TN+FN))\n"
     ]
    },
    {
     "name": "stdout",
     "output_type": "stream",
     "text": [
      "run time is : 14.443214416503906\n",
      "run time is : 14.442211866378784\n",
      "run time is : 14.56605315208435\n",
      "run time is : 14.840288639068604\n",
      "run time is : 14.891162872314453\n",
      "run time is : 14.899117231369019\n",
      "run time is : 7.442095518112183\n",
      "run time is : 14.721231460571289\n",
      "run time is : 14.564711570739746\n"
     ]
    },
    {
     "name": "stderr",
     "output_type": "stream",
     "text": [
      "C:\\Users\\hughw\\Documents\\MSC project\\GP algorithms\\Master function files\\GP_funcs_ZTMFSS.py:55: RuntimeWarning: divide by zero encountered in true_divide\n",
      "  return kern(cdist(X,X, metric = \"seuclidean\", V = 1/l**2),s)\n",
      "C:\\Users\\hughw\\Documents\\MSC project\\GP algorithms\\Master function files\\GP_funcs_ZTMFSS.py:62: RuntimeWarning: divide by zero encountered in true_divide\n",
      "  return kern(cdist(X,Xtest, metric = \"seuclidean\", V = 1/l**2),s).T\n"
     ]
    },
    {
     "name": "stdout",
     "output_type": "stream",
     "text": [
      "RUN 44\n",
      "Runtime mean is: [ 45.73812178 157.3798903  157.36626434]\n",
      "Weighted accuracy mean is: [[0.84700957 0.84952153 0.85179426 0.54712919 0.5       ]\n",
      " [0.89150718 0.90753589 0.90980861 0.90287081 0.        ]\n",
      " [0.88385167 0.88397129 0.88409091 0.88409091 0.        ]]\n",
      "TPR mean is: [[0.90222222 0.90222222 0.76       0.09777778 0.        ]\n",
      " [0.86666667 0.85777778 0.85333333 0.81333333 0.        ]\n",
      " [0.87111111 0.87111111 0.87111111 0.87111111 0.        ]]\n",
      "PPV mean is: [[0.2016008  0.20639377 0.46349746        nan        nan]\n",
      " [0.40614418 0.61398706 0.68683496 0.82940035 0.        ]\n",
      " [0.33651578 0.33684258 0.33720888 0.33720888 0.        ]]\n",
      "MCC mean is: [[0.36592039 0.37158615 0.55085678 0.15363947 0.        ]\n",
      " [0.5525594  0.69450282 0.73592317 0.80086937 0.        ]\n",
      " [0.50052818 0.50087778 0.50124407 0.50124407 0.        ]]\n",
      "L1norm mean is: [2.36013145 1.02910709 1.12257774]\n",
      "L2norm mean is: [0.58714938 0.33022255 0.34815954]\n",
      "MSE_F mean is: [0.34244507 0.15782594 0.19006278]\n",
      "MSE_Y mean is: [0.49529238 0.39791692 0.40679565] \n",
      "\n",
      "R2= 0.6469949789306219\n",
      "data generated\n",
      "Length-scales are:  [0.1118034 0.1118034 0.1118034 0.1118034 0.1118034]\n",
      "Noise variance is:  0.05962491397276201\n",
      "Average data variance is:  1.0\n",
      "Time taken to draw data :  0.03139805793762207\n",
      "run time is : 26.177211046218872\n"
     ]
    },
    {
     "name": "stderr",
     "output_type": "stream",
     "text": [
      "C:\\Users\\hughw\\Documents\\MSC project\\GP algorithms\\Master function files\\GP_funcs_ZTMFSS.py:55: RuntimeWarning: divide by zero encountered in true_divide\n",
      "  return kern(cdist(X,X, metric = \"seuclidean\", V = 1/l**2),s)\n",
      "C:\\Users\\hughw\\Documents\\MSC project\\GP algorithms\\Master function files\\GP_funcs_ZTMFSS.py:62: RuntimeWarning: divide by zero encountered in true_divide\n",
      "  return kern(cdist(X,Xtest, metric = \"seuclidean\", V = 1/l**2),s).T\n",
      "C:\\Users\\hughw\\anaconda3\\lib\\site-packages\\numpy\\core\\fromnumeric.py:3334: RuntimeWarning: Mean of empty slice.\n",
      "  return _methods._mean(a, axis=axis, dtype=dtype,\n",
      "C:\\Users\\hughw\\anaconda3\\lib\\site-packages\\numpy\\core\\_methods.py:161: RuntimeWarning: invalid value encountered in double_scalars\n",
      "  ret = ret.dtype.type(ret / rcount)\n",
      "C:\\Users\\hughw\\Documents\\MSC project\\GP algorithms\\Master function files\\GP_funcs_ZTMFSS.py:2035: RuntimeWarning: invalid value encountered in true_divide\n",
      "  MCC[j,i]=(TP*TN-FP*FN)/np.sqrt((TP+FP)*(TP+FN)*(TN+FP)*(TN+FN))\n"
     ]
    },
    {
     "name": "stdout",
     "output_type": "stream",
     "text": [
      "run time is : 14.489616870880127\n",
      "run time is : 14.518372774124146\n",
      "run time is : 14.509937524795532\n",
      "run time is : 14.514945030212402\n",
      "run time is : 14.592743158340454\n",
      "run time is : 13.096980333328247\n",
      "run time is : 7.261987209320068\n",
      "run time is : 14.506787776947021\n",
      "run time is : 14.496415376663208\n"
     ]
    },
    {
     "name": "stderr",
     "output_type": "stream",
     "text": [
      "C:\\Users\\hughw\\Documents\\MSC project\\GP algorithms\\Master function files\\GP_funcs_ZTMFSS.py:55: RuntimeWarning: divide by zero encountered in true_divide\n",
      "  return kern(cdist(X,X, metric = \"seuclidean\", V = 1/l**2),s)\n",
      "C:\\Users\\hughw\\Documents\\MSC project\\GP algorithms\\Master function files\\GP_funcs_ZTMFSS.py:62: RuntimeWarning: divide by zero encountered in true_divide\n",
      "  return kern(cdist(X,Xtest, metric = \"seuclidean\", V = 1/l**2),s).T\n"
     ]
    },
    {
     "name": "stdout",
     "output_type": "stream",
     "text": [
      "RUN 45\n",
      "Runtime mean is: [ 45.31321379 156.76334045 156.74958004]\n",
      "Weighted accuracy mean is: [[0.84678363 0.84923977 0.84935673 0.54596491 0.5       ]\n",
      " [0.89321637 0.90947368 0.91169591 0.9005848  0.        ]\n",
      " [0.88573099 0.88584795 0.88596491 0.88596491 0.        ]]\n",
      "TPR mean is: [[0.89565217 0.89565217 0.75652174 0.10869565 0.        ]\n",
      " [0.86086957 0.85217391 0.84782609 0.80869565 0.        ]\n",
      " [0.86521739 0.86521739 0.86521739 0.86521739 0.        ]]\n",
      "PPV mean is: [[0.19946705 0.20415582 0.45885621        nan        nan]\n",
      " [0.40274975 0.60788589 0.68277333 0.82767426 0.        ]\n",
      " [0.33421694 0.33453663 0.33489497 0.33489497 0.        ]]\n",
      "MCC mean is: [[0.36137281 0.3669154  0.54624836 0.16696404 0.        ]\n",
      " [0.54791397 0.68829272 0.73126501 0.79771156 0.        ]\n",
      " [0.49661712 0.49695911 0.49731745 0.49731745 0.        ]]\n",
      "L1norm mean is: [2.37968261 1.02554536 1.11894935]\n",
      "L2norm mean is: [0.58964119 0.32875294 0.34669914]\n",
      "MSE_F mean is: [0.3421736  0.15762852 0.18959955]\n",
      "MSE_Y mean is: [0.4935059  0.39714131 0.40593646] \n",
      "\n",
      "R2= 0.6669265544468873\n",
      "data generated\n",
      "Length-scales are:  [0.1118034 0.1118034 0.1118034 0.1118034 0.1118034]\n",
      "Noise variance is:  0.01054853613542694\n",
      "Average data variance is:  1.0\n",
      "Time taken to draw data :  0.03142595291137695\n",
      "run time is : 40.878666162490845\n"
     ]
    },
    {
     "name": "stderr",
     "output_type": "stream",
     "text": [
      "C:\\Users\\hughw\\Documents\\MSC project\\GP algorithms\\Master function files\\GP_funcs_ZTMFSS.py:55: RuntimeWarning: divide by zero encountered in true_divide\n",
      "  return kern(cdist(X,X, metric = \"seuclidean\", V = 1/l**2),s)\n",
      "C:\\Users\\hughw\\Documents\\MSC project\\GP algorithms\\Master function files\\GP_funcs_ZTMFSS.py:62: RuntimeWarning: divide by zero encountered in true_divide\n",
      "  return kern(cdist(X,Xtest, metric = \"seuclidean\", V = 1/l**2),s).T\n",
      "C:\\Users\\hughw\\anaconda3\\lib\\site-packages\\numpy\\core\\fromnumeric.py:3334: RuntimeWarning: Mean of empty slice.\n",
      "  return _methods._mean(a, axis=axis, dtype=dtype,\n",
      "C:\\Users\\hughw\\anaconda3\\lib\\site-packages\\numpy\\core\\_methods.py:161: RuntimeWarning: invalid value encountered in double_scalars\n",
      "  ret = ret.dtype.type(ret / rcount)\n",
      "C:\\Users\\hughw\\Documents\\MSC project\\GP algorithms\\Master function files\\GP_funcs_ZTMFSS.py:2035: RuntimeWarning: invalid value encountered in true_divide\n",
      "  MCC[j,i]=(TP*TN-FP*FN)/np.sqrt((TP+FP)*(TP+FN)*(TN+FP)*(TN+FN))\n"
     ]
    },
    {
     "name": "stdout",
     "output_type": "stream",
     "text": [
      "run time is : 14.80913257598877\n",
      "run time is : 14.829870223999023\n",
      "run time is : 14.88216495513916\n",
      "run time is : 14.93031620979309\n",
      "run time is : 14.664813756942749\n",
      "run time is : 10.240882635116577\n",
      "run time is : 7.32091212272644\n",
      "run time is : 8.763981580734253\n",
      "run time is : 14.567677974700928\n",
      "run time is : 14.567040205001831\n"
     ]
    },
    {
     "name": "stderr",
     "output_type": "stream",
     "text": [
      "C:\\Users\\hughw\\Documents\\MSC project\\GP algorithms\\Master function files\\GP_funcs_ZTMFSS.py:55: RuntimeWarning: divide by zero encountered in true_divide\n",
      "  return kern(cdist(X,X, metric = \"seuclidean\", V = 1/l**2),s)\n",
      "C:\\Users\\hughw\\Documents\\MSC project\\GP algorithms\\Master function files\\GP_funcs_ZTMFSS.py:62: RuntimeWarning: divide by zero encountered in true_divide\n",
      "  return kern(cdist(X,Xtest, metric = \"seuclidean\", V = 1/l**2),s).T\n"
     ]
    },
    {
     "name": "stdout",
     "output_type": "stream",
     "text": [
      "RUN 46\n",
      "Runtime mean is: [ 45.21918    156.35496393 156.34068242]\n",
      "Weighted accuracy mean is: [[0.84279176 0.84519451 0.847254   0.55148741 0.5       ]\n",
      " [0.89016018 0.90640732 0.90892449 0.89828375 0.        ]\n",
      " [0.88272311 0.88283753 0.88295195 0.88295195 0.        ]]\n",
      "TPR mean is: [[0.8893617  0.8893617  0.75319149 0.10638298 0.        ]\n",
      " [0.85531915 0.84680851 0.84255319 0.80425532 0.        ]\n",
      " [0.85957447 0.85957447 0.85957447 0.85957447 0.        ]]\n",
      "PPV mean is: [[0.19788264 0.20258729 0.45489602        nan        nan]\n",
      " [0.39949975 0.60771811 0.68952283 0.83134076 0.        ]\n",
      " [0.33166521 0.3319781  0.33232882 0.33232882 0.        ]]\n",
      "MCC mean is: [[0.35779851 0.36340027 0.54227022 0.16341161 0.        ]\n",
      " [0.54346622 0.68596622 0.73201617 0.79704897 0.        ]\n",
      " [0.49252178 0.49285649 0.4932072  0.4932072  0.        ]]\n",
      "L1norm mean is: [2.38822879 1.0301314  1.12514168]\n",
      "L2norm mean is: [0.59088194 0.32963912 0.34785765]\n",
      "MSE_F mean is: [0.34204531 0.15658519 0.18871721]\n",
      "MSE_Y mean is: [0.4926479  0.39662984 0.40553156] \n",
      "\n",
      "R2= 0.6677321817089614\n",
      "data generated\n",
      "Length-scales are:  [0.1118034 0.1118034 0.1118034 0.1118034 0.1118034]\n",
      "Noise variance is:  0.011275144659735017\n",
      "Average data variance is:  1.0\n",
      "Time taken to draw data :  0.03239130973815918\n",
      "run time is : 40.95564389228821\n"
     ]
    },
    {
     "name": "stderr",
     "output_type": "stream",
     "text": [
      "C:\\Users\\hughw\\Documents\\MSC project\\GP algorithms\\Master function files\\GP_funcs_ZTMFSS.py:55: RuntimeWarning: divide by zero encountered in true_divide\n",
      "  return kern(cdist(X,X, metric = \"seuclidean\", V = 1/l**2),s)\n",
      "C:\\Users\\hughw\\Documents\\MSC project\\GP algorithms\\Master function files\\GP_funcs_ZTMFSS.py:62: RuntimeWarning: divide by zero encountered in true_divide\n",
      "  return kern(cdist(X,Xtest, metric = \"seuclidean\", V = 1/l**2),s).T\n",
      "C:\\Users\\hughw\\anaconda3\\lib\\site-packages\\numpy\\core\\fromnumeric.py:3334: RuntimeWarning: Mean of empty slice.\n",
      "  return _methods._mean(a, axis=axis, dtype=dtype,\n",
      "C:\\Users\\hughw\\anaconda3\\lib\\site-packages\\numpy\\core\\_methods.py:161: RuntimeWarning: invalid value encountered in double_scalars\n",
      "  ret = ret.dtype.type(ret / rcount)\n",
      "C:\\Users\\hughw\\Documents\\MSC project\\GP algorithms\\Master function files\\GP_funcs_ZTMFSS.py:2035: RuntimeWarning: invalid value encountered in true_divide\n",
      "  MCC[j,i]=(TP*TN-FP*FN)/np.sqrt((TP+FP)*(TP+FN)*(TN+FP)*(TN+FN))\n"
     ]
    },
    {
     "name": "stdout",
     "output_type": "stream",
     "text": [
      "run time is : 14.454797744750977\n",
      "run time is : 14.488194227218628\n",
      "run time is : 11.61505651473999\n",
      "run time is : 14.508438348770142\n",
      "run time is : 14.544877290725708\n",
      "run time is : 8.702020406723022\n",
      "run time is : 13.073866605758667\n",
      "run time is : 14.506463289260864\n",
      "run time is : 14.764640808105469\n"
     ]
    },
    {
     "name": "stderr",
     "output_type": "stream",
     "text": [
      "C:\\Users\\hughw\\Documents\\MSC project\\GP algorithms\\Master function files\\GP_funcs_ZTMFSS.py:55: RuntimeWarning: divide by zero encountered in true_divide\n",
      "  return kern(cdist(X,X, metric = \"seuclidean\", V = 1/l**2),s)\n",
      "C:\\Users\\hughw\\Documents\\MSC project\\GP algorithms\\Master function files\\GP_funcs_ZTMFSS.py:62: RuntimeWarning: divide by zero encountered in true_divide\n",
      "  return kern(cdist(X,Xtest, metric = \"seuclidean\", V = 1/l**2),s).T\n"
     ]
    },
    {
     "name": "stdout",
     "output_type": "stream",
     "text": [
      "RUN 47\n",
      "Runtime mean is: [ 45.13067927 155.77382896 155.7586607 ]\n",
      "Weighted accuracy mean is: [[0.83952968 0.84199328 0.84535274 0.55039194 0.5       ]\n",
      " [0.88723404 0.90391937 0.90660694 0.89619261 0.        ]\n",
      " [0.87973124 0.87984323 0.87995521 0.87995521 0.        ]]\n",
      "TPR mean is: [[0.89166667 0.89166667 0.75833333 0.10416667 0.        ]\n",
      " [0.85833333 0.85       0.84583333 0.80833333 0.        ]\n",
      " [0.8625     0.8625     0.8625     0.8625     0.        ]]\n",
      "PPV mean is: [[0.1987204  0.20332704 0.45843985        nan        nan]\n",
      " [0.39861732 0.60547398 0.68557444 0.827042   0.        ]\n",
      " [0.33054256 0.33084893 0.33119234 0.33119234 0.        ]]\n",
      "MCC mean is: [[0.35961451 0.36509957 0.54718098 0.1600072  0.        ]\n",
      " [0.54398988 0.68601374 0.73110431 0.79665183 0.        ]\n",
      " [0.49246214 0.49278988 0.49313329 0.49313329 0.        ]]\n",
      "L1norm mean is: [2.37188553 1.02767458 1.12408271]\n",
      "L2norm mean is: [0.58745757 0.3280204  0.34639008]\n",
      "MSE_F mean is: [0.34128304 0.15650924 0.18851677]\n",
      "MSE_Y mean is: [0.49070675 0.39590676 0.40485166] \n",
      "\n",
      "R2= 0.6519023732414002\n",
      "data generated\n",
      "Length-scales are:  [0.1118034 0.1118034 0.1118034 0.1118034 0.1118034]\n",
      "Noise variance is:  0.043378258239057416\n",
      "Average data variance is:  1.0\n",
      "Time taken to draw data :  0.03586316108703613\n",
      "run time is : 24.219223260879517\n"
     ]
    },
    {
     "name": "stderr",
     "output_type": "stream",
     "text": [
      "C:\\Users\\hughw\\Documents\\MSC project\\GP algorithms\\Master function files\\GP_funcs_ZTMFSS.py:55: RuntimeWarning: divide by zero encountered in true_divide\n",
      "  return kern(cdist(X,X, metric = \"seuclidean\", V = 1/l**2),s)\n",
      "C:\\Users\\hughw\\Documents\\MSC project\\GP algorithms\\Master function files\\GP_funcs_ZTMFSS.py:62: RuntimeWarning: divide by zero encountered in true_divide\n",
      "  return kern(cdist(X,Xtest, metric = \"seuclidean\", V = 1/l**2),s).T\n",
      "C:\\Users\\hughw\\anaconda3\\lib\\site-packages\\numpy\\core\\fromnumeric.py:3334: RuntimeWarning: Mean of empty slice.\n",
      "  return _methods._mean(a, axis=axis, dtype=dtype,\n",
      "C:\\Users\\hughw\\anaconda3\\lib\\site-packages\\numpy\\core\\_methods.py:161: RuntimeWarning: invalid value encountered in double_scalars\n",
      "  ret = ret.dtype.type(ret / rcount)\n",
      "C:\\Users\\hughw\\Documents\\MSC project\\GP algorithms\\Master function files\\GP_funcs_ZTMFSS.py:2035: RuntimeWarning: invalid value encountered in true_divide\n",
      "  MCC[j,i]=(TP*TN-FP*FN)/np.sqrt((TP+FP)*(TP+FN)*(TN+FP)*(TN+FN))\n"
     ]
    },
    {
     "name": "stdout",
     "output_type": "stream",
     "text": [
      "run time is : 14.64868950843811\n",
      "run time is : 14.57714319229126\n",
      "run time is : 14.517398834228516\n",
      "run time is : 14.495949983596802\n",
      "run time is : 14.440831184387207\n",
      "run time is : 10.119657039642334\n",
      "run time is : 10.119619846343994\n",
      "run time is : 14.45430302619934\n",
      "run time is : 14.434362173080444\n"
     ]
    },
    {
     "name": "stderr",
     "output_type": "stream",
     "text": [
      "C:\\Users\\hughw\\Documents\\MSC project\\GP algorithms\\Master function files\\GP_funcs_ZTMFSS.py:55: RuntimeWarning: divide by zero encountered in true_divide\n",
      "  return kern(cdist(X,X, metric = \"seuclidean\", V = 1/l**2),s)\n",
      "C:\\Users\\hughw\\Documents\\MSC project\\GP algorithms\\Master function files\\GP_funcs_ZTMFSS.py:62: RuntimeWarning: divide by zero encountered in true_divide\n",
      "  return kern(cdist(X,Xtest, metric = \"seuclidean\", V = 1/l**2),s).T\n"
     ]
    },
    {
     "name": "stdout",
     "output_type": "stream",
     "text": [
      "RUN 48\n",
      "Runtime mean is: [ 44.70420049 155.22591873 155.21046941]\n",
      "Weighted accuracy mean is: [[0.84111842 0.8435307  0.84824561 0.54934211 0.5       ]\n",
      " [0.88859649 0.90537281 0.90800439 0.89802632 0.        ]\n",
      " [0.8808114  0.88092105 0.8810307  0.8810307  0.        ]]\n",
      "TPR mean is: [[0.88979592 0.88979592 0.75510204 0.10204082 0.        ]\n",
      " [0.85714286 0.84897959 0.84489796 0.80816327 0.        ]\n",
      " [0.86122449 0.86122449 0.86122449 0.86122449 0.        ]]\n",
      "PPV mean is: [[0.20208604 0.20659866 0.46439006        nan        nan]\n",
      " [0.39728499 0.60332145 0.68790965 0.83057175 0.        ]\n",
      " [0.33059951 0.33089963 0.33123603 0.33123603 0.        ]]\n",
      "MCC mean is: [[0.36260031 0.36797343 0.54939382 0.15674175 0.        ]\n",
      " [0.54268529 0.68443916 0.73229553 0.79855193 0.        ]\n",
      " [0.49220914 0.49253019 0.49286659 0.49286659 0.        ]]\n",
      "L1norm mean is: [2.3380228  1.02049806 1.11428467]\n",
      "L2norm mean is: [0.58016111 0.3255182  0.34352647]\n",
      "MSE_F mean is: [0.336419   0.1550001  0.18666339]\n",
      "MSE_Y mean is: [0.48744168 0.3949728  0.40372233] \n",
      "\n",
      "R2= 0.7027789528656214\n",
      "data generated\n",
      "Length-scales are:  [0.1118034 0.1118034 0.1118034 0.1118034 0.1118034]\n",
      "Noise variance is:  0.009578360334282976\n",
      "Average data variance is:  1.0000000000000002\n",
      "Time taken to draw data :  0.03261613845825195\n",
      "run time is : 32.18694353103638\n"
     ]
    },
    {
     "name": "stderr",
     "output_type": "stream",
     "text": [
      "C:\\Users\\hughw\\Documents\\MSC project\\GP algorithms\\Master function files\\GP_funcs_ZTMFSS.py:55: RuntimeWarning: divide by zero encountered in true_divide\n",
      "  return kern(cdist(X,X, metric = \"seuclidean\", V = 1/l**2),s)\n",
      "C:\\Users\\hughw\\Documents\\MSC project\\GP algorithms\\Master function files\\GP_funcs_ZTMFSS.py:62: RuntimeWarning: divide by zero encountered in true_divide\n",
      "  return kern(cdist(X,Xtest, metric = \"seuclidean\", V = 1/l**2),s).T\n",
      "C:\\Users\\hughw\\anaconda3\\lib\\site-packages\\numpy\\core\\fromnumeric.py:3334: RuntimeWarning: Mean of empty slice.\n",
      "  return _methods._mean(a, axis=axis, dtype=dtype,\n",
      "C:\\Users\\hughw\\anaconda3\\lib\\site-packages\\numpy\\core\\_methods.py:161: RuntimeWarning: invalid value encountered in double_scalars\n",
      "  ret = ret.dtype.type(ret / rcount)\n",
      "C:\\Users\\hughw\\Documents\\MSC project\\GP algorithms\\Master function files\\GP_funcs_ZTMFSS.py:2035: RuntimeWarning: invalid value encountered in true_divide\n",
      "  MCC[j,i]=(TP*TN-FP*FN)/np.sqrt((TP+FP)*(TP+FN)*(TN+FP)*(TN+FN))\n"
     ]
    },
    {
     "name": "stdout",
     "output_type": "stream",
     "text": [
      "run time is : 14.404299259185791\n",
      "run time is : 14.375896215438843\n",
      "run time is : 14.40730094909668\n",
      "run time is : 14.41320514678955\n",
      "run time is : 12.961920261383057\n",
      "run time is : 14.49370789527893\n",
      "run time is : 7.386244773864746\n",
      "run time is : 14.817370176315308\n",
      "run time is : 14.907097816467285\n",
      "run time is : 14.864243745803833\n"
     ]
    },
    {
     "name": "stderr",
     "output_type": "stream",
     "text": [
      "C:\\Users\\hughw\\Documents\\MSC project\\GP algorithms\\Master function files\\GP_funcs_ZTMFSS.py:55: RuntimeWarning: divide by zero encountered in true_divide\n",
      "  return kern(cdist(X,X, metric = \"seuclidean\", V = 1/l**2),s)\n",
      "C:\\Users\\hughw\\Documents\\MSC project\\GP algorithms\\Master function files\\GP_funcs_ZTMFSS.py:62: RuntimeWarning: divide by zero encountered in true_divide\n",
      "  return kern(cdist(X,Xtest, metric = \"seuclidean\", V = 1/l**2),s).T\n"
     ]
    },
    {
     "name": "stdout",
     "output_type": "stream",
     "text": [
      "RUN 49\n",
      "Runtime mean is: [ 44.45415081 155.01627862 154.99972696]\n",
      "Weighted accuracy mean is: [[0.84156821 0.84393126 0.8471536  0.54833512 0.5       ]\n",
      " [0.88796992 0.90483351 0.90773362 0.8980666  0.        ]\n",
      " [0.88034372 0.88045113 0.88055854 0.88055854 0.        ]]\n",
      "TPR mean is: [[0.892 0.892 0.76  0.104 0.   ]\n",
      " [0.86  0.848 0.844 0.808 0.   ]\n",
      " [0.864 0.864 0.864 0.864 0.   ]]\n",
      "PPV mean is: [[0.20330747 0.20772984 0.46621337        nan        nan]\n",
      " [0.39489485 0.60458836 0.69415146 0.83396032 0.        ]\n",
      " [0.32925068 0.3295448  0.32987447 0.32987447 0.        ]]\n",
      "MCC mean is: [[0.36482199 0.37008765 0.55299585 0.16236863 0.        ]\n",
      " [0.54162477 0.68504739 0.73544475 0.80037602 0.        ]\n",
      " [0.49183864 0.49215327 0.49248294 0.49248294 0.        ]]\n",
      "L1norm mean is: [2.33015688 1.02292537 1.11835779]\n",
      "L2norm mean is: [0.58009653 0.32580593 0.34401347]\n",
      "MSE_F mean is: [0.33637426 0.15594549 0.18758549]\n",
      "MSE_Y mean is: [0.48685392 0.39474184 0.40324824] \n",
      "\n",
      "R2= 0.6496737966259072\n",
      "data generated\n",
      "Length-scales are:  [0.1118034 0.1118034 0.1118034 0.1118034 0.1118034]\n",
      "Noise variance is:  0.07348664634452057\n",
      "Average data variance is:  1.0\n",
      "Time taken to draw data :  0.030698299407958984\n",
      "run time is : 41.12076807022095\n"
     ]
    },
    {
     "name": "stderr",
     "output_type": "stream",
     "text": [
      "C:\\Users\\hughw\\Documents\\MSC project\\GP algorithms\\Master function files\\GP_funcs_ZTMFSS.py:55: RuntimeWarning: divide by zero encountered in true_divide\n",
      "  return kern(cdist(X,X, metric = \"seuclidean\", V = 1/l**2),s)\n",
      "C:\\Users\\hughw\\Documents\\MSC project\\GP algorithms\\Master function files\\GP_funcs_ZTMFSS.py:62: RuntimeWarning: divide by zero encountered in true_divide\n",
      "  return kern(cdist(X,Xtest, metric = \"seuclidean\", V = 1/l**2),s).T\n",
      "C:\\Users\\hughw\\anaconda3\\lib\\site-packages\\numpy\\core\\fromnumeric.py:3334: RuntimeWarning: Mean of empty slice.\n",
      "  return _methods._mean(a, axis=axis, dtype=dtype,\n",
      "C:\\Users\\hughw\\anaconda3\\lib\\site-packages\\numpy\\core\\_methods.py:161: RuntimeWarning: invalid value encountered in double_scalars\n",
      "  ret = ret.dtype.type(ret / rcount)\n",
      "C:\\Users\\hughw\\Documents\\MSC project\\GP algorithms\\Master function files\\GP_funcs_ZTMFSS.py:2035: RuntimeWarning: invalid value encountered in true_divide\n",
      "  MCC[j,i]=(TP*TN-FP*FN)/np.sqrt((TP+FP)*(TP+FN)*(TN+FP)*(TN+FN))\n"
     ]
    },
    {
     "name": "stdout",
     "output_type": "stream",
     "text": [
      "run time is : 14.470341444015503\n",
      "run time is : 14.51389455795288\n",
      "run time is : 14.503673791885376\n",
      "run time is : 14.483330249786377\n",
      "run time is : 11.589872598648071\n",
      "run time is : 11.589181184768677\n",
      "run time is : 7.242862224578857\n",
      "run time is : 7.267911911010742\n",
      "run time is : 14.494157791137695\n"
     ]
    },
    {
     "name": "stderr",
     "output_type": "stream",
     "text": [
      "C:\\Users\\hughw\\Documents\\MSC project\\GP algorithms\\Master function files\\GP_funcs_ZTMFSS.py:55: RuntimeWarning: divide by zero encountered in true_divide\n",
      "  return kern(cdist(X,X, metric = \"seuclidean\", V = 1/l**2),s)\n",
      "C:\\Users\\hughw\\Documents\\MSC project\\GP algorithms\\Master function files\\GP_funcs_ZTMFSS.py:62: RuntimeWarning: divide by zero encountered in true_divide\n",
      "  return kern(cdist(X,Xtest, metric = \"seuclidean\", V = 1/l**2),s).T\n"
     ]
    },
    {
     "name": "stdout",
     "output_type": "stream",
     "text": [
      "RUN 50\n",
      "Runtime mean is: [ 44.38909062 154.27363499 154.25727718]\n",
      "Weighted accuracy mean is: [[0.84326316 0.84557895 0.84978947 0.54936842 0.5       ]\n",
      " [0.88884211 0.90452632 0.90757895 0.89810526 0.        ]\n",
      " [0.88126316 0.88136842 0.88147368 0.88147368 0.        ]]\n",
      "TPR mean is: [[0.89019608 0.89019608 0.76078431 0.10196078 0.        ]\n",
      " [0.85882353 0.84705882 0.83921569 0.80392157 0.        ]\n",
      " [0.8627451  0.8627451  0.8627451  0.8627451  0.        ]]\n",
      "PPV mean is: [[0.20273111 0.20706677 0.47014383        nan        nan]\n",
      " [0.39586641 0.60580558 0.70014849 0.837216   0.        ]\n",
      " [0.32839702 0.32868538 0.32900858 0.32900858 0.        ]]\n",
      "MCC mean is: [[0.36376144 0.36892385 0.55616948 0.15873283 0.        ]\n",
      " [0.54216481 0.68563177 0.73605504 0.79971315 0.        ]\n",
      " [0.490751   0.49105946 0.49138267 0.49138267 0.        ]]\n",
      "L1norm mean is: [2.3153078 1.0150594 1.1132917]\n",
      "L2norm mean is: [0.57732779 0.32301958 0.34192719]\n",
      "MSE_F mean is: [0.33549766 0.1544454  0.18603213]\n",
      "MSE_Y mean is: [0.48610068 0.39498897 0.40316106] \n",
      "\n",
      "R2= 0.6358483708669438\n",
      "data generated\n",
      "Length-scales are:  [0.1118034 0.1118034 0.1118034 0.1118034 0.1118034]\n",
      "Noise variance is:  0.009861913056611568\n",
      "Average data variance is:  1.0\n",
      "Time taken to draw data :  0.031236648559570312\n",
      "run time is : 31.944355487823486\n"
     ]
    },
    {
     "name": "stderr",
     "output_type": "stream",
     "text": [
      "C:\\Users\\hughw\\Documents\\MSC project\\GP algorithms\\Master function files\\GP_funcs_ZTMFSS.py:55: RuntimeWarning: divide by zero encountered in true_divide\n",
      "  return kern(cdist(X,X, metric = \"seuclidean\", V = 1/l**2),s)\n",
      "C:\\Users\\hughw\\Documents\\MSC project\\GP algorithms\\Master function files\\GP_funcs_ZTMFSS.py:62: RuntimeWarning: divide by zero encountered in true_divide\n",
      "  return kern(cdist(X,Xtest, metric = \"seuclidean\", V = 1/l**2),s).T\n",
      "C:\\Users\\hughw\\anaconda3\\lib\\site-packages\\numpy\\core\\fromnumeric.py:3334: RuntimeWarning: Mean of empty slice.\n",
      "  return _methods._mean(a, axis=axis, dtype=dtype,\n",
      "C:\\Users\\hughw\\anaconda3\\lib\\site-packages\\numpy\\core\\_methods.py:161: RuntimeWarning: invalid value encountered in double_scalars\n",
      "  ret = ret.dtype.type(ret / rcount)\n",
      "C:\\Users\\hughw\\Documents\\MSC project\\GP algorithms\\Master function files\\GP_funcs_ZTMFSS.py:2035: RuntimeWarning: invalid value encountered in true_divide\n",
      "  MCC[j,i]=(TP*TN-FP*FN)/np.sqrt((TP+FP)*(TP+FN)*(TN+FP)*(TN+FN))\n"
     ]
    },
    {
     "name": "stdout",
     "output_type": "stream",
     "text": [
      "run time is : 14.503770351409912\n",
      "run time is : 15.169458627700806\n",
      "run time is : 15.125685930252075\n",
      "run time is : 13.41611909866333\n",
      "run time is : 7.44959568977356\n",
      "run time is : 11.81140398979187\n",
      "run time is : 10.430073976516724\n",
      "run time is : 14.74464750289917\n",
      "run time is : 14.576018810272217\n"
     ]
    },
    {
     "name": "stderr",
     "output_type": "stream",
     "text": [
      "C:\\Users\\hughw\\Documents\\MSC project\\GP algorithms\\Master function files\\GP_funcs_ZTMFSS.py:55: RuntimeWarning: divide by zero encountered in true_divide\n",
      "  return kern(cdist(X,X, metric = \"seuclidean\", V = 1/l**2),s)\n",
      "C:\\Users\\hughw\\Documents\\MSC project\\GP algorithms\\Master function files\\GP_funcs_ZTMFSS.py:62: RuntimeWarning: divide by zero encountered in true_divide\n",
      "  return kern(cdist(X,Xtest, metric = \"seuclidean\", V = 1/l**2),s).T\n"
     ]
    },
    {
     "name": "stdout",
     "output_type": "stream",
     "text": [
      "RUN 51\n",
      "Runtime mean is: [ 44.15005744 153.69969432 153.68270128]\n",
      "Weighted accuracy mean is: [[0.84241486 0.84468524 0.8505676  0.54829721 0.5       ]\n",
      " [0.88854489 0.90423117 0.90546956 0.89618163 0.        ]\n",
      " [0.88059856 0.88070175 0.88080495 0.88080495 0.        ]]\n",
      "TPR mean is: [[0.89230769 0.89230769 0.76153846 0.1        0.        ]\n",
      " [0.85769231 0.84615385 0.83846154 0.80384615 0.        ]\n",
      " [0.86538462 0.86538462 0.86538462 0.86538462 0.        ]]\n",
      "PPV mean is: [[0.20448855 0.20909433 0.47648721        nan        nan]\n",
      " [0.3968006  0.60377086 0.70206871 0.83650031 0.        ]\n",
      " [0.32894983 0.32923263 0.32954963 0.32954963 0.        ]]\n",
      "MCC mean is: [[0.36651446 0.37193796 0.5606561  0.15568028 0.        ]\n",
      " [0.54268408 0.68415537 0.73708232 0.79951624 0.        ]\n",
      " [0.49224813 0.49255067 0.49286766 0.49286766 0.        ]]\n",
      "L1norm mean is: [2.2929091  1.01300532 1.11117666]\n",
      "L2norm mean is: [0.57254173 0.32248225 0.34112229]\n",
      "MSE_F mean is: [0.33215624 0.15361268 0.18483911]\n",
      "MSE_Y mean is: [0.48349834 0.39362323 0.40193385] \n",
      "\n",
      "R2= 0.6597074763973991\n",
      "data generated\n",
      "Length-scales are:  [0.1118034 0.1118034 0.1118034 0.1118034 0.1118034]\n",
      "Noise variance is:  0.010190928747457684\n",
      "Average data variance is:  1.0\n",
      "Time taken to draw data :  0.03084397315979004\n",
      "run time is : 41.08542990684509\n"
     ]
    },
    {
     "name": "stderr",
     "output_type": "stream",
     "text": [
      "C:\\Users\\hughw\\Documents\\MSC project\\GP algorithms\\Master function files\\GP_funcs_ZTMFSS.py:55: RuntimeWarning: divide by zero encountered in true_divide\n",
      "  return kern(cdist(X,X, metric = \"seuclidean\", V = 1/l**2),s)\n",
      "C:\\Users\\hughw\\Documents\\MSC project\\GP algorithms\\Master function files\\GP_funcs_ZTMFSS.py:62: RuntimeWarning: divide by zero encountered in true_divide\n",
      "  return kern(cdist(X,Xtest, metric = \"seuclidean\", V = 1/l**2),s).T\n",
      "C:\\Users\\hughw\\anaconda3\\lib\\site-packages\\numpy\\core\\fromnumeric.py:3334: RuntimeWarning: Mean of empty slice.\n",
      "  return _methods._mean(a, axis=axis, dtype=dtype,\n",
      "C:\\Users\\hughw\\anaconda3\\lib\\site-packages\\numpy\\core\\_methods.py:161: RuntimeWarning: invalid value encountered in double_scalars\n",
      "  ret = ret.dtype.type(ret / rcount)\n",
      "C:\\Users\\hughw\\Documents\\MSC project\\GP algorithms\\Master function files\\GP_funcs_ZTMFSS.py:2035: RuntimeWarning: invalid value encountered in true_divide\n",
      "  MCC[j,i]=(TP*TN-FP*FN)/np.sqrt((TP+FP)*(TP+FN)*(TN+FP)*(TN+FN))\n"
     ]
    },
    {
     "name": "stdout",
     "output_type": "stream",
     "text": [
      "run time is : 14.32567548751831\n",
      "run time is : 14.356237173080444\n",
      "run time is : 14.373020887374878\n",
      "run time is : 14.460813045501709\n",
      "run time is : 14.360260009765625\n",
      "run time is : 11.491130828857422\n",
      "run time is : 7.171108961105347\n",
      "run time is : 7.189106702804565\n",
      "run time is : 14.363298892974854\n",
      "run time is : 14.36072325706482\n"
     ]
    },
    {
     "name": "stderr",
     "output_type": "stream",
     "text": [
      "C:\\Users\\hughw\\Documents\\MSC project\\GP algorithms\\Master function files\\GP_funcs_ZTMFSS.py:55: RuntimeWarning: divide by zero encountered in true_divide\n",
      "  return kern(cdist(X,X, metric = \"seuclidean\", V = 1/l**2),s)\n",
      "C:\\Users\\hughw\\Documents\\MSC project\\GP algorithms\\Master function files\\GP_funcs_ZTMFSS.py:62: RuntimeWarning: divide by zero encountered in true_divide\n",
      "  return kern(cdist(X,Xtest, metric = \"seuclidean\", V = 1/l**2),s).T\n"
     ]
    },
    {
     "name": "stdout",
     "output_type": "stream",
     "text": [
      "RUN 52\n",
      "Runtime mean is: [ 44.09251445 153.32156125 153.3048664 ]\n",
      "Weighted accuracy mean is: [[0.84423077 0.8465587  0.851417   0.54736842 0.5       ]\n",
      " [0.88825911 0.90374494 0.90526316 0.89615385 0.        ]\n",
      " [0.88198381 0.88208502 0.88218623 0.88218623 0.        ]]\n",
      "TPR mean is: [[0.89433962 0.89433962 0.76603774 0.09811321 0.        ]\n",
      " [0.86037736 0.8490566  0.84150943 0.80754717 0.        ]\n",
      " [0.86792453 0.86792453 0.86792453 0.86792453 0.        ]]\n",
      "PPV mean is: [[0.20736882 0.2118877  0.48097398        nan        nan]\n",
      " [0.39789012 0.61124688 0.70769006 0.83958521 0.        ]\n",
      " [0.33060486 0.33088233 0.33119334 0.33119334 0.        ]]\n",
      "MCC mean is: [[0.37032743 0.3756486  0.56585524 0.15274292 0.        ]\n",
      " [0.54475725 0.6901147  0.74204303 0.80329895 0.        ]\n",
      " [0.49468233 0.49497916 0.49529017 0.49529017 0.        ]]\n",
      "L1norm mean is: [2.27015957 1.00965765 1.10757792]\n",
      "L2norm mean is: [0.56786326 0.32159981 0.3401809 ]\n",
      "MSE_F mean is: [0.32923898 0.15254386 0.18384074]\n",
      "MSE_Y mean is: [0.48580406 0.39677651 0.40532758] \n",
      "\n",
      "R2= 0.6575485516911357\n",
      "data generated\n",
      "Length-scales are:  [0.1118034 0.1118034 0.1118034 0.1118034 0.1118034]\n",
      "Noise variance is:  0.00830868797247089\n",
      "Average data variance is:  1.0\n",
      "Time taken to draw data :  0.033193111419677734\n",
      "run time is : 42.173025608062744\n"
     ]
    },
    {
     "name": "stderr",
     "output_type": "stream",
     "text": [
      "C:\\Users\\hughw\\Documents\\MSC project\\GP algorithms\\Master function files\\GP_funcs_ZTMFSS.py:55: RuntimeWarning: divide by zero encountered in true_divide\n",
      "  return kern(cdist(X,X, metric = \"seuclidean\", V = 1/l**2),s)\n",
      "C:\\Users\\hughw\\Documents\\MSC project\\GP algorithms\\Master function files\\GP_funcs_ZTMFSS.py:62: RuntimeWarning: divide by zero encountered in true_divide\n",
      "  return kern(cdist(X,Xtest, metric = \"seuclidean\", V = 1/l**2),s).T\n",
      "C:\\Users\\hughw\\anaconda3\\lib\\site-packages\\numpy\\core\\fromnumeric.py:3334: RuntimeWarning: Mean of empty slice.\n",
      "  return _methods._mean(a, axis=axis, dtype=dtype,\n",
      "C:\\Users\\hughw\\anaconda3\\lib\\site-packages\\numpy\\core\\_methods.py:161: RuntimeWarning: invalid value encountered in double_scalars\n",
      "  ret = ret.dtype.type(ret / rcount)\n",
      "C:\\Users\\hughw\\Documents\\MSC project\\GP algorithms\\Master function files\\GP_funcs_ZTMFSS.py:2035: RuntimeWarning: invalid value encountered in true_divide\n",
      "  MCC[j,i]=(TP*TN-FP*FN)/np.sqrt((TP+FP)*(TP+FN)*(TN+FP)*(TN+FN))\n"
     ]
    },
    {
     "name": "stdout",
     "output_type": "stream",
     "text": [
      "run time is : 14.757566928863525\n",
      "run time is : 14.85627007484436\n",
      "run time is : 14.72405457496643\n",
      "run time is : 14.556124687194824\n",
      "run time is : 10.201317310333252\n",
      "run time is : 14.497041463851929\n",
      "run time is : 11.583616018295288\n",
      "run time is : 14.474563360214233\n",
      "run time is : 14.51021957397461\n",
      "run time is : 14.461279392242432\n"
     ]
    },
    {
     "name": "stderr",
     "output_type": "stream",
     "text": [
      "C:\\Users\\hughw\\Documents\\MSC project\\GP algorithms\\Master function files\\GP_funcs_ZTMFSS.py:55: RuntimeWarning: divide by zero encountered in true_divide\n",
      "  return kern(cdist(X,X, metric = \"seuclidean\", V = 1/l**2),s)\n",
      "C:\\Users\\hughw\\Documents\\MSC project\\GP algorithms\\Master function files\\GP_funcs_ZTMFSS.py:62: RuntimeWarning: divide by zero encountered in true_divide\n",
      "  return kern(cdist(X,Xtest, metric = \"seuclidean\", V = 1/l**2),s).T\n"
     ]
    },
    {
     "name": "stdout",
     "output_type": "stream",
     "text": [
      "RUN 53\n",
      "Runtime mean is: [ 44.05726329 153.18951048 153.17398732]\n",
      "Weighted accuracy mean is: [[0.84627607 0.84856008 0.85402185 0.54647468 0.5       ]\n",
      " [0.8897716  0.90556107 0.90705065 0.89811321 0.        ]\n",
      " [0.88351539 0.8836147  0.883714   0.883714   0.        ]]\n",
      "TPR mean is: [[0.8962963  0.8962963  0.76296296 0.0962963  0.        ]\n",
      " [0.86296296 0.85185185 0.84444444 0.81111111 0.        ]\n",
      " [0.87037037 0.87037037 0.87037037 0.87037037 0.        ]]\n",
      "PPV mean is: [[0.20723236 0.21217261 0.47823989        nan        nan]\n",
      " [0.39713555 0.608345   0.70300219 0.83726484 0.        ]\n",
      " [0.33160506 0.33187739 0.33218264 0.33218264 0.        ]]\n",
      "MCC mean is: [[0.37082803 0.37669169 0.56294752 0.14991434 0.        ]\n",
      " [0.54519882 0.68941928 0.74038597 0.80390842 0.        ]\n",
      " [0.49651205 0.49680338 0.49710863 0.49710863 0.        ]]\n",
      "L1norm mean is: [2.26910379 1.01266689 1.10824404]\n",
      "L2norm mean is: [0.56757914 0.32215107 0.34043414]\n",
      "MSE_F mean is: [0.33387934 0.15369869 0.1846382 ]\n",
      "MSE_Y mean is: [0.48714246 0.39717665 0.40561101] \n",
      "\n",
      "R2= 0.6807023224253889\n",
      "data generated\n",
      "Length-scales are:  [0.1118034 0.1118034 0.1118034 0.1118034 0.1118034]\n",
      "Noise variance is:  0.02779492612880847\n",
      "Average data variance is:  1.0\n",
      "Time taken to draw data :  0.03142356872558594\n",
      "run time is : 23.297587871551514\n"
     ]
    },
    {
     "name": "stderr",
     "output_type": "stream",
     "text": [
      "C:\\Users\\hughw\\Documents\\MSC project\\GP algorithms\\Master function files\\GP_funcs_ZTMFSS.py:55: RuntimeWarning: divide by zero encountered in true_divide\n",
      "  return kern(cdist(X,X, metric = \"seuclidean\", V = 1/l**2),s)\n",
      "C:\\Users\\hughw\\Documents\\MSC project\\GP algorithms\\Master function files\\GP_funcs_ZTMFSS.py:62: RuntimeWarning: divide by zero encountered in true_divide\n",
      "  return kern(cdist(X,Xtest, metric = \"seuclidean\", V = 1/l**2),s).T\n",
      "C:\\Users\\hughw\\anaconda3\\lib\\site-packages\\numpy\\core\\fromnumeric.py:3334: RuntimeWarning: Mean of empty slice.\n",
      "  return _methods._mean(a, axis=axis, dtype=dtype,\n",
      "C:\\Users\\hughw\\anaconda3\\lib\\site-packages\\numpy\\core\\_methods.py:161: RuntimeWarning: invalid value encountered in double_scalars\n",
      "  ret = ret.dtype.type(ret / rcount)\n",
      "C:\\Users\\hughw\\Documents\\MSC project\\GP algorithms\\Master function files\\GP_funcs_ZTMFSS.py:2035: RuntimeWarning: invalid value encountered in true_divide\n",
      "  MCC[j,i]=(TP*TN-FP*FN)/np.sqrt((TP+FP)*(TP+FN)*(TN+FP)*(TN+FN))\n"
     ]
    },
    {
     "name": "stdout",
     "output_type": "stream",
     "text": [
      "run time is : 14.373481750488281\n",
      "run time is : 14.424792289733887\n",
      "run time is : 14.403254270553589\n",
      "run time is : 14.40084958076477\n",
      "run time is : 10.084651470184326\n",
      "run time is : 11.518150091171265\n",
      "run time is : 11.52079439163208\n",
      "run time is : 14.562583446502686\n",
      "run time is : 14.825350284576416\n"
     ]
    },
    {
     "name": "stderr",
     "output_type": "stream",
     "text": [
      "C:\\Users\\hughw\\Documents\\MSC project\\GP algorithms\\Master function files\\GP_funcs_ZTMFSS.py:55: RuntimeWarning: divide by zero encountered in true_divide\n",
      "  return kern(cdist(X,X, metric = \"seuclidean\", V = 1/l**2),s)\n",
      "C:\\Users\\hughw\\Documents\\MSC project\\GP algorithms\\Master function files\\GP_funcs_ZTMFSS.py:62: RuntimeWarning: divide by zero encountered in true_divide\n",
      "  return kern(cdist(X,Xtest, metric = \"seuclidean\", V = 1/l**2),s).T\n"
     ]
    },
    {
     "name": "stdout",
     "output_type": "stream",
     "text": [
      "RUN 54\n",
      "Runtime mean is: [ 43.68009139 152.72235849 152.70796988]\n",
      "Weighted accuracy mean is: [[0.84717349 0.8497076  0.85243665 0.54561404 0.5       ]\n",
      " [0.89093567 0.90672515 0.90818713 0.89980507 0.        ]\n",
      " [0.88489279 0.88499025 0.88508772 0.88508772 0.        ]]\n",
      "TPR mean is: [[0.89818182 0.89818182 0.76727273 0.10181818 0.        ]\n",
      " [0.86545455 0.85454545 0.84727273 0.81454545 0.        ]\n",
      " [0.87272727 0.87272727 0.87272727 0.87272727 0.        ]]\n",
      "PPV mean is: [[0.2063054  0.21115583 0.47349719        nan        nan]\n",
      " [0.39690791 0.60864782 0.70158397 0.84022367 0.        ]\n",
      " [0.33092347 0.33119085 0.33149055 0.33149055 0.        ]]\n",
      "MCC mean is: [[0.37016621 0.37592326 0.56034417 0.15623586 0.        ]\n",
      " [0.54607679 0.6910296  0.74106962 0.80747372 0.        ]\n",
      " [0.49670125 0.49698728 0.49728698 0.49728698 0.        ]]\n",
      "L1norm mean is: [2.31462039 1.01084935 1.10833701]\n",
      "L2norm mean is: [0.57489149 0.32157598 0.3401101 ]\n",
      "MSE_F mean is: [0.33657456 0.15345044 0.18503831]\n",
      "MSE_Y mean is: [0.48981709 0.39687917 0.40567396] \n",
      "\n",
      "R2= 0.6332396149392276\n",
      "data generated\n",
      "Length-scales are:  [0.1118034 0.1118034 0.1118034 0.1118034 0.1118034]\n",
      "Noise variance is:  0.018107129705768915\n",
      "Average data variance is:  1.0\n",
      "Time taken to draw data :  0.03490495681762695\n",
      "run time is : 32.90886116027832\n"
     ]
    },
    {
     "name": "stderr",
     "output_type": "stream",
     "text": [
      "C:\\Users\\hughw\\Documents\\MSC project\\GP algorithms\\Master function files\\GP_funcs_ZTMFSS.py:55: RuntimeWarning: divide by zero encountered in true_divide\n",
      "  return kern(cdist(X,X, metric = \"seuclidean\", V = 1/l**2),s)\n",
      "C:\\Users\\hughw\\Documents\\MSC project\\GP algorithms\\Master function files\\GP_funcs_ZTMFSS.py:62: RuntimeWarning: divide by zero encountered in true_divide\n",
      "  return kern(cdist(X,Xtest, metric = \"seuclidean\", V = 1/l**2),s).T\n",
      "C:\\Users\\hughw\\anaconda3\\lib\\site-packages\\numpy\\core\\fromnumeric.py:3334: RuntimeWarning: Mean of empty slice.\n",
      "  return _methods._mean(a, axis=axis, dtype=dtype,\n",
      "C:\\Users\\hughw\\anaconda3\\lib\\site-packages\\numpy\\core\\_methods.py:161: RuntimeWarning: invalid value encountered in double_scalars\n",
      "  ret = ret.dtype.type(ret / rcount)\n",
      "C:\\Users\\hughw\\Documents\\MSC project\\GP algorithms\\Master function files\\GP_funcs_ZTMFSS.py:2035: RuntimeWarning: invalid value encountered in true_divide\n",
      "  MCC[j,i]=(TP*TN-FP*FN)/np.sqrt((TP+FP)*(TP+FN)*(TN+FP)*(TN+FN))\n"
     ]
    },
    {
     "name": "stdout",
     "output_type": "stream",
     "text": [
      "run time is : 14.515228033065796\n",
      "run time is : 14.479766368865967\n",
      "run time is : 14.44525408744812\n",
      "run time is : 14.441052436828613\n",
      "run time is : 14.438305854797363\n",
      "run time is : 8.710686922073364\n",
      "run time is : 7.225169897079468\n",
      "run time is : 14.446001052856445\n"
     ]
    },
    {
     "name": "stderr",
     "output_type": "stream",
     "text": [
      "C:\\Users\\hughw\\Documents\\MSC project\\GP algorithms\\Master function files\\GP_funcs_ZTMFSS.py:55: RuntimeWarning: divide by zero encountered in true_divide\n",
      "  return kern(cdist(X,X, metric = \"seuclidean\", V = 1/l**2),s)\n",
      "C:\\Users\\hughw\\Documents\\MSC project\\GP algorithms\\Master function files\\GP_funcs_ZTMFSS.py:62: RuntimeWarning: divide by zero encountered in true_divide\n",
      "  return kern(cdist(X,Xtest, metric = \"seuclidean\", V = 1/l**2),s).T\n"
     ]
    },
    {
     "name": "stdout",
     "output_type": "stream",
     "text": [
      "RUN 55\n",
      "Runtime mean is: [ 43.4880267  151.95803936 151.94337404]\n",
      "Weighted accuracy mean is: [[0.84736842 0.84985646 0.85339713 0.54832536 0.5       ]\n",
      " [0.89215311 0.90813397 0.90956938 0.90162679 0.        ]\n",
      " [0.88583732 0.88593301 0.88602871 0.88602871 0.        ]]\n",
      "TPR mean is: [[0.9        0.9        0.77142857 0.10714286 0.        ]\n",
      " [0.86785714 0.85714286 0.85       0.81785714 0.        ]\n",
      " [0.875      0.875      0.875      0.875      0.        ]]\n",
      "PPV mean is: [[0.20592826 0.21069207 0.47191002        nan        nan]\n",
      " [0.3966884  0.61563625 0.70691283 0.84307681 0.        ]\n",
      " [0.3309665  0.33122911 0.33152346 0.33152346 0.        ]]\n",
      "MCC mean is: [[0.37029229 0.37594654 0.560936   0.16233161 0.        ]\n",
      " [0.5469234  0.69654693 0.74569338 0.81091169 0.        ]\n",
      " [0.4975837  0.49786463 0.49815897 0.49815897 0.        ]]\n",
      "L1norm mean is: [2.32476751 1.00195087 1.10148357]\n",
      "L2norm mean is: [0.57723933 0.31835175 0.33760469]\n",
      "MSE_F mean is: [0.33832212 0.15229564 0.18410293]\n",
      "MSE_Y mean is: [0.49228068 0.39821783 0.40715834] \n",
      "\n",
      "R2= 0.6827534179280479\n",
      "data generated\n",
      "Length-scales are:  [0.1118034 0.1118034 0.1118034 0.1118034 0.1118034]\n",
      "Noise variance is:  0.05433961561997223\n",
      "Average data variance is:  1.0\n",
      "Time taken to draw data :  0.03261899948120117\n",
      "run time is : 41.29060506820679\n"
     ]
    },
    {
     "name": "stderr",
     "output_type": "stream",
     "text": [
      "C:\\Users\\hughw\\Documents\\MSC project\\GP algorithms\\Master function files\\GP_funcs_ZTMFSS.py:55: RuntimeWarning: divide by zero encountered in true_divide\n",
      "  return kern(cdist(X,X, metric = \"seuclidean\", V = 1/l**2),s)\n",
      "C:\\Users\\hughw\\Documents\\MSC project\\GP algorithms\\Master function files\\GP_funcs_ZTMFSS.py:62: RuntimeWarning: divide by zero encountered in true_divide\n",
      "  return kern(cdist(X,Xtest, metric = \"seuclidean\", V = 1/l**2),s).T\n",
      "C:\\Users\\hughw\\anaconda3\\lib\\site-packages\\numpy\\core\\fromnumeric.py:3334: RuntimeWarning: Mean of empty slice.\n",
      "  return _methods._mean(a, axis=axis, dtype=dtype,\n",
      "C:\\Users\\hughw\\anaconda3\\lib\\site-packages\\numpy\\core\\_methods.py:161: RuntimeWarning: invalid value encountered in double_scalars\n",
      "  ret = ret.dtype.type(ret / rcount)\n",
      "C:\\Users\\hughw\\Documents\\MSC project\\GP algorithms\\Master function files\\GP_funcs_ZTMFSS.py:2035: RuntimeWarning: invalid value encountered in true_divide\n",
      "  MCC[j,i]=(TP*TN-FP*FN)/np.sqrt((TP+FP)*(TP+FN)*(TN+FP)*(TN+FN))\n"
     ]
    },
    {
     "name": "stdout",
     "output_type": "stream",
     "text": [
      "run time is : 14.379574537277222\n",
      "run time is : 14.408384323120117\n",
      "run time is : 14.433789014816284\n",
      "run time is : 14.413918256759644\n",
      "run time is : 14.414479494094849\n",
      "run time is : 13.25443696975708\n",
      "run time is : 7.371285676956177\n",
      "run time is : 14.857293367385864\n",
      "run time is : 14.869198322296143\n",
      "run time is : 14.88332200050354\n"
     ]
    },
    {
     "name": "stderr",
     "output_type": "stream",
     "text": [
      "C:\\Users\\hughw\\Documents\\MSC project\\GP algorithms\\Master function files\\GP_funcs_ZTMFSS.py:55: RuntimeWarning: divide by zero encountered in true_divide\n",
      "  return kern(cdist(X,X, metric = \"seuclidean\", V = 1/l**2),s)\n",
      "C:\\Users\\hughw\\Documents\\MSC project\\GP algorithms\\Master function files\\GP_funcs_ZTMFSS.py:62: RuntimeWarning: divide by zero encountered in true_divide\n",
      "  return kern(cdist(X,Xtest, metric = \"seuclidean\", V = 1/l**2),s).T\n"
     ]
    },
    {
     "name": "stdout",
     "output_type": "stream",
     "text": [
      "RUN 56\n",
      "Runtime mean is: [ 43.44973299 151.83530119 151.82005775]\n",
      "Weighted accuracy mean is: [[0.84802632 0.85046992 0.85526316 0.55093985 0.5       ]\n",
      " [0.89332707 0.90977444 0.91118421 0.90338346 0.        ]\n",
      " [0.88693609 0.88703008 0.88712406 0.88712406 0.        ]]\n",
      "TPR mean is: [[0.90175439 0.90175439 0.76842105 0.10877193 0.        ]\n",
      " [0.87017544 0.85964912 0.85263158 0.82105263 0.        ]\n",
      " [0.87719298 0.87719298 0.87719298 0.87719298 0.        ]]\n",
      "PPV mean is: [[0.20612936 0.2108096  0.47415721        nan        nan]\n",
      " [0.39521141 0.6145822  0.70425744 0.84582985 0.        ]\n",
      " [0.32933718 0.32959518 0.32988436 0.32988436 0.        ]]\n",
      "MCC mean is: [[0.37116021 0.37671526 0.56125199 0.1671694  0.        ]\n",
      " [0.54655031 0.69712497 0.74540921 0.81422903 0.        ]\n",
      " [0.49666059 0.49693659 0.49722577 0.49722577 0.        ]]\n",
      "L1norm mean is: [2.3121791  0.99864208 1.10038539]\n",
      "L2norm mean is: [0.57476825 0.31746704 0.33690687]\n",
      "MSE_F mean is: [0.3383476  0.1518975  0.18378371]\n",
      "MSE_Y mean is: [0.49397481 0.39932217 0.40819929] \n",
      "\n",
      "R2= 0.6667336975758852\n",
      "data generated\n",
      "Length-scales are:  [0.1118034 0.1118034 0.1118034 0.1118034 0.1118034]\n",
      "Noise variance is:  0.023997929587718153\n",
      "Average data variance is:  1.0\n",
      "Time taken to draw data :  0.033908843994140625\n",
      "run time is : 23.472997188568115\n"
     ]
    },
    {
     "name": "stderr",
     "output_type": "stream",
     "text": [
      "C:\\Users\\hughw\\Documents\\MSC project\\GP algorithms\\Master function files\\GP_funcs_ZTMFSS.py:55: RuntimeWarning: divide by zero encountered in true_divide\n",
      "  return kern(cdist(X,X, metric = \"seuclidean\", V = 1/l**2),s)\n",
      "C:\\Users\\hughw\\Documents\\MSC project\\GP algorithms\\Master function files\\GP_funcs_ZTMFSS.py:62: RuntimeWarning: divide by zero encountered in true_divide\n",
      "  return kern(cdist(X,Xtest, metric = \"seuclidean\", V = 1/l**2),s).T\n",
      "C:\\Users\\hughw\\anaconda3\\lib\\site-packages\\numpy\\core\\fromnumeric.py:3334: RuntimeWarning: Mean of empty slice.\n",
      "  return _methods._mean(a, axis=axis, dtype=dtype,\n",
      "C:\\Users\\hughw\\anaconda3\\lib\\site-packages\\numpy\\core\\_methods.py:161: RuntimeWarning: invalid value encountered in double_scalars\n",
      "  ret = ret.dtype.type(ret / rcount)\n",
      "C:\\Users\\hughw\\Documents\\MSC project\\GP algorithms\\Master function files\\GP_funcs_ZTMFSS.py:2035: RuntimeWarning: invalid value encountered in true_divide\n",
      "  MCC[j,i]=(TP*TN-FP*FN)/np.sqrt((TP+FP)*(TP+FN)*(TN+FP)*(TN+FN))\n"
     ]
    },
    {
     "name": "stdout",
     "output_type": "stream",
     "text": [
      "run time is : 14.468011856079102\n",
      "run time is : 14.447276830673218\n",
      "run time is : 14.444320917129517\n",
      "run time is : 14.419320344924927\n",
      "run time is : 14.448595523834229\n",
      "run time is : 8.698697090148926\n",
      "run time is : 7.230813264846802\n",
      "run time is : 14.4546480178833\n",
      "run time is : 14.438650608062744\n"
     ]
    },
    {
     "name": "stderr",
     "output_type": "stream",
     "text": [
      "C:\\Users\\hughw\\Documents\\MSC project\\GP algorithms\\Master function files\\GP_funcs_ZTMFSS.py:55: RuntimeWarning: divide by zero encountered in true_divide\n",
      "  return kern(cdist(X,X, metric = \"seuclidean\", V = 1/l**2),s)\n",
      "C:\\Users\\hughw\\Documents\\MSC project\\GP algorithms\\Master function files\\GP_funcs_ZTMFSS.py:62: RuntimeWarning: divide by zero encountered in true_divide\n",
      "  return kern(cdist(X,Xtest, metric = \"seuclidean\", V = 1/l**2),s).T\n"
     ]
    },
    {
     "name": "stdout",
     "output_type": "stream",
     "text": [
      "RUN 57\n",
      "Runtime mean is: [ 43.10556719 151.36381616 151.34862965]\n",
      "Weighted accuracy mean is: [[0.84903047 0.85143121 0.85410896 0.55180055 0.5       ]\n",
      " [0.89418283 0.910988   0.91237304 0.90507849 0.        ]\n",
      " [0.88744229 0.88753463 0.88762696 0.88762696 0.        ]]\n",
      "TPR mean is: [[0.9        0.9        0.76896552 0.10689655 0.        ]\n",
      " [0.86896552 0.85862069 0.85172414 0.82068966 0.        ]\n",
      " [0.87586207 0.87586207 0.87586207 0.87586207 0.        ]]\n",
      "PPV mean is: [[0.20620517 0.21123175 0.48322346        nan        nan]\n",
      " [0.39168149 0.61383817 0.70196729 0.84848796 0.        ]\n",
      " [0.32694303 0.32719658 0.32748078 0.32748078 0.        ]]\n",
      "MCC mean is: [[0.37091133 0.37685412 0.56691586 0.16428717 0.        ]\n",
      " [0.54285662 0.69642248 0.74387423 0.81553123 0.        ]\n",
      " [0.49382707 0.49409831 0.49438251 0.49438251 0.        ]]\n",
      "L1norm mean is: [2.29103671 1.00119964 1.10377122]\n",
      "L2norm mean is: [0.56974885 0.31732268 0.33680571]\n",
      "MSE_F mean is: [0.33653038 0.15274924 0.18498272]\n",
      "MSE_Y mean is: [0.49130224 0.39776298 0.40654274] \n",
      "\n",
      "R2= 0.6550021675342513\n",
      "data generated\n",
      "Length-scales are:  [0.1118034 0.1118034 0.1118034 0.1118034 0.1118034]\n",
      "Noise variance is:  0.028240880678867493\n",
      "Average data variance is:  1.0\n",
      "Time taken to draw data :  0.03178977966308594\n",
      "run time is : 32.095205545425415\n"
     ]
    },
    {
     "name": "stderr",
     "output_type": "stream",
     "text": [
      "C:\\Users\\hughw\\Documents\\MSC project\\GP algorithms\\Master function files\\GP_funcs_ZTMFSS.py:55: RuntimeWarning: divide by zero encountered in true_divide\n",
      "  return kern(cdist(X,X, metric = \"seuclidean\", V = 1/l**2),s)\n",
      "C:\\Users\\hughw\\Documents\\MSC project\\GP algorithms\\Master function files\\GP_funcs_ZTMFSS.py:62: RuntimeWarning: divide by zero encountered in true_divide\n",
      "  return kern(cdist(X,Xtest, metric = \"seuclidean\", V = 1/l**2),s).T\n",
      "C:\\Users\\hughw\\anaconda3\\lib\\site-packages\\numpy\\core\\fromnumeric.py:3334: RuntimeWarning: Mean of empty slice.\n",
      "  return _methods._mean(a, axis=axis, dtype=dtype,\n",
      "C:\\Users\\hughw\\anaconda3\\lib\\site-packages\\numpy\\core\\_methods.py:161: RuntimeWarning: invalid value encountered in double_scalars\n",
      "  ret = ret.dtype.type(ret / rcount)\n",
      "C:\\Users\\hughw\\Documents\\MSC project\\GP algorithms\\Master function files\\GP_funcs_ZTMFSS.py:2035: RuntimeWarning: invalid value encountered in true_divide\n",
      "  MCC[j,i]=(TP*TN-FP*FN)/np.sqrt((TP+FP)*(TP+FN)*(TN+FP)*(TN+FN))\n"
     ]
    },
    {
     "name": "stdout",
     "output_type": "stream",
     "text": [
      "run time is : 14.339996814727783\n",
      "run time is : 14.36520266532898\n",
      "run time is : 14.627168416976929\n",
      "run time is : 14.769529819488525\n",
      "run time is : 10.427111387252808\n",
      "run time is : 10.35929250717163\n",
      "run time is : 8.926126718521118\n",
      "run time is : 14.701399087905884\n",
      "run time is : 14.531129837036133\n"
     ]
    },
    {
     "name": "stderr",
     "output_type": "stream",
     "text": [
      "C:\\Users\\hughw\\Documents\\MSC project\\GP algorithms\\Master function files\\GP_funcs_ZTMFSS.py:55: RuntimeWarning: divide by zero encountered in true_divide\n",
      "  return kern(cdist(X,X, metric = \"seuclidean\", V = 1/l**2),s)\n",
      "C:\\Users\\hughw\\Documents\\MSC project\\GP algorithms\\Master function files\\GP_funcs_ZTMFSS.py:62: RuntimeWarning: divide by zero encountered in true_divide\n",
      "  return kern(cdist(X,Xtest, metric = \"seuclidean\", V = 1/l**2),s).T\n"
     ]
    },
    {
     "name": "stdout",
     "output_type": "stream",
     "text": [
      "RUN 58\n",
      "Runtime mean is: [ 42.91920699 150.91663384 150.90101461]\n",
      "Weighted accuracy mean is: [[0.84854809 0.85108893 0.85490018 0.55090744 0.5       ]\n",
      " [0.89274047 0.91052632 0.91188748 0.90499093 0.        ]\n",
      " [0.88611615 0.8862069  0.88629764 0.88629764 0.        ]]\n",
      "TPR mean is: [[0.90169492 0.90169492 0.76271186 0.10508475 0.        ]\n",
      " [0.87118644 0.85762712 0.85084746 0.82033898 0.        ]\n",
      " [0.8779661  0.8779661  0.8779661  0.8779661  0.        ]]\n",
      "PPV mean is: [[0.20674568 0.21168706 0.48633267        nan        nan]\n",
      " [0.39002787 0.60959746 0.69623286 0.84379204 0.        ]\n",
      " [0.32563891 0.32588816 0.32616754 0.32616754 0.        ]]\n",
      "MCC mean is: [[0.3721665  0.37800856 0.56574098 0.16150264 0.        ]\n",
      " [0.5422475  0.69319361 0.73984109 0.81283376 0.        ]\n",
      " [0.49323393 0.49350057 0.49377995 0.49377995 0.        ]]\n",
      "L1norm mean is: [2.27038058 1.00027157 1.10291622]\n",
      "L2norm mean is: [0.56447755 0.31633241 0.33580246]\n",
      "MSE_F mean is: [0.33336075 0.15250186 0.18442874]\n",
      "MSE_Y mean is: [0.48950448 0.39766232 0.40625927] \n",
      "\n",
      "R2= 0.671991173742632\n",
      "data generated\n",
      "Length-scales are:  [0.1118034 0.1118034 0.1118034 0.1118034 0.1118034]\n",
      "Noise variance is:  0.009410651203397334\n",
      "Average data variance is:  1.0\n",
      "Time taken to draw data :  0.03188300132751465\n",
      "run time is : 41.13023853302002\n"
     ]
    },
    {
     "name": "stderr",
     "output_type": "stream",
     "text": [
      "C:\\Users\\hughw\\Documents\\MSC project\\GP algorithms\\Master function files\\GP_funcs_ZTMFSS.py:55: RuntimeWarning: divide by zero encountered in true_divide\n",
      "  return kern(cdist(X,X, metric = \"seuclidean\", V = 1/l**2),s)\n",
      "C:\\Users\\hughw\\Documents\\MSC project\\GP algorithms\\Master function files\\GP_funcs_ZTMFSS.py:62: RuntimeWarning: divide by zero encountered in true_divide\n",
      "  return kern(cdist(X,Xtest, metric = \"seuclidean\", V = 1/l**2),s).T\n",
      "C:\\Users\\hughw\\anaconda3\\lib\\site-packages\\numpy\\core\\fromnumeric.py:3334: RuntimeWarning: Mean of empty slice.\n",
      "  return _methods._mean(a, axis=axis, dtype=dtype,\n",
      "C:\\Users\\hughw\\anaconda3\\lib\\site-packages\\numpy\\core\\_methods.py:161: RuntimeWarning: invalid value encountered in double_scalars\n",
      "  ret = ret.dtype.type(ret / rcount)\n",
      "C:\\Users\\hughw\\Documents\\MSC project\\GP algorithms\\Master function files\\GP_funcs_ZTMFSS.py:2035: RuntimeWarning: invalid value encountered in true_divide\n",
      "  MCC[j,i]=(TP*TN-FP*FN)/np.sqrt((TP+FP)*(TP+FN)*(TN+FP)*(TN+FN))\n"
     ]
    },
    {
     "name": "stdout",
     "output_type": "stream",
     "text": [
      "run time is : 14.398552656173706\n",
      "run time is : 14.423028469085693\n",
      "run time is : 14.43278980255127\n",
      "run time is : 14.465935945510864\n",
      "run time is : 12.998361110687256\n",
      "run time is : 13.008992195129395\n",
      "run time is : 7.228423357009888\n",
      "run time is : 14.46261715888977\n",
      "run time is : 14.436623334884644\n",
      "run time is : 14.463338136672974\n"
     ]
    },
    {
     "name": "stderr",
     "output_type": "stream",
     "text": [
      "C:\\Users\\hughw\\Documents\\MSC project\\GP algorithms\\Master function files\\GP_funcs_ZTMFSS.py:55: RuntimeWarning: divide by zero encountered in true_divide\n",
      "  return kern(cdist(X,X, metric = \"seuclidean\", V = 1/l**2),s)\n",
      "C:\\Users\\hughw\\Documents\\MSC project\\GP algorithms\\Master function files\\GP_funcs_ZTMFSS.py:62: RuntimeWarning: divide by zero encountered in true_divide\n",
      "  return kern(cdist(X,Xtest, metric = \"seuclidean\", V = 1/l**2),s).T\n"
     ]
    },
    {
     "name": "stdout",
     "output_type": "stream",
     "text": [
      "RUN 59\n",
      "Runtime mean is: [ 42.88964467 150.76837722 150.75247049]\n",
      "Weighted accuracy mean is: [[0.84968778 0.85218555 0.85218555 0.5500446  0.5       ]\n",
      " [0.89348796 0.90972346 0.91106155 0.90463872 0.        ]\n",
      " [0.8867083  0.8867975  0.88688671 0.88688671 0.        ]]\n",
      "TPR mean is: [[0.90333333 0.90333333 0.76       0.10666667 0.        ]\n",
      " [0.87       0.85666667 0.85       0.82       0.        ]\n",
      " [0.88       0.88       0.88       0.88       0.        ]]\n",
      "PPV mean is: [[0.20627611 0.21124536 0.48656046        nan        nan]\n",
      " [0.3872311  0.60499306 0.69018454 0.83925265 0.        ]\n",
      " [0.32437826 0.32462336 0.32489808 0.32511738 0.        ]]\n",
      "MCC mean is: [[0.37209512 0.37799554 0.5650061  0.16611236 0.        ]\n",
      " [0.53938054 0.68964146 0.73551149 0.8102262  0.        ]\n",
      " [0.49266055 0.49292275 0.49319747 0.49344502 0.        ]]\n",
      "L1norm mean is: [2.2665072  1.00214441 1.1036223 ]\n",
      "L2norm mean is: [0.56317839 0.31611541 0.33534841]\n",
      "MSE_F mean is: [0.33362711 0.15253039 0.18417662]\n",
      "MSE_Y mean is: [0.49119277 0.39885006 0.40719371] \n",
      "\n",
      "R2= 0.6741326595966766\n",
      "data generated\n",
      "Length-scales are:  [0.1118034 0.1118034 0.1118034 0.1118034 0.1118034]\n",
      "Noise variance is:  0.04539169882446855\n",
      "Average data variance is:  0.9999999999999999\n",
      "Time taken to draw data :  0.03156590461730957\n",
      "run time is : 23.826411724090576\n"
     ]
    },
    {
     "name": "stderr",
     "output_type": "stream",
     "text": [
      "C:\\Users\\hughw\\Documents\\MSC project\\GP algorithms\\Master function files\\GP_funcs_ZTMFSS.py:55: RuntimeWarning: divide by zero encountered in true_divide\n",
      "  return kern(cdist(X,X, metric = \"seuclidean\", V = 1/l**2),s)\n",
      "C:\\Users\\hughw\\Documents\\MSC project\\GP algorithms\\Master function files\\GP_funcs_ZTMFSS.py:62: RuntimeWarning: divide by zero encountered in true_divide\n",
      "  return kern(cdist(X,Xtest, metric = \"seuclidean\", V = 1/l**2),s).T\n",
      "C:\\Users\\hughw\\anaconda3\\lib\\site-packages\\numpy\\core\\fromnumeric.py:3334: RuntimeWarning: Mean of empty slice.\n",
      "  return _methods._mean(a, axis=axis, dtype=dtype,\n",
      "C:\\Users\\hughw\\anaconda3\\lib\\site-packages\\numpy\\core\\_methods.py:161: RuntimeWarning: invalid value encountered in double_scalars\n",
      "  ret = ret.dtype.type(ret / rcount)\n",
      "C:\\Users\\hughw\\Documents\\MSC project\\GP algorithms\\Master function files\\GP_funcs_ZTMFSS.py:2035: RuntimeWarning: invalid value encountered in true_divide\n",
      "  MCC[j,i]=(TP*TN-FP*FN)/np.sqrt((TP+FP)*(TP+FN)*(TN+FP)*(TN+FN))\n"
     ]
    },
    {
     "name": "stdout",
     "output_type": "stream",
     "text": [
      "run time is : 14.67917013168335\n",
      "run time is : 14.740574598312378\n",
      "run time is : 14.722622871398926\n",
      "run time is : 14.602481603622437\n",
      "run time is : 14.505141258239746\n",
      "run time is : 11.570943593978882\n",
      "run time is : 10.135182619094849\n",
      "run time is : 14.44256591796875\n",
      "run time is : 14.465945482254028\n"
     ]
    },
    {
     "name": "stderr",
     "output_type": "stream",
     "text": [
      "C:\\Users\\hughw\\Documents\\MSC project\\GP algorithms\\Master function files\\GP_funcs_ZTMFSS.py:55: RuntimeWarning: divide by zero encountered in true_divide\n",
      "  return kern(cdist(X,X, metric = \"seuclidean\", V = 1/l**2),s)\n",
      "C:\\Users\\hughw\\Documents\\MSC project\\GP algorithms\\Master function files\\GP_funcs_ZTMFSS.py:62: RuntimeWarning: divide by zero encountered in true_divide\n",
      "  return kern(cdist(X,Xtest, metric = \"seuclidean\", V = 1/l**2),s).T\n"
     ]
    },
    {
     "name": "stdout",
     "output_type": "stream",
     "text": [
      "RUN 60\n",
      "Runtime mean is: [ 42.57739374 150.46021205 150.44428553]\n",
      "Weighted accuracy mean is: [[0.85017544 0.8527193  0.85105263 0.55087719 0.5       ]\n",
      " [0.89236842 0.90885965 0.91017544 0.90429825 0.        ]\n",
      " [0.8872807  0.88736842 0.88745614 0.88754386 0.        ]]\n",
      "TPR mean is: [[0.90491803 0.90491803 0.76065574 0.10491803 0.        ]\n",
      " [0.87213115 0.85901639 0.85245902 0.82295082 0.        ]\n",
      " [0.88196721 0.88196721 0.88196721 0.88196721 0.        ]]\n",
      "PPV mean is: [[0.20572099 0.21070973 0.48678078        nan        nan]\n",
      " [0.38498141 0.60190574 0.68570064 0.83574031 0.        ]\n",
      " [0.32278637 0.32302745 0.32329767 0.32351337 0.        ]]\n",
      "MCC mean is: [[0.37187989 0.37782977 0.565725   0.16301122 0.        ]\n",
      " [0.53806006 0.68852047 0.73363852 0.80969768 0.        ]\n",
      " [0.49166572 0.49192362 0.49219383 0.49243732 0.        ]]\n",
      "L1norm mean is: [2.2666358  1.00195399 1.10317399]\n",
      "L2norm mean is: [0.56325766 0.31503059 0.33420474]\n",
      "MSE_F mean is: [0.33373534 0.15233525 0.18355741]\n",
      "MSE_Y mean is: [0.49089869 0.39941459 0.40765426] \n",
      "\n",
      "R2= 0.6976828460544607\n",
      "data generated\n",
      "Length-scales are:  [0.1118034 0.1118034 0.1118034 0.1118034 0.1118034]\n",
      "Noise variance is:  0.010079809766741906\n",
      "Average data variance is:  1.0\n",
      "Time taken to draw data :  0.03184628486633301\n",
      "run time is : 32.07191061973572\n"
     ]
    },
    {
     "name": "stderr",
     "output_type": "stream",
     "text": [
      "C:\\Users\\hughw\\Documents\\MSC project\\GP algorithms\\Master function files\\GP_funcs_ZTMFSS.py:55: RuntimeWarning: divide by zero encountered in true_divide\n",
      "  return kern(cdist(X,X, metric = \"seuclidean\", V = 1/l**2),s)\n",
      "C:\\Users\\hughw\\Documents\\MSC project\\GP algorithms\\Master function files\\GP_funcs_ZTMFSS.py:62: RuntimeWarning: divide by zero encountered in true_divide\n",
      "  return kern(cdist(X,Xtest, metric = \"seuclidean\", V = 1/l**2),s).T\n",
      "C:\\Users\\hughw\\anaconda3\\lib\\site-packages\\numpy\\core\\fromnumeric.py:3334: RuntimeWarning: Mean of empty slice.\n",
      "  return _methods._mean(a, axis=axis, dtype=dtype,\n",
      "C:\\Users\\hughw\\anaconda3\\lib\\site-packages\\numpy\\core\\_methods.py:161: RuntimeWarning: invalid value encountered in double_scalars\n",
      "  ret = ret.dtype.type(ret / rcount)\n",
      "C:\\Users\\hughw\\Documents\\MSC project\\GP algorithms\\Master function files\\GP_funcs_ZTMFSS.py:2035: RuntimeWarning: invalid value encountered in true_divide\n",
      "  MCC[j,i]=(TP*TN-FP*FN)/np.sqrt((TP+FP)*(TP+FN)*(TN+FP)*(TN+FN))\n"
     ]
    },
    {
     "name": "stdout",
     "output_type": "stream",
     "text": [
      "run time is : 14.343692779541016\n",
      "run time is : 14.369436264038086\n",
      "run time is : 14.380042791366577\n",
      "run time is : 14.389040231704712\n",
      "run time is : 14.404742240905762\n",
      "run time is : 14.419429302215576\n",
      "run time is : 11.543920755386353\n",
      "run time is : 14.410660743713379\n",
      "run time is : 14.773606061935425\n",
      "run time is : 14.919082880020142\n"
     ]
    },
    {
     "name": "stderr",
     "output_type": "stream",
     "text": [
      "C:\\Users\\hughw\\Documents\\MSC project\\GP algorithms\\Master function files\\GP_funcs_ZTMFSS.py:55: RuntimeWarning: divide by zero encountered in true_divide\n",
      "  return kern(cdist(X,X, metric = \"seuclidean\", V = 1/l**2),s)\n",
      "C:\\Users\\hughw\\Documents\\MSC project\\GP algorithms\\Master function files\\GP_funcs_ZTMFSS.py:62: RuntimeWarning: divide by zero encountered in true_divide\n",
      "  return kern(cdist(X,Xtest, metric = \"seuclidean\", V = 1/l**2),s).T\n"
     ]
    },
    {
     "name": "stdout",
     "output_type": "stream",
     "text": [
      "RUN 61\n",
      "Runtime mean is: [ 42.40819248 150.4560731  150.43890796]\n",
      "Weighted accuracy mean is: [[0.85056083 0.85314927 0.85150992 0.54995686 0.5       ]\n",
      " [0.89283865 0.90974978 0.911044   0.90560828 0.        ]\n",
      " [0.88766178 0.88774806 0.88783434 0.88792062 0.        ]]\n",
      "TPR mean is: [[0.90645161 0.90645161 0.76451613 0.10322581 0.        ]\n",
      " [0.86774194 0.85483871 0.8483871  0.81935484 0.        ]\n",
      " [0.88064516 0.88064516 0.88064516 0.88064516 0.        ]]\n",
      "PPV mean is: [[0.20550465 0.21041292 0.48513295        nan        nan]\n",
      " [0.38146021 0.59659641 0.67903978 0.82917307 0.        ]\n",
      " [0.32065233 0.32088952 0.32115539 0.32136761 0.        ]]\n",
      "MCC mean is: [[0.37212435 0.37797827 0.56617277 0.16038201 0.        ]\n",
      " [0.53342685 0.68321007 0.72760041 0.80432433 0.        ]\n",
      " [0.48909557 0.48934931 0.48961517 0.48985473 0.        ]]\n",
      "L1norm mean is: [2.26805086 1.02135198 1.12697655]\n",
      "L2norm mean is: [0.56280399 0.31933653 0.33965659]\n",
      "MSE_F mean is: [0.33367299 0.15454448 0.18694273]\n",
      "MSE_Y mean is: [0.48942525 0.39952321 0.40784458] \n",
      "\n",
      "R2= 0.673443957790564\n",
      "data generated\n",
      "Length-scales are:  [0.1118034 0.1118034 0.1118034 0.1118034 0.1118034]\n",
      "Noise variance is:  0.06854200736912201\n",
      "Average data variance is:  1.0\n",
      "Time taken to draw data :  0.03387761116027832\n",
      "run time is : 42.16495871543884\n"
     ]
    },
    {
     "name": "stderr",
     "output_type": "stream",
     "text": [
      "C:\\Users\\hughw\\Documents\\MSC project\\GP algorithms\\Master function files\\GP_funcs_ZTMFSS.py:55: RuntimeWarning: divide by zero encountered in true_divide\n",
      "  return kern(cdist(X,X, metric = \"seuclidean\", V = 1/l**2),s)\n",
      "C:\\Users\\hughw\\Documents\\MSC project\\GP algorithms\\Master function files\\GP_funcs_ZTMFSS.py:62: RuntimeWarning: divide by zero encountered in true_divide\n",
      "  return kern(cdist(X,Xtest, metric = \"seuclidean\", V = 1/l**2),s).T\n",
      "C:\\Users\\hughw\\anaconda3\\lib\\site-packages\\numpy\\core\\fromnumeric.py:3334: RuntimeWarning: Mean of empty slice.\n",
      "  return _methods._mean(a, axis=axis, dtype=dtype,\n",
      "C:\\Users\\hughw\\anaconda3\\lib\\site-packages\\numpy\\core\\_methods.py:161: RuntimeWarning: invalid value encountered in double_scalars\n",
      "  ret = ret.dtype.type(ret / rcount)\n",
      "C:\\Users\\hughw\\Documents\\MSC project\\GP algorithms\\Master function files\\GP_funcs_ZTMFSS.py:2035: RuntimeWarning: invalid value encountered in true_divide\n",
      "  MCC[j,i]=(TP*TN-FP*FN)/np.sqrt((TP+FP)*(TP+FN)*(TN+FP)*(TN+FN))\n"
     ]
    },
    {
     "name": "stdout",
     "output_type": "stream",
     "text": [
      "run time is : 14.476056814193726\n",
      "run time is : 14.4992356300354\n",
      "run time is : 14.466194868087769\n",
      "run time is : 14.439486503601074\n",
      "run time is : 10.120198011398315\n",
      "run time is : 7.233643054962158\n",
      "run time is : 7.234738349914551\n",
      "run time is : 13.000980138778687\n",
      "run time is : 14.879441261291504\n"
     ]
    },
    {
     "name": "stderr",
     "output_type": "stream",
     "text": [
      "C:\\Users\\hughw\\Documents\\MSC project\\GP algorithms\\Master function files\\GP_funcs_ZTMFSS.py:55: RuntimeWarning: divide by zero encountered in true_divide\n",
      "  return kern(cdist(X,X, metric = \"seuclidean\", V = 1/l**2),s)\n",
      "C:\\Users\\hughw\\Documents\\MSC project\\GP algorithms\\Master function files\\GP_funcs_ZTMFSS.py:62: RuntimeWarning: divide by zero encountered in true_divide\n",
      "  return kern(cdist(X,Xtest, metric = \"seuclidean\", V = 1/l**2),s).T\n"
     ]
    },
    {
     "name": "stdout",
     "output_type": "stream",
     "text": [
      "RUN 62\n",
      "Runtime mean is: [ 42.4045733  149.93392344 149.91035891]\n",
      "Weighted accuracy mean is: [[0.85118846 0.85373514 0.85322581 0.5491511  0.5       ]\n",
      " [0.89006791 0.90730051 0.90857385 0.90356537 0.        ]\n",
      " [0.88641766 0.88650255 0.88658744 0.88667233 0.        ]]\n",
      "TPR mean is: [[0.9047619  0.9047619  0.76507937 0.1015873  0.        ]\n",
      " [0.86666667 0.85396825 0.84761905 0.81904762 0.        ]\n",
      " [0.87936508 0.87936508 0.87936508 0.87936508 0.        ]]\n",
      "PPV mean is: [[0.20459423 0.20951503 0.4844871         nan        nan]\n",
      " [0.3859873  0.60299965 0.68413438 0.83188461 0.        ]\n",
      " [0.32133462 0.32156804 0.32182969 0.32203854 0.        ]]\n",
      "MCC mean is: [[0.37056487 0.37646167 0.56622029 0.15783626 0.        ]\n",
      " [0.5363066  0.68648859 0.73017432 0.8056804  0.        ]\n",
      " [0.48936261 0.48961232 0.48987396 0.49010972 0.        ]]\n",
      "L1norm mean is: [2.26916288 1.01497221 1.12162224]\n",
      "L2norm mean is: [0.56263396 0.31801427 0.33844189]\n",
      "MSE_F mean is: [0.33489224 0.15298504 0.18545506]\n",
      "MSE_Y mean is: [0.49370382 0.40095998 0.40922987] \n",
      "\n",
      "R2= 0.6605144960224738\n",
      "data generated\n",
      "Length-scales are:  [0.1118034 0.1118034 0.1118034 0.1118034 0.1118034]\n",
      "Noise variance is:  0.011728019172452517\n",
      "Average data variance is:  1.0\n",
      "Time taken to draw data :  0.030551671981811523\n",
      "run time is : 23.424562215805054\n"
     ]
    },
    {
     "name": "stderr",
     "output_type": "stream",
     "text": [
      "C:\\Users\\hughw\\Documents\\MSC project\\GP algorithms\\Master function files\\GP_funcs_ZTMFSS.py:55: RuntimeWarning: divide by zero encountered in true_divide\n",
      "  return kern(cdist(X,X, metric = \"seuclidean\", V = 1/l**2),s)\n",
      "C:\\Users\\hughw\\Documents\\MSC project\\GP algorithms\\Master function files\\GP_funcs_ZTMFSS.py:62: RuntimeWarning: divide by zero encountered in true_divide\n",
      "  return kern(cdist(X,Xtest, metric = \"seuclidean\", V = 1/l**2),s).T\n",
      "C:\\Users\\hughw\\anaconda3\\lib\\site-packages\\numpy\\core\\fromnumeric.py:3334: RuntimeWarning: Mean of empty slice.\n",
      "  return _methods._mean(a, axis=axis, dtype=dtype,\n",
      "C:\\Users\\hughw\\anaconda3\\lib\\site-packages\\numpy\\core\\_methods.py:161: RuntimeWarning: invalid value encountered in double_scalars\n",
      "  ret = ret.dtype.type(ret / rcount)\n",
      "C:\\Users\\hughw\\Documents\\MSC project\\GP algorithms\\Master function files\\GP_funcs_ZTMFSS.py:2035: RuntimeWarning: invalid value encountered in true_divide\n",
      "  MCC[j,i]=(TP*TN-FP*FN)/np.sqrt((TP+FP)*(TP+FN)*(TN+FP)*(TN+FN))\n"
     ]
    },
    {
     "name": "stdout",
     "output_type": "stream",
     "text": [
      "run time is : 14.408366680145264\n",
      "run time is : 14.375232458114624\n",
      "run time is : 14.440221071243286\n",
      "run time is : 14.388224601745605\n",
      "run time is : 14.551759004592896\n",
      "run time is : 14.737582206726074\n",
      "run time is : 8.884239673614502\n",
      "run time is : 14.790440559387207\n",
      "run time is : 14.819258213043213\n",
      "run time is : 14.515422821044922\n"
     ]
    },
    {
     "name": "stderr",
     "output_type": "stream",
     "text": [
      "C:\\Users\\hughw\\Documents\\MSC project\\GP algorithms\\Master function files\\GP_funcs_ZTMFSS.py:55: RuntimeWarning: divide by zero encountered in true_divide\n",
      "  return kern(cdist(X,X, metric = \"seuclidean\", V = 1/l**2),s)\n",
      "C:\\Users\\hughw\\Documents\\MSC project\\GP algorithms\\Master function files\\GP_funcs_ZTMFSS.py:62: RuntimeWarning: divide by zero encountered in true_divide\n",
      "  return kern(cdist(X,Xtest, metric = \"seuclidean\", V = 1/l**2),s).T\n"
     ]
    },
    {
     "name": "stdout",
     "output_type": "stream",
     "text": [
      "RUN 63\n",
      "Runtime mean is: [ 42.10824795 149.89690024 149.87344872]\n",
      "Weighted accuracy mean is: [[0.85004177 0.85263158 0.85355054 0.54837093 0.5       ]\n",
      " [0.89005848 0.90718463 0.90843776 0.90350877 0.        ]\n",
      " [0.88604845 0.886132   0.88621554 0.88629908 0.        ]]\n",
      "TPR mean is: [[0.90625  0.90625  0.76875  0.1      0.      ]\n",
      " [0.86875  0.85625  0.85     0.821875 0.      ]\n",
      " [0.88125  0.88125  0.88125  0.88125  0.      ]]\n",
      "PPV mean is: [[0.20494858 0.2099616  0.49254199        nan        nan]\n",
      " [0.3855366  0.60068005 0.68054706 0.83190724 0.        ]\n",
      " [0.32189412 0.3221239  0.32238145 0.32258705 0.        ]]\n",
      "MCC mean is: [[0.37152442 0.37753205 0.5729981  0.15537007 0.        ]\n",
      " [0.53681121 0.68595849 0.72896163 0.80727998 0.        ]\n",
      " [0.49060072 0.49084653 0.49110409 0.49133616 0.        ]]\n",
      "L1norm mean is: [2.2563097  1.01785391 1.12386084]\n",
      "L2norm mean is: [0.55950761 0.31865757 0.33905567]\n",
      "MSE_F mean is: [0.33373589 0.15414604 0.18645415]\n",
      "MSE_Y mean is: [0.49288991 0.40105479 0.40926385] \n",
      "\n",
      "R2= 0.6521093478501754\n",
      "data generated\n",
      "Length-scales are:  [0.1118034 0.1118034 0.1118034 0.1118034 0.1118034]\n",
      "Noise variance is:  0.013974994838831531\n",
      "Average data variance is:  1.0\n",
      "Time taken to draw data :  0.03211069107055664\n",
      "run time is : 32.28293800354004\n"
     ]
    },
    {
     "name": "stderr",
     "output_type": "stream",
     "text": [
      "C:\\Users\\hughw\\Documents\\MSC project\\GP algorithms\\Master function files\\GP_funcs_ZTMFSS.py:55: RuntimeWarning: divide by zero encountered in true_divide\n",
      "  return kern(cdist(X,X, metric = \"seuclidean\", V = 1/l**2),s)\n",
      "C:\\Users\\hughw\\Documents\\MSC project\\GP algorithms\\Master function files\\GP_funcs_ZTMFSS.py:62: RuntimeWarning: divide by zero encountered in true_divide\n",
      "  return kern(cdist(X,Xtest, metric = \"seuclidean\", V = 1/l**2),s).T\n",
      "C:\\Users\\hughw\\anaconda3\\lib\\site-packages\\numpy\\core\\fromnumeric.py:3334: RuntimeWarning: Mean of empty slice.\n",
      "  return _methods._mean(a, axis=axis, dtype=dtype,\n",
      "C:\\Users\\hughw\\anaconda3\\lib\\site-packages\\numpy\\core\\_methods.py:161: RuntimeWarning: invalid value encountered in double_scalars\n",
      "  ret = ret.dtype.type(ret / rcount)\n",
      "C:\\Users\\hughw\\Documents\\MSC project\\GP algorithms\\Master function files\\GP_funcs_ZTMFSS.py:2035: RuntimeWarning: invalid value encountered in true_divide\n",
      "  MCC[j,i]=(TP*TN-FP*FN)/np.sqrt((TP+FP)*(TP+FN)*(TN+FP)*(TN+FN))\n"
     ]
    },
    {
     "name": "stdout",
     "output_type": "stream",
     "text": [
      "run time is : 14.401014804840088\n",
      "run time is : 14.390367031097412\n",
      "run time is : 11.521063327789307\n",
      "run time is : 14.41059684753418\n",
      "run time is : 14.407294750213623\n",
      "run time is : 8.651892185211182\n",
      "run time is : 12.995961666107178\n",
      "run time is : 14.383976936340332\n",
      "run time is : 14.392836093902588\n",
      "run time is : 14.41786789894104\n"
     ]
    },
    {
     "name": "stderr",
     "output_type": "stream",
     "text": [
      "C:\\Users\\hughw\\Documents\\MSC project\\GP algorithms\\Master function files\\GP_funcs_ZTMFSS.py:55: RuntimeWarning: divide by zero encountered in true_divide\n",
      "  return kern(cdist(X,X, metric = \"seuclidean\", V = 1/l**2),s)\n",
      "C:\\Users\\hughw\\Documents\\MSC project\\GP algorithms\\Master function files\\GP_funcs_ZTMFSS.py:62: RuntimeWarning: divide by zero encountered in true_divide\n",
      "  return kern(cdist(X,Xtest, metric = \"seuclidean\", V = 1/l**2),s).T\n"
     ]
    },
    {
     "name": "stdout",
     "output_type": "stream",
     "text": [
      "RUN 64\n",
      "Runtime mean is: [ 41.95732167 149.76088389 149.73736354]\n",
      "Weighted accuracy mean is: [[0.85098684 0.85361842 0.85583882 0.54761513 0.5       ]\n",
      " [0.89103618 0.90814145 0.909375   0.90493421 0.        ]\n",
      " [0.88708882 0.88717105 0.88725329 0.88733553 0.        ]]\n",
      "TPR mean is: [[0.90461538 0.90461538 0.76923077 0.10153846 0.        ]\n",
      " [0.86769231 0.85538462 0.84923077 0.82153846 0.        ]\n",
      " [0.88       0.88       0.88       0.88       0.        ]]\n",
      "PPV mean is: [[0.20399333 0.20892922 0.49265673        nan        nan]\n",
      " [0.38322518 0.59827642 0.67886831 0.82936508 0.        ]\n",
      " [0.32056181 0.32078806 0.32104165 0.32124408 0.        ]]\n",
      "MCC mean is: [[0.36989625 0.37581146 0.57354981 0.15971954 0.        ]\n",
      " [0.5344721  0.68416169 0.727845   0.80585799 0.        ]\n",
      " [0.48897255 0.48921457 0.48946816 0.48969667 0.        ]]\n",
      "L1norm mean is: [2.25443103 1.01642101 1.12248144]\n",
      "L2norm mean is: [0.55817874 0.31818955 0.3385233 ]\n",
      "MSE_F mean is: [0.33401477 0.1549326  0.18729531]\n",
      "MSE_Y mean is: [0.49368782 0.40208522 0.41046035] \n",
      "\n",
      "R2= 0.6804826495519651\n",
      "data generated\n",
      "Length-scales are:  [0.1118034 0.1118034 0.1118034 0.1118034 0.1118034]\n",
      "Noise variance is:  0.03457760735907958\n",
      "Average data variance is:  1.0\n",
      "Time taken to draw data :  0.033048152923583984\n",
      "run time is : 42.06264591217041\n"
     ]
    },
    {
     "name": "stderr",
     "output_type": "stream",
     "text": [
      "C:\\Users\\hughw\\Documents\\MSC project\\GP algorithms\\Master function files\\GP_funcs_ZTMFSS.py:55: RuntimeWarning: divide by zero encountered in true_divide\n",
      "  return kern(cdist(X,X, metric = \"seuclidean\", V = 1/l**2),s)\n",
      "C:\\Users\\hughw\\Documents\\MSC project\\GP algorithms\\Master function files\\GP_funcs_ZTMFSS.py:62: RuntimeWarning: divide by zero encountered in true_divide\n",
      "  return kern(cdist(X,Xtest, metric = \"seuclidean\", V = 1/l**2),s).T\n",
      "C:\\Users\\hughw\\anaconda3\\lib\\site-packages\\numpy\\core\\fromnumeric.py:3334: RuntimeWarning: Mean of empty slice.\n",
      "  return _methods._mean(a, axis=axis, dtype=dtype,\n",
      "C:\\Users\\hughw\\anaconda3\\lib\\site-packages\\numpy\\core\\_methods.py:161: RuntimeWarning: invalid value encountered in double_scalars\n",
      "  ret = ret.dtype.type(ret / rcount)\n",
      "C:\\Users\\hughw\\Documents\\MSC project\\GP algorithms\\Master function files\\GP_funcs_ZTMFSS.py:2035: RuntimeWarning: invalid value encountered in true_divide\n",
      "  MCC[j,i]=(TP*TN-FP*FN)/np.sqrt((TP+FP)*(TP+FN)*(TN+FP)*(TN+FN))\n"
     ]
    },
    {
     "name": "stdout",
     "output_type": "stream",
     "text": [
      "run time is : 14.709722995758057\n",
      "run time is : 14.764479398727417\n",
      "run time is : 14.84330129623413\n",
      "run time is : 13.186090230941772\n",
      "run time is : 10.180520296096802\n",
      "run time is : 11.60602855682373\n",
      "run time is : 7.26665997505188\n",
      "run time is : 13.039486169815063\n",
      "run time is : 14.501125574111938\n"
     ]
    },
    {
     "name": "stderr",
     "output_type": "stream",
     "text": [
      "C:\\Users\\hughw\\Documents\\MSC project\\GP algorithms\\Master function files\\GP_funcs_ZTMFSS.py:55: RuntimeWarning: divide by zero encountered in true_divide\n",
      "  return kern(cdist(X,X, metric = \"seuclidean\", V = 1/l**2),s)\n",
      "C:\\Users\\hughw\\Documents\\MSC project\\GP algorithms\\Master function files\\GP_funcs_ZTMFSS.py:62: RuntimeWarning: divide by zero encountered in true_divide\n",
      "  return kern(cdist(X,Xtest, metric = \"seuclidean\", V = 1/l**2),s).T\n"
     ]
    },
    {
     "name": "stdout",
     "output_type": "stream",
     "text": [
      "RUN 65\n",
      "Runtime mean is: [ 41.95914407 149.32926644 149.30610843]\n",
      "Weighted accuracy mean is: [[0.84979757 0.85238866 0.85619433 0.54842105 0.5       ]\n",
      " [0.89012146 0.90761134 0.90898785 0.90469636 0.        ]\n",
      " [0.88623482 0.88631579 0.88639676 0.88647773 0.        ]]\n",
      "TPR mean is: [[0.90606061 0.90606061 0.76969697 0.1        0.        ]\n",
      " [0.86666667 0.85454545 0.84848485 0.82121212 0.        ]\n",
      " [0.87878788 0.87878788 0.87878788 0.87878788 0.        ]]\n",
      "PPV mean is: [[0.20434604 0.20937113 0.49276799        nan        nan]\n",
      " [0.38347934 0.59931264 0.68070364 0.83195046 0.        ]\n",
      " [0.32176542 0.32198824 0.32223799 0.32243735 0.        ]]\n",
      "MCC mean is: [[0.37083685 0.37685926 0.5740848  0.15729955 0.        ]\n",
      " [0.5344847  0.68462668 0.72877876 0.80712918 0.        ]\n",
      " [0.48967453 0.48991289 0.49016264 0.49038768 0.        ]]\n",
      "L1norm mean is: [2.23967267 1.01344531 1.1200435 ]\n",
      "L2norm mean is: [0.55505277 0.31714606 0.33827444]\n",
      "MSE_F mean is: [0.33332634 0.1544689  0.18720139]\n",
      "MSE_Y mean is: [0.4931771  0.40249171 0.41116405] \n",
      "\n",
      "R2= 0.6556185981544633\n",
      "data generated\n",
      "Length-scales are:  [0.1118034 0.1118034 0.1118034 0.1118034 0.1118034]\n",
      "Noise variance is:  0.019631139604443675\n",
      "Average data variance is:  0.9999999999999999\n",
      "Time taken to draw data :  0.034906625747680664\n",
      "run time is : 23.301859140396118\n"
     ]
    },
    {
     "name": "stderr",
     "output_type": "stream",
     "text": [
      "C:\\Users\\hughw\\Documents\\MSC project\\GP algorithms\\Master function files\\GP_funcs_ZTMFSS.py:55: RuntimeWarning: divide by zero encountered in true_divide\n",
      "  return kern(cdist(X,X, metric = \"seuclidean\", V = 1/l**2),s)\n",
      "C:\\Users\\hughw\\Documents\\MSC project\\GP algorithms\\Master function files\\GP_funcs_ZTMFSS.py:62: RuntimeWarning: divide by zero encountered in true_divide\n",
      "  return kern(cdist(X,Xtest, metric = \"seuclidean\", V = 1/l**2),s).T\n",
      "C:\\Users\\hughw\\anaconda3\\lib\\site-packages\\numpy\\core\\fromnumeric.py:3334: RuntimeWarning: Mean of empty slice.\n",
      "  return _methods._mean(a, axis=axis, dtype=dtype,\n",
      "C:\\Users\\hughw\\anaconda3\\lib\\site-packages\\numpy\\core\\_methods.py:161: RuntimeWarning: invalid value encountered in double_scalars\n",
      "  ret = ret.dtype.type(ret / rcount)\n",
      "C:\\Users\\hughw\\Documents\\MSC project\\GP algorithms\\Master function files\\GP_funcs_ZTMFSS.py:2035: RuntimeWarning: invalid value encountered in true_divide\n",
      "  MCC[j,i]=(TP*TN-FP*FN)/np.sqrt((TP+FP)*(TP+FN)*(TN+FP)*(TN+FN))\n"
     ]
    },
    {
     "name": "stdout",
     "output_type": "stream",
     "text": [
      "run time is : 14.356138706207275\n",
      "run time is : 14.40019154548645\n",
      "run time is : 14.396753072738647\n",
      "run time is : 14.46812391281128\n",
      "run time is : 11.502393245697021\n",
      "run time is : 10.071451187133789\n",
      "run time is : 10.063265085220337\n",
      "run time is : 10.074631929397583\n",
      "run time is : 14.379756689071655\n",
      "run time is : 14.399579048156738\n"
     ]
    },
    {
     "name": "stderr",
     "output_type": "stream",
     "text": [
      "C:\\Users\\hughw\\Documents\\MSC project\\GP algorithms\\Master function files\\GP_funcs_ZTMFSS.py:55: RuntimeWarning: divide by zero encountered in true_divide\n",
      "  return kern(cdist(X,X, metric = \"seuclidean\", V = 1/l**2),s)\n",
      "C:\\Users\\hughw\\Documents\\MSC project\\GP algorithms\\Master function files\\GP_funcs_ZTMFSS.py:62: RuntimeWarning: divide by zero encountered in true_divide\n",
      "  return kern(cdist(X,Xtest, metric = \"seuclidean\", V = 1/l**2),s).T\n"
     ]
    },
    {
     "name": "stdout",
     "output_type": "stream",
     "text": [
      "RUN 66\n",
      "Runtime mean is: [ 41.68090937 149.12823651 149.10883178]\n",
      "Weighted accuracy mean is: [[0.8507177  0.85334928 0.85653907 0.5476874  0.5       ]\n",
      " [0.88979266 0.90733652 0.90877193 0.9046252  0.        ]\n",
      " [0.88596491 0.88604466 0.8861244  0.88620415 0.        ]]\n",
      "TPR mean is: [[0.90447761 0.90447761 0.77014925 0.10149254 0.        ]\n",
      " [0.86567164 0.85373134 0.84776119 0.82089552 0.        ]\n",
      " [0.87761194 0.87761194 0.87761194 0.87761194 0.        ]]\n",
      "PPV mean is: [[0.20335478 0.20845736 0.49287593        nan        nan]\n",
      " [0.38234819 0.5949601  0.67651403 0.83147358 0.        ]\n",
      " [0.32155538 0.32177487 0.32202089 0.32221728 0.        ]]\n",
      "MCC mean is: [[0.36915046 0.37532222 0.57460382 0.16149039 0.        ]\n",
      " [0.533329   0.68123006 0.72589107 0.80686567 0.        ]\n",
      " [0.48918764 0.48942244 0.48966846 0.48989015 0.        ]]\n",
      "L1norm mean is: [2.24194058 1.01942058 1.12333985]\n",
      "L2norm mean is: [0.55473446 0.31889634 0.33965423]\n",
      "MSE_F mean is: [0.33475633 0.15713081 0.18950406]\n",
      "MSE_Y mean is: [0.4964147  0.40534724 0.41388848] \n",
      "\n",
      "R2= 0.6645565215489438\n",
      "data generated\n",
      "Length-scales are:  [0.1118034 0.1118034 0.1118034 0.1118034 0.1118034]\n",
      "Noise variance is:  0.012909384544755003\n",
      "Average data variance is:  1.0\n",
      "Time taken to draw data :  0.03390932083129883\n",
      "run time is : 38.13799548149109\n"
     ]
    },
    {
     "name": "stderr",
     "output_type": "stream",
     "text": [
      "C:\\Users\\hughw\\Documents\\MSC project\\GP algorithms\\Master function files\\GP_funcs_ZTMFSS.py:55: RuntimeWarning: divide by zero encountered in true_divide\n",
      "  return kern(cdist(X,X, metric = \"seuclidean\", V = 1/l**2),s)\n",
      "C:\\Users\\hughw\\Documents\\MSC project\\GP algorithms\\Master function files\\GP_funcs_ZTMFSS.py:62: RuntimeWarning: divide by zero encountered in true_divide\n",
      "  return kern(cdist(X,Xtest, metric = \"seuclidean\", V = 1/l**2),s).T\n",
      "C:\\Users\\hughw\\anaconda3\\lib\\site-packages\\numpy\\core\\fromnumeric.py:3334: RuntimeWarning: Mean of empty slice.\n",
      "  return _methods._mean(a, axis=axis, dtype=dtype,\n",
      "C:\\Users\\hughw\\anaconda3\\lib\\site-packages\\numpy\\core\\_methods.py:161: RuntimeWarning: invalid value encountered in double_scalars\n",
      "  ret = ret.dtype.type(ret / rcount)\n",
      "C:\\Users\\hughw\\Documents\\MSC project\\GP algorithms\\Master function files\\GP_funcs_ZTMFSS.py:2035: RuntimeWarning: invalid value encountered in true_divide\n",
      "  MCC[j,i]=(TP*TN-FP*FN)/np.sqrt((TP+FP)*(TP+FN)*(TN+FP)*(TN+FN))\n"
     ]
    },
    {
     "name": "stdout",
     "output_type": "stream",
     "text": [
      "run time is : 14.745753288269043\n",
      "run time is : 14.532185792922974\n",
      "run time is : 14.47666597366333\n",
      "run time is : 14.46394419670105\n",
      "run time is : 13.000807523727417\n",
      "run time is : 10.112075090408325\n",
      "run time is : 8.667667388916016\n",
      "run time is : 14.438108921051025\n",
      "run time is : 14.424417972564697\n"
     ]
    },
    {
     "name": "stderr",
     "output_type": "stream",
     "text": [
      "C:\\Users\\hughw\\Documents\\MSC project\\GP algorithms\\Master function files\\GP_funcs_ZTMFSS.py:55: RuntimeWarning: divide by zero encountered in true_divide\n",
      "  return kern(cdist(X,X, metric = \"seuclidean\", V = 1/l**2),s)\n",
      "C:\\Users\\hughw\\Documents\\MSC project\\GP algorithms\\Master function files\\GP_funcs_ZTMFSS.py:62: RuntimeWarning: divide by zero encountered in true_divide\n",
      "  return kern(cdist(X,Xtest, metric = \"seuclidean\", V = 1/l**2),s).T\n"
     ]
    },
    {
     "name": "stdout",
     "output_type": "stream",
     "text": [
      "RUN 67\n",
      "Runtime mean is: [ 41.62902773 148.79247412 148.77276419]\n",
      "Weighted accuracy mean is: [[0.8494894  0.85223881 0.85687353 0.54846819 0.5       ]\n",
      " [0.88923802 0.90652003 0.90816968 0.90447761 0.        ]\n",
      " [0.8854674  0.88554595 0.88562451 0.88570306 0.        ]]\n",
      "TPR mean is: [[0.90588235 0.90588235 0.77352941 0.1        0.        ]\n",
      " [0.86764706 0.85588235 0.85       0.82352941 0.        ]\n",
      " [0.87941176 0.87941176 0.87941176 0.87941176 0.        ]]\n",
      "PPV mean is: [[0.20423423 0.20947677 0.49613196        nan        nan]\n",
      " [0.38197753 0.59438062 0.6770695  0.83395191 0.        ]\n",
      " [0.32207872 0.32229498 0.32253739 0.32273089 0.        ]]\n",
      "MCC mean is: [[0.37068772 0.37700364 0.57845098 0.15911553 0.        ]\n",
      " [0.53384773 0.68193984 0.72751342 0.80970588 0.        ]\n",
      " [0.4903555  0.49058685 0.49082925 0.49104768 0.        ]]\n",
      "L1norm mean is: [2.22743564 1.01601623 1.11837296]\n",
      "L2norm mean is: [0.55130107 0.31762206 0.3380994 ]\n",
      "MSE_F mean is: [0.33528481 0.15739933 0.18953497]\n",
      "MSE_Y mean is: [0.4978652  0.40696687 0.41555144] \n",
      "\n",
      "R2= 0.691882647873732\n",
      "data generated\n",
      "Length-scales are:  [0.1118034 0.1118034 0.1118034 0.1118034 0.1118034]\n",
      "Noise variance is:  0.028750525523020615\n",
      "Average data variance is:  1.0\n",
      "Time taken to draw data :  0.031088829040527344\n",
      "run time is : 32.283697843551636\n"
     ]
    },
    {
     "name": "stderr",
     "output_type": "stream",
     "text": [
      "C:\\Users\\hughw\\Documents\\MSC project\\GP algorithms\\Master function files\\GP_funcs_ZTMFSS.py:55: RuntimeWarning: divide by zero encountered in true_divide\n",
      "  return kern(cdist(X,X, metric = \"seuclidean\", V = 1/l**2),s)\n",
      "C:\\Users\\hughw\\Documents\\MSC project\\GP algorithms\\Master function files\\GP_funcs_ZTMFSS.py:62: RuntimeWarning: divide by zero encountered in true_divide\n",
      "  return kern(cdist(X,Xtest, metric = \"seuclidean\", V = 1/l**2),s).T\n",
      "C:\\Users\\hughw\\anaconda3\\lib\\site-packages\\numpy\\core\\fromnumeric.py:3334: RuntimeWarning: Mean of empty slice.\n",
      "  return _methods._mean(a, axis=axis, dtype=dtype,\n",
      "C:\\Users\\hughw\\anaconda3\\lib\\site-packages\\numpy\\core\\_methods.py:161: RuntimeWarning: invalid value encountered in double_scalars\n",
      "  ret = ret.dtype.type(ret / rcount)\n",
      "C:\\Users\\hughw\\Documents\\MSC project\\GP algorithms\\Master function files\\GP_funcs_ZTMFSS.py:2035: RuntimeWarning: invalid value encountered in true_divide\n",
      "  MCC[j,i]=(TP*TN-FP*FN)/np.sqrt((TP+FP)*(TP+FN)*(TN+FP)*(TN+FN))\n"
     ]
    },
    {
     "name": "stdout",
     "output_type": "stream",
     "text": [
      "run time is : 14.377224206924438\n",
      "run time is : 14.387471199035645\n",
      "run time is : 14.427947282791138\n",
      "run time is : 14.44265079498291\n",
      "run time is : 14.42328405380249\n",
      "run time is : 12.961991548538208\n",
      "run time is : 10.295171737670898\n",
      "run time is : 14.736088037490845\n",
      "run time is : 14.805401802062988\n"
     ]
    },
    {
     "name": "stderr",
     "output_type": "stream",
     "text": [
      "C:\\Users\\hughw\\Documents\\MSC project\\GP algorithms\\Master function files\\GP_funcs_ZTMFSS.py:55: RuntimeWarning: divide by zero encountered in true_divide\n",
      "  return kern(cdist(X,X, metric = \"seuclidean\", V = 1/l**2),s)\n",
      "C:\\Users\\hughw\\Documents\\MSC project\\GP algorithms\\Master function files\\GP_funcs_ZTMFSS.py:62: RuntimeWarning: divide by zero encountered in true_divide\n",
      "  return kern(cdist(X,Xtest, metric = \"seuclidean\", V = 1/l**2),s).T\n"
     ]
    },
    {
     "name": "stdout",
     "output_type": "stream",
     "text": [
      "RUN 68\n",
      "Runtime mean is: [ 41.49380793 148.56147961 148.54247451]\n",
      "Weighted accuracy mean is: [[0.8506192  0.85340557 0.85882353 0.54775542 0.5       ]\n",
      " [0.89017028 0.90758514 0.90936533 0.90588235 0.        ]\n",
      " [0.88645511 0.88653251 0.88660991 0.88668731 0.        ]]\n",
      "TPR mean is: [[0.90724638 0.90724638 0.77391304 0.10144928 0.        ]\n",
      " [0.86956522 0.85507246 0.84927536 0.82318841 0.        ]\n",
      " [0.88115942 0.88115942 0.88115942 0.88115942 0.        ]]\n",
      "PPV mean is: [[0.20295952 0.20812608 0.4923517         nan        nan]\n",
      " [0.38006481 0.59220763 0.67369812 0.83014723 0.        ]\n",
      " [0.32030946 0.32052259 0.32076148 0.32095218 0.        ]]\n",
      "MCC mean is: [[0.36914348 0.37536787 0.57564399 0.16315858 0.        ]\n",
      " [0.53276053 0.68030545 0.72521854 0.80748377 0.        ]\n",
      " [0.48900773 0.48923573 0.48947462 0.48968988 0.        ]]\n",
      "L1norm mean is: [2.26806232 1.02461487 1.12880112]\n",
      "L2norm mean is: [0.55989961 0.32008703 0.34077284]\n",
      "MSE_F mean is: [0.33551551 0.15754948 0.18969843]\n",
      "MSE_Y mean is: [0.49907656 0.40616573 0.41492044] \n",
      "\n",
      "R2= 0.6359833462912347\n",
      "data generated\n",
      "Length-scales are:  [0.1118034 0.1118034 0.1118034 0.1118034 0.1118034]\n",
      "Noise variance is:  0.04682014242407074\n",
      "Average data variance is:  1.0\n",
      "Time taken to draw data :  0.03390932083129883\n",
      "run time is : 32.84416341781616\n"
     ]
    },
    {
     "name": "stderr",
     "output_type": "stream",
     "text": [
      "C:\\Users\\hughw\\Documents\\MSC project\\GP algorithms\\Master function files\\GP_funcs_ZTMFSS.py:55: RuntimeWarning: divide by zero encountered in true_divide\n",
      "  return kern(cdist(X,X, metric = \"seuclidean\", V = 1/l**2),s)\n",
      "C:\\Users\\hughw\\Documents\\MSC project\\GP algorithms\\Master function files\\GP_funcs_ZTMFSS.py:62: RuntimeWarning: divide by zero encountered in true_divide\n",
      "  return kern(cdist(X,Xtest, metric = \"seuclidean\", V = 1/l**2),s).T\n",
      "C:\\Users\\hughw\\anaconda3\\lib\\site-packages\\numpy\\core\\fromnumeric.py:3334: RuntimeWarning: Mean of empty slice.\n",
      "  return _methods._mean(a, axis=axis, dtype=dtype,\n",
      "C:\\Users\\hughw\\anaconda3\\lib\\site-packages\\numpy\\core\\_methods.py:161: RuntimeWarning: invalid value encountered in double_scalars\n",
      "  ret = ret.dtype.type(ret / rcount)\n",
      "C:\\Users\\hughw\\Documents\\MSC project\\GP algorithms\\Master function files\\GP_funcs_ZTMFSS.py:2035: RuntimeWarning: invalid value encountered in true_divide\n",
      "  MCC[j,i]=(TP*TN-FP*FN)/np.sqrt((TP+FP)*(TP+FN)*(TN+FP)*(TN+FN))\n"
     ]
    },
    {
     "name": "stdout",
     "output_type": "stream",
     "text": [
      "run time is : 14.458566904067993\n",
      "run time is : 14.454271078109741\n",
      "run time is : 14.438740253448486\n",
      "run time is : 14.446630001068115\n",
      "run time is : 11.58324122428894\n",
      "run time is : 8.671355962753296\n",
      "run time is : 8.664806127548218\n",
      "run time is : 14.446382999420166\n",
      "run time is : 14.449584484100342\n"
     ]
    },
    {
     "name": "stderr",
     "output_type": "stream",
     "text": [
      "C:\\Users\\hughw\\Documents\\MSC project\\GP algorithms\\Master function files\\GP_funcs_ZTMFSS.py:55: RuntimeWarning: divide by zero encountered in true_divide\n",
      "  return kern(cdist(X,X, metric = \"seuclidean\", V = 1/l**2),s)\n",
      "C:\\Users\\hughw\\Documents\\MSC project\\GP algorithms\\Master function files\\GP_funcs_ZTMFSS.py:62: RuntimeWarning: divide by zero encountered in true_divide\n",
      "  return kern(cdist(X,Xtest, metric = \"seuclidean\", V = 1/l**2),s).T\n"
     ]
    },
    {
     "name": "stdout",
     "output_type": "stream",
     "text": [
      "RUN 69\n",
      "Runtime mean is: [ 41.37046135 148.19469318 148.17534482]\n",
      "Weighted accuracy mean is: [[0.84988558 0.85263158 0.85842868 0.54851259 0.5       ]\n",
      " [0.89061785 0.90709382 0.90884821 0.90556827 0.        ]\n",
      " [0.88657513 0.88665141 0.88672769 0.88680397 0.        ]]\n",
      "TPR mean is: [[0.90857143 0.90857143 0.77428571 0.1        0.        ]\n",
      " [0.87142857 0.85714286 0.85142857 0.82571429 0.        ]\n",
      " [0.88285714 0.88285714 0.88285714 0.88285714 0.        ]]\n",
      "PPV mean is: [[0.20261112 0.20790011 0.49166731        nan        nan]\n",
      " [0.37939722 0.59267609 0.67300243 0.82849206 0.        ]\n",
      " [0.31970187 0.31991195 0.32014743 0.3203354  0.        ]]\n",
      "MCC mean is: [[0.36912548 0.37553457 0.57555146 0.16049836 0.        ]\n",
      " [0.53295136 0.6817009  0.72597237 0.80789415 0.        ]\n",
      " [0.48901704 0.48924178 0.48947726 0.48968944 0.        ]]\n",
      "L1norm mean is: [2.26400853 1.0190544  1.12293295]\n",
      "L2norm mean is: [0.55955289 0.31796515 0.33863349]\n",
      "MSE_F mean is: [0.33710354 0.15696229 0.18906297]\n",
      "MSE_Y mean is: [0.4986456  0.4072098  0.41596496] \n",
      "\n",
      "R2= 0.687725984171095\n",
      "data generated\n",
      "Length-scales are:  [0.1118034 0.1118034 0.1118034 0.1118034 0.1118034]\n",
      "Noise variance is:  0.029295381528648277\n",
      "Average data variance is:  1.0\n",
      "Time taken to draw data :  0.032503366470336914\n",
      "run time is : 32.09204030036926\n"
     ]
    },
    {
     "name": "stderr",
     "output_type": "stream",
     "text": [
      "C:\\Users\\hughw\\Documents\\MSC project\\GP algorithms\\Master function files\\GP_funcs_ZTMFSS.py:55: RuntimeWarning: divide by zero encountered in true_divide\n",
      "  return kern(cdist(X,X, metric = \"seuclidean\", V = 1/l**2),s)\n",
      "C:\\Users\\hughw\\Documents\\MSC project\\GP algorithms\\Master function files\\GP_funcs_ZTMFSS.py:62: RuntimeWarning: divide by zero encountered in true_divide\n",
      "  return kern(cdist(X,Xtest, metric = \"seuclidean\", V = 1/l**2),s).T\n",
      "C:\\Users\\hughw\\anaconda3\\lib\\site-packages\\numpy\\core\\fromnumeric.py:3334: RuntimeWarning: Mean of empty slice.\n",
      "  return _methods._mean(a, axis=axis, dtype=dtype,\n",
      "C:\\Users\\hughw\\anaconda3\\lib\\site-packages\\numpy\\core\\_methods.py:161: RuntimeWarning: invalid value encountered in double_scalars\n",
      "  ret = ret.dtype.type(ret / rcount)\n",
      "C:\\Users\\hughw\\Documents\\MSC project\\GP algorithms\\Master function files\\GP_funcs_ZTMFSS.py:2035: RuntimeWarning: invalid value encountered in true_divide\n",
      "  MCC[j,i]=(TP*TN-FP*FN)/np.sqrt((TP+FP)*(TP+FN)*(TN+FP)*(TN+FN))\n"
     ]
    },
    {
     "name": "stdout",
     "output_type": "stream",
     "text": [
      "run time is : 14.400952816009521\n",
      "run time is : 14.42070484161377\n",
      "run time is : 14.404359579086304\n",
      "run time is : 13.120161771774292\n",
      "run time is : 10.364279747009277\n",
      "run time is : 8.876259565353394\n",
      "run time is : 7.433119535446167\n",
      "run time is : 15.02381682395935\n",
      "run time is : 14.83057713508606\n"
     ]
    },
    {
     "name": "stderr",
     "output_type": "stream",
     "text": [
      "C:\\Users\\hughw\\Documents\\MSC project\\GP algorithms\\Master function files\\GP_funcs_ZTMFSS.py:55: RuntimeWarning: divide by zero encountered in true_divide\n",
      "  return kern(cdist(X,X, metric = \"seuclidean\", V = 1/l**2),s)\n",
      "C:\\Users\\hughw\\Documents\\MSC project\\GP algorithms\\Master function files\\GP_funcs_ZTMFSS.py:62: RuntimeWarning: divide by zero encountered in true_divide\n",
      "  return kern(cdist(X,Xtest, metric = \"seuclidean\", V = 1/l**2),s).T\n"
     ]
    },
    {
     "name": "stdout",
     "output_type": "stream",
     "text": [
      "RUN 70\n",
      "Runtime mean is: [ 41.23999052 147.79768566 147.77866374]\n",
      "Weighted accuracy mean is: [[0.85030075 0.85315789 0.85864662 0.54774436 0.5       ]\n",
      " [0.89142857 0.90819549 0.90992481 0.90676692 0.        ]\n",
      " [0.88721805 0.88729323 0.88736842 0.88744361 0.        ]]\n",
      "TPR mean is: [[0.90985915 0.90985915 0.77464789 0.09859155 0.        ]\n",
      " [0.87323944 0.85915493 0.85352113 0.82816901 0.        ]\n",
      " [0.88450704 0.88450704 0.88450704 0.88450704 0.        ]]\n",
      "PPV mean is: [[0.20478762 0.21084048 0.49882692        nan        nan]\n",
      " [0.38187832 0.59841305 0.67760803 0.83090767 0.        ]\n",
      " [0.32022921 0.32043633 0.32066849 0.32085382 0.        ]]\n",
      "MCC mean is: [[0.37193501 0.3789955  0.57997689 0.15823782 0.        ]\n",
      " [0.53571959 0.68618398 0.72983191 0.81059987 0.        ]\n",
      " [0.49013796 0.49035953 0.49059169 0.49080088 0.        ]]\n",
      "L1norm mean is: [2.23821712 1.01132955 1.1155839 ]\n",
      "L2norm mean is: [0.55338047 0.31572136 0.33640778]\n",
      "MSE_F mean is: [0.33404677 0.15587653 0.1880863 ]\n",
      "MSE_Y mean is: [0.49835005 0.40784243 0.41685852] \n",
      "\n",
      "R2= 0.6822833802034801\n",
      "data generated\n",
      "Length-scales are:  [0.1118034 0.1118034 0.1118034 0.1118034 0.1118034]\n",
      "Noise variance is:  0.025674621588640284\n",
      "Average data variance is:  1.0\n",
      "Time taken to draw data :  0.03229331970214844\n",
      "run time is : 19.37377142906189\n"
     ]
    },
    {
     "name": "stderr",
     "output_type": "stream",
     "text": [
      "C:\\Users\\hughw\\Documents\\MSC project\\GP algorithms\\Master function files\\GP_funcs_ZTMFSS.py:55: RuntimeWarning: divide by zero encountered in true_divide\n",
      "  return kern(cdist(X,X, metric = \"seuclidean\", V = 1/l**2),s)\n",
      "C:\\Users\\hughw\\Documents\\MSC project\\GP algorithms\\Master function files\\GP_funcs_ZTMFSS.py:62: RuntimeWarning: divide by zero encountered in true_divide\n",
      "  return kern(cdist(X,Xtest, metric = \"seuclidean\", V = 1/l**2),s).T\n",
      "C:\\Users\\hughw\\anaconda3\\lib\\site-packages\\numpy\\core\\fromnumeric.py:3334: RuntimeWarning: Mean of empty slice.\n",
      "  return _methods._mean(a, axis=axis, dtype=dtype,\n",
      "C:\\Users\\hughw\\anaconda3\\lib\\site-packages\\numpy\\core\\_methods.py:161: RuntimeWarning: invalid value encountered in double_scalars\n",
      "  ret = ret.dtype.type(ret / rcount)\n",
      "C:\\Users\\hughw\\Documents\\MSC project\\GP algorithms\\Master function files\\GP_funcs_ZTMFSS.py:2035: RuntimeWarning: invalid value encountered in true_divide\n",
      "  MCC[j,i]=(TP*TN-FP*FN)/np.sqrt((TP+FP)*(TP+FN)*(TN+FP)*(TN+FN))\n"
     ]
    },
    {
     "name": "stdout",
     "output_type": "stream",
     "text": [
      "run time is : 14.494738340377808\n",
      "run time is : 14.47486686706543\n",
      "run time is : 14.484156131744385\n",
      "run time is : 14.484061002731323\n",
      "run time is : 14.491416215896606\n",
      "run time is : 14.449277639389038\n",
      "run time is : 8.689817905426025\n",
      "run time is : 7.239544153213501\n",
      "run time is : 14.464800596237183\n"
     ]
    },
    {
     "name": "stderr",
     "output_type": "stream",
     "text": [
      "C:\\Users\\hughw\\Documents\\MSC project\\GP algorithms\\Master function files\\GP_funcs_ZTMFSS.py:55: RuntimeWarning: divide by zero encountered in true_divide\n",
      "  return kern(cdist(X,X, metric = \"seuclidean\", V = 1/l**2),s)\n",
      "C:\\Users\\hughw\\Documents\\MSC project\\GP algorithms\\Master function files\\GP_funcs_ZTMFSS.py:62: RuntimeWarning: divide by zero encountered in true_divide\n",
      "  return kern(cdist(X,Xtest, metric = \"seuclidean\", V = 1/l**2),s).T\n"
     ]
    },
    {
     "name": "stdout",
     "output_type": "stream",
     "text": [
      "RUN 71\n",
      "Runtime mean is: [ 40.9365083  147.47621181 147.45696551]\n",
      "Weighted accuracy mean is: [[0.85174203 0.85470719 0.85922906 0.54707191 0.5       ]\n",
      " [0.89266123 0.90948851 0.91119348 0.90808006 0.        ]\n",
      " [0.88813936 0.88821349 0.88828762 0.88836175 0.        ]]\n",
      "TPR mean is: [[0.90833333 0.90833333 0.775      0.10277778 0.        ]\n",
      " [0.87222222 0.85833333 0.85277778 0.82777778 0.        ]\n",
      " [0.88333333 0.88333333 0.88333333 0.88333333 0.        ]]\n",
      "PPV mean is: [[0.2037952  0.20982785 0.495371          nan        nan]\n",
      " [0.38084796 0.59437526 0.67436965 0.83325617 0.        ]\n",
      " [0.32005508 0.32025933 0.32048827 0.32067102 0.        ]]\n",
      "MCC mean is: [[0.37024582 0.37731291 0.57748416 0.16295115 0.        ]\n",
      " [0.534627   0.68300161 0.72760045 0.81169927 0.        ]\n",
      " [0.48967844 0.48989694 0.49012588 0.49033217 0.        ]]\n",
      "L1norm mean is: [2.26004161 1.01614929 1.11937353]\n",
      "L2norm mean is: [0.55742394 0.3171414  0.33768791]\n",
      "MSE_F mean is: [0.33418686 0.15669815 0.18860749]\n",
      "MSE_Y mean is: [0.49736009 0.40689406 0.41583393] \n",
      "\n",
      "R2= 0.710224208966546\n",
      "data generated\n",
      "Length-scales are:  [0.1118034 0.1118034 0.1118034 0.1118034 0.1118034]\n",
      "Noise variance is:  0.021197466980387332\n",
      "Average data variance is:  1.0\n",
      "Time taken to draw data :  0.035439491271972656\n",
      "run time is : 41.2020800113678\n"
     ]
    },
    {
     "name": "stderr",
     "output_type": "stream",
     "text": [
      "C:\\Users\\hughw\\Documents\\MSC project\\GP algorithms\\Master function files\\GP_funcs_ZTMFSS.py:55: RuntimeWarning: divide by zero encountered in true_divide\n",
      "  return kern(cdist(X,X, metric = \"seuclidean\", V = 1/l**2),s)\n",
      "C:\\Users\\hughw\\Documents\\MSC project\\GP algorithms\\Master function files\\GP_funcs_ZTMFSS.py:62: RuntimeWarning: divide by zero encountered in true_divide\n",
      "  return kern(cdist(X,Xtest, metric = \"seuclidean\", V = 1/l**2),s).T\n",
      "C:\\Users\\hughw\\anaconda3\\lib\\site-packages\\numpy\\core\\fromnumeric.py:3334: RuntimeWarning: Mean of empty slice.\n",
      "  return _methods._mean(a, axis=axis, dtype=dtype,\n",
      "C:\\Users\\hughw\\anaconda3\\lib\\site-packages\\numpy\\core\\_methods.py:161: RuntimeWarning: invalid value encountered in double_scalars\n",
      "  ret = ret.dtype.type(ret / rcount)\n",
      "C:\\Users\\hughw\\Documents\\MSC project\\GP algorithms\\Master function files\\GP_funcs_ZTMFSS.py:2035: RuntimeWarning: invalid value encountered in true_divide\n",
      "  MCC[j,i]=(TP*TN-FP*FN)/np.sqrt((TP+FP)*(TP+FN)*(TN+FP)*(TN+FN))\n"
     ]
    },
    {
     "name": "stdout",
     "output_type": "stream",
     "text": [
      "run time is : 14.415186405181885\n",
      "run time is : 14.39400601387024\n",
      "run time is : 15.37428069114685\n",
      "run time is : 15.737935781478882\n",
      "run time is : 14.792404651641846\n",
      "run time is : 10.334335565567017\n",
      "run time is : 8.90815281867981\n",
      "run time is : 14.603827476501465\n",
      "run time is : 14.516349792480469\n",
      "run time is : 14.475569725036621\n"
     ]
    },
    {
     "name": "stderr",
     "output_type": "stream",
     "text": [
      "C:\\Users\\hughw\\Documents\\MSC project\\GP algorithms\\Master function files\\GP_funcs_ZTMFSS.py:55: RuntimeWarning: divide by zero encountered in true_divide\n",
      "  return kern(cdist(X,X, metric = \"seuclidean\", V = 1/l**2),s)\n",
      "C:\\Users\\hughw\\Documents\\MSC project\\GP algorithms\\Master function files\\GP_funcs_ZTMFSS.py:62: RuntimeWarning: divide by zero encountered in true_divide\n",
      "  return kern(cdist(X,Xtest, metric = \"seuclidean\", V = 1/l**2),s).T\n"
     ]
    },
    {
     "name": "stdout",
     "output_type": "stream",
     "text": [
      "RUN 72\n",
      "Runtime mean is: [ 40.94034849 147.44009777 147.4214334 ]\n",
      "Weighted accuracy mean is: [[0.8505117  0.85350877 0.85891813 0.54912281 0.5       ]\n",
      " [0.89210526 0.90869883 0.91067251 0.90796784 0.        ]\n",
      " [0.8876462  0.8877193  0.8877924  0.8878655  0.        ]]\n",
      "TPR mean is: [[0.90684932 0.90684932 0.77260274 0.10136986 0.        ]\n",
      " [0.87123288 0.85753425 0.85205479 0.82739726 0.        ]\n",
      " [0.88219178 0.88219178 0.88219178 0.88219178 0.        ]]\n",
      "PPV mean is: [[0.20361275 0.20956276 0.49680427        nan        nan]\n",
      " [0.37928383 0.59406092 0.67426413 0.83280061 0.        ]\n",
      " [0.31909542 0.31929687 0.31952268 0.31970292 0.        ]]\n",
      "MCC mean is: [[0.36972624 0.37669652 0.57750421 0.16071894 0.        ]\n",
      " [0.53302417 0.68263694 0.7274258  0.81139481 0.        ]\n",
      " [0.48845684 0.48867234 0.48889814 0.4891016  0.        ]]\n",
      "L1norm mean is: [2.25013805 1.01579609 1.11874232]\n",
      "L2norm mean is: [0.55503576 0.3167021  0.33719007]\n",
      "MSE_F mean is: [0.33251225 0.15598609 0.18767415]\n",
      "MSE_Y mean is: [0.49651264 0.4066891  0.41565508] \n",
      "\n",
      "R2= 0.6716863693572315\n",
      "data generated\n",
      "Length-scales are:  [0.1118034 0.1118034 0.1118034 0.1118034 0.1118034]\n",
      "Noise variance is:  0.035007638330753356\n",
      "Average data variance is:  1.0\n",
      "Time taken to draw data :  0.0330348014831543\n",
      "run time is : 41.243683099746704\n"
     ]
    },
    {
     "name": "stderr",
     "output_type": "stream",
     "text": [
      "C:\\Users\\hughw\\Documents\\MSC project\\GP algorithms\\Master function files\\GP_funcs_ZTMFSS.py:55: RuntimeWarning: divide by zero encountered in true_divide\n",
      "  return kern(cdist(X,X, metric = \"seuclidean\", V = 1/l**2),s)\n",
      "C:\\Users\\hughw\\Documents\\MSC project\\GP algorithms\\Master function files\\GP_funcs_ZTMFSS.py:62: RuntimeWarning: divide by zero encountered in true_divide\n",
      "  return kern(cdist(X,Xtest, metric = \"seuclidean\", V = 1/l**2),s).T\n",
      "C:\\Users\\hughw\\anaconda3\\lib\\site-packages\\numpy\\core\\fromnumeric.py:3334: RuntimeWarning: Mean of empty slice.\n",
      "  return _methods._mean(a, axis=axis, dtype=dtype,\n",
      "C:\\Users\\hughw\\anaconda3\\lib\\site-packages\\numpy\\core\\_methods.py:161: RuntimeWarning: invalid value encountered in double_scalars\n",
      "  ret = ret.dtype.type(ret / rcount)\n",
      "C:\\Users\\hughw\\Documents\\MSC project\\GP algorithms\\Master function files\\GP_funcs_ZTMFSS.py:2035: RuntimeWarning: invalid value encountered in true_divide\n",
      "  MCC[j,i]=(TP*TN-FP*FN)/np.sqrt((TP+FP)*(TP+FN)*(TN+FP)*(TN+FN))\n"
     ]
    },
    {
     "name": "stdout",
     "output_type": "stream",
     "text": [
      "run time is : 14.43153190612793\n",
      "run time is : 14.430837869644165\n",
      "run time is : 13.011683225631714\n",
      "run time is : 14.456568956375122\n",
      "run time is : 14.425133466720581\n",
      "run time is : 14.420451879501343\n",
      "run time is : 10.103834867477417\n",
      "run time is : 7.226468801498413\n",
      "run time is : 14.45711064338684\n",
      "run time is : 14.437134265899658\n"
     ]
    },
    {
     "name": "stderr",
     "output_type": "stream",
     "text": [
      "C:\\Users\\hughw\\Documents\\MSC project\\GP algorithms\\Master function files\\GP_funcs_ZTMFSS.py:55: RuntimeWarning: divide by zero encountered in true_divide\n",
      "  return kern(cdist(X,X, metric = \"seuclidean\", V = 1/l**2),s)\n",
      "C:\\Users\\hughw\\Documents\\MSC project\\GP algorithms\\Master function files\\GP_funcs_ZTMFSS.py:62: RuntimeWarning: divide by zero encountered in true_divide\n",
      "  return kern(cdist(X,Xtest, metric = \"seuclidean\", V = 1/l**2),s).T\n"
     ]
    },
    {
     "name": "stdout",
     "output_type": "stream",
     "text": [
      "RUN 73\n",
      "Runtime mean is: [ 40.9446467  147.32198503 147.30681465]\n",
      "Weighted accuracy mean is: [[0.84996395 0.85291997 0.85796683 0.54844989 0.5       ]\n",
      " [0.89142033 0.90836337 0.91038212 0.90778659 0.        ]\n",
      " [0.88695025 0.88702235 0.88709445 0.88716655 0.        ]]\n",
      "TPR mean is: [[0.90810811 0.90810811 0.77027027 0.1027027  0.        ]\n",
      " [0.86756757 0.85405405 0.84864865 0.82432432 0.        ]\n",
      " [0.87837838 0.87837838 0.87837838 0.87837838 0.        ]]\n",
      "PPV mean is: [[0.20284851 0.20871811 0.4927934         nan        nan]\n",
      " [0.37784388 0.59110064 0.67022002 0.83168168 0.        ]\n",
      " [0.31767908 0.3178778  0.31810055 0.31827836 0.        ]]\n",
      "MCC mean is: [[0.36904934 0.37592543 0.57360715 0.16253305 0.        ]\n",
      " [0.53067622 0.67935443 0.72353804 0.80928961 0.        ]\n",
      " [0.48596601 0.4861786  0.48640135 0.48660207 0.        ]]\n",
      "L1norm mean is: [2.26895426 1.0193407  1.1231801 ]\n",
      "L2norm mean is: [0.55852834 0.31774641 0.33842755]\n",
      "MSE_F mean is: [0.33491772 0.15612305 0.18777322]\n",
      "MSE_Y mean is: [0.49558255 0.40570837 0.41460618] \n",
      "\n",
      "R2= 0.6885547367747004\n",
      "data generated\n",
      "Length-scales are:  [0.1118034 0.1118034 0.1118034 0.1118034 0.1118034]\n",
      "Noise variance is:  0.05661267084042407\n",
      "Average data variance is:  0.9999999999999997\n",
      "Time taken to draw data :  0.033911705017089844\n",
      "run time is : 42.970659494400024\n"
     ]
    },
    {
     "name": "stderr",
     "output_type": "stream",
     "text": [
      "C:\\Users\\hughw\\Documents\\MSC project\\GP algorithms\\Master function files\\GP_funcs_ZTMFSS.py:55: RuntimeWarning: divide by zero encountered in true_divide\n",
      "  return kern(cdist(X,X, metric = \"seuclidean\", V = 1/l**2),s)\n",
      "C:\\Users\\hughw\\Documents\\MSC project\\GP algorithms\\Master function files\\GP_funcs_ZTMFSS.py:62: RuntimeWarning: divide by zero encountered in true_divide\n",
      "  return kern(cdist(X,Xtest, metric = \"seuclidean\", V = 1/l**2),s).T\n",
      "C:\\Users\\hughw\\anaconda3\\lib\\site-packages\\numpy\\core\\fromnumeric.py:3334: RuntimeWarning: Mean of empty slice.\n",
      "  return _methods._mean(a, axis=axis, dtype=dtype,\n",
      "C:\\Users\\hughw\\anaconda3\\lib\\site-packages\\numpy\\core\\_methods.py:161: RuntimeWarning: invalid value encountered in double_scalars\n",
      "  ret = ret.dtype.type(ret / rcount)\n",
      "C:\\Users\\hughw\\Documents\\MSC project\\GP algorithms\\Master function files\\GP_funcs_ZTMFSS.py:2035: RuntimeWarning: invalid value encountered in true_divide\n",
      "  MCC[j,i]=(TP*TN-FP*FN)/np.sqrt((TP+FP)*(TP+FN)*(TN+FP)*(TN+FN))\n"
     ]
    },
    {
     "name": "stdout",
     "output_type": "stream",
     "text": [
      "run time is : 14.776136875152588\n",
      "run time is : 14.525879383087158\n",
      "run time is : 14.756314516067505\n",
      "run time is : 13.02735710144043\n",
      "run time is : 13.01438593864441\n",
      "run time is : 7.232897758483887\n",
      "run time is : 7.258865833282471\n",
      "run time is : 14.449395418167114\n",
      "run time is : 14.426776647567749\n"
     ]
    },
    {
     "name": "stderr",
     "output_type": "stream",
     "text": [
      "C:\\Users\\hughw\\Documents\\MSC project\\GP algorithms\\Master function files\\GP_funcs_ZTMFSS.py:55: RuntimeWarning: divide by zero encountered in true_divide\n",
      "  return kern(cdist(X,X, metric = \"seuclidean\", V = 1/l**2),s)\n",
      "C:\\Users\\hughw\\Documents\\MSC project\\GP algorithms\\Master function files\\GP_funcs_ZTMFSS.py:62: RuntimeWarning: divide by zero encountered in true_divide\n",
      "  return kern(cdist(X,Xtest, metric = \"seuclidean\", V = 1/l**2),s).T\n"
     ]
    },
    {
     "name": "stdout",
     "output_type": "stream",
     "text": [
      "RUN 74\n",
      "Runtime mean is: [ 40.97187297 146.96205849 146.94718377]\n",
      "Weighted accuracy mean is: [[0.84992888 0.85284495 0.85633001 0.54907539 0.5       ]\n",
      " [0.88961593 0.90654339 0.90853485 0.90625889 0.        ]\n",
      " [0.88499289 0.88506401 0.88513514 0.88520626 0.        ]]\n",
      "TPR mean is: [[0.90933333 0.90933333 0.77066667 0.10133333 0.        ]\n",
      " [0.86666667 0.85333333 0.848      0.824      0.        ]\n",
      " [0.87733333 0.87733333 0.87733333 0.87733333 0.        ]]\n",
      "PPV mean is: [[0.20569942 0.21149076 0.49688949        nan        nan]\n",
      " [0.37947263 0.59388597 0.67195042 0.83392593 0.        ]\n",
      " [0.3210624  0.32125848 0.32147826 0.3216537  0.        ]]\n",
      "MCC mean is: [[0.37241216 0.37919657 0.57648537 0.16036594 0.        ]\n",
      " [0.53171866 0.68082269 0.72441718 0.8103625  0.        ]\n",
      " [0.4882382  0.48844796 0.48866774 0.48886578 0.        ]]\n",
      "L1norm mean is: [2.24680915 1.01284372 1.11471851]\n",
      "L2norm mean is: [0.55384562 0.31616454 0.33667214]\n",
      "MSE_F mean is: [0.33236725 0.15557808 0.18696634]\n",
      "MSE_Y mean is: [0.49418304 0.40543142 0.41430484] \n",
      "\n",
      "R2= 0.678040686461509\n",
      "data generated\n",
      "Length-scales are:  [0.1118034 0.1118034 0.1118034 0.1118034 0.1118034]\n",
      "Noise variance is:  0.005390488498903148\n",
      "Average data variance is:  1.0\n",
      "Time taken to draw data :  0.031499624252319336\n",
      "run time is : 40.694990396499634\n"
     ]
    },
    {
     "name": "stderr",
     "output_type": "stream",
     "text": [
      "C:\\Users\\hughw\\Documents\\MSC project\\GP algorithms\\Master function files\\GP_funcs_ZTMFSS.py:55: RuntimeWarning: divide by zero encountered in true_divide\n",
      "  return kern(cdist(X,X, metric = \"seuclidean\", V = 1/l**2),s)\n",
      "C:\\Users\\hughw\\Documents\\MSC project\\GP algorithms\\Master function files\\GP_funcs_ZTMFSS.py:62: RuntimeWarning: divide by zero encountered in true_divide\n",
      "  return kern(cdist(X,Xtest, metric = \"seuclidean\", V = 1/l**2),s).T\n",
      "C:\\Users\\hughw\\anaconda3\\lib\\site-packages\\numpy\\core\\fromnumeric.py:3334: RuntimeWarning: Mean of empty slice.\n",
      "  return _methods._mean(a, axis=axis, dtype=dtype,\n",
      "C:\\Users\\hughw\\anaconda3\\lib\\site-packages\\numpy\\core\\_methods.py:161: RuntimeWarning: invalid value encountered in double_scalars\n",
      "  ret = ret.dtype.type(ret / rcount)\n",
      "C:\\Users\\hughw\\Documents\\MSC project\\GP algorithms\\Master function files\\GP_funcs_ZTMFSS.py:2035: RuntimeWarning: invalid value encountered in true_divide\n",
      "  MCC[j,i]=(TP*TN-FP*FN)/np.sqrt((TP+FP)*(TP+FN)*(TN+FP)*(TN+FN))\n"
     ]
    },
    {
     "name": "stdout",
     "output_type": "stream",
     "text": [
      "run time is : 14.388572216033936\n",
      "run time is : 14.381448030471802\n",
      "run time is : 14.412493228912354\n",
      "run time is : 14.392260551452637\n",
      "run time is : 14.391563892364502\n",
      "run time is : 10.087963819503784\n",
      "run time is : 8.837395429611206\n",
      "run time is : 7.390220403671265\n",
      "run time is : 14.88516902923584\n",
      "run time is : 14.697651624679565\n"
     ]
    },
    {
     "name": "stderr",
     "output_type": "stream",
     "text": [
      "C:\\Users\\hughw\\Documents\\MSC project\\GP algorithms\\Master function files\\GP_funcs_ZTMFSS.py:55: RuntimeWarning: divide by zero encountered in true_divide\n",
      "  return kern(cdist(X,X, metric = \"seuclidean\", V = 1/l**2),s)\n",
      "C:\\Users\\hughw\\Documents\\MSC project\\GP algorithms\\Master function files\\GP_funcs_ZTMFSS.py:62: RuntimeWarning: divide by zero encountered in true_divide\n",
      "  return kern(cdist(X,Xtest, metric = \"seuclidean\", V = 1/l**2),s).T\n"
     ]
    },
    {
     "name": "stdout",
     "output_type": "stream",
     "text": [
      "RUN 75\n",
      "Runtime mean is: [ 40.9684237  146.81835916 146.8018682 ]\n",
      "Weighted accuracy mean is: [[0.8514386  0.85431579 0.85684211 0.54842105 0.5       ]\n",
      " [0.88947368 0.90638596 0.90835088 0.90617544 0.        ]\n",
      " [0.88498246 0.88505263 0.88512281 0.88519298 0.        ]]\n",
      "TPR mean is: [[0.91052632 0.91052632 0.77368421 0.10263158 0.        ]\n",
      " [0.86842105 0.85526316 0.85       0.82631579 0.        ]\n",
      " [0.87894737 0.87894737 0.87894737 0.87894737 0.        ]]\n",
      "PPV mean is: [[0.20511509 0.21090097 0.49583393        nan        nan]\n",
      " [0.37859141 0.59113241 0.6681697  0.83391813 0.        ]\n",
      " [0.32049287 0.32068637 0.32090326 0.32107639 0.        ]]\n",
      "MCC mean is: [[0.37201554 0.37881817 0.57707452 0.16402015 0.        ]\n",
      " [0.5316389  0.67967353 0.72269441 0.81164791 0.        ]\n",
      " [0.4882569  0.4884639  0.48868078 0.48887622 0.        ]]\n",
      "L1norm mean is: [2.25367666 1.02518615 1.12663243]\n",
      "L2norm mean is: [0.55522318 0.3194969  0.34020694]\n",
      "MSE_F mean is: [0.33227927 0.15633103 0.18746075]\n",
      "MSE_Y mean is: [0.49445374 0.40596889 0.41494951] \n",
      "\n",
      "R2= 0.6479396023056606\n",
      "data generated\n",
      "Length-scales are:  [0.1118034 0.1118034 0.1118034 0.1118034 0.1118034]\n",
      "Noise variance is:  0.06444900484460722\n",
      "Average data variance is:  1.0\n",
      "Time taken to draw data :  0.030883312225341797\n",
      "run time is : 41.404584884643555\n"
     ]
    },
    {
     "name": "stderr",
     "output_type": "stream",
     "text": [
      "C:\\Users\\hughw\\Documents\\MSC project\\GP algorithms\\Master function files\\GP_funcs_ZTMFSS.py:55: RuntimeWarning: divide by zero encountered in true_divide\n",
      "  return kern(cdist(X,X, metric = \"seuclidean\", V = 1/l**2),s)\n",
      "C:\\Users\\hughw\\Documents\\MSC project\\GP algorithms\\Master function files\\GP_funcs_ZTMFSS.py:62: RuntimeWarning: divide by zero encountered in true_divide\n",
      "  return kern(cdist(X,Xtest, metric = \"seuclidean\", V = 1/l**2),s).T\n",
      "C:\\Users\\hughw\\anaconda3\\lib\\site-packages\\numpy\\core\\fromnumeric.py:3334: RuntimeWarning: Mean of empty slice.\n",
      "  return _methods._mean(a, axis=axis, dtype=dtype,\n",
      "C:\\Users\\hughw\\anaconda3\\lib\\site-packages\\numpy\\core\\_methods.py:161: RuntimeWarning: invalid value encountered in double_scalars\n",
      "  ret = ret.dtype.type(ret / rcount)\n",
      "C:\\Users\\hughw\\Documents\\MSC project\\GP algorithms\\Master function files\\GP_funcs_ZTMFSS.py:2035: RuntimeWarning: invalid value encountered in true_divide\n",
      "  MCC[j,i]=(TP*TN-FP*FN)/np.sqrt((TP+FP)*(TP+FN)*(TN+FP)*(TN+FN))\n"
     ]
    },
    {
     "name": "stdout",
     "output_type": "stream",
     "text": [
      "run time is : 14.366824865341187\n",
      "run time is : 14.457100868225098\n",
      "run time is : 14.411530494689941\n",
      "run time is : 14.420378684997559\n",
      "run time is : 12.95073652267456\n",
      "run time is : 11.526721715927124\n",
      "run time is : 10.09441089630127\n",
      "run time is : 7.203810930252075\n",
      "run time is : 14.401231050491333\n"
     ]
    },
    {
     "name": "stderr",
     "output_type": "stream",
     "text": [
      "C:\\Users\\hughw\\Documents\\MSC project\\GP algorithms\\Master function files\\GP_funcs_ZTMFSS.py:55: RuntimeWarning: divide by zero encountered in true_divide\n",
      "  return kern(cdist(X,X, metric = \"seuclidean\", V = 1/l**2),s)\n",
      "C:\\Users\\hughw\\Documents\\MSC project\\GP algorithms\\Master function files\\GP_funcs_ZTMFSS.py:62: RuntimeWarning: divide by zero encountered in true_divide\n",
      "  return kern(cdist(X,Xtest, metric = \"seuclidean\", V = 1/l**2),s).T\n"
     ]
    },
    {
     "name": "stdout",
     "output_type": "stream",
     "text": [
      "RUN 76\n",
      "Runtime mean is: [ 40.97428733 146.48454774 146.46733669]\n",
      "Weighted accuracy mean is: [[0.8515928  0.85450139 0.858241   0.54909972 0.5       ]\n",
      " [0.8901662  0.90706371 0.90900277 0.90734072 0.        ]\n",
      " [0.88559557 0.88566482 0.88573407 0.88580332 0.        ]]\n",
      "TPR mean is: [[0.90649351 0.90649351 0.76883117 0.1012987  0.        ]\n",
      " [0.86493506 0.85194805 0.84675325 0.82337662 0.        ]\n",
      " [0.87532468 0.87532468 0.87532468 0.87532468 0.        ]]\n",
      "PPV mean is: [[0.20394976 0.20966049 0.4931051         nan        nan]\n",
      " [0.37645757 0.58832549 0.6643623  0.82958153 0.        ]\n",
      " [0.31876569 0.31895667 0.31917075 0.31934163 0.        ]]\n",
      "MCC mean is: [[0.36949362 0.37620791 0.57343355 0.16189002 0.        ]\n",
      " [0.52868432 0.6765574  0.71901957 0.80788168 0.        ]\n",
      " [0.4854918  0.48569611 0.48591018 0.48610307 0.        ]]\n",
      "L1norm mean is: [2.25540312 1.02705624 1.12943322]\n",
      "L2norm mean is: [0.55508245 0.31963315 0.34044092]\n",
      "MSE_F mean is: [0.33345468 0.1561863  0.18752984]\n",
      "MSE_Y mean is: [0.49313144 0.40477219 0.41380795] \n",
      "\n",
      "R2= 0.689243274372848\n",
      "data generated\n",
      "Length-scales are:  [0.1118034 0.1118034 0.1118034 0.1118034 0.1118034]\n",
      "Noise variance is:  0.007853652471549673\n",
      "Average data variance is:  1.0\n",
      "Time taken to draw data :  0.031601905822753906\n",
      "run time is : 23.086249351501465\n"
     ]
    },
    {
     "name": "stderr",
     "output_type": "stream",
     "text": [
      "C:\\Users\\hughw\\Documents\\MSC project\\GP algorithms\\Master function files\\GP_funcs_ZTMFSS.py:55: RuntimeWarning: divide by zero encountered in true_divide\n",
      "  return kern(cdist(X,X, metric = \"seuclidean\", V = 1/l**2),s)\n",
      "C:\\Users\\hughw\\Documents\\MSC project\\GP algorithms\\Master function files\\GP_funcs_ZTMFSS.py:62: RuntimeWarning: divide by zero encountered in true_divide\n",
      "  return kern(cdist(X,Xtest, metric = \"seuclidean\", V = 1/l**2),s).T\n",
      "C:\\Users\\hughw\\anaconda3\\lib\\site-packages\\numpy\\core\\fromnumeric.py:3334: RuntimeWarning: Mean of empty slice.\n",
      "  return _methods._mean(a, axis=axis, dtype=dtype,\n",
      "C:\\Users\\hughw\\anaconda3\\lib\\site-packages\\numpy\\core\\_methods.py:161: RuntimeWarning: invalid value encountered in double_scalars\n",
      "  ret = ret.dtype.type(ret / rcount)\n",
      "C:\\Users\\hughw\\Documents\\MSC project\\GP algorithms\\Master function files\\GP_funcs_ZTMFSS.py:2035: RuntimeWarning: invalid value encountered in true_divide\n",
      "  MCC[j,i]=(TP*TN-FP*FN)/np.sqrt((TP+FP)*(TP+FN)*(TN+FP)*(TN+FN))\n"
     ]
    },
    {
     "name": "stdout",
     "output_type": "stream",
     "text": [
      "run time is : 14.419311285018921\n",
      "run time is : 14.46344256401062\n",
      "run time is : 14.425303936004639\n",
      "run time is : 13.237680673599243\n",
      "run time is : 13.353254318237305\n",
      "run time is : 7.424143552780151\n",
      "run time is : 7.428164005279541\n",
      "run time is : 14.868202209472656\n",
      "run time is : 14.708622932434082\n",
      "run time is : 14.596677780151367\n"
     ]
    },
    {
     "name": "stderr",
     "output_type": "stream",
     "text": [
      "C:\\Users\\hughw\\Documents\\MSC project\\GP algorithms\\Master function files\\GP_funcs_ZTMFSS.py:55: RuntimeWarning: divide by zero encountered in true_divide\n",
      "  return kern(cdist(X,X, metric = \"seuclidean\", V = 1/l**2),s)\n",
      "C:\\Users\\hughw\\Documents\\MSC project\\GP algorithms\\Master function files\\GP_funcs_ZTMFSS.py:62: RuntimeWarning: divide by zero encountered in true_divide\n",
      "  return kern(cdist(X,Xtest, metric = \"seuclidean\", V = 1/l**2),s).T\n"
     ]
    },
    {
     "name": "stdout",
     "output_type": "stream",
     "text": [
      "RUN 77\n",
      "Runtime mean is: [ 40.74514551 146.35143635 146.3337513 ]\n",
      "Weighted accuracy mean is: [[0.84935065 0.85222146 0.85584416 0.54846206 0.5       ]\n",
      " [0.88824334 0.90533151 0.90724539 0.90574163 0.        ]\n",
      " [0.88359535 0.8836637  0.88373206 0.88380041 0.        ]]\n",
      "TPR mean is: [[0.90769231 0.90769231 0.77179487 0.1        0.        ]\n",
      " [0.86666667 0.85384615 0.84871795 0.82564103 0.        ]\n",
      " [0.87692308 0.87692308 0.87692308 0.87692308 0.        ]]\n",
      "PPV mean is: [[0.20438752 0.21017767 0.4931935         nan        nan]\n",
      " [0.37875369 0.59360337 0.66866534 0.83176638 0.        ]\n",
      " [0.3192577  0.31944624 0.31965757 0.31982626 0.        ]]\n",
      "MCC mean is: [[0.37046121 0.37726718 0.57490552 0.15981451 0.        ]\n",
      " [0.53125882 0.6807041  0.72262189 0.81034473 0.        ]\n",
      " [0.48655732 0.48675901 0.48697033 0.48716075 0.        ]]\n",
      "L1norm mean is: [2.24905078 1.02281742 1.12532314]\n",
      "L2norm mean is: [0.55412764 0.31845731 0.33922499]\n",
      "MSE_F mean is: [0.33216256 0.15578822 0.18745941]\n",
      "MSE_Y mean is: [0.49240168 0.40406596 0.41332224] \n",
      "\n",
      "R2= 0.6779468706223419\n",
      "data generated\n",
      "Length-scales are:  [0.1118034 0.1118034 0.1118034 0.1118034 0.1118034]\n",
      "Noise variance is:  0.016702734345375534\n",
      "Average data variance is:  1.0\n",
      "Time taken to draw data :  0.03468823432922363\n",
      "run time is : 23.73241424560547\n"
     ]
    },
    {
     "name": "stderr",
     "output_type": "stream",
     "text": [
      "C:\\Users\\hughw\\Documents\\MSC project\\GP algorithms\\Master function files\\GP_funcs_ZTMFSS.py:55: RuntimeWarning: divide by zero encountered in true_divide\n",
      "  return kern(cdist(X,X, metric = \"seuclidean\", V = 1/l**2),s)\n",
      "C:\\Users\\hughw\\Documents\\MSC project\\GP algorithms\\Master function files\\GP_funcs_ZTMFSS.py:62: RuntimeWarning: divide by zero encountered in true_divide\n",
      "  return kern(cdist(X,Xtest, metric = \"seuclidean\", V = 1/l**2),s).T\n",
      "C:\\Users\\hughw\\anaconda3\\lib\\site-packages\\numpy\\core\\fromnumeric.py:3334: RuntimeWarning: Mean of empty slice.\n",
      "  return _methods._mean(a, axis=axis, dtype=dtype,\n",
      "C:\\Users\\hughw\\anaconda3\\lib\\site-packages\\numpy\\core\\_methods.py:161: RuntimeWarning: invalid value encountered in double_scalars\n",
      "  ret = ret.dtype.type(ret / rcount)\n",
      "C:\\Users\\hughw\\Documents\\MSC project\\GP algorithms\\Master function files\\GP_funcs_ZTMFSS.py:2035: RuntimeWarning: invalid value encountered in true_divide\n",
      "  MCC[j,i]=(TP*TN-FP*FN)/np.sqrt((TP+FP)*(TP+FN)*(TN+FP)*(TN+FN))\n"
     ]
    },
    {
     "name": "stdout",
     "output_type": "stream",
     "text": [
      "run time is : 14.520411491394043\n",
      "run time is : 14.5376136302948\n",
      "run time is : 14.528371095657349\n",
      "run time is : 14.52869439125061\n",
      "run time is : 14.520147323608398\n",
      "run time is : 14.527009963989258\n",
      "run time is : 10.18746829032898\n",
      "run time is : 7.2709949016571045\n",
      "run time is : 14.583181381225586\n"
     ]
    },
    {
     "name": "stderr",
     "output_type": "stream",
     "text": [
      "C:\\Users\\hughw\\Documents\\MSC project\\GP algorithms\\Master function files\\GP_funcs_ZTMFSS.py:55: RuntimeWarning: divide by zero encountered in true_divide\n",
      "  return kern(cdist(X,X, metric = \"seuclidean\", V = 1/l**2),s)\n",
      "C:\\Users\\hughw\\Documents\\MSC project\\GP algorithms\\Master function files\\GP_funcs_ZTMFSS.py:62: RuntimeWarning: divide by zero encountered in true_divide\n",
      "  return kern(cdist(X,Xtest, metric = \"seuclidean\", V = 1/l**2),s).T\n"
     ]
    },
    {
     "name": "stdout",
     "output_type": "stream",
     "text": [
      "RUN 78\n",
      "Runtime mean is: [ 40.52998925 146.10541172 146.08753876]\n",
      "Weighted accuracy mean is: [[0.85020243 0.85310391 0.85735493 0.54784076 0.5       ]\n",
      " [0.88940621 0.90654521 0.90843455 0.90695007 0.        ]\n",
      " [0.88448043 0.88454791 0.88461538 0.88468286 0.        ]]\n",
      "TPR mean is: [[0.90886076 0.90886076 0.7721519  0.10379747 0.        ]\n",
      " [0.86582278 0.85316456 0.84810127 0.82278481 0.        ]\n",
      " [0.87594937 0.87594937 0.87594937 0.87594937 0.        ]]\n",
      "PPV mean is: [[0.20433198 0.21004884 0.49201383        nan        nan]\n",
      " [0.37733487 0.59115269 0.66864004 0.83389592 0.        ]\n",
      " [0.31819487 0.31838102 0.31858968 0.31875623 0.        ]]\n",
      "MCC mean is: [[0.3708017  0.37752152 0.57440422 0.16409024 0.        ]\n",
      " [0.52982036 0.67886359 0.72252352 0.80979061 0.        ]\n",
      " [0.48526886 0.485468   0.48567665 0.48586466 0.        ]]\n",
      "L1norm mean is: [2.25744897 1.02845943 1.13164475]\n",
      "L2norm mean is: [0.55614019 0.31951487 0.34051413]\n",
      "MSE_F mean is: [0.33280161 0.15620405 0.18791971]\n",
      "MSE_Y mean is: [0.49098914 0.40326654 0.41257269] \n",
      "\n",
      "R2= 0.6581118142123663\n",
      "data generated\n",
      "Length-scales are:  [0.1118034 0.1118034 0.1118034 0.1118034 0.1118034]\n",
      "Noise variance is:  0.0681690725740962\n",
      "Average data variance is:  0.9999999999999999\n",
      "Time taken to draw data :  0.031230449676513672\n",
      "run time is : 40.84645199775696\n"
     ]
    },
    {
     "name": "stderr",
     "output_type": "stream",
     "text": [
      "C:\\Users\\hughw\\Documents\\MSC project\\GP algorithms\\Master function files\\GP_funcs_ZTMFSS.py:55: RuntimeWarning: divide by zero encountered in true_divide\n",
      "  return kern(cdist(X,X, metric = \"seuclidean\", V = 1/l**2),s)\n",
      "C:\\Users\\hughw\\Documents\\MSC project\\GP algorithms\\Master function files\\GP_funcs_ZTMFSS.py:62: RuntimeWarning: divide by zero encountered in true_divide\n",
      "  return kern(cdist(X,Xtest, metric = \"seuclidean\", V = 1/l**2),s).T\n",
      "C:\\Users\\hughw\\anaconda3\\lib\\site-packages\\numpy\\core\\fromnumeric.py:3334: RuntimeWarning: Mean of empty slice.\n",
      "  return _methods._mean(a, axis=axis, dtype=dtype,\n",
      "C:\\Users\\hughw\\anaconda3\\lib\\site-packages\\numpy\\core\\_methods.py:161: RuntimeWarning: invalid value encountered in double_scalars\n",
      "  ret = ret.dtype.type(ret / rcount)\n",
      "C:\\Users\\hughw\\Documents\\MSC project\\GP algorithms\\Master function files\\GP_funcs_ZTMFSS.py:2035: RuntimeWarning: invalid value encountered in true_divide\n",
      "  MCC[j,i]=(TP*TN-FP*FN)/np.sqrt((TP+FP)*(TP+FN)*(TN+FP)*(TN+FN))\n"
     ]
    },
    {
     "name": "stdout",
     "output_type": "stream",
     "text": [
      "run time is : 14.575768947601318\n",
      "run time is : 14.756530284881592\n",
      "run time is : 14.716642141342163\n",
      "run time is : 14.770651817321777\n",
      "run time is : 11.884685516357422\n",
      "run time is : 13.368298292160034\n",
      "run time is : 7.470966100692749\n",
      "run time is : 10.373331785202026\n",
      "run time is : 14.896158933639526\n"
     ]
    },
    {
     "name": "stderr",
     "output_type": "stream",
     "text": [
      "C:\\Users\\hughw\\Documents\\MSC project\\GP algorithms\\Master function files\\GP_funcs_ZTMFSS.py:55: RuntimeWarning: divide by zero encountered in true_divide\n",
      "  return kern(cdist(X,X, metric = \"seuclidean\", V = 1/l**2),s)\n",
      "C:\\Users\\hughw\\Documents\\MSC project\\GP algorithms\\Master function files\\GP_funcs_ZTMFSS.py:62: RuntimeWarning: divide by zero encountered in true_divide\n",
      "  return kern(cdist(X,Xtest, metric = \"seuclidean\", V = 1/l**2),s).T\n"
     ]
    },
    {
     "name": "stdout",
     "output_type": "stream",
     "text": [
      "RUN 79\n",
      "Runtime mean is: [ 40.53413129 145.83796787 145.82079206]\n",
      "Weighted accuracy mean is: [[0.85076616 0.85363091 0.857495   0.5497002  0.5       ]\n",
      " [0.88880746 0.90606262 0.90819454 0.90559627 0.        ]\n",
      " [0.88381079 0.88387742 0.88394404 0.88401066 0.        ]]\n",
      "TPR mean is: [[0.91   0.91   0.7675 0.105  0.    ]\n",
      " [0.865  0.8525 0.8475 0.82   0.    ]\n",
      " [0.875  0.875  0.875  0.875  0.    ]]\n",
      "PPV mean is: [[0.20427783 0.20992323 0.48943509        nan        nan]\n",
      " [0.37618961 0.58792995 0.66653204 0.83097222 0.        ]\n",
      " [0.3183841  0.31856793 0.31877397 0.31893845 0.        ]]\n",
      "MCC mean is: [[0.37113368 0.3777695  0.57093317 0.16572616 0.        ]\n",
      " [0.52865222 0.67637861 0.72110271 0.80690507 0.        ]\n",
      " [0.48520381 0.48540046 0.4856065  0.48579216 0.        ]]\n",
      "L1norm mean is: [2.25905229 1.03459157 1.13573925]\n",
      "L2norm mean is: [0.5577978  0.3217648  0.34243744]\n",
      "MSE_F mean is: [0.33488662 0.15751169 0.18885314]\n",
      "MSE_Y mean is: [0.49190674 0.40351919 0.41274981] \n",
      "\n",
      "R2= 0.6928842538871326\n",
      "data generated\n",
      "Length-scales are:  [0.1118034 0.1118034 0.1118034 0.1118034 0.1118034]\n",
      "Noise variance is:  0.011999526104811403\n",
      "Average data variance is:  1.0\n",
      "Time taken to draw data :  0.03789925575256348\n",
      "run time is : 42.59707069396973\n"
     ]
    },
    {
     "name": "stderr",
     "output_type": "stream",
     "text": [
      "C:\\Users\\hughw\\Documents\\MSC project\\GP algorithms\\Master function files\\GP_funcs_ZTMFSS.py:55: RuntimeWarning: divide by zero encountered in true_divide\n",
      "  return kern(cdist(X,X, metric = \"seuclidean\", V = 1/l**2),s)\n",
      "C:\\Users\\hughw\\Documents\\MSC project\\GP algorithms\\Master function files\\GP_funcs_ZTMFSS.py:62: RuntimeWarning: divide by zero encountered in true_divide\n",
      "  return kern(cdist(X,Xtest, metric = \"seuclidean\", V = 1/l**2),s).T\n",
      "C:\\Users\\hughw\\anaconda3\\lib\\site-packages\\numpy\\core\\fromnumeric.py:3334: RuntimeWarning: Mean of empty slice.\n",
      "  return _methods._mean(a, axis=axis, dtype=dtype,\n",
      "C:\\Users\\hughw\\anaconda3\\lib\\site-packages\\numpy\\core\\_methods.py:161: RuntimeWarning: invalid value encountered in double_scalars\n",
      "  ret = ret.dtype.type(ret / rcount)\n",
      "C:\\Users\\hughw\\Documents\\MSC project\\GP algorithms\\Master function files\\GP_funcs_ZTMFSS.py:2035: RuntimeWarning: invalid value encountered in true_divide\n",
      "  MCC[j,i]=(TP*TN-FP*FN)/np.sqrt((TP+FP)*(TP+FN)*(TN+FP)*(TN+FN))\n"
     ]
    },
    {
     "name": "stdout",
     "output_type": "stream",
     "text": [
      "run time is : 14.853277206420898\n",
      "run time is : 14.966968536376953\n",
      "run time is : 14.963977813720703\n",
      "run time is : 15.003870248794556\n",
      "run time is : 15.056731224060059\n",
      "run time is : 7.50695276260376\n",
      "run time is : 8.975961208343506\n",
      "run time is : 15.011887788772583\n",
      "run time is : 14.915077686309814\n"
     ]
    },
    {
     "name": "stderr",
     "output_type": "stream",
     "text": [
      "C:\\Users\\hughw\\Documents\\MSC project\\GP algorithms\\Master function files\\GP_funcs_ZTMFSS.py:55: RuntimeWarning: divide by zero encountered in true_divide\n",
      "  return kern(cdist(X,X, metric = \"seuclidean\", V = 1/l**2),s)\n",
      "C:\\Users\\hughw\\Documents\\MSC project\\GP algorithms\\Master function files\\GP_funcs_ZTMFSS.py:62: RuntimeWarning: divide by zero encountered in true_divide\n",
      "  return kern(cdist(X,Xtest, metric = \"seuclidean\", V = 1/l**2),s).T\n"
     ]
    },
    {
     "name": "stdout",
     "output_type": "stream",
     "text": [
      "RUN 80\n",
      "Runtime mean is: [ 40.55978435 145.63193838 145.61289421]\n",
      "Weighted accuracy mean is: [[0.85131579 0.85414474 0.85519737 0.55026316 0.5       ]\n",
      " [0.88828947 0.90546053 0.90782895 0.90414474 0.        ]\n",
      " [0.88348684 0.88355263 0.88361842 0.88368421 0.        ]]\n",
      "TPR mean is: [[0.91111111 0.91111111 0.77037037 0.1037037  0.        ]\n",
      " [0.86666667 0.85432099 0.84938272 0.82222222 0.        ]\n",
      " [0.87654321 0.87654321 0.87654321 0.87654321 0.        ]]\n",
      "PPV mean is: [[0.2043279  0.21001542 0.48956552        nan        nan]\n",
      " [0.37629364 0.58838761 0.6671216  0.83100137 0.        ]\n",
      " [0.31856866 0.31875022 0.31895372 0.31911616 0.        ]]\n",
      "MCC mean is: [[0.37159188 0.37828794 0.57238149 0.16327554 0.        ]\n",
      " [0.52945265 0.67763303 0.7225238  0.80815382 0.        ]\n",
      " [0.48595585 0.48615007 0.48635357 0.48653693 0.        ]]\n",
      "L1norm mean is: [2.26304404 1.03560574 1.13696161]\n",
      "L2norm mean is: [0.55998713 0.3225255  0.34342121]\n",
      "MSE_F mean is: [0.33464274 0.15750812 0.18876165]\n",
      "MSE_Y mean is: [0.49035785 0.4025824  0.41205135] \n",
      "\n",
      "R2= 0.6618469385839895\n",
      "data generated\n",
      "Length-scales are:  [0.1118034 0.1118034 0.1118034 0.1118034 0.1118034]\n",
      "Noise variance is:  0.023413685817118352\n",
      "Average data variance is:  1.0000000000000002\n",
      "Time taken to draw data :  0.03487443923950195\n",
      "run time is : 42.77815771102905\n"
     ]
    },
    {
     "name": "stderr",
     "output_type": "stream",
     "text": [
      "C:\\Users\\hughw\\Documents\\MSC project\\GP algorithms\\Master function files\\GP_funcs_ZTMFSS.py:55: RuntimeWarning: divide by zero encountered in true_divide\n",
      "  return kern(cdist(X,X, metric = \"seuclidean\", V = 1/l**2),s)\n",
      "C:\\Users\\hughw\\Documents\\MSC project\\GP algorithms\\Master function files\\GP_funcs_ZTMFSS.py:62: RuntimeWarning: divide by zero encountered in true_divide\n",
      "  return kern(cdist(X,Xtest, metric = \"seuclidean\", V = 1/l**2),s).T\n",
      "C:\\Users\\hughw\\anaconda3\\lib\\site-packages\\numpy\\core\\fromnumeric.py:3334: RuntimeWarning: Mean of empty slice.\n",
      "  return _methods._mean(a, axis=axis, dtype=dtype,\n",
      "C:\\Users\\hughw\\anaconda3\\lib\\site-packages\\numpy\\core\\_methods.py:161: RuntimeWarning: invalid value encountered in double_scalars\n",
      "  ret = ret.dtype.type(ret / rcount)\n",
      "C:\\Users\\hughw\\Documents\\MSC project\\GP algorithms\\Master function files\\GP_funcs_ZTMFSS.py:2035: RuntimeWarning: invalid value encountered in true_divide\n",
      "  MCC[j,i]=(TP*TN-FP*FN)/np.sqrt((TP+FP)*(TP+FN)*(TN+FP)*(TN+FN))\n"
     ]
    },
    {
     "name": "stdout",
     "output_type": "stream",
     "text": [
      "run time is : 14.810461521148682\n",
      "run time is : 14.583261013031006\n",
      "run time is : 14.54799199104309\n",
      "run time is : 14.49419617652893\n",
      "run time is : 14.477260828018188\n",
      "run time is : 14.46532130241394\n",
      "run time is : 13.052172422409058\n",
      "run time is : 14.451013326644897\n",
      "run time is : 14.480354070663452\n",
      "run time is : 14.457847118377686\n"
     ]
    },
    {
     "name": "stderr",
     "output_type": "stream",
     "text": [
      "C:\\Users\\hughw\\Documents\\MSC project\\GP algorithms\\Master function files\\GP_funcs_ZTMFSS.py:55: RuntimeWarning: divide by zero encountered in true_divide\n",
      "  return kern(cdist(X,X, metric = \"seuclidean\", V = 1/l**2),s)\n",
      "C:\\Users\\hughw\\Documents\\MSC project\\GP algorithms\\Master function files\\GP_funcs_ZTMFSS.py:62: RuntimeWarning: divide by zero encountered in true_divide\n",
      "  return kern(cdist(X,Xtest, metric = \"seuclidean\", V = 1/l**2),s).T\n"
     ]
    },
    {
     "name": "stdout",
     "output_type": "stream",
     "text": [
      "RUN 81\n",
      "Runtime mean is: [ 40.58702012 145.70489819 145.68568154]\n",
      "Weighted accuracy mean is: [[0.85191683 0.85477583 0.85666017 0.54951267 0.5       ]\n",
      " [0.8891488  0.90643275 0.90883691 0.90526316 0.        ]\n",
      " [0.8842755  0.88434048 0.88440546 0.88447044 0.        ]]\n",
      "TPR mean is: [[0.90731707 0.90731707 0.76829268 0.10487805 0.        ]\n",
      " [0.86585366 0.85121951 0.84390244 0.81707317 0.        ]\n",
      " [0.87560976 0.87560976 0.87560976 0.87560976 0.        ]]\n",
      "PPV mean is: [[0.20376164 0.20937981 0.48816838        nan        nan]\n",
      " [0.37475347 0.58487068 0.66386402 0.82899729 0.        ]\n",
      " [0.31793571 0.31811505 0.31831607 0.31847653 0.        ]]\n",
      "MCC mean is: [[0.36998425 0.37659865 0.57076381 0.16662689 0.        ]\n",
      " [0.52788006 0.67403213 0.71820547 0.80436655 0.        ]\n",
      " [0.48512249 0.48531434 0.48551536 0.48569649 0.        ]]\n",
      "L1norm mean is: [2.26082172 1.04609536 1.14736899]\n",
      "L2norm mean is: [0.55978146 0.32596143 0.34731494]\n",
      "MSE_F mean is: [0.33303242 0.15737536 0.18876049]\n",
      "MSE_Y mean is: [0.48911835 0.40223238 0.41174679] \n",
      "\n",
      "R2= 0.6557671579032013\n",
      "data generated\n",
      "Length-scales are:  [0.1118034 0.1118034 0.1118034 0.1118034 0.1118034]\n",
      "Noise variance is:  0.0038467762933523616\n",
      "Average data variance is:  1.0\n",
      "Time taken to draw data :  0.031199216842651367\n",
      "run time is : 40.7188196182251\n"
     ]
    },
    {
     "name": "stderr",
     "output_type": "stream",
     "text": [
      "C:\\Users\\hughw\\Documents\\MSC project\\GP algorithms\\Master function files\\GP_funcs_ZTMFSS.py:55: RuntimeWarning: divide by zero encountered in true_divide\n",
      "  return kern(cdist(X,X, metric = \"seuclidean\", V = 1/l**2),s)\n",
      "C:\\Users\\hughw\\Documents\\MSC project\\GP algorithms\\Master function files\\GP_funcs_ZTMFSS.py:62: RuntimeWarning: divide by zero encountered in true_divide\n",
      "  return kern(cdist(X,Xtest, metric = \"seuclidean\", V = 1/l**2),s).T\n",
      "C:\\Users\\hughw\\anaconda3\\lib\\site-packages\\numpy\\core\\fromnumeric.py:3334: RuntimeWarning: Mean of empty slice.\n",
      "  return _methods._mean(a, axis=axis, dtype=dtype,\n",
      "C:\\Users\\hughw\\anaconda3\\lib\\site-packages\\numpy\\core\\_methods.py:161: RuntimeWarning: invalid value encountered in double_scalars\n",
      "  ret = ret.dtype.type(ret / rcount)\n",
      "C:\\Users\\hughw\\Documents\\MSC project\\GP algorithms\\Master function files\\GP_funcs_ZTMFSS.py:2035: RuntimeWarning: invalid value encountered in true_divide\n",
      "  MCC[j,i]=(TP*TN-FP*FN)/np.sqrt((TP+FP)*(TP+FN)*(TN+FP)*(TN+FN))\n"
     ]
    },
    {
     "name": "stdout",
     "output_type": "stream",
     "text": [
      "run time is : 14.409504413604736\n",
      "run time is : 14.497005939483643\n",
      "run time is : 13.013927936553955\n",
      "run time is : 10.442329406738281\n",
      "run time is : 13.375194549560547\n",
      "run time is : 8.927122592926025\n",
      "run time is : 7.5079345703125\n",
      "run time is : 14.938067197799683\n",
      "run time is : 14.91280198097229\n",
      "run time is : 14.847805261611938\n"
     ]
    },
    {
     "name": "stderr",
     "output_type": "stream",
     "text": [
      "C:\\Users\\hughw\\Documents\\MSC project\\GP algorithms\\Master function files\\GP_funcs_ZTMFSS.py:55: RuntimeWarning: divide by zero encountered in true_divide\n",
      "  return kern(cdist(X,X, metric = \"seuclidean\", V = 1/l**2),s)\n",
      "C:\\Users\\hughw\\Documents\\MSC project\\GP algorithms\\Master function files\\GP_funcs_ZTMFSS.py:62: RuntimeWarning: divide by zero encountered in true_divide\n",
      "  return kern(cdist(X,Xtest, metric = \"seuclidean\", V = 1/l**2),s).T\n"
     ]
    },
    {
     "name": "stdout",
     "output_type": "stream",
     "text": [
      "RUN 82\n",
      "Runtime mean is: [ 40.58878487 145.56348058 145.54403363]\n",
      "Weighted accuracy mean is: [[0.85025674 0.85308087 0.85564827 0.55012837 0.5       ]\n",
      " [0.88851091 0.90468549 0.90609756 0.90269576 0.        ]\n",
      " [0.88376123 0.88382542 0.8838896  0.88395379 0.        ]]\n",
      "TPR mean is: [[0.9060241  0.9060241  0.7686747  0.10843373 0.        ]\n",
      " [0.86506024 0.85060241 0.84337349 0.81686747 0.        ]\n",
      " [0.8746988  0.8746988  0.8746988  0.8746988  0.        ]]\n",
      "PPV mean is: [[0.20316025 0.20871073 0.48630289        nan        nan]\n",
      " [0.37712305 0.58585618 0.66550421 0.83105756 0.        ]\n",
      " [0.32098984 0.32116702 0.32136562 0.32152415 0.        ]]\n",
      "MCC mean is: [[0.36892941 0.37546412 0.56967105 0.17212174 0.        ]\n",
      " [0.52942826 0.67452392 0.71906412 0.80539535 0.        ]\n",
      " [0.48718584 0.48737537 0.48757397 0.48775292 0.        ]]\n",
      "L1norm mean is: [2.26928345 1.04550271 1.14449929]\n",
      "L2norm mean is: [0.56175924 0.32629808 0.34736562]\n",
      "MSE_F mean is: [0.33615011 0.15685644 0.1878867 ]\n",
      "MSE_Y mean is: [0.48975855 0.4020096  0.41146905] \n",
      "\n",
      "R2= 0.6582972748978329\n",
      "data generated\n",
      "Length-scales are:  [0.1118034 0.1118034 0.1118034 0.1118034 0.1118034]\n",
      "Noise variance is:  0.016609171182414263\n",
      "Average data variance is:  0.9999999999999997\n",
      "Time taken to draw data :  0.032700300216674805\n",
      "run time is : 41.21402096748352\n"
     ]
    },
    {
     "name": "stderr",
     "output_type": "stream",
     "text": [
      "C:\\Users\\hughw\\Documents\\MSC project\\GP algorithms\\Master function files\\GP_funcs_ZTMFSS.py:55: RuntimeWarning: divide by zero encountered in true_divide\n",
      "  return kern(cdist(X,X, metric = \"seuclidean\", V = 1/l**2),s)\n",
      "C:\\Users\\hughw\\Documents\\MSC project\\GP algorithms\\Master function files\\GP_funcs_ZTMFSS.py:62: RuntimeWarning: divide by zero encountered in true_divide\n",
      "  return kern(cdist(X,Xtest, metric = \"seuclidean\", V = 1/l**2),s).T\n",
      "C:\\Users\\hughw\\anaconda3\\lib\\site-packages\\numpy\\core\\fromnumeric.py:3334: RuntimeWarning: Mean of empty slice.\n",
      "  return _methods._mean(a, axis=axis, dtype=dtype,\n",
      "C:\\Users\\hughw\\anaconda3\\lib\\site-packages\\numpy\\core\\_methods.py:161: RuntimeWarning: invalid value encountered in double_scalars\n",
      "  ret = ret.dtype.type(ret / rcount)\n",
      "C:\\Users\\hughw\\Documents\\MSC project\\GP algorithms\\Master function files\\GP_funcs_ZTMFSS.py:2035: RuntimeWarning: invalid value encountered in true_divide\n",
      "  MCC[j,i]=(TP*TN-FP*FN)/np.sqrt((TP+FP)*(TP+FN)*(TN+FP)*(TN+FN))\n"
     ]
    },
    {
     "name": "stdout",
     "output_type": "stream",
     "text": [
      "run time is : 14.40255093574524\n",
      "run time is : 14.411175727844238\n",
      "run time is : 14.416619062423706\n",
      "run time is : 14.413147449493408\n",
      "run time is : 14.43915057182312\n",
      "run time is : 10.09756875038147\n",
      "run time is : 7.200411796569824\n",
      "run time is : 14.417165040969849\n",
      "run time is : 14.41570782661438\n",
      "run time is : 14.439531087875366\n"
     ]
    },
    {
     "name": "stderr",
     "output_type": "stream",
     "text": [
      "C:\\Users\\hughw\\Documents\\MSC project\\GP algorithms\\Master function files\\GP_funcs_ZTMFSS.py:55: RuntimeWarning: divide by zero encountered in true_divide\n",
      "  return kern(cdist(X,X, metric = \"seuclidean\", V = 1/l**2),s)\n",
      "C:\\Users\\hughw\\Documents\\MSC project\\GP algorithms\\Master function files\\GP_funcs_ZTMFSS.py:62: RuntimeWarning: divide by zero encountered in true_divide\n",
      "  return kern(cdist(X,Xtest, metric = \"seuclidean\", V = 1/l**2),s).T\n"
     ]
    },
    {
     "name": "stdout",
     "output_type": "stream",
     "text": [
      "RUN 83\n",
      "Runtime mean is: [ 40.59639945 145.49450569 145.47528904]\n",
      "Weighted accuracy mean is: [[0.849461   0.85225111 0.85567533 0.55193405 0.5       ]\n",
      " [0.8884591  0.90450222 0.90596068 0.90266328 0.        ]\n",
      " [0.88376665 0.88383006 0.88389347 0.88395688 0.        ]]\n",
      "TPR mean is: [[0.90714286 0.90714286 0.76904762 0.10714286 0.        ]\n",
      " [0.86666667 0.85238095 0.8452381  0.81904762 0.        ]\n",
      " [0.87619048 0.87619048 0.87619048 0.87619048 0.        ]]\n",
      "PPV mean is: [[0.20470993 0.21047777 0.49241834        nan        nan]\n",
      " [0.37858587 0.5873851  0.66750217 0.83108466 0.        ]\n",
      " [0.32142024 0.32159531 0.32179154 0.32194818 0.        ]]\n",
      "MCC mean is: [[0.3710388  0.37776338 0.5734816  0.17007267 0.        ]\n",
      " [0.53131896 0.67644876 0.721314   0.80661747 0.        ]\n",
      " [0.48815508 0.48834236 0.48853859 0.48871541 0.        ]]\n",
      "L1norm mean is: [2.25147904 1.04099378 1.14039017]\n",
      "L2norm mean is: [0.55775699 0.32529264 0.34631785]\n",
      "MSE_F mean is: [0.3346697  0.15694542 0.18798725]\n",
      "MSE_Y mean is: [0.49060725 0.40353417 0.41291592] \n",
      "\n",
      "R2= 0.6729946531563739\n",
      "data generated\n",
      "Length-scales are:  [0.1118034 0.1118034 0.1118034 0.1118034 0.1118034]\n",
      "Noise variance is:  0.03211978040911567\n",
      "Average data variance is:  1.0\n",
      "Time taken to draw data :  0.03202033042907715\n",
      "run time is : 41.88059663772583\n"
     ]
    },
    {
     "name": "stderr",
     "output_type": "stream",
     "text": [
      "C:\\Users\\hughw\\Documents\\MSC project\\GP algorithms\\Master function files\\GP_funcs_ZTMFSS.py:55: RuntimeWarning: divide by zero encountered in true_divide\n",
      "  return kern(cdist(X,X, metric = \"seuclidean\", V = 1/l**2),s)\n",
      "C:\\Users\\hughw\\Documents\\MSC project\\GP algorithms\\Master function files\\GP_funcs_ZTMFSS.py:62: RuntimeWarning: divide by zero encountered in true_divide\n",
      "  return kern(cdist(X,Xtest, metric = \"seuclidean\", V = 1/l**2),s).T\n",
      "C:\\Users\\hughw\\anaconda3\\lib\\site-packages\\numpy\\core\\fromnumeric.py:3334: RuntimeWarning: Mean of empty slice.\n",
      "  return _methods._mean(a, axis=axis, dtype=dtype,\n",
      "C:\\Users\\hughw\\anaconda3\\lib\\site-packages\\numpy\\core\\_methods.py:161: RuntimeWarning: invalid value encountered in double_scalars\n",
      "  ret = ret.dtype.type(ret / rcount)\n",
      "C:\\Users\\hughw\\Documents\\MSC project\\GP algorithms\\Master function files\\GP_funcs_ZTMFSS.py:2035: RuntimeWarning: invalid value encountered in true_divide\n",
      "  MCC[j,i]=(TP*TN-FP*FN)/np.sqrt((TP+FP)*(TP+FN)*(TN+FP)*(TN+FN))\n"
     ]
    },
    {
     "name": "stdout",
     "output_type": "stream",
     "text": [
      "run time is : 14.769499063491821\n",
      "run time is : 14.88319182395935\n",
      "run time is : 14.664731502532959\n",
      "run time is : 14.518213033676147\n",
      "run time is : 14.504398345947266\n",
      "run time is : 7.244790554046631\n",
      "run time is : 7.23720645904541\n",
      "run time is : 14.498863697052002\n",
      "run time is : 14.487337827682495\n"
     ]
    },
    {
     "name": "stderr",
     "output_type": "stream",
     "text": [
      "C:\\Users\\hughw\\Documents\\MSC project\\GP algorithms\\Master function files\\GP_funcs_ZTMFSS.py:55: RuntimeWarning: divide by zero encountered in true_divide\n",
      "  return kern(cdist(X,X, metric = \"seuclidean\", V = 1/l**2),s)\n",
      "C:\\Users\\hughw\\Documents\\MSC project\\GP algorithms\\Master function files\\GP_funcs_ZTMFSS.py:62: RuntimeWarning: divide by zero encountered in true_divide\n",
      "  return kern(cdist(X,Xtest, metric = \"seuclidean\", V = 1/l**2),s).T\n"
     ]
    },
    {
     "name": "stdout",
     "output_type": "stream",
     "text": [
      "RUN 84\n",
      "Runtime mean is: [ 40.61168364 145.23739276 145.2177941 ]\n",
      "Weighted accuracy mean is: [[0.85062657 0.85344612 0.85620301 0.55131579 0.5       ]\n",
      " [0.88947368 0.90551378 0.90701754 0.9037594  0.        ]\n",
      " [0.88458647 0.88464912 0.88471178 0.88477444 0.        ]]\n",
      "TPR mean is: [[0.90823529 0.90823529 0.76941176 0.11294118 0.        ]\n",
      " [0.86588235 0.85176471 0.84470588 0.81882353 0.        ]\n",
      " [0.87529412 0.87529412 0.87529412 0.87529412 0.        ]]\n",
      "PPV mean is: [[0.20432997 0.21002996 0.48956636        nan        nan]\n",
      " [0.37840999 0.59223939 0.67141391 0.8330719  0.        ]\n",
      " [0.32156039 0.3217334  0.32192732 0.32208212 0.        ]]\n",
      "MCC mean is: [[0.37089677 0.37754223 0.57144653 0.17488296 0.        ]\n",
      " [0.53102014 0.67895826 0.72329567 0.80759558 0.        ]\n",
      " [0.4880599  0.48824498 0.4884389  0.48861364 0.        ]]\n",
      "L1norm mean is: [2.27591884 1.03871405 1.13942113]\n",
      "L2norm mean is: [0.5626535  0.32509353 0.34666535]\n",
      "MSE_F mean is: [0.33676318 0.15749704 0.18972628]\n",
      "MSE_Y mean is: [0.49208736 0.40315416 0.41269172] \n",
      "\n",
      "R2= 0.6624228186644294\n",
      "data generated\n",
      "Length-scales are:  [0.1118034 0.1118034 0.1118034 0.1118034 0.1118034]\n",
      "Noise variance is:  0.007483224777655199\n",
      "Average data variance is:  1.0\n",
      "Time taken to draw data :  0.031720876693725586\n",
      "run time is : 40.82731223106384\n"
     ]
    },
    {
     "name": "stderr",
     "output_type": "stream",
     "text": [
      "C:\\Users\\hughw\\Documents\\MSC project\\GP algorithms\\Master function files\\GP_funcs_ZTMFSS.py:55: RuntimeWarning: divide by zero encountered in true_divide\n",
      "  return kern(cdist(X,X, metric = \"seuclidean\", V = 1/l**2),s)\n",
      "C:\\Users\\hughw\\Documents\\MSC project\\GP algorithms\\Master function files\\GP_funcs_ZTMFSS.py:62: RuntimeWarning: divide by zero encountered in true_divide\n",
      "  return kern(cdist(X,Xtest, metric = \"seuclidean\", V = 1/l**2),s).T\n",
      "C:\\Users\\hughw\\anaconda3\\lib\\site-packages\\numpy\\core\\fromnumeric.py:3334: RuntimeWarning: Mean of empty slice.\n",
      "  return _methods._mean(a, axis=axis, dtype=dtype,\n",
      "C:\\Users\\hughw\\anaconda3\\lib\\site-packages\\numpy\\core\\_methods.py:161: RuntimeWarning: invalid value encountered in double_scalars\n",
      "  ret = ret.dtype.type(ret / rcount)\n",
      "C:\\Users\\hughw\\Documents\\MSC project\\GP algorithms\\Master function files\\GP_funcs_ZTMFSS.py:2035: RuntimeWarning: invalid value encountered in true_divide\n",
      "  MCC[j,i]=(TP*TN-FP*FN)/np.sqrt((TP+FP)*(TP+FN)*(TN+FP)*(TN+FN))\n"
     ]
    },
    {
     "name": "stdout",
     "output_type": "stream",
     "text": [
      "run time is : 14.320861577987671\n",
      "run time is : 14.338655948638916\n",
      "run time is : 14.355507850646973\n",
      "run time is : 14.383921384811401\n",
      "run time is : 14.391950607299805\n",
      "run time is : 14.388452053070068\n",
      "run time is : 8.65278434753418\n",
      "run time is : 10.07666802406311\n",
      "run time is : 14.750029563903809\n"
     ]
    },
    {
     "name": "stderr",
     "output_type": "stream",
     "text": [
      "C:\\Users\\hughw\\Documents\\MSC project\\GP algorithms\\Master function files\\GP_funcs_ZTMFSS.py:55: RuntimeWarning: divide by zero encountered in true_divide\n",
      "  return kern(cdist(X,X, metric = \"seuclidean\", V = 1/l**2),s)\n",
      "C:\\Users\\hughw\\Documents\\MSC project\\GP algorithms\\Master function files\\GP_funcs_ZTMFSS.py:62: RuntimeWarning: divide by zero encountered in true_divide\n",
      "  return kern(cdist(X,Xtest, metric = \"seuclidean\", V = 1/l**2),s).T\n"
     ]
    },
    {
     "name": "stdout",
     "output_type": "stream",
     "text": [
      "RUN 85\n",
      "Runtime mean is: [ 40.6143649  145.0261209  145.00782296]\n",
      "Weighted accuracy mean is: [[0.85089783 0.85368421 0.85597523 0.55411765 0.5       ]\n",
      " [0.88916409 0.90544892 0.90693498 0.90371517 0.        ]\n",
      " [0.88427245 0.88433437 0.88439628 0.8844582  0.        ]]\n",
      "TPR mean is: [[0.90697674 0.90697674 0.76976744 0.11162791 0.        ]\n",
      " [0.86511628 0.85116279 0.84418605 0.81860465 0.        ]\n",
      " [0.8744186  0.8744186  0.8744186  0.8744186  0.        ]]\n",
      "PPV mean is: [[0.20389203 0.20952574 0.48968768        nan        nan]\n",
      " [0.37733214 0.59116684 0.6729091  0.83501292 0.        ]\n",
      " [0.32055729 0.32072829 0.32091996 0.32107296 0.        ]]\n",
      "MCC mean is: [[0.37008186 0.37665005 0.57188156 0.17284944 0.        ]\n",
      " [0.52991954 0.67814316 0.72406519 0.80855094 0.        ]\n",
      " [0.48685884 0.48704177 0.48723344 0.48740615 0.        ]]\n",
      "L1norm mean is: [2.27175702 1.04181009 1.14303671]\n",
      "L2norm mean is: [0.56152861 0.32555914 0.34722885]\n",
      "MSE_F mean is: [0.33799909 0.15888663 0.19144278]\n",
      "MSE_Y mean is: [0.49402223 0.40487006 0.41440278] \n",
      "\n",
      "R2= 0.6844129733040925\n",
      "data generated\n",
      "Length-scales are:  [0.1118034 0.1118034 0.1118034 0.1118034 0.1118034]\n",
      "Noise variance is:  0.031185056878482827\n",
      "Average data variance is:  1.0\n",
      "Time taken to draw data :  0.03390836715698242\n",
      "run time is : 23.782417058944702\n"
     ]
    },
    {
     "name": "stderr",
     "output_type": "stream",
     "text": [
      "C:\\Users\\hughw\\Documents\\MSC project\\GP algorithms\\Master function files\\GP_funcs_ZTMFSS.py:55: RuntimeWarning: divide by zero encountered in true_divide\n",
      "  return kern(cdist(X,X, metric = \"seuclidean\", V = 1/l**2),s)\n",
      "C:\\Users\\hughw\\Documents\\MSC project\\GP algorithms\\Master function files\\GP_funcs_ZTMFSS.py:62: RuntimeWarning: divide by zero encountered in true_divide\n",
      "  return kern(cdist(X,Xtest, metric = \"seuclidean\", V = 1/l**2),s).T\n",
      "C:\\Users\\hughw\\anaconda3\\lib\\site-packages\\numpy\\core\\fromnumeric.py:3334: RuntimeWarning: Mean of empty slice.\n",
      "  return _methods._mean(a, axis=axis, dtype=dtype,\n",
      "C:\\Users\\hughw\\anaconda3\\lib\\site-packages\\numpy\\core\\_methods.py:161: RuntimeWarning: invalid value encountered in double_scalars\n",
      "  ret = ret.dtype.type(ret / rcount)\n",
      "C:\\Users\\hughw\\Documents\\MSC project\\GP algorithms\\Master function files\\GP_funcs_ZTMFSS.py:2035: RuntimeWarning: invalid value encountered in true_divide\n",
      "  MCC[j,i]=(TP*TN-FP*FN)/np.sqrt((TP+FP)*(TP+FN)*(TN+FP)*(TN+FN))\n"
     ]
    },
    {
     "name": "stdout",
     "output_type": "stream",
     "text": [
      "run time is : 14.780823230743408\n",
      "run time is : 14.553399324417114\n",
      "run time is : 14.52866268157959\n",
      "run time is : 14.52485466003418\n",
      "run time is : 13.03806447982788\n",
      "run time is : 14.560803413391113\n",
      "run time is : 10.152835607528687\n",
      "run time is : 14.502227544784546\n",
      "run time is : 14.472326755523682\n"
     ]
    },
    {
     "name": "stderr",
     "output_type": "stream",
     "text": [
      "C:\\Users\\hughw\\Documents\\MSC project\\GP algorithms\\Master function files\\GP_funcs_ZTMFSS.py:55: RuntimeWarning: divide by zero encountered in true_divide\n",
      "  return kern(cdist(X,X, metric = \"seuclidean\", V = 1/l**2),s)\n",
      "C:\\Users\\hughw\\Documents\\MSC project\\GP algorithms\\Master function files\\GP_funcs_ZTMFSS.py:62: RuntimeWarning: divide by zero encountered in true_divide\n",
      "  return kern(cdist(X,Xtest, metric = \"seuclidean\", V = 1/l**2),s).T\n"
     ]
    },
    {
     "name": "stdout",
     "output_type": "stream",
     "text": [
      "RUN 86\n",
      "Runtime mean is: [ 40.42106588 144.88723183 144.86924983]\n",
      "Weighted accuracy mean is: [[0.8502448  0.85299878 0.85624235 0.55348837 0.5       ]\n",
      " [0.88867809 0.90514076 0.90679315 0.90367197 0.        ]\n",
      " [0.88365973 0.88372093 0.88378213 0.88384333 0.        ]]\n",
      "TPR mean is: [[0.90804598 0.90804598 0.77241379 0.11034483 0.        ]\n",
      " [0.86206897 0.84827586 0.84137931 0.81609195 0.        ]\n",
      " [0.87356322 0.87356322 0.87356322 0.87356322 0.        ]]\n",
      "PPV mean is: [[0.20295018 0.20851914 0.48708389        nan        nan]\n",
      " [0.37502338 0.58750662 0.66830931 0.83231162 0.        ]\n",
      " [0.319427   0.31959604 0.3197855  0.31993674 0.        ]]\n",
      "MCC mean is: [[0.36899133 0.37548402 0.57075285 0.17039892 0.        ]\n",
      " [0.52684714 0.67447802 0.7198722  0.80591182 0.        ]\n",
      " [0.48551828 0.48569911 0.48588857 0.48605929 0.        ]]\n",
      "L1norm mean is: [2.30109632 1.04522881 1.14564715]\n",
      "L2norm mean is: [0.56620376 0.32582387 0.34737114]\n",
      "MSE_F mean is: [0.33809389 0.15873232 0.19128973]\n",
      "MSE_Y mean is: [0.49604439 0.40477571 0.41423945] \n",
      "\n",
      "R2= 0.6908665076260271\n",
      "data generated\n",
      "Length-scales are:  [0.1118034 0.1118034 0.1118034 0.1118034 0.1118034]\n",
      "Noise variance is:  0.016787391800717075\n",
      "Average data variance is:  1.0000000000000002\n",
      "Time taken to draw data :  0.03184795379638672\n",
      "run time is : 31.83768916130066\n"
     ]
    },
    {
     "name": "stderr",
     "output_type": "stream",
     "text": [
      "C:\\Users\\hughw\\Documents\\MSC project\\GP algorithms\\Master function files\\GP_funcs_ZTMFSS.py:55: RuntimeWarning: divide by zero encountered in true_divide\n",
      "  return kern(cdist(X,X, metric = \"seuclidean\", V = 1/l**2),s)\n",
      "C:\\Users\\hughw\\Documents\\MSC project\\GP algorithms\\Master function files\\GP_funcs_ZTMFSS.py:62: RuntimeWarning: divide by zero encountered in true_divide\n",
      "  return kern(cdist(X,Xtest, metric = \"seuclidean\", V = 1/l**2),s).T\n",
      "C:\\Users\\hughw\\anaconda3\\lib\\site-packages\\numpy\\core\\fromnumeric.py:3334: RuntimeWarning: Mean of empty slice.\n",
      "  return _methods._mean(a, axis=axis, dtype=dtype,\n",
      "C:\\Users\\hughw\\anaconda3\\lib\\site-packages\\numpy\\core\\_methods.py:161: RuntimeWarning: invalid value encountered in double_scalars\n",
      "  ret = ret.dtype.type(ret / rcount)\n",
      "C:\\Users\\hughw\\Documents\\MSC project\\GP algorithms\\Master function files\\GP_funcs_ZTMFSS.py:2035: RuntimeWarning: invalid value encountered in true_divide\n",
      "  MCC[j,i]=(TP*TN-FP*FN)/np.sqrt((TP+FP)*(TP+FN)*(TN+FP)*(TN+FN))\n"
     ]
    },
    {
     "name": "stdout",
     "output_type": "stream",
     "text": [
      "run time is : 14.447514772415161\n",
      "run time is : 14.494281530380249\n",
      "run time is : 14.510471105575562\n",
      "run time is : 14.507272005081177\n",
      "run time is : 14.495169401168823\n",
      "run time is : 10.349961280822754\n",
      "run time is : 8.914191961288452\n",
      "run time is : 14.908090829849243\n",
      "run time is : 14.826346635818481\n"
     ]
    },
    {
     "name": "stderr",
     "output_type": "stream",
     "text": [
      "C:\\Users\\hughw\\Documents\\MSC project\\GP algorithms\\Master function files\\GP_funcs_ZTMFSS.py:55: RuntimeWarning: divide by zero encountered in true_divide\n",
      "  return kern(cdist(X,X, metric = \"seuclidean\", V = 1/l**2),s)\n",
      "C:\\Users\\hughw\\Documents\\MSC project\\GP algorithms\\Master function files\\GP_funcs_ZTMFSS.py:62: RuntimeWarning: divide by zero encountered in true_divide\n",
      "  return kern(cdist(X,Xtest, metric = \"seuclidean\", V = 1/l**2),s).T\n"
     ]
    },
    {
     "name": "stdout",
     "output_type": "stream",
     "text": [
      "RUN 87\n",
      "Runtime mean is: [ 40.32369589 144.70424834 144.68594308]\n",
      "Weighted accuracy mean is: [[0.84978826 0.85251059 0.85704779 0.55269208 0.5       ]\n",
      " [0.88681186 0.90344828 0.90508167 0.90235935 0.        ]\n",
      " [0.8830006  0.8830611  0.8831216  0.88318209 0.        ]]\n",
      "TPR mean is: [[0.90454545 0.90454545 0.76818182 0.10909091 0.        ]\n",
      " [0.85909091 0.84545455 0.83863636 0.81363636 0.        ]\n",
      " [0.87045455 0.87045455 0.87045455 0.87045455 0.        ]]\n",
      "PPV mean is: [[0.20243819 0.20804354 0.49291248        nan        nan]\n",
      " [0.37338413 0.58570054 0.66558501 0.82853535 0.        ]\n",
      " [0.31823222 0.31839933 0.31858664 0.31873616 0.        ]]\n",
      "MCC mean is: [[0.36752286 0.37406717 0.57134316 0.16846257 0.        ]\n",
      " [0.52450364 0.67222883 0.71710718 0.80268154 0.        ]\n",
      " [0.48345712 0.48363589 0.4838232  0.48399198 0.        ]]\n",
      "L1norm mean is: [2.28817412 1.04573122 1.14657154]\n",
      "L2norm mean is: [0.56298445 0.32579456 0.3472968 ]\n",
      "MSE_F mean is: [0.3361149  0.15841498 0.19081611]\n",
      "MSE_Y mean is: [0.49476432 0.40429491 0.41377334] \n",
      "\n",
      "R2= 0.6514278874686273\n",
      "data generated\n",
      "Length-scales are:  [0.1118034 0.1118034 0.1118034 0.1118034 0.1118034]\n",
      "Noise variance is:  0.019729842890666215\n",
      "Average data variance is:  1.0\n",
      "Time taken to draw data :  0.03087759017944336\n",
      "run time is : 41.07144093513489\n"
     ]
    },
    {
     "name": "stderr",
     "output_type": "stream",
     "text": [
      "C:\\Users\\hughw\\Documents\\MSC project\\GP algorithms\\Master function files\\GP_funcs_ZTMFSS.py:55: RuntimeWarning: divide by zero encountered in true_divide\n",
      "  return kern(cdist(X,X, metric = \"seuclidean\", V = 1/l**2),s)\n",
      "C:\\Users\\hughw\\Documents\\MSC project\\GP algorithms\\Master function files\\GP_funcs_ZTMFSS.py:62: RuntimeWarning: divide by zero encountered in true_divide\n",
      "  return kern(cdist(X,Xtest, metric = \"seuclidean\", V = 1/l**2),s).T\n",
      "C:\\Users\\hughw\\anaconda3\\lib\\site-packages\\numpy\\core\\fromnumeric.py:3334: RuntimeWarning: Mean of empty slice.\n",
      "  return _methods._mean(a, axis=axis, dtype=dtype,\n",
      "C:\\Users\\hughw\\anaconda3\\lib\\site-packages\\numpy\\core\\_methods.py:161: RuntimeWarning: invalid value encountered in double_scalars\n",
      "  ret = ret.dtype.type(ret / rcount)\n",
      "C:\\Users\\hughw\\Documents\\MSC project\\GP algorithms\\Master function files\\GP_funcs_ZTMFSS.py:2035: RuntimeWarning: invalid value encountered in true_divide\n",
      "  MCC[j,i]=(TP*TN-FP*FN)/np.sqrt((TP+FP)*(TP+FN)*(TN+FP)*(TN+FN))\n"
     ]
    },
    {
     "name": "stdout",
     "output_type": "stream",
     "text": [
      "run time is : 14.36467432975769\n",
      "run time is : 14.372863531112671\n",
      "run time is : 14.409194231033325\n",
      "run time is : 14.399343729019165\n",
      "run time is : 11.513463973999023\n",
      "run time is : 8.642687320709229\n",
      "run time is : 8.678215026855469\n",
      "run time is : 14.405211448669434\n",
      "run time is : 14.40569257736206\n",
      "run time is : 14.400621175765991\n"
     ]
    },
    {
     "name": "stderr",
     "output_type": "stream",
     "text": [
      "C:\\Users\\hughw\\Documents\\MSC project\\GP algorithms\\Master function files\\GP_funcs_ZTMFSS.py:55: RuntimeWarning: divide by zero encountered in true_divide\n",
      "  return kern(cdist(X,X, metric = \"seuclidean\", V = 1/l**2),s)\n",
      "C:\\Users\\hughw\\Documents\\MSC project\\GP algorithms\\Master function files\\GP_funcs_ZTMFSS.py:62: RuntimeWarning: divide by zero encountered in true_divide\n",
      "  return kern(cdist(X,Xtest, metric = \"seuclidean\", V = 1/l**2),s).T\n"
     ]
    },
    {
     "name": "stdout",
     "output_type": "stream",
     "text": [
      "RUN 88\n",
      "Runtime mean is: [ 40.33226501 144.61674582 144.5984118 ]\n",
      "Weighted accuracy mean is: [[0.84826555 0.85101675 0.85526316 0.5520933  0.5       ]\n",
      " [0.88522727 0.90203349 0.90364833 0.90101675 0.        ]\n",
      " [0.88139952 0.88145933 0.88151914 0.88157895 0.        ]]\n",
      "TPR mean is: [[0.90561798 0.90561798 0.76853933 0.10786517 0.        ]\n",
      " [0.86067416 0.84719101 0.84044944 0.81573034 0.        ]\n",
      " [0.87191011 0.87191011 0.87191011 0.87191011 0.        ]]\n",
      "PPV mean is: [[0.20271723 0.2083812  0.4963629         nan        nan]\n",
      " [0.375431   0.5861421  0.665129   0.83046192 0.        ]\n",
      " [0.31840189 0.31856713 0.31875234 0.31890018 0.        ]]\n",
      "MCC mean is: [[0.36824705 0.37486379 0.57379407 0.16656973 0.        ]\n",
      " [0.52680692 0.67341712 0.71779122 0.8048986  0.        ]\n",
      " [0.48416118 0.48433795 0.48452315 0.48469004 0.        ]]\n",
      "L1norm mean is: [2.27907265 1.04186586 1.14327009]\n",
      "L2norm mean is: [0.56064512 0.32490824 0.34650036]\n",
      "MSE_F mean is: [0.33620346 0.15833398 0.19071326]\n",
      "MSE_Y mean is: [0.49390456 0.40391335 0.41335715] \n",
      "\n",
      "R2= 0.680428262045704\n",
      "data generated\n",
      "Length-scales are:  [0.1118034 0.1118034 0.1118034 0.1118034 0.1118034]\n",
      "Noise variance is:  0.022811246965788946\n",
      "Average data variance is:  0.9999999999999999\n",
      "Time taken to draw data :  0.03500556945800781\n",
      "run time is : 23.132444620132446\n"
     ]
    },
    {
     "name": "stderr",
     "output_type": "stream",
     "text": [
      "C:\\Users\\hughw\\Documents\\MSC project\\GP algorithms\\Master function files\\GP_funcs_ZTMFSS.py:55: RuntimeWarning: divide by zero encountered in true_divide\n",
      "  return kern(cdist(X,X, metric = \"seuclidean\", V = 1/l**2),s)\n",
      "C:\\Users\\hughw\\Documents\\MSC project\\GP algorithms\\Master function files\\GP_funcs_ZTMFSS.py:62: RuntimeWarning: divide by zero encountered in true_divide\n",
      "  return kern(cdist(X,Xtest, metric = \"seuclidean\", V = 1/l**2),s).T\n",
      "C:\\Users\\hughw\\anaconda3\\lib\\site-packages\\numpy\\core\\fromnumeric.py:3334: RuntimeWarning: Mean of empty slice.\n",
      "  return _methods._mean(a, axis=axis, dtype=dtype,\n",
      "C:\\Users\\hughw\\anaconda3\\lib\\site-packages\\numpy\\core\\_methods.py:161: RuntimeWarning: invalid value encountered in double_scalars\n",
      "  ret = ret.dtype.type(ret / rcount)\n",
      "C:\\Users\\hughw\\Documents\\MSC project\\GP algorithms\\Master function files\\GP_funcs_ZTMFSS.py:2035: RuntimeWarning: invalid value encountered in true_divide\n",
      "  MCC[j,i]=(TP*TN-FP*FN)/np.sqrt((TP+FP)*(TP+FN)*(TN+FP)*(TN+FN))\n"
     ]
    },
    {
     "name": "stdout",
     "output_type": "stream",
     "text": [
      "run time is : 14.386158466339111\n",
      "run time is : 14.409851551055908\n",
      "run time is : 8.867803812026978\n",
      "run time is : 10.400217533111572\n",
      "run time is : 14.947985410690308\n",
      "run time is : 10.515869617462158\n",
      "run time is : 7.536812782287598\n",
      "run time is : 7.463038921356201\n",
      "run time is : 14.634852647781372\n",
      "run time is : 14.52078127861023\n"
     ]
    },
    {
     "name": "stderr",
     "output_type": "stream",
     "text": [
      "C:\\Users\\hughw\\Documents\\MSC project\\GP algorithms\\Master function files\\GP_funcs_ZTMFSS.py:55: RuntimeWarning: divide by zero encountered in true_divide\n",
      "  return kern(cdist(X,X, metric = \"seuclidean\", V = 1/l**2),s)\n",
      "C:\\Users\\hughw\\Documents\\MSC project\\GP algorithms\\Master function files\\GP_funcs_ZTMFSS.py:62: RuntimeWarning: divide by zero encountered in true_divide\n",
      "  return kern(cdist(X,Xtest, metric = \"seuclidean\", V = 1/l**2),s).T\n"
     ]
    },
    {
     "name": "stdout",
     "output_type": "stream",
     "text": [
      "RUN 89\n",
      "Runtime mean is: [ 40.14131815 144.39223044 144.37414609]\n",
      "Weighted accuracy mean is: [[0.84896511 0.85174453 0.85570668 0.55150798 0.5       ]\n",
      " [0.88628031 0.90295683 0.90455352 0.90212892 0.        ]\n",
      " [0.88214075 0.88219988 0.88225902 0.88231815 0.        ]]\n",
      "TPR mean is: [[0.90444444 0.90222222 0.76666667 0.10666667 0.        ]\n",
      " [0.86       0.84444444 0.83777778 0.81333333 0.        ]\n",
      " [0.87111111 0.87111111 0.87111111 0.87111111 0.        ]]\n",
      "PPV mean is: [[0.20217421 0.20739919 0.49501442        nan        nan]\n",
      " [0.37619782 0.59074052 0.66884979 0.83234568 0.        ]\n",
      " [0.3185678  0.3187312  0.31891435 0.31906055 0.        ]]\n",
      "MCC mean is: [[0.36729355 0.37275902 0.57230448 0.16471896 0.        ]\n",
      " [0.52727759 0.67445215 0.7183332  0.80447273 0.        ]\n",
      " [0.48411567 0.48429047 0.48447362 0.48463865 0.        ]]\n",
      "L1norm mean is: [2.27802444 1.03867214 1.13947482]\n",
      "L2norm mean is: [0.56023055 0.32432193 0.34564479]\n",
      "MSE_F mean is: [0.33531028 0.15746824 0.18967523]\n",
      "MSE_Y mean is: [0.49241179 0.40271129 0.41226722] \n",
      "\n",
      "R2= 0.6526622128891606\n",
      "data generated\n",
      "Length-scales are:  [0.1118034 0.1118034 0.1118034 0.1118034 0.1118034]\n",
      "Noise variance is:  0.060807688295358896\n",
      "Average data variance is:  1.0\n",
      "Time taken to draw data :  0.030939579010009766\n",
      "run time is : 32.18461894989014\n"
     ]
    },
    {
     "name": "stderr",
     "output_type": "stream",
     "text": [
      "C:\\Users\\hughw\\Documents\\MSC project\\GP algorithms\\Master function files\\GP_funcs_ZTMFSS.py:55: RuntimeWarning: divide by zero encountered in true_divide\n",
      "  return kern(cdist(X,X, metric = \"seuclidean\", V = 1/l**2),s)\n",
      "C:\\Users\\hughw\\Documents\\MSC project\\GP algorithms\\Master function files\\GP_funcs_ZTMFSS.py:62: RuntimeWarning: divide by zero encountered in true_divide\n",
      "  return kern(cdist(X,Xtest, metric = \"seuclidean\", V = 1/l**2),s).T\n",
      "C:\\Users\\hughw\\anaconda3\\lib\\site-packages\\numpy\\core\\fromnumeric.py:3334: RuntimeWarning: Mean of empty slice.\n",
      "  return _methods._mean(a, axis=axis, dtype=dtype,\n",
      "C:\\Users\\hughw\\anaconda3\\lib\\site-packages\\numpy\\core\\_methods.py:161: RuntimeWarning: invalid value encountered in double_scalars\n",
      "  ret = ret.dtype.type(ret / rcount)\n",
      "C:\\Users\\hughw\\Documents\\MSC project\\GP algorithms\\Master function files\\GP_funcs_ZTMFSS.py:2035: RuntimeWarning: invalid value encountered in true_divide\n",
      "  MCC[j,i]=(TP*TN-FP*FN)/np.sqrt((TP+FP)*(TP+FN)*(TN+FP)*(TN+FN))\n"
     ]
    },
    {
     "name": "stdout",
     "output_type": "stream",
     "text": [
      "run time is : 14.474595785140991\n",
      "run time is : 14.519700765609741\n",
      "run time is : 14.51197862625122\n",
      "run time is : 14.511722326278687\n",
      "run time is : 14.524335622787476\n",
      "run time is : 14.501139163970947\n",
      "run time is : 13.063937187194824\n",
      "run time is : 7.261975288391113\n",
      "run time is : 14.558107852935791\n",
      "run time is : 14.515446901321411\n"
     ]
    },
    {
     "name": "stderr",
     "output_type": "stream",
     "text": [
      "C:\\Users\\hughw\\Documents\\MSC project\\GP algorithms\\Master function files\\GP_funcs_ZTMFSS.py:55: RuntimeWarning: divide by zero encountered in true_divide\n",
      "  return kern(cdist(X,X, metric = \"seuclidean\", V = 1/l**2),s)\n",
      "C:\\Users\\hughw\\Documents\\MSC project\\GP algorithms\\Master function files\\GP_funcs_ZTMFSS.py:62: RuntimeWarning: divide by zero encountered in true_divide\n",
      "  return kern(cdist(X,Xtest, metric = \"seuclidean\", V = 1/l**2),s).T\n"
     ]
    },
    {
     "name": "stdout",
     "output_type": "stream",
     "text": [
      "RUN 90\n",
      "Runtime mean is: [ 40.05404995 144.39224279 144.37412595]\n",
      "Weighted accuracy mean is: [[0.84824561 0.84988304 0.85479532 0.55093567 0.5       ]\n",
      " [0.88614035 0.90181287 0.90339181 0.90099415 0.        ]\n",
      " [0.88187135 0.88192982 0.8819883  0.88204678 0.        ]]\n",
      "TPR mean is: [[0.90549451 0.9032967  0.76923077 0.10769231 0.        ]\n",
      " [0.86153846 0.84615385 0.83956044 0.81538462 0.        ]\n",
      " [0.87252747 0.87252747 0.87252747 0.87252747 0.        ]]\n",
      "PPV mean is: [[0.20132615 0.20652892 0.49207221        nan        nan]\n",
      " [0.37755828 0.59523788 0.67248881 0.83418803 0.        ]\n",
      " [0.32422456 0.32438617 0.3245673  0.32471189 0.        ]]\n",
      "MCC mean is: [[0.366345   0.3718157  0.57076241 0.16542123 0.        ]\n",
      " [0.52904648 0.6780296  0.72142844 0.80662138 0.        ]\n",
      " [0.48877433 0.48894721 0.48912834 0.48929156 0.        ]]\n",
      "L1norm mean is: [2.30901206 1.04507241 1.13750718]\n",
      "L2norm mean is: [0.56580259 0.32626636 0.34636146]\n",
      "MSE_F mean is: [0.33500788 0.15823121 0.18972208]\n",
      "MSE_Y mean is: [0.49439631 0.40214669 0.4113862 ] \n",
      "\n",
      "R2= 0.648534978478602\n",
      "data generated\n",
      "Length-scales are:  [0.1118034 0.1118034 0.1118034 0.1118034 0.1118034]\n",
      "Noise variance is:  0.019324337514861546\n",
      "Average data variance is:  1.0\n",
      "Time taken to draw data :  0.034906864166259766\n",
      "run time is : 41.98270773887634\n"
     ]
    },
    {
     "name": "stderr",
     "output_type": "stream",
     "text": [
      "C:\\Users\\hughw\\Documents\\MSC project\\GP algorithms\\Master function files\\GP_funcs_ZTMFSS.py:55: RuntimeWarning: divide by zero encountered in true_divide\n",
      "  return kern(cdist(X,X, metric = \"seuclidean\", V = 1/l**2),s)\n",
      "C:\\Users\\hughw\\Documents\\MSC project\\GP algorithms\\Master function files\\GP_funcs_ZTMFSS.py:62: RuntimeWarning: divide by zero encountered in true_divide\n",
      "  return kern(cdist(X,Xtest, metric = \"seuclidean\", V = 1/l**2),s).T\n",
      "C:\\Users\\hughw\\anaconda3\\lib\\site-packages\\numpy\\core\\fromnumeric.py:3334: RuntimeWarning: Mean of empty slice.\n",
      "  return _methods._mean(a, axis=axis, dtype=dtype,\n",
      "C:\\Users\\hughw\\anaconda3\\lib\\site-packages\\numpy\\core\\_methods.py:161: RuntimeWarning: invalid value encountered in double_scalars\n",
      "  ret = ret.dtype.type(ret / rcount)\n",
      "C:\\Users\\hughw\\Documents\\MSC project\\GP algorithms\\Master function files\\GP_funcs_ZTMFSS.py:2035: RuntimeWarning: invalid value encountered in true_divide\n",
      "  MCC[j,i]=(TP*TN-FP*FN)/np.sqrt((TP+FP)*(TP+FN)*(TN+FP)*(TN+FN))\n"
     ]
    },
    {
     "name": "stdout",
     "output_type": "stream",
     "text": [
      "run time is : 14.693699598312378\n",
      "run time is : 14.715640306472778\n",
      "run time is : 14.536360263824463\n",
      "run time is : 8.69302773475647\n",
      "run time is : 8.683702945709229\n",
      "run time is : 8.682302474975586\n",
      "run time is : 11.573242902755737\n",
      "run time is : 14.419260263442993\n",
      "run time is : 14.430948495864868\n",
      "run time is : 14.416593313217163\n"
     ]
    },
    {
     "name": "stderr",
     "output_type": "stream",
     "text": [
      "C:\\Users\\hughw\\Documents\\MSC project\\GP algorithms\\Master function files\\GP_funcs_ZTMFSS.py:55: RuntimeWarning: divide by zero encountered in true_divide\n",
      "  return kern(cdist(X,X, metric = \"seuclidean\", V = 1/l**2),s)\n",
      "C:\\Users\\hughw\\Documents\\MSC project\\GP algorithms\\Master function files\\GP_funcs_ZTMFSS.py:62: RuntimeWarning: divide by zero encountered in true_divide\n",
      "  return kern(cdist(X,Xtest, metric = \"seuclidean\", V = 1/l**2),s).T\n"
     ]
    },
    {
     "name": "stdout",
     "output_type": "stream",
     "text": [
      "RUN 91\n",
      "Runtime mean is: [ 40.07517588 144.26196645 144.24406749]\n",
      "Weighted accuracy mean is: [[0.84788895 0.84956622 0.85540775 0.55135917 0.5       ]\n",
      " [0.88710237 0.90289184 0.90445344 0.90208213 0.        ]\n",
      " [0.88311163 0.88316946 0.8832273  0.88328514 0.        ]]\n",
      "TPR mean is: [[0.90652174 0.90434783 0.76956522 0.10652174 0.        ]\n",
      " [0.86086957 0.84565217 0.83913043 0.81521739 0.        ]\n",
      " [0.87391304 0.87391304 0.87391304 0.87391304 0.        ]]\n",
      "PPV mean is: [[0.20215714 0.20748097 0.49759316        nan        nan]\n",
      " [0.37601193 0.59420269 0.67139032 0.83133195 0.        ]\n",
      " [0.32356079 0.32372064 0.32389981 0.32404283 0.        ]]\n",
      "MCC mean is: [[0.36768538 0.3732842  0.57422973 0.16362317 0.        ]\n",
      " [0.52747825 0.67727775 0.7207214  0.80498832 0.        ]\n",
      " [0.48861031 0.48878131 0.48896047 0.48912192 0.        ]]\n",
      "L1norm mean is: [2.29475473 1.04589128 1.13851011]\n",
      "L2norm mean is: [0.5628024  0.32648543 0.34652015]\n",
      "MSE_F mean is: [0.33303569 0.15802193 0.18951767]\n",
      "MSE_Y mean is: [0.49344246 0.40219263 0.41143777] \n",
      "\n",
      "R2= 0.6714710909967039\n",
      "data generated\n",
      "Length-scales are:  [0.1118034 0.1118034 0.1118034 0.1118034 0.1118034]\n",
      "Noise variance is:  0.04985172790691713\n",
      "Average data variance is:  1.0\n",
      "Time taken to draw data :  0.03084111213684082\n",
      "run time is : 23.402516841888428\n"
     ]
    },
    {
     "name": "stderr",
     "output_type": "stream",
     "text": [
      "C:\\Users\\hughw\\Documents\\MSC project\\GP algorithms\\Master function files\\GP_funcs_ZTMFSS.py:55: RuntimeWarning: divide by zero encountered in true_divide\n",
      "  return kern(cdist(X,X, metric = \"seuclidean\", V = 1/l**2),s)\n",
      "C:\\Users\\hughw\\Documents\\MSC project\\GP algorithms\\Master function files\\GP_funcs_ZTMFSS.py:62: RuntimeWarning: divide by zero encountered in true_divide\n",
      "  return kern(cdist(X,Xtest, metric = \"seuclidean\", V = 1/l**2),s).T\n",
      "C:\\Users\\hughw\\anaconda3\\lib\\site-packages\\numpy\\core\\fromnumeric.py:3334: RuntimeWarning: Mean of empty slice.\n",
      "  return _methods._mean(a, axis=axis, dtype=dtype,\n",
      "C:\\Users\\hughw\\anaconda3\\lib\\site-packages\\numpy\\core\\_methods.py:161: RuntimeWarning: invalid value encountered in double_scalars\n",
      "  ret = ret.dtype.type(ret / rcount)\n",
      "C:\\Users\\hughw\\Documents\\MSC project\\GP algorithms\\Master function files\\GP_funcs_ZTMFSS.py:2035: RuntimeWarning: invalid value encountered in true_divide\n",
      "  MCC[j,i]=(TP*TN-FP*FN)/np.sqrt((TP+FP)*(TP+FN)*(TN+FP)*(TN+FN))\n"
     ]
    },
    {
     "name": "stdout",
     "output_type": "stream",
     "text": [
      "run time is : 14.370619535446167\n",
      "run time is : 14.38269853591919\n",
      "run time is : 14.422554016113281\n",
      "run time is : 14.412353992462158\n",
      "run time is : 14.407947301864624\n",
      "run time is : 13.025697708129883\n",
      "run time is : 10.10350489616394\n",
      "run time is : 14.454499244689941\n"
     ]
    },
    {
     "name": "stderr",
     "output_type": "stream",
     "text": [
      "C:\\Users\\hughw\\Documents\\MSC project\\GP algorithms\\Master function files\\GP_funcs_ZTMFSS.py:55: RuntimeWarning: divide by zero encountered in true_divide\n",
      "  return kern(cdist(X,X, metric = \"seuclidean\", V = 1/l**2),s)\n",
      "C:\\Users\\hughw\\Documents\\MSC project\\GP algorithms\\Master function files\\GP_funcs_ZTMFSS.py:62: RuntimeWarning: divide by zero encountered in true_divide\n",
      "  return kern(cdist(X,Xtest, metric = \"seuclidean\", V = 1/l**2),s).T\n"
     ]
    },
    {
     "name": "stdout",
     "output_type": "stream",
     "text": [
      "RUN 92\n",
      "Runtime mean is: [ 39.89606089 143.97362092 143.95434869]\n",
      "Weighted accuracy mean is: [[0.84879863 0.85051487 0.85589245 0.55080092 0.5       ]\n",
      " [0.88649886 0.90263158 0.90423341 0.90188787 0.        ]\n",
      " [0.88358124 0.88363844 0.88369565 0.88375286 0.        ]]\n",
      "TPR mean is: [[0.90752688 0.90537634 0.77204301 0.10537634 0.        ]\n",
      " [0.86236559 0.84731183 0.84086022 0.8172043  0.        ]\n",
      " [0.87526882 0.87526882 0.87526882 0.87526882 0.        ]]\n",
      "PPV mean is: [[0.20129471 0.2065613  0.49448284        nan        nan]\n",
      " [0.37513135 0.59194906 0.66830672 0.83314559 0.        ]\n",
      " [0.32276982 0.32292795 0.32310519 0.32324667 0.        ]]\n",
      "MCC mean is: [[0.36669097 0.37222959 0.57244499 0.16151138 0.        ]\n",
      " [0.52725717 0.67637677 0.71935328 0.80708522 0.        ]\n",
      " [0.48829011 0.48845926 0.48863651 0.48879621 0.        ]]\n",
      "L1norm mean is: [2.32397353 1.04426002 1.13794071]\n",
      "L2norm mean is: [0.56681762 0.32558952 0.34579086]\n",
      "MSE_F mean is: [0.33233812 0.15773115 0.1891844 ]\n",
      "MSE_Y mean is: [0.49343117 0.40190359 0.41114743] \n",
      "\n",
      "R2= 0.677866153181564\n",
      "data generated\n",
      "Length-scales are:  [0.1118034 0.1118034 0.1118034 0.1118034 0.1118034]\n",
      "Noise variance is:  0.013246869301736143\n",
      "Average data variance is:  1.0\n",
      "Time taken to draw data :  0.03390908241271973\n",
      "run time is : 18.918400049209595\n"
     ]
    },
    {
     "name": "stderr",
     "output_type": "stream",
     "text": [
      "C:\\Users\\hughw\\Documents\\MSC project\\GP algorithms\\Master function files\\GP_funcs_ZTMFSS.py:55: RuntimeWarning: divide by zero encountered in true_divide\n",
      "  return kern(cdist(X,X, metric = \"seuclidean\", V = 1/l**2),s)\n",
      "C:\\Users\\hughw\\Documents\\MSC project\\GP algorithms\\Master function files\\GP_funcs_ZTMFSS.py:62: RuntimeWarning: divide by zero encountered in true_divide\n",
      "  return kern(cdist(X,Xtest, metric = \"seuclidean\", V = 1/l**2),s).T\n",
      "C:\\Users\\hughw\\anaconda3\\lib\\site-packages\\numpy\\core\\fromnumeric.py:3334: RuntimeWarning: Mean of empty slice.\n",
      "  return _methods._mean(a, axis=axis, dtype=dtype,\n",
      "C:\\Users\\hughw\\anaconda3\\lib\\site-packages\\numpy\\core\\_methods.py:161: RuntimeWarning: invalid value encountered in double_scalars\n",
      "  ret = ret.dtype.type(ret / rcount)\n",
      "C:\\Users\\hughw\\Documents\\MSC project\\GP algorithms\\Master function files\\GP_funcs_ZTMFSS.py:2035: RuntimeWarning: invalid value encountered in true_divide\n",
      "  MCC[j,i]=(TP*TN-FP*FN)/np.sqrt((TP+FP)*(TP+FN)*(TN+FP)*(TN+FN))\n"
     ]
    },
    {
     "name": "stdout",
     "output_type": "stream",
     "text": [
      "run time is : 15.680062770843506\n",
      "run time is : 14.81863784790039\n",
      "run time is : 14.651852369308472\n",
      "run time is : 14.718073606491089\n",
      "run time is : 14.601628541946411\n",
      "run time is : 13.155320882797241\n",
      "run time is : 11.706287860870361\n",
      "run time is : 7.2900402545928955\n",
      "run time is : 14.550204038619995\n"
     ]
    },
    {
     "name": "stderr",
     "output_type": "stream",
     "text": [
      "C:\\Users\\hughw\\Documents\\MSC project\\GP algorithms\\Master function files\\GP_funcs_ZTMFSS.py:55: RuntimeWarning: divide by zero encountered in true_divide\n",
      "  return kern(cdist(X,X, metric = \"seuclidean\", V = 1/l**2),s)\n",
      "C:\\Users\\hughw\\Documents\\MSC project\\GP algorithms\\Master function files\\GP_funcs_ZTMFSS.py:62: RuntimeWarning: divide by zero encountered in true_divide\n",
      "  return kern(cdist(X,Xtest, metric = \"seuclidean\", V = 1/l**2),s).T\n"
     ]
    },
    {
     "name": "stdout",
     "output_type": "stream",
     "text": [
      "RUN 93\n",
      "Runtime mean is: [ 39.67306405 143.80738904 143.78813272]\n",
      "Weighted accuracy mean is: [[0.8483871  0.85008489 0.85636672 0.55014148 0.5       ]\n",
      " [0.88704018 0.90322581 0.90481041 0.90294284 0.        ]\n",
      " [0.88398415 0.88404075 0.88409734 0.88415393 0.        ]]\n",
      "TPR mean is: [[0.90638298 0.90425532 0.77234043 0.10638298 0.        ]\n",
      " [0.86170213 0.84680851 0.83829787 0.81489362 0.        ]\n",
      " [0.87446809 0.87446809 0.87446809 0.87446809 0.        ]]\n",
      "PPV mean is: [[0.20052596 0.20573652 0.49188196        nan        nan]\n",
      " [0.37500906 0.59173076 0.6691758  0.83492063 0.        ]\n",
      " [0.32237561 0.32253206 0.32270741 0.32284739 0.        ]]\n",
      "MCC mean is: [[0.36537575 0.37085545 0.57061579 0.16222537 0.        ]\n",
      " [0.52703017 0.67616404 0.71867516 0.8066542  0.        ]\n",
      " [0.48773775 0.48790511 0.48808047 0.48823848 0.        ]]\n",
      "L1norm mean is: [2.3397191  1.0456848  1.13967094]\n",
      "L2norm mean is: [0.56994809 0.32578183 0.34603398]\n",
      "MSE_F mean is: [0.33208765 0.15691933 0.1883672 ]\n",
      "MSE_Y mean is: [0.49186378 0.40064033 0.40986134] \n",
      "\n",
      "R2= 0.6799199190179215\n",
      "data generated\n",
      "Length-scales are:  [0.1118034 0.1118034 0.1118034 0.1118034 0.1118034]\n",
      "Noise variance is:  0.062276051900954886\n",
      "Average data variance is:  1.0\n",
      "Time taken to draw data :  0.03144192695617676\n",
      "run time is : 40.55873465538025\n"
     ]
    },
    {
     "name": "stderr",
     "output_type": "stream",
     "text": [
      "C:\\Users\\hughw\\Documents\\MSC project\\GP algorithms\\Master function files\\GP_funcs_ZTMFSS.py:55: RuntimeWarning: divide by zero encountered in true_divide\n",
      "  return kern(cdist(X,X, metric = \"seuclidean\", V = 1/l**2),s)\n",
      "C:\\Users\\hughw\\Documents\\MSC project\\GP algorithms\\Master function files\\GP_funcs_ZTMFSS.py:62: RuntimeWarning: divide by zero encountered in true_divide\n",
      "  return kern(cdist(X,Xtest, metric = \"seuclidean\", V = 1/l**2),s).T\n",
      "C:\\Users\\hughw\\anaconda3\\lib\\site-packages\\numpy\\core\\fromnumeric.py:3334: RuntimeWarning: Mean of empty slice.\n",
      "  return _methods._mean(a, axis=axis, dtype=dtype,\n",
      "C:\\Users\\hughw\\anaconda3\\lib\\site-packages\\numpy\\core\\_methods.py:161: RuntimeWarning: invalid value encountered in double_scalars\n",
      "  ret = ret.dtype.type(ret / rcount)\n",
      "C:\\Users\\hughw\\Documents\\MSC project\\GP algorithms\\Master function files\\GP_funcs_ZTMFSS.py:2035: RuntimeWarning: invalid value encountered in true_divide\n",
      "  MCC[j,i]=(TP*TN-FP*FN)/np.sqrt((TP+FP)*(TP+FN)*(TN+FP)*(TN+FN))\n"
     ]
    },
    {
     "name": "stdout",
     "output_type": "stream",
     "text": [
      "run time is : 14.315509796142578\n",
      "run time is : 14.329174995422363\n",
      "run time is : 14.372235536575317\n",
      "run time is : 14.366659879684448\n",
      "run time is : 12.94070839881897\n",
      "run time is : 10.046775579452515\n",
      "run time is : 7.1779515743255615\n",
      "run time is : 15.040212154388428\n",
      "run time is : 14.909123659133911\n"
     ]
    },
    {
     "name": "stderr",
     "output_type": "stream",
     "text": [
      "C:\\Users\\hughw\\Documents\\MSC project\\GP algorithms\\Master function files\\GP_funcs_ZTMFSS.py:55: RuntimeWarning: divide by zero encountered in true_divide\n",
      "  return kern(cdist(X,X, metric = \"seuclidean\", V = 1/l**2),s)\n",
      "C:\\Users\\hughw\\Documents\\MSC project\\GP algorithms\\Master function files\\GP_funcs_ZTMFSS.py:62: RuntimeWarning: divide by zero encountered in true_divide\n",
      "  return kern(cdist(X,Xtest, metric = \"seuclidean\", V = 1/l**2),s).T\n"
     ]
    },
    {
     "name": "stdout",
     "output_type": "stream",
     "text": [
      "RUN 94\n",
      "Runtime mean is: [ 39.68254681 143.60860062 143.590125  ]\n",
      "Weighted accuracy mean is: [[0.84742441 0.84910414 0.85615901 0.55055991 0.5       ]\n",
      " [0.88678611 0.90302352 0.90363942 0.9018477  0.        ]\n",
      " [0.88359462 0.88365062 0.88370661 0.8837626  0.        ]]\n",
      "TPR mean is: [[0.90526316 0.90315789 0.77263158 0.10526316 0.        ]\n",
      " [0.86105263 0.84631579 0.83789474 0.81473684 0.        ]\n",
      " [0.87368421 0.87368421 0.87368421 0.87368421 0.        ]]\n",
      "PPV mean is: [[0.19973095 0.20492911 0.49196741        nan        nan]\n",
      " [0.37386861 0.59251956 0.67265816 0.83665831 0.        ]\n",
      " [0.32108745 0.32124224 0.32141575 0.32155426 0.        ]]\n",
      "MCC mean is: [[0.3640146  0.36951024 0.57101836 0.16027502 0.        ]\n",
      " [0.52587849 0.67657127 0.72047602 0.80752897 0.        ]\n",
      " [0.48622603 0.48639162 0.48656513 0.48672148 0.        ]]\n",
      "L1norm mean is: [2.34352005 1.04392319 1.1398928 ]\n",
      "L2norm mean is: [0.57034454 0.32482503 0.34542106]\n",
      "MSE_F mean is: [0.33219206 0.15681191 0.18857177]\n",
      "MSE_Y mean is: [0.49061005 0.39986013 0.40916598] \n",
      "\n",
      "R2= 0.6802328140509374\n",
      "data generated\n",
      "Length-scales are:  [0.1118034 0.1118034 0.1118034 0.1118034 0.1118034]\n",
      "Noise variance is:  0.026655610549314448\n",
      "Average data variance is:  1.0\n",
      "Time taken to draw data :  0.03690147399902344\n",
      "run time is : 41.71211910247803\n"
     ]
    },
    {
     "name": "stderr",
     "output_type": "stream",
     "text": [
      "C:\\Users\\hughw\\Documents\\MSC project\\GP algorithms\\Master function files\\GP_funcs_ZTMFSS.py:55: RuntimeWarning: divide by zero encountered in true_divide\n",
      "  return kern(cdist(X,X, metric = \"seuclidean\", V = 1/l**2),s)\n",
      "C:\\Users\\hughw\\Documents\\MSC project\\GP algorithms\\Master function files\\GP_funcs_ZTMFSS.py:62: RuntimeWarning: divide by zero encountered in true_divide\n",
      "  return kern(cdist(X,Xtest, metric = \"seuclidean\", V = 1/l**2),s).T\n",
      "C:\\Users\\hughw\\anaconda3\\lib\\site-packages\\numpy\\core\\fromnumeric.py:3334: RuntimeWarning: Mean of empty slice.\n",
      "  return _methods._mean(a, axis=axis, dtype=dtype,\n",
      "C:\\Users\\hughw\\anaconda3\\lib\\site-packages\\numpy\\core\\_methods.py:161: RuntimeWarning: invalid value encountered in double_scalars\n",
      "  ret = ret.dtype.type(ret / rcount)\n",
      "C:\\Users\\hughw\\Documents\\MSC project\\GP algorithms\\Master function files\\GP_funcs_ZTMFSS.py:2035: RuntimeWarning: invalid value encountered in true_divide\n",
      "  MCC[j,i]=(TP*TN-FP*FN)/np.sqrt((TP+FP)*(TP+FN)*(TN+FP)*(TN+FN))\n"
     ]
    },
    {
     "name": "stdout",
     "output_type": "stream",
     "text": [
      "run time is : 14.472325801849365\n",
      "run time is : 14.446471214294434\n",
      "run time is : 14.47958254814148\n",
      "run time is : 14.503451824188232\n",
      "run time is : 14.454705238342285\n",
      "run time is : 14.437337636947632\n",
      "run time is : 10.093657493591309\n",
      "run time is : 14.443483829498291\n",
      "run time is : 14.441634178161621\n"
     ]
    },
    {
     "name": "stderr",
     "output_type": "stream",
     "text": [
      "C:\\Users\\hughw\\Documents\\MSC project\\GP algorithms\\Master function files\\GP_funcs_ZTMFSS.py:55: RuntimeWarning: divide by zero encountered in true_divide\n",
      "  return kern(cdist(X,X, metric = \"seuclidean\", V = 1/l**2),s)\n",
      "C:\\Users\\hughw\\Documents\\MSC project\\GP algorithms\\Master function files\\GP_funcs_ZTMFSS.py:62: RuntimeWarning: divide by zero encountered in true_divide\n",
      "  return kern(cdist(X,Xtest, metric = \"seuclidean\", V = 1/l**2),s).T\n"
     ]
    },
    {
     "name": "stdout",
     "output_type": "stream",
     "text": [
      "RUN 95\n",
      "Runtime mean is: [ 39.70384534 143.50872746 143.48908486]\n",
      "Weighted accuracy mean is: [[0.84642659 0.84814404 0.85639889 0.5499723  0.5       ]\n",
      " [0.88631579 0.90288089 0.90360111 0.90182825 0.        ]\n",
      " [0.88288089 0.88293629 0.88299169 0.88304709 0.        ]]\n",
      "TPR mean is: [[0.90625    0.90416667 0.775      0.10416667 0.        ]\n",
      " [0.8625     0.84791667 0.83958333 0.81666667 0.        ]\n",
      " [0.875      0.875      0.875      0.875      0.        ]]\n",
      "PPV mean is: [[0.19905808 0.20424119 0.48932291        nan        nan]\n",
      " [0.37322936 0.59006772 0.66965771 0.83662368 0.        ]\n",
      " [0.32099799 0.32115118 0.32132288 0.32145994 0.        ]]\n",
      "MCC mean is: [[0.36334111 0.3688475  0.56970531 0.15860549 0.        ]\n",
      " [0.52587618 0.67544659 0.71915322 0.8085761  0.        ]\n",
      " [0.48663677 0.48680064 0.48697234 0.48712706 0.        ]]\n",
      "L1norm mean is: [2.36110909 1.05084877 1.14529816]\n",
      "L2norm mean is: [0.57242534 0.32607996 0.34689678]\n",
      "MSE_F mean is: [0.33171305 0.15725563 0.18891477]\n",
      "MSE_Y mean is: [0.49109601 0.39956272 0.4089165 ] \n",
      "\n",
      "R2= 0.6704018974250235\n",
      "data generated\n",
      "Length-scales are:  [0.1118034 0.1118034 0.1118034 0.1118034 0.1118034]\n",
      "Noise variance is:  0.014578119853112385\n",
      "Average data variance is:  1.0\n",
      "Time taken to draw data :  0.03001260757446289\n",
      "run time is : 40.96164679527283\n"
     ]
    },
    {
     "name": "stderr",
     "output_type": "stream",
     "text": [
      "C:\\Users\\hughw\\Documents\\MSC project\\GP algorithms\\Master function files\\GP_funcs_ZTMFSS.py:55: RuntimeWarning: divide by zero encountered in true_divide\n",
      "  return kern(cdist(X,X, metric = \"seuclidean\", V = 1/l**2),s)\n",
      "C:\\Users\\hughw\\Documents\\MSC project\\GP algorithms\\Master function files\\GP_funcs_ZTMFSS.py:62: RuntimeWarning: divide by zero encountered in true_divide\n",
      "  return kern(cdist(X,Xtest, metric = \"seuclidean\", V = 1/l**2),s).T\n",
      "C:\\Users\\hughw\\anaconda3\\lib\\site-packages\\numpy\\core\\fromnumeric.py:3334: RuntimeWarning: Mean of empty slice.\n",
      "  return _methods._mean(a, axis=axis, dtype=dtype,\n",
      "C:\\Users\\hughw\\anaconda3\\lib\\site-packages\\numpy\\core\\_methods.py:161: RuntimeWarning: invalid value encountered in double_scalars\n",
      "  ret = ret.dtype.type(ret / rcount)\n",
      "C:\\Users\\hughw\\Documents\\MSC project\\GP algorithms\\Master function files\\GP_funcs_ZTMFSS.py:2035: RuntimeWarning: invalid value encountered in true_divide\n",
      "  MCC[j,i]=(TP*TN-FP*FN)/np.sqrt((TP+FP)*(TP+FN)*(TN+FP)*(TN+FN))\n"
     ]
    },
    {
     "name": "stdout",
     "output_type": "stream",
     "text": [
      "run time is : 14.309160470962524\n",
      "run time is : 14.344717741012573\n",
      "run time is : 14.561236381530762\n",
      "run time is : 13.21967625617981\n",
      "run time is : 10.419098854064941\n",
      "run time is : 10.380237579345703\n",
      "run time is : 13.421102523803711\n",
      "run time is : 14.55150556564331\n",
      "run time is : 14.491863489151001\n"
     ]
    },
    {
     "name": "stderr",
     "output_type": "stream",
     "text": [
      "C:\\Users\\hughw\\Documents\\MSC project\\GP algorithms\\Master function files\\GP_funcs_ZTMFSS.py:55: RuntimeWarning: divide by zero encountered in true_divide\n",
      "  return kern(cdist(X,X, metric = \"seuclidean\", V = 1/l**2),s)\n",
      "C:\\Users\\hughw\\Documents\\MSC project\\GP algorithms\\Master function files\\GP_funcs_ZTMFSS.py:62: RuntimeWarning: divide by zero encountered in true_divide\n",
      "  return kern(cdist(X,Xtest, metric = \"seuclidean\", V = 1/l**2),s).T\n"
     ]
    },
    {
     "name": "stdout",
     "output_type": "stream",
     "text": [
      "RUN 96\n",
      "Runtime mean is: [ 39.71696494 143.33861656 143.31859303]\n",
      "Weighted accuracy mean is: [[0.84627193 0.84802632 0.85701754 0.54945175 0.5       ]\n",
      " [0.88689693 0.90339912 0.90416667 0.90279605 0.        ]\n",
      " [0.88349781 0.88355263 0.88360746 0.88366228 0.        ]]\n",
      "TPR mean is: [[0.90721649 0.90515464 0.77731959 0.10309278 0.        ]\n",
      " [0.86391753 0.84948454 0.84123711 0.8185567  0.        ]\n",
      " [0.87628866 0.87628866 0.87628866 0.87628866 0.        ]]\n",
      "PPV mean is: [[0.19986962 0.2049993  0.49072164        nan        nan]\n",
      " [0.37367717 0.59042784 0.66919733 0.83658976 0.        ]\n",
      " [0.32091038 0.32106199 0.32123192 0.32136757 0.        ]]\n",
      "MCC mean is: [[0.36464336 0.37009298 0.57185254 0.15697038 0.        ]\n",
      " [0.52685953 0.6765037  0.71975975 0.80960164 0.        ]\n",
      " [0.48703904 0.48720123 0.48737116 0.48752428 0.        ]]\n",
      "L1norm mean is: [2.34947392 1.04619371 1.14082651]\n",
      "L2norm mean is: [0.57020385 0.3246319  0.34541015]\n",
      "MSE_F mean is: [0.33105666 0.15730777 0.18921791]\n",
      "MSE_Y mean is: [0.49073974 0.39988203 0.40924997] \n",
      "\n",
      "R2= 0.661964083075546\n",
      "data generated\n",
      "Length-scales are:  [0.1118034 0.1118034 0.1118034 0.1118034 0.1118034]\n",
      "Noise variance is:  0.020263754123629543\n",
      "Average data variance is:  1.0\n",
      "Time taken to draw data :  0.031709909439086914\n",
      "run time is : 23.479037046432495\n"
     ]
    },
    {
     "name": "stderr",
     "output_type": "stream",
     "text": [
      "C:\\Users\\hughw\\Documents\\MSC project\\GP algorithms\\Master function files\\GP_funcs_ZTMFSS.py:55: RuntimeWarning: divide by zero encountered in true_divide\n",
      "  return kern(cdist(X,X, metric = \"seuclidean\", V = 1/l**2),s)\n",
      "C:\\Users\\hughw\\Documents\\MSC project\\GP algorithms\\Master function files\\GP_funcs_ZTMFSS.py:62: RuntimeWarning: divide by zero encountered in true_divide\n",
      "  return kern(cdist(X,Xtest, metric = \"seuclidean\", V = 1/l**2),s).T\n",
      "C:\\Users\\hughw\\anaconda3\\lib\\site-packages\\numpy\\core\\fromnumeric.py:3334: RuntimeWarning: Mean of empty slice.\n",
      "  return _methods._mean(a, axis=axis, dtype=dtype,\n",
      "C:\\Users\\hughw\\anaconda3\\lib\\site-packages\\numpy\\core\\_methods.py:161: RuntimeWarning: invalid value encountered in double_scalars\n",
      "  ret = ret.dtype.type(ret / rcount)\n",
      "C:\\Users\\hughw\\Documents\\MSC project\\GP algorithms\\Master function files\\GP_funcs_ZTMFSS.py:2035: RuntimeWarning: invalid value encountered in true_divide\n",
      "  MCC[j,i]=(TP*TN-FP*FN)/np.sqrt((TP+FP)*(TP+FN)*(TN+FP)*(TN+FN))\n"
     ]
    },
    {
     "name": "stdout",
     "output_type": "stream",
     "text": [
      "run time is : 14.469932317733765\n",
      "run time is : 14.436442375183105\n",
      "run time is : 11.529786348342896\n",
      "run time is : 10.074352025985718\n",
      "run time is : 14.404763460159302\n",
      "run time is : 10.142159700393677\n",
      "run time is : 7.220496892929077\n",
      "run time is : 10.08814263343811\n",
      "run time is : 14.414230823516846\n"
     ]
    },
    {
     "name": "stderr",
     "output_type": "stream",
     "text": [
      "C:\\Users\\hughw\\Documents\\MSC project\\GP algorithms\\Master function files\\GP_funcs_ZTMFSS.py:55: RuntimeWarning: divide by zero encountered in true_divide\n",
      "  return kern(cdist(X,X, metric = \"seuclidean\", V = 1/l**2),s)\n",
      "C:\\Users\\hughw\\Documents\\MSC project\\GP algorithms\\Master function files\\GP_funcs_ZTMFSS.py:62: RuntimeWarning: divide by zero encountered in true_divide\n",
      "  return kern(cdist(X,Xtest, metric = \"seuclidean\", V = 1/l**2),s).T\n"
     ]
    },
    {
     "name": "stdout",
     "output_type": "stream",
     "text": [
      "RUN 97\n",
      "Runtime mean is: [ 39.55143463 143.04368039 143.0236427 ]\n",
      "Weighted accuracy mean is: [[0.84715138 0.84888768 0.85832881 0.54894194 0.5       ]\n",
      " [0.88768313 0.90423223 0.90499186 0.9037439  0.        ]\n",
      " [0.88410201 0.88415627 0.88421053 0.88426479 0.        ]]\n",
      "TPR mean is: [[0.90816327 0.90612245 0.77755102 0.10204082 0.        ]\n",
      " [0.86530612 0.85102041 0.84285714 0.82040816 0.        ]\n",
      " [0.87755102 0.87755102 0.87755102 0.87755102 0.        ]]\n",
      "PPV mean is: [[0.2006646  0.20574194 0.48979591        nan        nan]\n",
      " [0.37378878 0.58950511 0.66874633 0.83443068 0.        ]\n",
      " [0.32156044 0.3217105  0.32187869 0.32201296 0.        ]]\n",
      "MCC mean is: [[0.36591903 0.37131305 0.57147959 0.15536865 0.        ]\n",
      " [0.5275394  0.67662354 0.7203539  0.80927904 0.        ]\n",
      " [0.48812525 0.48828578 0.48845397 0.48860553 0.        ]]\n",
      "L1norm mean is: [2.34107795 1.04752541 1.14116219]\n",
      "L2norm mean is: [0.56933007 0.32543828 0.34585838]\n",
      "MSE_F mean is: [0.33251083 0.15947125 0.19122091]\n",
      "MSE_Y mean is: [0.49139632 0.4012751  0.41059961] \n",
      "\n",
      "R2= 0.6817692537068712\n",
      "data generated\n",
      "Length-scales are:  [0.1118034 0.1118034 0.1118034 0.1118034 0.1118034]\n",
      "Noise variance is:  0.10304179891346653\n",
      "Average data variance is:  1.0\n",
      "Time taken to draw data :  0.0391080379486084\n",
      "run time is : 32.08245658874512\n"
     ]
    },
    {
     "name": "stderr",
     "output_type": "stream",
     "text": [
      "C:\\Users\\hughw\\Documents\\MSC project\\GP algorithms\\Master function files\\GP_funcs_ZTMFSS.py:55: RuntimeWarning: divide by zero encountered in true_divide\n",
      "  return kern(cdist(X,X, metric = \"seuclidean\", V = 1/l**2),s)\n",
      "C:\\Users\\hughw\\Documents\\MSC project\\GP algorithms\\Master function files\\GP_funcs_ZTMFSS.py:62: RuntimeWarning: divide by zero encountered in true_divide\n",
      "  return kern(cdist(X,Xtest, metric = \"seuclidean\", V = 1/l**2),s).T\n",
      "C:\\Users\\hughw\\anaconda3\\lib\\site-packages\\numpy\\core\\fromnumeric.py:3334: RuntimeWarning: Mean of empty slice.\n",
      "  return _methods._mean(a, axis=axis, dtype=dtype,\n",
      "C:\\Users\\hughw\\anaconda3\\lib\\site-packages\\numpy\\core\\_methods.py:161: RuntimeWarning: invalid value encountered in double_scalars\n",
      "  ret = ret.dtype.type(ret / rcount)\n",
      "C:\\Users\\hughw\\Documents\\MSC project\\GP algorithms\\Master function files\\GP_funcs_ZTMFSS.py:2035: RuntimeWarning: invalid value encountered in true_divide\n",
      "  MCC[j,i]=(TP*TN-FP*FN)/np.sqrt((TP+FP)*(TP+FN)*(TN+FP)*(TN+FN))\n"
     ]
    },
    {
     "name": "stdout",
     "output_type": "stream",
     "text": [
      "run time is : 14.441126346588135\n",
      "run time is : 14.765580415725708\n",
      "run time is : 14.810388326644897\n",
      "run time is : 14.889177322387695\n",
      "run time is : 14.867727994918823\n",
      "run time is : 13.258414268493652\n",
      "run time is : 8.777774333953857\n",
      "run time is : 14.595484256744385\n",
      "run time is : 14.602250099182129\n"
     ]
    },
    {
     "name": "stderr",
     "output_type": "stream",
     "text": [
      "C:\\Users\\hughw\\Documents\\MSC project\\GP algorithms\\Master function files\\GP_funcs_ZTMFSS.py:55: RuntimeWarning: divide by zero encountered in true_divide\n",
      "  return kern(cdist(X,X, metric = \"seuclidean\", V = 1/l**2),s)\n",
      "C:\\Users\\hughw\\Documents\\MSC project\\GP algorithms\\Master function files\\GP_funcs_ZTMFSS.py:62: RuntimeWarning: divide by zero encountered in true_divide\n",
      "  return kern(cdist(X,Xtest, metric = \"seuclidean\", V = 1/l**2),s).T\n"
     ]
    },
    {
     "name": "stdout",
     "output_type": "stream",
     "text": [
      "RUN 98\n",
      "Runtime mean is: [ 39.47615108 142.9345889  142.91468526]\n",
      "Weighted accuracy mean is: [[0.84801289 0.84973147 0.85843179 0.54844253 0.5       ]\n",
      " [0.88839957 0.90494092 0.90580021 0.90456498 0.        ]\n",
      " [0.88485499 0.8849087  0.88496241 0.88501611 0.        ]]\n",
      "TPR mean is: [[0.90909091 0.90505051 0.77575758 0.1010101  0.        ]\n",
      " [0.86464646 0.85050505 0.84242424 0.82020202 0.        ]\n",
      " [0.87676768 0.87676768 0.87676768 0.87676768 0.        ]]\n",
      "PPV mean is: [[0.20144353 0.20618899 0.48917748        nan        nan]\n",
      " [0.37289914 0.58932252 0.66776333 0.83610309 0.        ]\n",
      " [0.32068906 0.3208376  0.3210041  0.32113701 0.        ]]\n",
      "MCC mean is: [[0.36716893 0.37160787 0.57052071 0.15379926 0.        ]\n",
      " [0.52661849 0.67641906 0.7197077  0.81009194 0.        ]\n",
      " [0.48708125 0.48724015 0.48740665 0.48755668 0.        ]]\n",
      "L1norm mean is: [2.33293063 1.04544944 1.14052966]\n",
      "L2norm mean is: [0.56831927 0.32449732 0.345282  ]\n",
      "MSE_F mean is: [0.33176723 0.15920132 0.19105828]\n",
      "MSE_Y mean is: [0.49036059 0.40090052 0.41031207] \n",
      "\n",
      "R2= 0.6669441903646217\n",
      "data generated\n",
      "Length-scales are:  [0.1118034 0.1118034 0.1118034 0.1118034 0.1118034]\n",
      "Noise variance is:  0.021412533221813218\n",
      "Average data variance is:  1.0\n",
      "Time taken to draw data :  0.030977964401245117\n",
      "run time is : 40.97818613052368\n"
     ]
    },
    {
     "name": "stderr",
     "output_type": "stream",
     "text": [
      "C:\\Users\\hughw\\Documents\\MSC project\\GP algorithms\\Master function files\\GP_funcs_ZTMFSS.py:55: RuntimeWarning: divide by zero encountered in true_divide\n",
      "  return kern(cdist(X,X, metric = \"seuclidean\", V = 1/l**2),s)\n",
      "C:\\Users\\hughw\\Documents\\MSC project\\GP algorithms\\Master function files\\GP_funcs_ZTMFSS.py:62: RuntimeWarning: divide by zero encountered in true_divide\n",
      "  return kern(cdist(X,Xtest, metric = \"seuclidean\", V = 1/l**2),s).T\n",
      "C:\\Users\\hughw\\anaconda3\\lib\\site-packages\\numpy\\core\\fromnumeric.py:3334: RuntimeWarning: Mean of empty slice.\n",
      "  return _methods._mean(a, axis=axis, dtype=dtype,\n",
      "C:\\Users\\hughw\\anaconda3\\lib\\site-packages\\numpy\\core\\_methods.py:161: RuntimeWarning: invalid value encountered in double_scalars\n",
      "  ret = ret.dtype.type(ret / rcount)\n",
      "C:\\Users\\hughw\\Documents\\MSC project\\GP algorithms\\Master function files\\GP_funcs_ZTMFSS.py:2035: RuntimeWarning: invalid value encountered in true_divide\n",
      "  MCC[j,i]=(TP*TN-FP*FN)/np.sqrt((TP+FP)*(TP+FN)*(TN+FP)*(TN+FN))\n"
     ]
    },
    {
     "name": "stdout",
     "output_type": "stream",
     "text": [
      "run time is : 14.357285022735596\n",
      "run time is : 14.362865686416626\n",
      "run time is : 14.365272045135498\n",
      "run time is : 14.350525856018066\n",
      "run time is : 10.06474757194519\n",
      "run time is : 10.041321277618408\n",
      "run time is : 8.613930940628052\n",
      "run time is : 7.2021660804748535\n",
      "run time is : 14.374002456665039\n",
      "run time is : 14.373491764068604\n",
      "RUN 99\n",
      "Runtime mean is: [ 39.49132134 142.80600554 142.78588358]\n",
      "Weighted accuracy mean is: [[0.84885699 0.84960128 0.85762892 0.54795322 0.5       ]\n",
      " [0.88798511 0.90473153 0.90558214 0.90451887 0.        ]\n",
      " [0.88431685 0.88437002 0.88442318 0.88447634 0.        ]]\n",
      "TPR mean is: [[0.908 0.904 0.776 0.1   0.   ]\n",
      " [0.864 0.85  0.842 0.82  0.   ]\n",
      " [0.876 0.876 0.876 0.876 0.   ]]\n",
      "PPV mean is: [[0.20109576 0.20579376 0.49228571        nan        nan]\n",
      " [0.37167015 0.58650622 0.66416262 0.83774206 0.        ]\n",
      " [0.31948217 0.31962923 0.31979406 0.31992564 0.        ]]\n",
      "MCC mean is: [[0.36650538 0.37089994 0.57271024 0.15226127 0.        ]\n",
      " [0.52535731 0.6742254  0.71708116 0.81088859 0.        ]\n",
      " [0.48565167 0.48580899 0.48597382 0.48612235 0.        ]]\n",
      "L1norm mean is: [2.32507322 1.0497331  1.14543271]\n",
      "L2norm mean is: [0.56609738 0.32487309 0.34569215]\n",
      "MSE_F mean is: [0.33092817 0.15938383 0.19147841]\n",
      "MSE_Y mean is: [0.49066672 0.4014303  0.41099478] \n",
      "\n"
     ]
    },
    {
     "name": "stderr",
     "output_type": "stream",
     "text": [
      "C:\\Users\\hughw\\Documents\\MSC project\\GP algorithms\\Master function files\\GP_funcs_ZTMFSS.py:55: RuntimeWarning: divide by zero encountered in true_divide\n",
      "  return kern(cdist(X,X, metric = \"seuclidean\", V = 1/l**2),s)\n",
      "C:\\Users\\hughw\\Documents\\MSC project\\GP algorithms\\Master function files\\GP_funcs_ZTMFSS.py:62: RuntimeWarning: divide by zero encountered in true_divide\n",
      "  return kern(cdist(X,Xtest, metric = \"seuclidean\", V = 1/l**2),s).T\n"
     ]
    }
   ],
   "source": [
    "np.random.seed(8750)\n",
    "runlist = np.random.choice(1000,nruns,False) # Choose 100 random trials\n",
    "for run in range(len(runlist)):\n",
    "    \n",
    "    \"\"\"\n",
    "    Generating data and scaling data\n",
    "    \"\"\"\n",
    "    lselect=[]\n",
    "    np.random.seed(runlist[run]) # Fixing trial seed\n",
    "    t=time.time()\n",
    "    Y,F,X,e,lselect,strue,sigma,select=draw_GP.draw_GP_ARD_lm(n,ntest,p,q,sigma2,corr,strue,ltrue,plot_YX=True,kern=kern,cop=False,r2=r2)\n",
    "    \n",
    "    Y = Y.reshape(n+ntest,1)\n",
    "    F = F.reshape(n+ntest,1)\n",
    "    \n",
    "    Y = (Y-Y[:n].mean())/Y[:n].var()**0.5\n",
    "    X = (X-X[:n].mean(0))/X[:n].var(0)**0.5\n",
    "    F = (F-F[:n].mean())/F[:n].var()**0.5\n",
    "\n",
    "    # Getting training and test set\n",
    "    ytest=Y[n:]\n",
    "    Xtest=X[n:]\n",
    "    ftest=F[n:]\n",
    "    y=Y[:n]\n",
    "    X=X[:n]\n",
    "    f=F[:n]\n",
    "    print(\"data generated\")\n",
    "    if lselect.any():\n",
    "        print(\"Length-scales are: \",lselect[select])\n",
    "    print(\"Noise variance is: \",sigma**2)\n",
    "    print(\"Average data variance is: \", np.mean(np.var(X,0)))\n",
    "    print(\"Time taken to draw data : \", time.time()-t)\n",
    "    \n",
    "    \"\"\"\n",
    "    Running algorithm\n",
    "    \"\"\"\n",
    "    args = []\n",
    "    arg_vals = []\n",
    "    for i in range(nmodels):\n",
    "        args.append([\"seed\",\"subsample\", \"sampling_strat\", \"min_VBEM_iter\", \"max_VBEM_iter\", \"GP_fit_tol\", \"VBEM_tol\", \"max_GP_fit_iter\", \"init_GP_iter\", \"iter_remove\", \"print_VBEM\", \"learn_rate\", \"optimisation\", \"X_mult\", \"final_prune\"])\n",
    "        arg_vals.append([0,minibatch_size[i], sampling_strat[i], min_VBEM_iter[i], max_VBEM_iter[i], GPtol[i], 0.1/p, gp_iter[i],gp_iter[i], iter_remove[i], False, step[i], opt[i], X_mult[i], True])\n",
    "\n",
    "    test_algorithm = partial(diagnostics.get_pred_posterior_GP,reg = reg,kern = kernel_funcs.gaussian)\n",
    "\n",
    "    Runtime[run], Lambda[run], L[run], L1norm[run], L2norm[run], MSE_F[run], MSE_Y[run], Acc[run], Weighted_Acc[run], TPR[run], TNR[run], PPV[run], NPV[run], AUC[run], MCC[run]= simulations.do_simulation_VBEMSSGP(\n",
    "                               y, X, ftest, ytest, Xtest, q, algorithm_training = fit.VB_EM_GP_SS, algorithm_testing = test_algorithm, \n",
    "                               nmodels = m, args = args, arg_vals = arg_vals, post_fit = post_fit, SS_GP = SS_GP, post_var = post_var,\n",
    "                               order_relevant_vars = False, order_irrelevant_vars = False, VS_threshs = VS_threshs, \n",
    "                               select = select, predict_selected = predict_selected, hyper_opt = hyper_opt, hyper_arg = [\"v0\",\"v1\"],\n",
    "                                hyper_vals = [1e+4*2**np.linspace(np.log2(100),-np.log2(100),11),1e-4*2**np.linspace(np.log2(100),-np.log2(100),11)], ltrue=lselect, MC_pred = MC_pred, model_select = model_select, post_fit_subsample=n, train = train,\n",
    "                                model_weighting = model_weights)\n",
    "    \n",
    "    print(\"RUN {0}\".format(run))\n",
    "    print(\"Runtime mean is:\", Runtime[:run+1].mean(0))\n",
    "    print(\"Weighted accuracy mean is:\", Weighted_Acc[:run].mean(0))\n",
    "    print(\"TPR mean is:\", TPR[:run+1].mean(0))\n",
    "    print(\"PPV mean is:\", PPV[:run+1].mean(0))\n",
    "    print(\"MCC mean is:\", MCC[:run+1].mean(0))\n",
    "    print(\"L1norm mean is:\", L1norm[:run+1].mean(0))\n",
    "    print(\"L2norm mean is:\", L2norm[:run+1].mean(0))\n",
    "    print(\"MSE_F mean is:\", MSE_F[:run+1].mean(0))\n",
    "    print(\"MSE_Y mean is:\", MSE_Y[:run+1].mean(0), \"\\n\")\n",
    "    "
   ]
  },
  {
   "cell_type": "code",
   "execution_count": 6,
   "metadata": {},
   "outputs": [
    {
     "name": "stdout",
     "output_type": "stream",
     "text": [
      "Mean Runtime is: [ 39.49132134 142.80600554 142.78588358]\n",
      "Mean MSE_F is: [0.33092817 0.15938383 0.19147841]\n",
      "Mean MSE_Y is: [0.49066672 0.4014303  0.41099478]\n",
      "Mean Acc is: [[0.7946 0.7996 0.9318 0.9502 0.95  ]\n",
      " [0.9086 0.953  0.9618 0.9805 0.    ]\n",
      " [0.8905 0.8906 0.8907 0.8908 0.    ]]\n",
      "Mean Weighted_Acc is: [[0.84831579 0.84905263 0.858      0.54747368 0.5       ]\n",
      " [0.88747368 0.90421053 0.90505263 0.90447368 0.        ]\n",
      " [0.88363158 0.88368421 0.88373684 0.88378947 0.        ]]\n",
      "Mean TPR is: [[0.908 0.904 0.776 0.1   0.   ]\n",
      " [0.864 0.85  0.842 0.82  0.   ]\n",
      " [0.876 0.876 0.876 0.876 0.   ]]\n",
      "Mean TNR is: [[0.78863158 0.79410526 0.94       0.99494737 1.        ]\n",
      " [0.91094737 0.95842105 0.96810526 0.98894737 0.        ]\n",
      " [0.89126316 0.89136842 0.89147368 0.89157895 0.        ]]\n",
      "Mean PPV is: [[0.20109576 0.20579376 0.49228571        nan        nan]\n",
      " [0.37167015 0.58650622 0.66416262 0.83774206 0.        ]\n",
      " [0.31948217 0.31962923 0.31979406 0.31992564 0.        ]]\n",
      "Mean NPV is: [[0.99389811 0.99368658 0.98775432 0.9546186  0.95      ]\n",
      " [0.99219083 0.99184293 0.99152616 0.99058437 0.        ]\n",
      " [0.99277521 0.99277664 0.99277931 0.99277931 0.        ]]\n",
      "Mean AUC is: [0.91647368 0.93530526 0.88894737]\n",
      "Mean MCC is: [[0.36650538 0.37089994 0.57271024 0.15226127 0.        ]\n",
      " [0.52535731 0.6742254  0.71708116 0.81088859 0.        ]\n",
      " [0.48565167 0.48580899 0.48597382 0.48612235 0.        ]]\n",
      "\n",
      "\n",
      "Median Runtime is: [ 40.7878828  135.95058548 135.97543812]\n",
      "Median MSE_F is: [0.32991364 0.15165576 0.18009608]\n",
      "Median MSE_Y is: [0.46158812 0.38661173 0.39582841]\n",
      "Median Acc is: [[0.79  0.8   0.94  0.95  0.95 ]\n",
      " [0.91  0.96  0.97  0.985 0.   ]\n",
      " [0.89  0.89  0.89  0.89  0.   ]]\n",
      "Median Weighted_Acc is: [[0.86315789 0.86578947 0.87631579 0.5        0.5       ]\n",
      " [0.88421053 0.89473684 0.9        0.9        0.        ]\n",
      " [0.88947368 0.88947368 0.88947368 0.88947368 0.        ]]\n",
      "Median TPR is: [[1.  1.  0.8 0.  0. ]\n",
      " [0.8 0.8 0.8 0.8 0. ]\n",
      " [0.9 0.9 0.9 0.9 0. ]]\n",
      "Median TNR is: [[0.78947368 0.79473684 0.94736842 1.         1.        ]\n",
      " [0.90526316 0.96842105 0.96842105 0.99473684 0.        ]\n",
      " [0.89473684 0.89473684 0.89473684 0.89473684 0.        ]]\n",
      "Median PPV is: [[0.18518519 0.18518519 0.44949495        nan        nan]\n",
      " [0.35714286 0.57142857 0.625      0.91666667 0.        ]\n",
      " [0.30769231 0.30769231 0.30769231 0.30769231 0.        ]]\n",
      "Median NPV is: [[1.         1.         0.98907071 0.95       0.95      ]\n",
      " [0.98924731 0.98947368 0.98958333 0.98958333 0.        ]\n",
      " [0.99462366 0.99462366 0.99462366 0.99462366 0.        ]]\n",
      "Median AUC is: [0.94631579 0.97368421 0.91578947]\n",
      "Median MCC is: [[0.35896605 0.3678836  0.57894737 0.         0.        ]\n",
      " [0.52565748 0.65638034 0.74803254 0.86298355 0.        ]\n",
      " [0.48006512 0.48006512 0.48006512 0.48006512 0.        ]]\n",
      "\n",
      "\n",
      "0.25 quantile Runtime is: [ 42.84149235 156.34233868 156.19614393]\n",
      "0.25 quantile MSE_F is: [0.40179184 0.19265947 0.22480891]\n",
      "0.25 quantile MSE_Y is: [0.55882094 0.44800864 0.46409798]\n",
      "0.25 quantile Acc is: [[0.75 0.76 0.91 0.95 0.95]\n",
      " [0.88 0.93 0.94 0.97 0.  ]\n",
      " [0.86 0.86 0.86 0.86 0.  ]]\n",
      "0.25 quantile Weighted_Acc is: [[0.79473684 0.79473684 0.78815789 0.5        0.5       ]\n",
      " [0.84210526 0.86710526 0.87368421 0.87763158 0.        ]\n",
      " [0.84210526 0.84210526 0.84210526 0.84210526 0.        ]]\n",
      "0.25 quantile TPR is: [[0.8 0.8 0.6 0.  0. ]\n",
      " [0.8 0.8 0.8 0.8 0. ]\n",
      " [0.8 0.8 0.8 0.8 0. ]]\n",
      "0.25 quantile TNR is: [[0.74736842 0.75526316 0.91578947 0.98947368 1.        ]\n",
      " [0.88421053 0.93684211 0.94736842 0.97894737 0.        ]\n",
      " [0.86315789 0.86315789 0.86315789 0.86315789 0.        ]]\n",
      "0.25 quantile PPV is: [[0.14705882 0.14787582 0.28571429        nan        nan]\n",
      " [0.27121212 0.4        0.45454545 0.66666667 0.        ]\n",
      " [0.23739496 0.23809524 0.23809524 0.23809524 0.        ]]\n",
      "0.25 quantile NPV is: [[0.98684211 0.98684211 0.97889138 0.95       0.95      ]\n",
      " [0.98823529 0.98885768 0.98901099 0.98910057 0.        ]\n",
      " [0.98823529 0.98823529 0.98823529 0.98823529 0.        ]]\n",
      "0.25 quantile AUC is: [0.86631579 0.87052632 0.84526316]\n",
      "0.25 quantile MCC is: [[0.28206819 0.28243234 0.40869069 0.         0.        ]\n",
      " [0.41762017 0.56902565 0.60885908 0.71485073 0.        ]\n",
      " [0.41334036 0.41334036 0.41334036 0.41334036 0.        ]]\n"
     ]
    }
   ],
   "source": [
    "namelist = [\"Runtime\", \"MSE_F\", \"MSE_Y\", \"Acc\", \"Weighted_Acc\", \"TPR\", \"TNR\", \"PPV\", \"NPV\", \"AUC\", \"MCC\"]\n",
    "objlist = [Runtime, MSE_F, MSE_Y, Acc, Weighted_Acc, TPR, TNR, PPV, NPV, AUC, MCC]\n",
    "#iters = np.random.choice(1000,100,False)\n",
    "iters = np.linspace(0,99,100).astype(int)\n",
    "\n",
    "for i in range(len(objlist)):\n",
    "    print(\"Mean {0} is:\".format(namelist[i]), np.mean(objlist[i][iters],0))\n",
    "\n",
    "print(\"\\n\")\n",
    "for i in range(len(objlist)):\n",
    "    print(\"Median {0} is:\".format(namelist[i]), np.median(objlist[i][iters],0))\n",
    "\n",
    "print(\"\\n\")\n",
    "quant = 0.25\n",
    "for i in range(len(objlist)):\n",
    "    if namelist[i] in [\"Runtime\", \"MSE_F\", \"MSE_Y\"]:\n",
    "        print(\"{1} quantile {0} is:\".format(namelist[i], quant), np.quantile(objlist[i][iters],1-quant,0))\n",
    "    else:\n",
    "        print(\"{1} quantile {0} is:\".format(namelist[i], quant), np.quantile(objlist[i][iters],quant,0))"
   ]
  },
  {
   "cell_type": "code",
   "execution_count": 7,
   "metadata": {},
   "outputs": [],
   "source": [
    "from datetime import date\n",
    "Output = {\"Runtime\" : Runtime, \"Lambda\" : Lambda, \"L\" : L, \"L1norm\" : L1norm, \"L2norm\" : L2norm, \"MSE_F\" : MSE_F\n",
    "        , \"MSE_Y\" : MSE_Y, \"Acc\" : Acc, \"Weighted_Acc\" : Weighted_Acc, \"TPR\" :TPR, \"TNR\" : TNR, \"PPV\" : PPV, \"NPV\" : NPV, \"AUC\" : AUC, \"MCC\" : MCC}\n",
    "String = \"Stage1_ZTnoremove{13}_{0}_{1}_lsmean={12}_r2={14}_l0={2}_b2={3}_step={4}_MCpred={5}_n={6}_p={7}_q={8}_kern={9}_runs={10}_start={11}\".format(\n",
    "    \"GP\", date.today(), l_init, beta2, step[0], MC_pred[0],n,p,q,str(kern)[23:28], nruns, \"random\", lsmean, minibatch_size, r2)\n",
    "np.save(String, Output) # saving"
   ]
  }
 ],
 "metadata": {
  "kernelspec": {
   "display_name": "Python 3",
   "language": "python",
   "name": "python3"
  },
  "language_info": {
   "codemirror_mode": {
    "name": "ipython",
    "version": 3
   },
   "file_extension": ".py",
   "mimetype": "text/x-python",
   "name": "python",
   "nbconvert_exporter": "python",
   "pygments_lexer": "ipython3",
   "version": "3.8.3"
  }
 },
 "nbformat": 4,
 "nbformat_minor": 4
}
