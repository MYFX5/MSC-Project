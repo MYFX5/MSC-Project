{
 "cells": [
  {
   "cell_type": "markdown",
   "metadata": {},
   "source": [
    "# Experiment 1: SSVGP-LR"
   ]
  },
  {
   "cell_type": "markdown",
   "metadata": {},
   "source": [
    "### (1) Importing and defining all required functions"
   ]
  },
  {
   "cell_type": "code",
   "execution_count": 6,
   "metadata": {},
   "outputs": [],
   "source": [
    "\"\"\"\n",
    "Importing in libraries\n",
    "\"\"\"\n",
    "import numpy as np\n",
    "from functools import partial\n",
    "import time\n",
    "from IPython.display import clear_output\n",
    "import inspect\n",
    "from sklearn.metrics import roc_auc_score\n",
    "import matplotlib.pyplot as plt\n",
    "\n",
    "# Make plots inline\n",
    "%matplotlib inline\n",
    "\n",
    "\"\"\"\n",
    "Importing algorithm functions\n",
    "\"\"\"\n",
    "import os\n",
    "os.chdir('C:/Users/hughw/Documents/MSC project/GP algorithms/Master function files')\n",
    "from GP_funcs_FRSS import kernel_funcs\n",
    "from GP_funcs_FRSS import model_funcs\n",
    "from GP_funcs_FRSS import draw_GP\n",
    "from GP_funcs_FRSS import fit\n",
    "from GP_funcs_FRSS import diagnostics\n",
    "from GP_funcs_FRSS import simulations\n",
    "from functools import partial\n",
    "os.chdir('C:/Users/hughw/Documents/MSC project/Simulation results')"
   ]
  },
  {
   "cell_type": "markdown",
   "metadata": {},
   "source": [
    "### (2) Setting simulation parameters and models"
   ]
  },
  {
   "cell_type": "code",
   "execution_count": 7,
   "metadata": {},
   "outputs": [],
   "source": [
    "\"\"\"\n",
    "Simulation controls\n",
    "\"\"\"\n",
    "# Simulation settings\n",
    "n=300\n",
    "ntest=100\n",
    "p=100\n",
    "q=5\n",
    "corr=0.5 # used for GP draw\n",
    "r2=0.9 # used for GP draw\n",
    "lsmean=0.25\n",
    "sigma2=1\n",
    "ltrue=np.ones(p)*lsmean/q**0.5\n",
    "strue=1\n",
    "\n",
    "nruns = 50\n",
    "\n",
    "\n",
    "# Model run settings\n",
    "nmodels = 1\n",
    "VS_threshs = [[0.5,0.9,0.95,0.99]]\n",
    "iter_remove = [False]\n",
    "sampling_strat = [\"unif\"]\n",
    "minibatch_size = [150]\n",
    "GPtol=[1e-5]\n",
    "MC_pred = [True]\n",
    "predict_selected = [False]\n",
    "post_fit = [False]\n",
    "train = [True] \n",
    "base = [0.025]\n",
    "hyper_opt = [True]\n",
    "model_select = [False]\n",
    "post_var = [False]\n",
    "model_weights = [\"elpd\"]\n",
    "min_VBEM_iter = [5]\n",
    "max_VBEM_iter = [10]\n",
    "gp_iter = [100]\n",
    "opt = [\"amsgrad\"]\n",
    "l_init = 0.01\n",
    "beta2=0.99\n",
    "t = len(VS_threshs[0])\n",
    "kern=kernel_funcs.gaussian\n",
    "grad_kern=kernel_funcs.grad_gaussian\n",
    "reg = 0.01\n",
    "NN_pred = False\n",
    "newsumgrads = False\n",
    "VBtol=0.1/p\n",
    "temp=1\n",
    "v0=1e+4\n",
    "v1=1e-4\n",
    "postfit = \"mixed\"\n",
    "# SEE BELOW FOR ARGVALS\n",
    "\n",
    "# Storage objects\n",
    "m=nmodels\n",
    "Runtime=np.zeros((nruns, m))\n",
    "Lambda = np.zeros((nruns, m, p))\n",
    "L = np.zeros((nruns, m, p))\n",
    "L1norm=np.zeros((nruns, m))\n",
    "L2norm=np.zeros((nruns, m))\n",
    "MSE_F=np.zeros((nruns, m))\n",
    "MSE_Y=np.zeros((nruns,m))\n",
    "Acc=np.zeros((nruns,m,t))\n",
    "Weighted_Acc=np.zeros((nruns,m,t))\n",
    "TPR=np.zeros((nruns,m,t))\n",
    "TNR=np.zeros((nruns,m,t))\n",
    "PPV=np.zeros((nruns,m,t))\n",
    "NPV=np.zeros((nruns,m,t))\n",
    "AUC=np.zeros((nruns,m))\n",
    "MCC=np.zeros((nruns,m,t))"
   ]
  },
  {
   "cell_type": "markdown",
   "metadata": {},
   "source": [
    "### (3) Running results"
   ]
  },
  {
   "cell_type": "code",
   "execution_count": 8,
   "metadata": {},
   "outputs": [
    {
     "name": "stdout",
     "output_type": "stream",
     "text": [
      "R2= 0.8993636862772934\n",
      "data generated\n",
      "Length-scales are:  [0.1118034 0.1118034 0.1118034 0.1118034 0.1118034]\n",
      "Noise variance is:  0.006067570867112703\n",
      "Average data variance is:  1.0\n",
      "Time taken to draw data :  0.04089069366455078\n"
     ]
    },
    {
     "ename": "KeyboardInterrupt",
     "evalue": "",
     "output_type": "error",
     "traceback": [
      "\u001b[1;31m---------------------------------------------------------------------------\u001b[0m",
      "\u001b[1;31mKeyboardInterrupt\u001b[0m                         Traceback (most recent call last)",
      "\u001b[1;32m<ipython-input-8-9d6f458bbe3f>\u001b[0m in \u001b[0;36m<module>\u001b[1;34m\u001b[0m\n\u001b[0;32m     44\u001b[0m     \u001b[0mtest_algorithm\u001b[0m \u001b[1;33m=\u001b[0m \u001b[0mpartial\u001b[0m\u001b[1;33m(\u001b[0m\u001b[0mdiagnostics\u001b[0m\u001b[1;33m.\u001b[0m\u001b[0mget_pred_posterior_GP\u001b[0m\u001b[1;33m,\u001b[0m\u001b[0mreg\u001b[0m \u001b[1;33m=\u001b[0m \u001b[0mreg\u001b[0m\u001b[1;33m,\u001b[0m\u001b[0mkern\u001b[0m \u001b[1;33m=\u001b[0m \u001b[0mkernel_funcs\u001b[0m\u001b[1;33m.\u001b[0m\u001b[0mgaussian\u001b[0m\u001b[1;33m)\u001b[0m\u001b[1;33m\u001b[0m\u001b[1;33m\u001b[0m\u001b[0m\n\u001b[0;32m     45\u001b[0m \u001b[1;33m\u001b[0m\u001b[0m\n\u001b[1;32m---> 46\u001b[1;33m     Runtime[run], Lambda[run], L[run], V, L1norm[run], L2norm[run], MSE_F[run], MSE_Y[run], Acc[run], Weighted_Acc[run], TPR[run], TNR[run], PPV[run], NPV[run], AUC[run], MCC[run]= simulations.do_simulation_VBEMSSGP(\n\u001b[0m\u001b[0;32m     47\u001b[0m                                \u001b[0my\u001b[0m\u001b[1;33m,\u001b[0m \u001b[0mX\u001b[0m\u001b[1;33m,\u001b[0m \u001b[0mftest\u001b[0m\u001b[1;33m,\u001b[0m \u001b[0mytest\u001b[0m\u001b[1;33m,\u001b[0m \u001b[0mXtest\u001b[0m\u001b[1;33m,\u001b[0m \u001b[0mq\u001b[0m\u001b[1;33m,\u001b[0m \u001b[0malgorithm_training\u001b[0m \u001b[1;33m=\u001b[0m \u001b[0mfit\u001b[0m\u001b[1;33m.\u001b[0m\u001b[0mVB_EM_GP_SS\u001b[0m\u001b[1;33m,\u001b[0m \u001b[0malgorithm_testing\u001b[0m \u001b[1;33m=\u001b[0m \u001b[0mtest_algorithm\u001b[0m\u001b[1;33m,\u001b[0m\u001b[1;33m\u001b[0m\u001b[1;33m\u001b[0m\u001b[0m\n\u001b[0;32m     48\u001b[0m                                \u001b[0mnmodels\u001b[0m \u001b[1;33m=\u001b[0m \u001b[0mm\u001b[0m\u001b[1;33m,\u001b[0m \u001b[0margs\u001b[0m \u001b[1;33m=\u001b[0m \u001b[0margs\u001b[0m\u001b[1;33m,\u001b[0m \u001b[0marg_vals\u001b[0m \u001b[1;33m=\u001b[0m \u001b[0marg_vals\u001b[0m\u001b[1;33m,\u001b[0m \u001b[0mSS_GP\u001b[0m \u001b[1;33m=\u001b[0m \u001b[1;33m[\u001b[0m\u001b[1;32mTrue\u001b[0m\u001b[1;33m]\u001b[0m\u001b[1;33m,\u001b[0m \u001b[0mpost_var\u001b[0m \u001b[1;33m=\u001b[0m \u001b[0mpost_var\u001b[0m\u001b[1;33m,\u001b[0m\u001b[1;33m\u001b[0m\u001b[1;33m\u001b[0m\u001b[0m\n",
      "\u001b[1;32m~\\Documents\\MSC project\\GP algorithms\\Master function files\\GP_funcs_FRSS.py\u001b[0m in \u001b[0;36mdo_simulation_VBEMSSGP\u001b[1;34m(y, X, ftest, ytest, Xtest, q, algorithm_training, algorithm_testing, nmodels, args, arg_vals, SS_GP, order_relevant_vars, order_irrelevant_vars, VS_threshs, predict_selected, select, hyper_opt, hyper_arg, hyper_vals, ltrue, MC_pred, MC_pred_draws, model_select, post_fit_subsample, train, model_weighting, post_var)\u001b[0m\n\u001b[0;32m   1287\u001b[0m                 \u001b[1;32mif\u001b[0m \u001b[0mhyper_opt\u001b[0m\u001b[1;33m[\u001b[0m\u001b[0mj\u001b[0m\u001b[1;33m]\u001b[0m\u001b[1;33m:\u001b[0m\u001b[1;33m\u001b[0m\u001b[1;33m\u001b[0m\u001b[0m\n\u001b[0;32m   1288\u001b[0m                     \u001b[0mstart\u001b[0m \u001b[1;33m=\u001b[0m \u001b[0mtime\u001b[0m\u001b[1;33m.\u001b[0m\u001b[0mtime\u001b[0m\u001b[1;33m(\u001b[0m\u001b[1;33m)\u001b[0m\u001b[1;33m\u001b[0m\u001b[1;33m\u001b[0m\u001b[0m\n\u001b[1;32m-> 1289\u001b[1;33m                     best_pair,selection_path,losses,Results =  fit.hyper_opt_SSGP(y, X, algorithm_training, algorithm_testing, hyper_arg, hyper_vals, \n\u001b[0m\u001b[0;32m   1290\u001b[0m                                                                               method =  \"ML\", training_args=args[j],training_arg_vals=arg_vals[j])\n\u001b[0;32m   1291\u001b[0m                     \u001b[0mtrain_time\u001b[0m \u001b[1;33m=\u001b[0m \u001b[0mtime\u001b[0m\u001b[1;33m.\u001b[0m\u001b[0mtime\u001b[0m\u001b[1;33m(\u001b[0m\u001b[1;33m)\u001b[0m\u001b[1;33m-\u001b[0m\u001b[0mstart\u001b[0m\u001b[1;33m\u001b[0m\u001b[1;33m\u001b[0m\u001b[0m\n",
      "\u001b[1;32m~\\Documents\\MSC project\\GP algorithms\\Master function files\\GP_funcs_FRSS.py\u001b[0m in \u001b[0;36mhyper_opt_SSGP\u001b[1;34m(y, X, training_algorithm, testing_algorithm, hyper_arg, hyper_vals, method, folds, metric, training_args, training_arg_vals)\u001b[0m\n\u001b[0;32m    854\u001b[0m \u001b[1;33m\u001b[0m\u001b[0m\n\u001b[0;32m    855\u001b[0m                     \u001b[1;31m# Running training algorithm\u001b[0m\u001b[1;33m\u001b[0m\u001b[1;33m\u001b[0m\u001b[1;33m\u001b[0m\u001b[0m\n\u001b[1;32m--> 856\u001b[1;33m                     \u001b[0mResults\u001b[0m\u001b[1;33m.\u001b[0m\u001b[0mappend\u001b[0m\u001b[1;33m(\u001b[0m\u001b[0mtraining_algorithm\u001b[0m\u001b[1;33m(\u001b[0m\u001b[1;33m*\u001b[0m\u001b[0mcurrent_training_args\u001b[0m\u001b[1;33m)\u001b[0m\u001b[1;33m)\u001b[0m\u001b[1;33m\u001b[0m\u001b[1;33m\u001b[0m\u001b[0m\n\u001b[0m\u001b[0;32m    857\u001b[0m \u001b[1;33m\u001b[0m\u001b[0m\n\u001b[0;32m    858\u001b[0m                     \u001b[1;31m# Determine active selections\u001b[0m\u001b[1;33m\u001b[0m\u001b[1;33m\u001b[0m\u001b[1;33m\u001b[0m\u001b[0m\n",
      "\u001b[1;32m~\\Documents\\MSC project\\GP algorithms\\Master function files\\GP_funcs_FRSS.py\u001b[0m in \u001b[0;36mVB_EM_GP_SS\u001b[1;34m(y, X, m0, L0, k, s0, sig0, lmbda0, logpi0, log1_pi0, v0, v1, vg, a, b, reg, learn_spike, learn_noise, min_VBEM_iter, max_VBEM_iter, max_GP_fit_iter, VBEM_tol, GP_fit_tol, subsample, svi_subsample, ELBO_sample, ELBO_svi_sample, sampling_strat, nn_fraction, optimisation, learn_rate, Beta, Beta2, eps, print_GP_fit, print_VBEM, timer, kern, grad_kern, ltrue, dampen_lmbda_update, newsumgrads, store_ls, ZT_init_iter, init_PIP_update, learn_rate_mult, iter_remove, q, final_prune, seed)\u001b[0m\n\u001b[0;32m    653\u001b[0m         \u001b[1;31m# Initialising params using ZT\u001b[0m\u001b[1;33m\u001b[0m\u001b[1;33m\u001b[0m\u001b[1;33m\u001b[0m\u001b[0m\n\u001b[0;32m    654\u001b[0m         \u001b[1;32mif\u001b[0m \u001b[0mZT_init_iter\u001b[0m\u001b[1;33m>\u001b[0m\u001b[1;36m0\u001b[0m\u001b[1;33m:\u001b[0m\u001b[1;33m\u001b[0m\u001b[1;33m\u001b[0m\u001b[0m\n\u001b[1;32m--> 655\u001b[1;33m             m,L_,s,sig,loglnew,M,sum_sq_grads_m, sum_grads_m,sum_sq_grads_L_, sum_grads_L_,sum_sq_grads_s, sum_grads_s, sum_sq_grads_sig, sum_grads_sig=fit.GP_fit_SS_lm(\n\u001b[0m\u001b[0;32m    656\u001b[0m                         \u001b[0my\u001b[0m\u001b[1;33m,\u001b[0m\u001b[0mX\u001b[0m\u001b[1;33m,\u001b[0m\u001b[0mm0\u001b[0m\u001b[1;33m=\u001b[0m\u001b[0mm\u001b[0m\u001b[1;33m,\u001b[0m\u001b[0mL0\u001b[0m\u001b[1;33m=\u001b[0m\u001b[0mL\u001b[0m\u001b[1;33m,\u001b[0m\u001b[0ms0\u001b[0m\u001b[1;33m=\u001b[0m\u001b[0ms\u001b[0m\u001b[1;33m,\u001b[0m\u001b[0msig0\u001b[0m\u001b[1;33m=\u001b[0m\u001b[0msig\u001b[0m\u001b[1;33m,\u001b[0m\u001b[0mreg\u001b[0m\u001b[1;33m=\u001b[0m\u001b[0mreg\u001b[0m\u001b[1;33m,\u001b[0m\u001b[0msubsample\u001b[0m\u001b[1;33m=\u001b[0m\u001b[0msubsample\u001b[0m\u001b[1;33m,\u001b[0m\u001b[0msvi_subsample\u001b[0m\u001b[1;33m=\u001b[0m\u001b[0msvi_subsample\u001b[0m\u001b[1;33m,\u001b[0m\u001b[0msampling_strat\u001b[0m\u001b[1;33m=\u001b[0m\u001b[0msampling_strat\u001b[0m\u001b[1;33m,\u001b[0m\u001b[0mnn_fraction\u001b[0m\u001b[1;33m=\u001b[0m\u001b[0mnn_fraction\u001b[0m\u001b[1;33m,\u001b[0m\u001b[1;33m\u001b[0m\u001b[1;33m\u001b[0m\u001b[0m\n\u001b[0;32m    657\u001b[0m                         \u001b[0mlearn_noise\u001b[0m \u001b[1;33m=\u001b[0m \u001b[0mlearn_noise\u001b[0m\u001b[1;33m,\u001b[0m\u001b[0mtol\u001b[0m\u001b[1;33m=\u001b[0m\u001b[0mGP_fit_tol\u001b[0m\u001b[1;33m,\u001b[0m\u001b[0moptimisation\u001b[0m\u001b[1;33m=\u001b[0m\u001b[0moptimisation\u001b[0m\u001b[1;33m,\u001b[0m\u001b[0mlearn_rate\u001b[0m\u001b[1;33m=\u001b[0m\u001b[0mlearn_rate\u001b[0m\u001b[1;33m,\u001b[0m\u001b[0mbeta\u001b[0m\u001b[1;33m=\u001b[0m\u001b[0mBeta\u001b[0m\u001b[1;33m,\u001b[0m\u001b[0mbeta2\u001b[0m\u001b[1;33m=\u001b[0m\u001b[0mBeta2\u001b[0m\u001b[1;33m,\u001b[0m\u001b[0meps\u001b[0m\u001b[1;33m=\u001b[0m\u001b[0meps\u001b[0m\u001b[1;33m,\u001b[0m\u001b[1;33m\u001b[0m\u001b[1;33m\u001b[0m\u001b[0m\n",
      "\u001b[1;32m~\\Documents\\MSC project\\GP algorithms\\Master function files\\GP_funcs_FRSS.py\u001b[0m in \u001b[0;36mGP_fit_SS_lm\u001b[1;34m(y, X, m0, L0, s0, sig0, reg, subsample, svi_subsample, sampling_strat, nn_fraction, learn_noise, tol, optimisation, learn_rate, beta, beta2, eps, v_l0, v_l1, v_g, lmbda, maxiter, print_, kern, grad_kern, sum_sq_grads_m, sum_grads_m, sum_sq_grads_L, sum_grads_L, sum_sq_grads_s, sum_grads_s, sum_sq_grads_sig, sum_grads_sig, newsumgrads, store_ls, M, q)\u001b[0m\n\u001b[0;32m    459\u001b[0m             \u001b[0mgrad_logL_m\u001b[0m\u001b[1;33m,\u001b[0m\u001b[0mgrad_logL_logsd\u001b[0m\u001b[1;33m,\u001b[0m\u001b[0mgrad_logL_s\u001b[0m\u001b[1;33m,\u001b[0m\u001b[0mgrad_logL_sig\u001b[0m \u001b[1;33m=\u001b[0m \u001b[1;36m0\u001b[0m\u001b[1;33m,\u001b[0m\u001b[1;36m0\u001b[0m\u001b[1;33m,\u001b[0m\u001b[1;36m0\u001b[0m\u001b[1;33m,\u001b[0m\u001b[1;36m0\u001b[0m\u001b[1;33m\u001b[0m\u001b[1;33m\u001b[0m\u001b[0m\n\u001b[0;32m    460\u001b[0m             \u001b[1;32mfor\u001b[0m \u001b[0mi\u001b[0m \u001b[1;32min\u001b[0m \u001b[0mrange\u001b[0m\u001b[1;33m(\u001b[0m\u001b[0msvi_subsample\u001b[0m\u001b[1;33m)\u001b[0m\u001b[1;33m:\u001b[0m\u001b[1;33m\u001b[0m\u001b[1;33m\u001b[0m\u001b[0m\n\u001b[1;32m--> 461\u001b[1;33m                 \u001b[0mK\u001b[0m\u001b[1;33m,\u001b[0m \u001b[0mKtild\u001b[0m\u001b[1;33m,\u001b[0m \u001b[0ml\u001b[0m\u001b[1;33m,\u001b[0m \u001b[0mxi\u001b[0m \u001b[1;33m=\u001b[0m \u001b[0mfit\u001b[0m\u001b[1;33m.\u001b[0m\u001b[0mget_svi_subsample\u001b[0m\u001b[1;33m(\u001b[0m\u001b[0my_sample\u001b[0m\u001b[1;33m,\u001b[0m\u001b[0mX_sample\u001b[0m\u001b[1;33m,\u001b[0m\u001b[0mm\u001b[0m\u001b[1;33m,\u001b[0m\u001b[0mL\u001b[0m\u001b[1;33m,\u001b[0m\u001b[0ms\u001b[0m\u001b[1;33m,\u001b[0m\u001b[0msigma\u001b[0m\u001b[1;33m,\u001b[0m\u001b[0mreg\u001b[0m\u001b[1;33m,\u001b[0m\u001b[0mkern\u001b[0m\u001b[1;33m)\u001b[0m\u001b[1;33m\u001b[0m\u001b[1;33m\u001b[0m\u001b[0m\n\u001b[0m\u001b[0;32m    462\u001b[0m                 \u001b[0mgradm\u001b[0m\u001b[1;33m,\u001b[0m\u001b[0mgradlogsd\u001b[0m\u001b[1;33m,\u001b[0m\u001b[0mgrads\u001b[0m\u001b[1;33m,\u001b[0m\u001b[0mgradsig\u001b[0m \u001b[1;33m=\u001b[0m \u001b[0mfit\u001b[0m\u001b[1;33m.\u001b[0m\u001b[0mget_gradients_gp_ss\u001b[0m\u001b[1;33m(\u001b[0m\u001b[0my_sample\u001b[0m\u001b[1;33m,\u001b[0m\u001b[0mX_sample\u001b[0m\u001b[1;33m,\u001b[0m\u001b[0mK\u001b[0m\u001b[1;33m,\u001b[0m\u001b[0mKtild\u001b[0m\u001b[1;33m,\u001b[0m\u001b[0ml\u001b[0m\u001b[1;33m,\u001b[0m\u001b[0mxi\u001b[0m\u001b[1;33m,\u001b[0m\u001b[0mm\u001b[0m\u001b[1;33m,\u001b[0m\u001b[0mL\u001b[0m\u001b[1;33m,\u001b[0m\u001b[0ms\u001b[0m\u001b[1;33m,\u001b[0m\u001b[0msigma\u001b[0m\u001b[1;33m,\u001b[0m\u001b[0mv_l1\u001b[0m\u001b[1;33m,\u001b[0m\u001b[0mv_l0\u001b[0m\u001b[1;33m,\u001b[0m\u001b[0mv_g\u001b[0m\u001b[1;33m,\u001b[0m\u001b[0mlmbda\u001b[0m\u001b[1;33m,\u001b[0m\u001b[0msubsample\u001b[0m\u001b[1;33m,\u001b[0m\u001b[0mgrad_kern\u001b[0m\u001b[1;33m)\u001b[0m\u001b[1;33m\u001b[0m\u001b[1;33m\u001b[0m\u001b[0m\n\u001b[0;32m    463\u001b[0m                 \u001b[0mgrad_logL_m\u001b[0m\u001b[1;33m+=\u001b[0m\u001b[0mgradm\u001b[0m\u001b[1;33m/\u001b[0m\u001b[0msvi_subsample\u001b[0m\u001b[1;33m\u001b[0m\u001b[1;33m\u001b[0m\u001b[0m\n",
      "\u001b[1;32m~\\Documents\\MSC project\\GP algorithms\\Master function files\\GP_funcs_FRSS.py\u001b[0m in \u001b[0;36mget_svi_subsample\u001b[1;34m(y, X, m, L, s, sigma, reg, kern)\u001b[0m\n\u001b[0;32m    318\u001b[0m         \u001b[0mxi\u001b[0m \u001b[1;33m=\u001b[0m \u001b[0mnp\u001b[0m\u001b[1;33m.\u001b[0m\u001b[0mrandom\u001b[0m\u001b[1;33m.\u001b[0m\u001b[0mnormal\u001b[0m\u001b[1;33m(\u001b[0m\u001b[1;36m0\u001b[0m\u001b[1;33m,\u001b[0m\u001b[1;36m1\u001b[0m\u001b[1;33m,\u001b[0m\u001b[0mk\u001b[0m\u001b[1;33m)\u001b[0m\u001b[1;33m\u001b[0m\u001b[1;33m\u001b[0m\u001b[0m\n\u001b[0;32m    319\u001b[0m         \u001b[0ml\u001b[0m \u001b[1;33m=\u001b[0m \u001b[0mL\u001b[0m \u001b[1;33m@\u001b[0m \u001b[0mxi\u001b[0m \u001b[1;33m+\u001b[0m \u001b[0mm\u001b[0m\u001b[1;33m\u001b[0m\u001b[1;33m\u001b[0m\u001b[0m\n\u001b[1;32m--> 320\u001b[1;33m         \u001b[0mK\u001b[0m\u001b[1;33m=\u001b[0m\u001b[0mkernel_funcs\u001b[0m\u001b[1;33m.\u001b[0m\u001b[0mARD_lm\u001b[0m\u001b[1;33m(\u001b[0m\u001b[0ml\u001b[0m\u001b[1;33m,\u001b[0m\u001b[0ms\u001b[0m\u001b[1;33m,\u001b[0m\u001b[0mX\u001b[0m\u001b[1;33m,\u001b[0m\u001b[0mkern\u001b[0m\u001b[1;33m)\u001b[0m\u001b[1;33m\u001b[0m\u001b[1;33m\u001b[0m\u001b[0m\n\u001b[0m\u001b[0;32m    321\u001b[0m         \u001b[0mR\u001b[0m\u001b[1;33m=\u001b[0m\u001b[0mnp\u001b[0m\u001b[1;33m.\u001b[0m\u001b[0mdiag\u001b[0m\u001b[1;33m(\u001b[0m\u001b[0mnp\u001b[0m\u001b[1;33m.\u001b[0m\u001b[0mones\u001b[0m\u001b[1;33m(\u001b[0m\u001b[0mlen\u001b[0m\u001b[1;33m(\u001b[0m\u001b[0mK\u001b[0m\u001b[1;33m)\u001b[0m\u001b[1;33m)\u001b[0m\u001b[1;33m)\u001b[0m\u001b[1;33m*\u001b[0m\u001b[1;33m(\u001b[0m\u001b[0mreg\u001b[0m\u001b[1;33m+\u001b[0m\u001b[0msigma\u001b[0m\u001b[1;33m**\u001b[0m\u001b[1;36m2\u001b[0m\u001b[1;33m)\u001b[0m\u001b[1;33m\u001b[0m\u001b[1;33m\u001b[0m\u001b[0m\n\u001b[0;32m    322\u001b[0m         \u001b[0mKtild\u001b[0m\u001b[1;33m=\u001b[0m\u001b[0mK\u001b[0m\u001b[1;33m+\u001b[0m\u001b[0mR\u001b[0m\u001b[1;33m\u001b[0m\u001b[1;33m\u001b[0m\u001b[0m\n",
      "\u001b[1;32m~\\Documents\\MSC project\\GP algorithms\\Master function files\\GP_funcs_FRSS.py\u001b[0m in \u001b[0;36mARD_lm\u001b[1;34m(l, s, X, kern)\u001b[0m\n\u001b[0;32m     48\u001b[0m \u001b[1;33m\u001b[0m\u001b[0m\n\u001b[0;32m     49\u001b[0m     \u001b[1;32mdef\u001b[0m \u001b[0mARD_lm\u001b[0m\u001b[1;33m(\u001b[0m\u001b[0ml\u001b[0m\u001b[1;33m,\u001b[0m\u001b[0ms\u001b[0m\u001b[1;33m,\u001b[0m\u001b[0mX\u001b[0m\u001b[1;33m,\u001b[0m\u001b[0mkern\u001b[0m\u001b[1;33m)\u001b[0m\u001b[1;33m:\u001b[0m\u001b[1;33m\u001b[0m\u001b[1;33m\u001b[0m\u001b[0m\n\u001b[1;32m---> 50\u001b[1;33m         \u001b[1;32mreturn\u001b[0m \u001b[0mkern\u001b[0m\u001b[1;33m(\u001b[0m\u001b[0mcdist\u001b[0m\u001b[1;33m(\u001b[0m\u001b[0mX\u001b[0m\u001b[1;33m,\u001b[0m\u001b[0mX\u001b[0m\u001b[1;33m,\u001b[0m \u001b[0mmetric\u001b[0m \u001b[1;33m=\u001b[0m \u001b[1;34m\"seuclidean\"\u001b[0m\u001b[1;33m,\u001b[0m \u001b[0mV\u001b[0m \u001b[1;33m=\u001b[0m \u001b[1;36m1\u001b[0m\u001b[1;33m/\u001b[0m\u001b[0ml\u001b[0m\u001b[1;33m**\u001b[0m\u001b[1;36m2\u001b[0m\u001b[1;33m)\u001b[0m\u001b[1;33m,\u001b[0m\u001b[0ms\u001b[0m\u001b[1;33m)\u001b[0m\u001b[1;33m\u001b[0m\u001b[1;33m\u001b[0m\u001b[0m\n\u001b[0m\u001b[0;32m     51\u001b[0m \u001b[1;33m\u001b[0m\u001b[0m\n\u001b[0;32m     52\u001b[0m     \u001b[1;32mdef\u001b[0m \u001b[0mARD_lmtest\u001b[0m\u001b[1;33m(\u001b[0m\u001b[0ml\u001b[0m\u001b[1;33m,\u001b[0m\u001b[0ms\u001b[0m\u001b[1;33m,\u001b[0m\u001b[0mX\u001b[0m\u001b[1;33m,\u001b[0m\u001b[0mXtest\u001b[0m\u001b[1;33m,\u001b[0m\u001b[0mkern\u001b[0m\u001b[1;33m)\u001b[0m\u001b[1;33m:\u001b[0m\u001b[1;33m\u001b[0m\u001b[1;33m\u001b[0m\u001b[0m\n",
      "\u001b[1;32m~\\anaconda3\\lib\\site-packages\\scipy\\spatial\\distance.py\u001b[0m in \u001b[0;36mcdist\u001b[1;34m(XA, XB, metric, *args, **kwargs)\u001b[0m\n\u001b[0;32m   2768\u001b[0m             cdist_fn = getattr(_distance_wrap,\n\u001b[0;32m   2769\u001b[0m                                \"cdist_%s_%s_wrap\" % (metric_name, typ))\n\u001b[1;32m-> 2770\u001b[1;33m             \u001b[0mcdist_fn\u001b[0m\u001b[1;33m(\u001b[0m\u001b[0mXA\u001b[0m\u001b[1;33m,\u001b[0m \u001b[0mXB\u001b[0m\u001b[1;33m,\u001b[0m \u001b[0mdm\u001b[0m\u001b[1;33m,\u001b[0m \u001b[1;33m**\u001b[0m\u001b[0mkwargs\u001b[0m\u001b[1;33m)\u001b[0m\u001b[1;33m\u001b[0m\u001b[1;33m\u001b[0m\u001b[0m\n\u001b[0m\u001b[0;32m   2771\u001b[0m             \u001b[1;32mreturn\u001b[0m \u001b[0mdm\u001b[0m\u001b[1;33m\u001b[0m\u001b[1;33m\u001b[0m\u001b[0m\n\u001b[0;32m   2772\u001b[0m \u001b[1;33m\u001b[0m\u001b[0m\n",
      "\u001b[1;31mKeyboardInterrupt\u001b[0m: "
     ]
    }
   ],
   "source": [
    "np.random.seed(8750)\n",
    "runlist = np.random.choice(1000,nruns,False) # Choose 100 random trials\n",
    "for run in range(len(runlist)):\n",
    "#for run in [27,30]:\n",
    "    \n",
    "    \"\"\"\n",
    "    Generating data and scaling data\n",
    "    \"\"\"\n",
    "    lselect=[]\n",
    "    np.random.seed(runlist[run]) # Fixing trial seed\n",
    "    t=time.time()\n",
    "    Y,F,X,e,lselect,strue,sigma,select=draw_GP.draw_GP_ARD_lm(n,ntest,p,q,sigma2,corr,strue,ltrue,plot_YX=True,kern=kern,cop=False,r2=r2)\n",
    "    \n",
    "    Y = Y.reshape(n+ntest,1)\n",
    "    F = F.reshape(n+ntest,1)\n",
    "    \n",
    "    Y = (Y-Y[:n].mean())/Y[:n].var()**0.5\n",
    "    X = (X-X[:n].mean(0))/X[:n].var(0)**0.5\n",
    "    F = (F-F[:n].mean())/F[:n].var()**0.5\n",
    "\n",
    "    # Getting training and test set\n",
    "    ytest=Y[n:]\n",
    "    Xtest=X[n:]\n",
    "    ftest=F[n:]\n",
    "    y=Y[:n]\n",
    "    X=X[:n]\n",
    "    f=F[:n]\n",
    "    print(\"data generated\")\n",
    "    if lselect.any():\n",
    "        print(\"Length-scales are: \",lselect[select])\n",
    "    print(\"Noise variance is: \",sigma**2)\n",
    "    print(\"Average data variance is: \", np.mean(np.var(X,0)))\n",
    "    print(\"Time taken to draw data : \", time.time()-t)\n",
    "    \n",
    "    \"\"\"\n",
    "    Running algorithm\n",
    "    \"\"\"\n",
    "    args = []\n",
    "    arg_vals = []\n",
    "    for i in range(nmodels):\n",
    "        args.append([\"k\",\"L0\",\"seed\",\"subsample\",\"svi_subsample\", \"sampling_strat\", \"min_VBEM_iter\", \"max_VBEM_iter\", \"GP_fit_tol\", \"VBEM_tol\", \"max_GP_fit_iter\", \"ZT_init_iter\", \"iter_remove\", \"print_VBEM\", \"learn_rate\", \"optimisation\", \"final_prune\"])\n",
    "        arg_vals.append([10,1e-2,0,minibatch_size[i], 5,sampling_strat[i], min_VBEM_iter[i], max_VBEM_iter[i], GPtol[i], 0.1/p, gp_iter[i],gp_iter[i], iter_remove[i], False, base[i], opt[i], True])\n",
    "\n",
    "    test_algorithm = partial(diagnostics.get_pred_posterior_GP,reg = reg,kern = kernel_funcs.gaussian)\n",
    "\n",
    "    Runtime[run], Lambda[run], L[run], V, L1norm[run], L2norm[run], MSE_F[run], MSE_Y[run], Acc[run], Weighted_Acc[run], TPR[run], TNR[run], PPV[run], NPV[run], AUC[run], MCC[run]= simulations.do_simulation_VBEMSSGP(\n",
    "                               y, X, ftest, ytest, Xtest, q, algorithm_training = fit.VB_EM_GP_SS, algorithm_testing = test_algorithm, \n",
    "                               nmodels = m, args = args, arg_vals = arg_vals, SS_GP = [True], post_var = post_var,\n",
    "                               order_relevant_vars = False, order_irrelevant_vars = False, VS_threshs = VS_threshs, \n",
    "                               select = select, predict_selected = predict_selected, hyper_opt = hyper_opt, hyper_arg = [\"v0\",\"v1\"],\n",
    "                                hyper_vals = [1e+4*2**np.linspace(np.log2(100),-np.log2(100),11),1e-4*2**np.linspace(np.log2(100),-np.log2(100),11)], ltrue=lselect, MC_pred = MC_pred, model_select = model_select, post_fit_subsample=n, train = train,\n",
    "                                model_weighting = model_weights)\n",
    "    \n",
    "    print(\"RUN {0}\".format(run))\n",
    "    print(\"Runtime mean is:\", Runtime[:run+1].mean(0))\n",
    "    print(\"Weighted accuracy mean is:\", Weighted_Acc[:run].mean(0))\n",
    "    print(\"TPR mean is:\", TPR[:run+1].mean(0))\n",
    "    print(\"PPV mean is:\", PPV[:run+1].mean(0))\n",
    "    print(\"MCC mean is:\", MCC[:run+1].mean(0))\n",
    "    print(\"L1norm mean is:\", L1norm[:run+1].mean(0))\n",
    "    print(\"L2norm mean is:\", L2norm[:run+1].mean(0))\n",
    "    print(\"MSE_F mean is:\", MSE_F[:run+1].mean(0))\n",
    "    print(\"MSE_Y mean is:\", MSE_Y[:run+1].mean(0), \"\\n\")\n",
    "    "
   ]
  },
  {
   "cell_type": "code",
   "execution_count": 20,
   "metadata": {},
   "outputs": [
    {
     "name": "stdout",
     "output_type": "stream",
     "text": [
      "run time is : 13.273494243621826\n",
      "run time is : 24.671021461486816\n",
      "run time is : 24.805387020111084\n",
      "run time is : 25.049259424209595\n",
      "run time is : 25.03174090385437\n",
      "run time is : 20.72325897216797\n",
      "run time is : 13.662130117416382\n",
      "run time is : 13.686549186706543\n",
      "run time is : 13.683055877685547\n",
      "run time is : 13.817994356155396\n"
     ]
    }
   ],
   "source": [
    "    args = []\n",
    "    arg_vals = []\n",
    "    for i in range(nmodels):\n",
    "        args.append([\"k\",\"L0\",\"seed\",\"subsample\",\"svi_subsample\", \"sampling_strat\", \"min_VBEM_iter\", \"max_VBEM_iter\", \"GP_fit_tol\", \"VBEM_tol\", \"max_GP_fit_iter\", \"ZT_init_iter\", \"iter_remove\", \"print_VBEM\", \"learn_rate\", \"optimisation\", \"final_prune\"])\n",
    "        arg_vals.append([10,1e-2,0,minibatch_size[i], 1,sampling_strat[i], min_VBEM_iter[i], max_VBEM_iter[i], GPtol[i], 0.1/p, gp_iter[i],gp_iter[i], iter_remove[i], False, step[i], opt[i], True])\n",
    "\n",
    "best_pair,selection_path,losses,Results =  fit.hyper_opt_SSGP(y, X, fit.VB_EM_GP_SS, test_algorithm, [\"v0\",\"v1\"],  [1e+4*2**np.linspace(np.log2(100),-np.log2(100),11),1e-4*2**np.linspace(np.log2(100),-np.log2(100),11)], \n",
    "                                                                              method =  \"ML\", training_args=args[0],training_arg_vals=arg_vals[0])"
   ]
  },
  {
   "cell_type": "code",
   "execution_count": 21,
   "metadata": {},
   "outputs": [
    {
     "name": "stdout",
     "output_type": "stream",
     "text": [
      "100\n",
      "51\n",
      "15\n",
      "11\n",
      "5\n",
      "5\n",
      "5\n",
      "3\n",
      "2\n",
      "0\n",
      "0\n"
     ]
    },
    {
     "data": {
      "text/plain": [
       "array([0.30021596, 0.17543065, 0.13085911, 0.12242215, 0.3022712 ,\n",
       "       0.        , 0.        , 0.        , 0.        , 0.        ,\n",
       "       0.        , 0.        , 0.        , 0.        , 0.        ,\n",
       "       0.        , 0.        , 0.        , 0.        , 0.        ,\n",
       "       0.        , 0.        , 0.        , 0.        , 0.        ,\n",
       "       0.        , 0.        , 0.        , 0.        , 0.        ,\n",
       "       0.        , 0.        , 0.        , 0.        , 0.        ,\n",
       "       0.        , 0.        , 0.        , 0.        , 0.        ,\n",
       "       0.        , 0.        , 0.        , 0.        , 0.        ,\n",
       "       0.        , 0.        , 0.        , 0.        , 0.        ,\n",
       "       0.        , 0.        , 0.        , 0.        , 0.        ,\n",
       "       0.        , 0.        , 0.        , 0.        , 0.        ,\n",
       "       0.        , 0.        , 0.        , 0.        , 0.        ,\n",
       "       0.        , 0.        , 0.        , 0.        , 0.        ,\n",
       "       0.        , 0.        , 0.        , 0.        , 0.        ,\n",
       "       0.        , 0.        , 0.        , 0.        , 0.        ,\n",
       "       0.        , 0.        , 0.        , 0.        , 0.        ,\n",
       "       0.        , 0.        , 0.        , 0.        , 0.        ,\n",
       "       0.        , 0.        , 0.        , 0.        , 0.        ,\n",
       "       0.        , 0.        , 0.        , 0.        , 0.        ])"
      ]
     },
     "execution_count": 21,
     "metadata": {},
     "output_type": "execute_result"
    }
   ],
   "source": [
    "for i in range(11):\n",
    "    print(np.sum(Results[i][0]!=0))\n",
    "    \n",
    "Results[5][0]"
   ]
  },
  {
   "cell_type": "code",
   "execution_count": 24,
   "metadata": {},
   "outputs": [
    {
     "name": "stdout",
     "output_type": "stream",
     "text": [
      "0\n",
      "1\n",
      "2\n",
      "3\n",
      "4\n",
      "5\n",
      "6\n",
      "7\n",
      "8\n",
      "9\n",
      "10\n"
     ]
    }
   ],
   "source": [
    "logevidences = np.zeros(len(Results))\n",
    "for i in range(len(Results)):\n",
    "    logevidences[i] =  diagnostics.get_pred_posterior_GP_NN_CV(y,X,Results[i],0.01,kern=kernel_funcs.gaussian,NN=n, fraction=1,post_var=True, print_=False, use_tree=False, leaf_size=100, seed=0, MC_iters = 1)\n",
    "    print(i)\n",
    "\n"
   ]
  },
  {
   "cell_type": "code",
   "execution_count": 38,
   "metadata": {},
   "outputs": [],
   "source": [
    "PIP,Ls,Ss,Sigs = np.zeros((len(Results), p)),np.zeros((len(Results), p)),np.zeros((len(Results), )),np.zeros((len(Results), ))\n",
    "weights = np.zeros(len(Results))\n",
    "max_logevidence = np.max(logevidences)\n",
    "\n",
    "# Do weighting\n",
    "for i in range(len(Results)):\n",
    "    logevidence = logevidences[i]\n",
    "    if logevidence >= max_logevidence-500:\n",
    "        if model_select[0]:\n",
    "            weights[i] = (logevidence==max_logevidence)*1\n",
    "        else:\n",
    "            weights[i] = np.exp(logevidence-max_logevidence)\n",
    "    PIP[i] = Results[i][4]\n",
    "    Ls[i] = np.abs(Results[i][0])\n",
    "    Ss[i] = Results[i][2]\n",
    "    Sigs[i] = Results[i][3]\n",
    "weights = weights/weights.sum()\n",
    "l = [Ls.T @ weights]\n",
    "s = np.sum(Ss*weights)\n",
    "sig = np.sum(Sigs*weights)\n",
    "lmbda = PIP.T @ weights"
   ]
  },
  {
   "cell_type": "code",
   "execution_count": 39,
   "metadata": {},
   "outputs": [
    {
     "data": {
      "text/plain": [
       "array([1.        , 0.9999808 , 0.99806386, 0.99806384, 1.        ,\n",
       "       0.04053772, 0.04054718, 0.02478614, 0.04053195, 0.46577035,\n",
       "       0.024798  , 0.0247825 , 0.02477985, 0.04053404, 0.04054442,\n",
       "       0.02478292, 0.02478354, 0.02478224, 0.02478824, 0.04053222,\n",
       "       0.04053262, 0.02479715, 0.04053549, 0.02478259, 0.46577172,\n",
       "       0.02478486, 0.04053511, 0.040534  , 0.02478523, 0.04053166,\n",
       "       0.02478298, 0.04053283, 0.28241989, 0.0405363 , 0.02478207,\n",
       "       0.02478627, 0.02478273, 0.02477585, 0.0247836 , 0.0247749 ,\n",
       "       0.02478266, 0.02478282, 0.0405294 , 0.04053209, 0.04053172,\n",
       "       0.04053314, 0.04053201, 0.04053608, 0.04057536, 0.04053448,\n",
       "       0.02478288, 0.28243073, 0.02478225, 0.02478245, 0.28241819,\n",
       "       0.02478438, 0.04053252, 0.02478393, 0.04054659, 0.02478303,\n",
       "       0.02478505, 0.02478249, 0.04053452, 0.04053808, 0.02478838,\n",
       "       0.02478244, 0.02478343, 0.46577087, 0.02478328, 0.04053272,\n",
       "       0.02477452, 0.02478244, 0.02478253, 0.04054576, 0.02478249,\n",
       "       0.04053659, 0.04053405, 0.02477612, 0.46577099, 0.02478237,\n",
       "       0.02478351, 0.04053188, 0.02478262, 0.04055612, 0.04053481,\n",
       "       0.46577117, 0.04053374, 0.02478239, 0.28241791, 0.04053687,\n",
       "       0.02478744, 0.02478188, 0.46577137, 0.02478315, 0.02479041,\n",
       "       0.04053222, 0.04053528, 0.02478394, 0.02478267, 0.0247833 ])"
      ]
     },
     "execution_count": 39,
     "metadata": {},
     "output_type": "execute_result"
    }
   ],
   "source": [
    "lmbda"
   ]
  },
  {
   "cell_type": "code",
   "execution_count": 6,
   "metadata": {},
   "outputs": [
    {
     "name": "stdout",
     "output_type": "stream",
     "text": [
      "Mean Runtime is: [1061.45474756]\n",
      "Mean MSE_F is: [0.02854003]\n",
      "Mean MSE_Y is: [0.11876408]\n",
      "Mean Acc is: [[0.9528 0.9932 0.9928 0.9914]]\n",
      "Mean Weighted_Acc is: [[0.94673684 0.95094737 0.93747368 0.91968421]]\n",
      "Mean TPR is: [[0.94  0.904 0.876 0.84 ]]\n",
      "Mean TNR is: [[0.95347368 0.99789474 0.99894737 0.99936842]]\n",
      "Mean PPV is: [[0.5968996  0.9655     0.97766667 0.98933333]]\n",
      "Mean NPV is: [[0.99669505 0.99501047 0.99357976 0.99173242]]\n",
      "Mean AUC is: [0.98543158]\n",
      "Mean MCC is: [[0.71720616 0.92744079 0.91711749 0.90080463]]\n",
      "\n",
      "\n",
      "Median Runtime is: [1056.7085917]\n",
      "Median MSE_F is: [0.02723977]\n",
      "Median MSE_Y is: [0.11357812]\n",
      "Median Acc is: [[0.96  1.    0.995 0.99 ]]\n",
      "Median Weighted_Acc is: [[0.96842105 1.         0.99736842 0.9       ]]\n",
      "Median TPR is: [[1.  1.  1.  0.8]]\n",
      "Median TNR is: [[0.95789474 1.         1.         1.        ]]\n",
      "Median PPV is: [[0.55555556 1.         1.         1.        ]]\n",
      "Median NPV is: [[1.         1.         1.         0.98958333]]\n",
      "Median AUC is: [1.]\n",
      "Median MCC is: [[0.71485073 1.         0.95402682 0.88975652]]\n",
      "\n",
      "\n",
      "0.25 quantile Runtime is: [1094.99856669]\n",
      "0.25 quantile MSE_F is: [0.0369029]\n",
      "0.25 quantile MSE_Y is: [0.13382221]\n",
      "0.25 quantile Acc is: [[0.9225 0.99   0.99   0.99  ]]\n",
      "0.25 quantile Weighted_Acc is: [[0.94736842 0.9        0.9        0.9       ]]\n",
      "0.25 quantile TPR is: [[1.  0.8 0.8 0.8]]\n",
      "0.25 quantile TNR is: [[0.92631579 1.         1.         1.        ]]\n",
      "0.25 quantile PPV is: [[0.38846154 1.         1.         1.        ]]\n",
      "0.25 quantile NPV is: [[1.         0.98958333 0.98958333 0.98958333]]\n",
      "0.25 quantile AUC is: [0.99631579]\n",
      "0.25 quantile MCC is: [[0.59348692 0.88975652 0.88975652 0.88975652]]\n"
     ]
    }
   ],
   "source": [
    "namelist = [\"Runtime\", \"MSE_F\", \"MSE_Y\", \"Acc\", \"Weighted_Acc\", \"TPR\", \"TNR\", \"PPV\", \"NPV\", \"AUC\", \"MCC\"]\n",
    "objlist = [Runtime, MSE_F, MSE_Y, Acc, Weighted_Acc, TPR, TNR, PPV, NPV, AUC, MCC]\n",
    "#iters = np.random.choice(1000,100,False)\n",
    "iters = np.linspace(0,49,50).astype(int)\n",
    "\n",
    "for i in range(len(objlist)):\n",
    "    print(\"Mean {0} is:\".format(namelist[i]), np.mean(objlist[i][iters],0))\n",
    "\n",
    "print(\"\\n\")\n",
    "for i in range(len(objlist)):\n",
    "    print(\"Median {0} is:\".format(namelist[i]), np.median(objlist[i][iters],0))\n",
    "\n",
    "print(\"\\n\")\n",
    "quant = 0.25\n",
    "for i in range(len(objlist)):\n",
    "    if namelist[i] in [\"Runtime\", \"MSE_F\", \"MSE_Y\"]:\n",
    "        print(\"{1} quantile {0} is:\".format(namelist[i], quant), np.quantile(objlist[i][iters],1-quant,0))\n",
    "    else:\n",
    "        print(\"{1} quantile {0} is:\".format(namelist[i], quant), np.quantile(objlist[i][iters],quant,0))"
   ]
  },
  {
   "cell_type": "code",
   "execution_count": 7,
   "metadata": {},
   "outputs": [],
   "source": [
    "from datetime import date\n",
    "Output = {\"Runtime\" : Runtime, \"Lambda\" : Lambda, \"L\" : L, \"L1norm\" : L1norm, \"L2norm\" : L2norm, \"MSE_F\" : MSE_F\n",
    "        , \"MSE_Y\" : MSE_Y, \"Acc\" : Acc, \"Weighted_Acc\" : Weighted_Acc, \"TPR\" :TPR, \"TNR\" : TNR, \"PPV\" : PPV, \"NPV\" : NPV, \"AUC\" : AUC, \"MCC\" : MCC}\n",
    "String = \"Stage1_LR{13}_{0}_{1}_lsmean={12}_r2={14}_l0={2}_b2={3}_step={4}_MCpred={5}_n={6}_p={7}_q={8}_kern={9}_runs={10}_start={11}\".format(\n",
    "    \"GP\", date.today(), l_init, beta2, step[0], MC_pred[0],n,p,q,str(kern)[23:28], nruns, \"random\", lsmean, minibatch_size, r2)\n",
    "np.save(String, Output) # saving"
   ]
  }
 ],
 "metadata": {
  "kernelspec": {
   "display_name": "Python 3",
   "language": "python",
   "name": "python3"
  },
  "language_info": {
   "codemirror_mode": {
    "name": "ipython",
    "version": 3
   },
   "file_extension": ".py",
   "mimetype": "text/x-python",
   "name": "python",
   "nbconvert_exporter": "python",
   "pygments_lexer": "ipython3",
   "version": "3.8.3"
  }
 },
 "nbformat": 4,
 "nbformat_minor": 4
}
